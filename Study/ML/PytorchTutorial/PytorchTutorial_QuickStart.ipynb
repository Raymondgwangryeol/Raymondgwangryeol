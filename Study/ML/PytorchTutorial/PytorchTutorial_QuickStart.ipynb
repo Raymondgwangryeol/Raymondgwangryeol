{
  "nbformat": 4,
  "nbformat_minor": 0,
  "metadata": {
    "colab": {
      "provenance": [],
      "authorship_tag": "ABX9TyPrQqVZ2oyW6CwxkWZt0vXM"
    },
    "kernelspec": {
      "name": "python3",
      "display_name": "Python 3"
    },
    "language_info": {
      "name": "python"
    }
  },
  "cells": [
    {
      "cell_type": "markdown",
      "source": [
        "# ✔Pytorch Tutorial\n",
        "\n",
        "## 1. QuickStart\n",
        "\n",
        "\n",
        "---\n",
        "\n",
        "\n",
        "<br>\n",
        "\n",
        "### - 데이터 작업하기\n",
        "\n",
        "<br>\n",
        "\n",
        "**파이토치의 데이터 작업을 위한 두가지 요소**\n",
        "\n",
        "- torch.utils.data.Dataset\n",
        "> Dataset: Sample과 정답(label)을 저장하고 있는 데이터 덩어리(?)\n",
        "\n",
        "- torch.utils.data.DataLoader\n",
        "> DataLoader: Dataset을 돌아다닐수 있게 순회 가능한 객체(iterable)로 감싸는 거\n",
        "\n"
      ],
      "metadata": {
        "id": "wI8teD09VuYU"
      }
    },
    {
      "cell_type": "code",
      "source": [
        "#추가 공부 참고 사이트: https://webnautes.tistory.com/2074\n",
        "\n",
        "#파이토치는 TorchText등과 같이 도메인 특화 라이브러리(특정 도메인(영역, 작업)에 적합한 언어. 예 - SQL)를 제공함.\n",
        "import torch\n",
        "from torch import nn #신경망 구축에 필요한 다양한 요소들 제공\n",
        "from torch.utils.data import DataLoader\n",
        "from torchvision import datasets #torchvision.dataset: CIFAR, COCO등 Vision data에 대한 dataset을 포함함\n",
        "# vision data: 영상, 이미지 관련 데이터\n",
        "from torchvision.transforms import ToTensor"
      ],
      "metadata": {
        "id": "eIjjaSqMVtOa"
      },
      "execution_count": null,
      "outputs": []
    },
    {
      "cell_type": "markdown",
      "source": [
        "### **- *FasionMNIST* 사용해서 튜토리얼 해보기**\n",
        "\n",
        "모든 TorchVision Dataset은 샘플과 정답을 변경하기 위한 transform과 target_transform 인자가 있음."
      ],
      "metadata": {
        "id": "pr4NxTaMs63r"
      }
    },
    {
      "cell_type": "code",
      "source": [
        "# 공개 데이터셋에서 학습 데이터를 내려받습니다.\n",
        "training_data = datasets.FashionMNIST(\n",
        "    root=\"./\", #root 디렉토리\n",
        "    train = True, #If True, creates dataset from ``train-images-idx3-ubyte``\n",
        "    download=True, # If True, downloads the dataset from the internet and puts it in root directory.\n",
        "    transform = ToTensor()\n",
        ")\n",
        "\n",
        "# 공개 데이터셋에서 테스트 데이터를 내려받습니다.\n",
        "test_data = datasets.FashionMNIST(\n",
        "    root=\"./\",\n",
        "    train=False,\n",
        "    download=True,\n",
        "    transform=ToTensor(), # A function/transform that  takes in an PIL image and returns a transformed version.\n",
        ")\n",
        "\n"
      ],
      "metadata": {
        "id": "I9C6XQLLVqGa",
        "colab": {
          "base_uri": "https://localhost:8080/"
        },
        "outputId": "798a0fc9-83a0-468b-86e1-5b057088e3bd"
      },
      "execution_count": null,
      "outputs": [
        {
          "output_type": "stream",
          "name": "stdout",
          "text": [
            "Downloading http://fashion-mnist.s3-website.eu-central-1.amazonaws.com/train-images-idx3-ubyte.gz\n",
            "Downloading http://fashion-mnist.s3-website.eu-central-1.amazonaws.com/train-images-idx3-ubyte.gz to ./FashionMNIST/raw/train-images-idx3-ubyte.gz\n"
          ]
        },
        {
          "output_type": "stream",
          "name": "stderr",
          "text": [
            "100%|██████████| 26421880/26421880 [00:01<00:00, 17676848.72it/s]\n"
          ]
        },
        {
          "output_type": "stream",
          "name": "stdout",
          "text": [
            "Extracting ./FashionMNIST/raw/train-images-idx3-ubyte.gz to ./FashionMNIST/raw\n",
            "\n",
            "Downloading http://fashion-mnist.s3-website.eu-central-1.amazonaws.com/train-labels-idx1-ubyte.gz\n",
            "Downloading http://fashion-mnist.s3-website.eu-central-1.amazonaws.com/train-labels-idx1-ubyte.gz to ./FashionMNIST/raw/train-labels-idx1-ubyte.gz\n"
          ]
        },
        {
          "output_type": "stream",
          "name": "stderr",
          "text": [
            "100%|██████████| 29515/29515 [00:00<00:00, 318928.28it/s]\n"
          ]
        },
        {
          "output_type": "stream",
          "name": "stdout",
          "text": [
            "Extracting ./FashionMNIST/raw/train-labels-idx1-ubyte.gz to ./FashionMNIST/raw\n",
            "\n",
            "Downloading http://fashion-mnist.s3-website.eu-central-1.amazonaws.com/t10k-images-idx3-ubyte.gz\n",
            "Downloading http://fashion-mnist.s3-website.eu-central-1.amazonaws.com/t10k-images-idx3-ubyte.gz to ./FashionMNIST/raw/t10k-images-idx3-ubyte.gz\n"
          ]
        },
        {
          "output_type": "stream",
          "name": "stderr",
          "text": [
            "100%|██████████| 4422102/4422102 [00:00<00:00, 5540957.40it/s]\n"
          ]
        },
        {
          "output_type": "stream",
          "name": "stdout",
          "text": [
            "Extracting ./FashionMNIST/raw/t10k-images-idx3-ubyte.gz to ./FashionMNIST/raw\n",
            "\n",
            "Downloading http://fashion-mnist.s3-website.eu-central-1.amazonaws.com/t10k-labels-idx1-ubyte.gz\n",
            "Downloading http://fashion-mnist.s3-website.eu-central-1.amazonaws.com/t10k-labels-idx1-ubyte.gz to ./FashionMNIST/raw/t10k-labels-idx1-ubyte.gz\n"
          ]
        },
        {
          "output_type": "stream",
          "name": "stderr",
          "text": [
            "100%|██████████| 5148/5148 [00:00<00:00, 11608751.07it/s]\n"
          ]
        },
        {
          "output_type": "stream",
          "name": "stdout",
          "text": [
            "Extracting ./FashionMNIST/raw/t10k-labels-idx1-ubyte.gz to ./FashionMNIST/raw\n",
            "\n"
          ]
        }
      ]
    },
    {
      "cell_type": "markdown",
      "source": [
        "**- Dataset을 DataLoader에 인자로 주기.**\n",
        "\n",
        "> Dataset을 순회 가능 객체로 감싸기, 배치(batch) 자동화, 샘플링, 섞기(suffle)및 다중 프로세스로 데이터 불러오기(multiprocess data loading, 병렬로 처리, batch로 일괄적으로 모아서 한꺼번에 처리)지원.\n",
        "</br>\n",
        "\n",
        "이 예제에서는 batch size를 64로 정의함.\n",
        "\n",
        "즉, dataloader객체의 각 요소들이 64개의 feature와 label을 하나의 batch로 반환함."
      ],
      "metadata": {
        "id": "RwJl9SBUxHHr"
      }
    },
    {
      "cell_type": "code",
      "source": [
        "batch_size = 64\n",
        "\n",
        "#데이터로더를 생성합니다.\n",
        "train_dataloader = DataLoader(training_data, batch_size=batch_size)\n",
        "test_dataloader = DataLoader(test_data, batch_size=batch_size)\n",
        "\n",
        "for X, y in test_dataloader:\n",
        "    print(f\"Shape of X [N, C, H, W]: {X.shape}\") # x텐서의 모양. #64개, channel 하나, 28x28 이미지\n",
        "    print(f\"Shape of y:{y.shape} {y.dtype}\") # y tensor의 data type"
      ],
      "metadata": {
        "id": "oygCn7TAwoXt",
        "colab": {
          "base_uri": "https://localhost:8080/"
        },
        "outputId": "7457ce75-d0d9-4bf7-cec3-000a13e24ea7"
      },
      "execution_count": null,
      "outputs": [
        {
          "output_type": "stream",
          "name": "stdout",
          "text": [
            "Shape of X [N, C, H, W]: torch.Size([64, 1, 28, 28])\n",
            "Shape of y:torch.Size([64]) torch.int64\n",
            "Shape of X [N, C, H, W]: torch.Size([64, 1, 28, 28])\n",
            "Shape of y:torch.Size([64]) torch.int64\n",
            "Shape of X [N, C, H, W]: torch.Size([64, 1, 28, 28])\n",
            "Shape of y:torch.Size([64]) torch.int64\n",
            "Shape of X [N, C, H, W]: torch.Size([64, 1, 28, 28])\n",
            "Shape of y:torch.Size([64]) torch.int64\n",
            "Shape of X [N, C, H, W]: torch.Size([64, 1, 28, 28])\n",
            "Shape of y:torch.Size([64]) torch.int64\n",
            "Shape of X [N, C, H, W]: torch.Size([64, 1, 28, 28])\n",
            "Shape of y:torch.Size([64]) torch.int64\n",
            "Shape of X [N, C, H, W]: torch.Size([64, 1, 28, 28])\n",
            "Shape of y:torch.Size([64]) torch.int64\n",
            "Shape of X [N, C, H, W]: torch.Size([64, 1, 28, 28])\n",
            "Shape of y:torch.Size([64]) torch.int64\n",
            "Shape of X [N, C, H, W]: torch.Size([64, 1, 28, 28])\n",
            "Shape of y:torch.Size([64]) torch.int64\n",
            "Shape of X [N, C, H, W]: torch.Size([64, 1, 28, 28])\n",
            "Shape of y:torch.Size([64]) torch.int64\n",
            "Shape of X [N, C, H, W]: torch.Size([64, 1, 28, 28])\n",
            "Shape of y:torch.Size([64]) torch.int64\n",
            "Shape of X [N, C, H, W]: torch.Size([64, 1, 28, 28])\n",
            "Shape of y:torch.Size([64]) torch.int64\n",
            "Shape of X [N, C, H, W]: torch.Size([64, 1, 28, 28])\n",
            "Shape of y:torch.Size([64]) torch.int64\n",
            "Shape of X [N, C, H, W]: torch.Size([64, 1, 28, 28])\n",
            "Shape of y:torch.Size([64]) torch.int64\n",
            "Shape of X [N, C, H, W]: torch.Size([64, 1, 28, 28])\n",
            "Shape of y:torch.Size([64]) torch.int64\n",
            "Shape of X [N, C, H, W]: torch.Size([64, 1, 28, 28])\n",
            "Shape of y:torch.Size([64]) torch.int64\n",
            "Shape of X [N, C, H, W]: torch.Size([64, 1, 28, 28])\n",
            "Shape of y:torch.Size([64]) torch.int64\n",
            "Shape of X [N, C, H, W]: torch.Size([64, 1, 28, 28])\n",
            "Shape of y:torch.Size([64]) torch.int64\n",
            "Shape of X [N, C, H, W]: torch.Size([64, 1, 28, 28])\n",
            "Shape of y:torch.Size([64]) torch.int64\n",
            "Shape of X [N, C, H, W]: torch.Size([64, 1, 28, 28])\n",
            "Shape of y:torch.Size([64]) torch.int64\n",
            "Shape of X [N, C, H, W]: torch.Size([64, 1, 28, 28])\n",
            "Shape of y:torch.Size([64]) torch.int64\n",
            "Shape of X [N, C, H, W]: torch.Size([64, 1, 28, 28])\n",
            "Shape of y:torch.Size([64]) torch.int64\n",
            "Shape of X [N, C, H, W]: torch.Size([64, 1, 28, 28])\n",
            "Shape of y:torch.Size([64]) torch.int64\n",
            "Shape of X [N, C, H, W]: torch.Size([64, 1, 28, 28])\n",
            "Shape of y:torch.Size([64]) torch.int64\n",
            "Shape of X [N, C, H, W]: torch.Size([64, 1, 28, 28])\n",
            "Shape of y:torch.Size([64]) torch.int64\n",
            "Shape of X [N, C, H, W]: torch.Size([64, 1, 28, 28])\n",
            "Shape of y:torch.Size([64]) torch.int64\n",
            "Shape of X [N, C, H, W]: torch.Size([64, 1, 28, 28])\n",
            "Shape of y:torch.Size([64]) torch.int64\n",
            "Shape of X [N, C, H, W]: torch.Size([64, 1, 28, 28])\n",
            "Shape of y:torch.Size([64]) torch.int64\n",
            "Shape of X [N, C, H, W]: torch.Size([64, 1, 28, 28])\n",
            "Shape of y:torch.Size([64]) torch.int64\n",
            "Shape of X [N, C, H, W]: torch.Size([64, 1, 28, 28])\n",
            "Shape of y:torch.Size([64]) torch.int64\n",
            "Shape of X [N, C, H, W]: torch.Size([64, 1, 28, 28])\n",
            "Shape of y:torch.Size([64]) torch.int64\n",
            "Shape of X [N, C, H, W]: torch.Size([64, 1, 28, 28])\n",
            "Shape of y:torch.Size([64]) torch.int64\n",
            "Shape of X [N, C, H, W]: torch.Size([64, 1, 28, 28])\n",
            "Shape of y:torch.Size([64]) torch.int64\n",
            "Shape of X [N, C, H, W]: torch.Size([64, 1, 28, 28])\n",
            "Shape of y:torch.Size([64]) torch.int64\n",
            "Shape of X [N, C, H, W]: torch.Size([64, 1, 28, 28])\n",
            "Shape of y:torch.Size([64]) torch.int64\n",
            "Shape of X [N, C, H, W]: torch.Size([64, 1, 28, 28])\n",
            "Shape of y:torch.Size([64]) torch.int64\n",
            "Shape of X [N, C, H, W]: torch.Size([64, 1, 28, 28])\n",
            "Shape of y:torch.Size([64]) torch.int64\n",
            "Shape of X [N, C, H, W]: torch.Size([64, 1, 28, 28])\n",
            "Shape of y:torch.Size([64]) torch.int64\n",
            "Shape of X [N, C, H, W]: torch.Size([64, 1, 28, 28])\n",
            "Shape of y:torch.Size([64]) torch.int64\n",
            "Shape of X [N, C, H, W]: torch.Size([64, 1, 28, 28])\n",
            "Shape of y:torch.Size([64]) torch.int64\n",
            "Shape of X [N, C, H, W]: torch.Size([64, 1, 28, 28])\n",
            "Shape of y:torch.Size([64]) torch.int64\n",
            "Shape of X [N, C, H, W]: torch.Size([64, 1, 28, 28])\n",
            "Shape of y:torch.Size([64]) torch.int64\n",
            "Shape of X [N, C, H, W]: torch.Size([64, 1, 28, 28])\n",
            "Shape of y:torch.Size([64]) torch.int64\n",
            "Shape of X [N, C, H, W]: torch.Size([64, 1, 28, 28])\n",
            "Shape of y:torch.Size([64]) torch.int64\n",
            "Shape of X [N, C, H, W]: torch.Size([64, 1, 28, 28])\n",
            "Shape of y:torch.Size([64]) torch.int64\n",
            "Shape of X [N, C, H, W]: torch.Size([64, 1, 28, 28])\n",
            "Shape of y:torch.Size([64]) torch.int64\n",
            "Shape of X [N, C, H, W]: torch.Size([64, 1, 28, 28])\n",
            "Shape of y:torch.Size([64]) torch.int64\n",
            "Shape of X [N, C, H, W]: torch.Size([64, 1, 28, 28])\n",
            "Shape of y:torch.Size([64]) torch.int64\n",
            "Shape of X [N, C, H, W]: torch.Size([64, 1, 28, 28])\n",
            "Shape of y:torch.Size([64]) torch.int64\n",
            "Shape of X [N, C, H, W]: torch.Size([64, 1, 28, 28])\n",
            "Shape of y:torch.Size([64]) torch.int64\n",
            "Shape of X [N, C, H, W]: torch.Size([64, 1, 28, 28])\n",
            "Shape of y:torch.Size([64]) torch.int64\n",
            "Shape of X [N, C, H, W]: torch.Size([64, 1, 28, 28])\n",
            "Shape of y:torch.Size([64]) torch.int64\n",
            "Shape of X [N, C, H, W]: torch.Size([64, 1, 28, 28])\n",
            "Shape of y:torch.Size([64]) torch.int64\n",
            "Shape of X [N, C, H, W]: torch.Size([64, 1, 28, 28])\n",
            "Shape of y:torch.Size([64]) torch.int64\n",
            "Shape of X [N, C, H, W]: torch.Size([64, 1, 28, 28])\n",
            "Shape of y:torch.Size([64]) torch.int64\n",
            "Shape of X [N, C, H, W]: torch.Size([64, 1, 28, 28])\n",
            "Shape of y:torch.Size([64]) torch.int64\n",
            "Shape of X [N, C, H, W]: torch.Size([64, 1, 28, 28])\n",
            "Shape of y:torch.Size([64]) torch.int64\n",
            "Shape of X [N, C, H, W]: torch.Size([64, 1, 28, 28])\n",
            "Shape of y:torch.Size([64]) torch.int64\n",
            "Shape of X [N, C, H, W]: torch.Size([64, 1, 28, 28])\n",
            "Shape of y:torch.Size([64]) torch.int64\n",
            "Shape of X [N, C, H, W]: torch.Size([64, 1, 28, 28])\n",
            "Shape of y:torch.Size([64]) torch.int64\n",
            "Shape of X [N, C, H, W]: torch.Size([64, 1, 28, 28])\n",
            "Shape of y:torch.Size([64]) torch.int64\n",
            "Shape of X [N, C, H, W]: torch.Size([64, 1, 28, 28])\n",
            "Shape of y:torch.Size([64]) torch.int64\n",
            "Shape of X [N, C, H, W]: torch.Size([64, 1, 28, 28])\n",
            "Shape of y:torch.Size([64]) torch.int64\n",
            "Shape of X [N, C, H, W]: torch.Size([64, 1, 28, 28])\n",
            "Shape of y:torch.Size([64]) torch.int64\n",
            "Shape of X [N, C, H, W]: torch.Size([64, 1, 28, 28])\n",
            "Shape of y:torch.Size([64]) torch.int64\n",
            "Shape of X [N, C, H, W]: torch.Size([64, 1, 28, 28])\n",
            "Shape of y:torch.Size([64]) torch.int64\n",
            "Shape of X [N, C, H, W]: torch.Size([64, 1, 28, 28])\n",
            "Shape of y:torch.Size([64]) torch.int64\n",
            "Shape of X [N, C, H, W]: torch.Size([64, 1, 28, 28])\n",
            "Shape of y:torch.Size([64]) torch.int64\n",
            "Shape of X [N, C, H, W]: torch.Size([64, 1, 28, 28])\n",
            "Shape of y:torch.Size([64]) torch.int64\n",
            "Shape of X [N, C, H, W]: torch.Size([64, 1, 28, 28])\n",
            "Shape of y:torch.Size([64]) torch.int64\n",
            "Shape of X [N, C, H, W]: torch.Size([64, 1, 28, 28])\n",
            "Shape of y:torch.Size([64]) torch.int64\n",
            "Shape of X [N, C, H, W]: torch.Size([64, 1, 28, 28])\n",
            "Shape of y:torch.Size([64]) torch.int64\n",
            "Shape of X [N, C, H, W]: torch.Size([64, 1, 28, 28])\n",
            "Shape of y:torch.Size([64]) torch.int64\n",
            "Shape of X [N, C, H, W]: torch.Size([64, 1, 28, 28])\n",
            "Shape of y:torch.Size([64]) torch.int64\n",
            "Shape of X [N, C, H, W]: torch.Size([64, 1, 28, 28])\n",
            "Shape of y:torch.Size([64]) torch.int64\n",
            "Shape of X [N, C, H, W]: torch.Size([64, 1, 28, 28])\n",
            "Shape of y:torch.Size([64]) torch.int64\n",
            "Shape of X [N, C, H, W]: torch.Size([64, 1, 28, 28])\n",
            "Shape of y:torch.Size([64]) torch.int64\n",
            "Shape of X [N, C, H, W]: torch.Size([64, 1, 28, 28])\n",
            "Shape of y:torch.Size([64]) torch.int64\n",
            "Shape of X [N, C, H, W]: torch.Size([64, 1, 28, 28])\n",
            "Shape of y:torch.Size([64]) torch.int64\n",
            "Shape of X [N, C, H, W]: torch.Size([64, 1, 28, 28])\n",
            "Shape of y:torch.Size([64]) torch.int64\n",
            "Shape of X [N, C, H, W]: torch.Size([64, 1, 28, 28])\n",
            "Shape of y:torch.Size([64]) torch.int64\n",
            "Shape of X [N, C, H, W]: torch.Size([64, 1, 28, 28])\n",
            "Shape of y:torch.Size([64]) torch.int64\n",
            "Shape of X [N, C, H, W]: torch.Size([64, 1, 28, 28])\n",
            "Shape of y:torch.Size([64]) torch.int64\n",
            "Shape of X [N, C, H, W]: torch.Size([64, 1, 28, 28])\n",
            "Shape of y:torch.Size([64]) torch.int64\n",
            "Shape of X [N, C, H, W]: torch.Size([64, 1, 28, 28])\n",
            "Shape of y:torch.Size([64]) torch.int64\n",
            "Shape of X [N, C, H, W]: torch.Size([64, 1, 28, 28])\n",
            "Shape of y:torch.Size([64]) torch.int64\n",
            "Shape of X [N, C, H, W]: torch.Size([64, 1, 28, 28])\n",
            "Shape of y:torch.Size([64]) torch.int64\n",
            "Shape of X [N, C, H, W]: torch.Size([64, 1, 28, 28])\n",
            "Shape of y:torch.Size([64]) torch.int64\n",
            "Shape of X [N, C, H, W]: torch.Size([64, 1, 28, 28])\n",
            "Shape of y:torch.Size([64]) torch.int64\n",
            "Shape of X [N, C, H, W]: torch.Size([64, 1, 28, 28])\n",
            "Shape of y:torch.Size([64]) torch.int64\n",
            "Shape of X [N, C, H, W]: torch.Size([64, 1, 28, 28])\n",
            "Shape of y:torch.Size([64]) torch.int64\n",
            "Shape of X [N, C, H, W]: torch.Size([64, 1, 28, 28])\n",
            "Shape of y:torch.Size([64]) torch.int64\n",
            "Shape of X [N, C, H, W]: torch.Size([64, 1, 28, 28])\n",
            "Shape of y:torch.Size([64]) torch.int64\n",
            "Shape of X [N, C, H, W]: torch.Size([64, 1, 28, 28])\n",
            "Shape of y:torch.Size([64]) torch.int64\n",
            "Shape of X [N, C, H, W]: torch.Size([64, 1, 28, 28])\n",
            "Shape of y:torch.Size([64]) torch.int64\n",
            "Shape of X [N, C, H, W]: torch.Size([64, 1, 28, 28])\n",
            "Shape of y:torch.Size([64]) torch.int64\n",
            "Shape of X [N, C, H, W]: torch.Size([64, 1, 28, 28])\n",
            "Shape of y:torch.Size([64]) torch.int64\n",
            "Shape of X [N, C, H, W]: torch.Size([64, 1, 28, 28])\n",
            "Shape of y:torch.Size([64]) torch.int64\n",
            "Shape of X [N, C, H, W]: torch.Size([64, 1, 28, 28])\n",
            "Shape of y:torch.Size([64]) torch.int64\n",
            "Shape of X [N, C, H, W]: torch.Size([64, 1, 28, 28])\n",
            "Shape of y:torch.Size([64]) torch.int64\n",
            "Shape of X [N, C, H, W]: torch.Size([64, 1, 28, 28])\n",
            "Shape of y:torch.Size([64]) torch.int64\n",
            "Shape of X [N, C, H, W]: torch.Size([64, 1, 28, 28])\n",
            "Shape of y:torch.Size([64]) torch.int64\n",
            "Shape of X [N, C, H, W]: torch.Size([64, 1, 28, 28])\n",
            "Shape of y:torch.Size([64]) torch.int64\n",
            "Shape of X [N, C, H, W]: torch.Size([64, 1, 28, 28])\n",
            "Shape of y:torch.Size([64]) torch.int64\n",
            "Shape of X [N, C, H, W]: torch.Size([64, 1, 28, 28])\n",
            "Shape of y:torch.Size([64]) torch.int64\n",
            "Shape of X [N, C, H, W]: torch.Size([64, 1, 28, 28])\n",
            "Shape of y:torch.Size([64]) torch.int64\n",
            "Shape of X [N, C, H, W]: torch.Size([64, 1, 28, 28])\n",
            "Shape of y:torch.Size([64]) torch.int64\n",
            "Shape of X [N, C, H, W]: torch.Size([64, 1, 28, 28])\n",
            "Shape of y:torch.Size([64]) torch.int64\n",
            "Shape of X [N, C, H, W]: torch.Size([64, 1, 28, 28])\n",
            "Shape of y:torch.Size([64]) torch.int64\n",
            "Shape of X [N, C, H, W]: torch.Size([64, 1, 28, 28])\n",
            "Shape of y:torch.Size([64]) torch.int64\n",
            "Shape of X [N, C, H, W]: torch.Size([64, 1, 28, 28])\n",
            "Shape of y:torch.Size([64]) torch.int64\n",
            "Shape of X [N, C, H, W]: torch.Size([64, 1, 28, 28])\n",
            "Shape of y:torch.Size([64]) torch.int64\n",
            "Shape of X [N, C, H, W]: torch.Size([64, 1, 28, 28])\n",
            "Shape of y:torch.Size([64]) torch.int64\n",
            "Shape of X [N, C, H, W]: torch.Size([64, 1, 28, 28])\n",
            "Shape of y:torch.Size([64]) torch.int64\n",
            "Shape of X [N, C, H, W]: torch.Size([64, 1, 28, 28])\n",
            "Shape of y:torch.Size([64]) torch.int64\n",
            "Shape of X [N, C, H, W]: torch.Size([64, 1, 28, 28])\n",
            "Shape of y:torch.Size([64]) torch.int64\n",
            "Shape of X [N, C, H, W]: torch.Size([64, 1, 28, 28])\n",
            "Shape of y:torch.Size([64]) torch.int64\n",
            "Shape of X [N, C, H, W]: torch.Size([64, 1, 28, 28])\n",
            "Shape of y:torch.Size([64]) torch.int64\n",
            "Shape of X [N, C, H, W]: torch.Size([64, 1, 28, 28])\n",
            "Shape of y:torch.Size([64]) torch.int64\n",
            "Shape of X [N, C, H, W]: torch.Size([64, 1, 28, 28])\n",
            "Shape of y:torch.Size([64]) torch.int64\n",
            "Shape of X [N, C, H, W]: torch.Size([64, 1, 28, 28])\n",
            "Shape of y:torch.Size([64]) torch.int64\n",
            "Shape of X [N, C, H, W]: torch.Size([64, 1, 28, 28])\n",
            "Shape of y:torch.Size([64]) torch.int64\n",
            "Shape of X [N, C, H, W]: torch.Size([64, 1, 28, 28])\n",
            "Shape of y:torch.Size([64]) torch.int64\n",
            "Shape of X [N, C, H, W]: torch.Size([64, 1, 28, 28])\n",
            "Shape of y:torch.Size([64]) torch.int64\n",
            "Shape of X [N, C, H, W]: torch.Size([64, 1, 28, 28])\n",
            "Shape of y:torch.Size([64]) torch.int64\n",
            "Shape of X [N, C, H, W]: torch.Size([64, 1, 28, 28])\n",
            "Shape of y:torch.Size([64]) torch.int64\n",
            "Shape of X [N, C, H, W]: torch.Size([64, 1, 28, 28])\n",
            "Shape of y:torch.Size([64]) torch.int64\n",
            "Shape of X [N, C, H, W]: torch.Size([64, 1, 28, 28])\n",
            "Shape of y:torch.Size([64]) torch.int64\n",
            "Shape of X [N, C, H, W]: torch.Size([64, 1, 28, 28])\n",
            "Shape of y:torch.Size([64]) torch.int64\n",
            "Shape of X [N, C, H, W]: torch.Size([64, 1, 28, 28])\n",
            "Shape of y:torch.Size([64]) torch.int64\n",
            "Shape of X [N, C, H, W]: torch.Size([64, 1, 28, 28])\n",
            "Shape of y:torch.Size([64]) torch.int64\n",
            "Shape of X [N, C, H, W]: torch.Size([64, 1, 28, 28])\n",
            "Shape of y:torch.Size([64]) torch.int64\n",
            "Shape of X [N, C, H, W]: torch.Size([64, 1, 28, 28])\n",
            "Shape of y:torch.Size([64]) torch.int64\n",
            "Shape of X [N, C, H, W]: torch.Size([64, 1, 28, 28])\n",
            "Shape of y:torch.Size([64]) torch.int64\n",
            "Shape of X [N, C, H, W]: torch.Size([64, 1, 28, 28])\n",
            "Shape of y:torch.Size([64]) torch.int64\n",
            "Shape of X [N, C, H, W]: torch.Size([64, 1, 28, 28])\n",
            "Shape of y:torch.Size([64]) torch.int64\n",
            "Shape of X [N, C, H, W]: torch.Size([64, 1, 28, 28])\n",
            "Shape of y:torch.Size([64]) torch.int64\n",
            "Shape of X [N, C, H, W]: torch.Size([64, 1, 28, 28])\n",
            "Shape of y:torch.Size([64]) torch.int64\n",
            "Shape of X [N, C, H, W]: torch.Size([64, 1, 28, 28])\n",
            "Shape of y:torch.Size([64]) torch.int64\n",
            "Shape of X [N, C, H, W]: torch.Size([64, 1, 28, 28])\n",
            "Shape of y:torch.Size([64]) torch.int64\n",
            "Shape of X [N, C, H, W]: torch.Size([64, 1, 28, 28])\n",
            "Shape of y:torch.Size([64]) torch.int64\n",
            "Shape of X [N, C, H, W]: torch.Size([64, 1, 28, 28])\n",
            "Shape of y:torch.Size([64]) torch.int64\n",
            "Shape of X [N, C, H, W]: torch.Size([64, 1, 28, 28])\n",
            "Shape of y:torch.Size([64]) torch.int64\n",
            "Shape of X [N, C, H, W]: torch.Size([64, 1, 28, 28])\n",
            "Shape of y:torch.Size([64]) torch.int64\n",
            "Shape of X [N, C, H, W]: torch.Size([64, 1, 28, 28])\n",
            "Shape of y:torch.Size([64]) torch.int64\n",
            "Shape of X [N, C, H, W]: torch.Size([64, 1, 28, 28])\n",
            "Shape of y:torch.Size([64]) torch.int64\n",
            "Shape of X [N, C, H, W]: torch.Size([64, 1, 28, 28])\n",
            "Shape of y:torch.Size([64]) torch.int64\n",
            "Shape of X [N, C, H, W]: torch.Size([64, 1, 28, 28])\n",
            "Shape of y:torch.Size([64]) torch.int64\n",
            "Shape of X [N, C, H, W]: torch.Size([64, 1, 28, 28])\n",
            "Shape of y:torch.Size([64]) torch.int64\n",
            "Shape of X [N, C, H, W]: torch.Size([64, 1, 28, 28])\n",
            "Shape of y:torch.Size([64]) torch.int64\n",
            "Shape of X [N, C, H, W]: torch.Size([64, 1, 28, 28])\n",
            "Shape of y:torch.Size([64]) torch.int64\n",
            "Shape of X [N, C, H, W]: torch.Size([64, 1, 28, 28])\n",
            "Shape of y:torch.Size([64]) torch.int64\n",
            "Shape of X [N, C, H, W]: torch.Size([64, 1, 28, 28])\n",
            "Shape of y:torch.Size([64]) torch.int64\n",
            "Shape of X [N, C, H, W]: torch.Size([64, 1, 28, 28])\n",
            "Shape of y:torch.Size([64]) torch.int64\n",
            "Shape of X [N, C, H, W]: torch.Size([64, 1, 28, 28])\n",
            "Shape of y:torch.Size([64]) torch.int64\n",
            "Shape of X [N, C, H, W]: torch.Size([64, 1, 28, 28])\n",
            "Shape of y:torch.Size([64]) torch.int64\n",
            "Shape of X [N, C, H, W]: torch.Size([16, 1, 28, 28])\n",
            "Shape of y:torch.Size([16]) torch.int64\n"
          ]
        }
      ]
    },
    {
      "cell_type": "markdown",
      "source": [
        "Pytorch에서 신경망 모델은 nn.Module을 상속받는 class를 생성해서 정의함.\n",
        "\n",
        "* __init__함수: 신경망 계층(layer)정의\n",
        "* forward 함수: 신경망에 데이터를 어떻게 전달할지 지정. 가능한 경우 GPU나 MPS로 신경망을 이동시켜 연산올 가속(accelerate)함."
      ],
      "metadata": {
        "id": "2hsP1QioA3kS"
      }
    },
    {
      "cell_type": "code",
      "source": [
        "# 학습에 사용할 CPU나 GPU, MPS 장치를 얻습니다.\n",
        "device = (\n",
        "    \"cuda\" # GPU에서 병렬처리 알고리즘을 C등 산업 표준 언어를 사용해 작성할 수 있도록 하는 GPGPU기술\n",
        "    if torch.cuda.is_available() #cuda 못 쓰면\n",
        "    else \"mps\" #mps 쓸게\n",
        "    #mps: Multi-Process Service\n",
        "    if torch.backends.mps.is_available() #그것도 못 쓰면\n",
        "    else \"cpu\" #cpu 쓸게\n",
        ")\n",
        "\n",
        "print(f\"Using {device} device\")\n",
        "\n",
        "#모델을 정의합니다.\n",
        "class NeuralNetwork(nn.Module): # nn.Modeule 상속\n",
        "    def __init__(self):\n",
        "        super().__init__()\n",
        "        self.flatten = nn.Flatten() #다차원 배열 공간을 1차원으로 평탄화해주는 함수\n",
        "        self.linear_relu_stack = nn.Sequential( #nn.Sequential(): nn.Linear, nn.ReLU(활성화 함수) 같은 모듈들을 인수로 받아서 순서대로 정렬해놓고 입력값이 들어모면 순서대로 모듈을 실행해서 결과값을 리턴\n",
        "            nn.Linear(28*28, 512), # y = Wx + b 선형 변환을 위한 입력 개수(28*28)과 출력 개수(512)를 설정.\n",
        "            nn.ReLU(), # 활성화 함수로 비선형 함수인 ReLU를 사용\n",
        "            nn.Linear(512,512),\n",
        "            nn.ReLU(),\n",
        "            nn.Linear(512, 10)\n",
        "        )\n",
        "\n",
        "    def forward(self, x): # 앞에서 미리 선언해놓은 레이어들을 사용하여 입력에서 출력까지 모델을 생성\n",
        "        x = self.flatten(x)\n",
        "        logits = self.linear_relu_stack(x)\n",
        "        return logits\n",
        "\n",
        "model = NeuralNetwork().to(device) #.to == ANY\n",
        "print(model)"
      ],
      "metadata": {
        "colab": {
          "base_uri": "https://localhost:8080/"
        },
        "id": "o35ll9C4Bgo1",
        "outputId": "136dcfbf-cd81-4781-80bc-fff694ca8e90"
      },
      "execution_count": null,
      "outputs": [
        {
          "output_type": "stream",
          "name": "stdout",
          "text": [
            "Using cpu device\n",
            "NeuralNetwork(\n",
            "  (flatten): Flatten(start_dim=1, end_dim=-1)\n",
            "  (linear_relu_stack): Sequential(\n",
            "    (0): Linear(in_features=784, out_features=512, bias=True)\n",
            "    (1): ReLU()\n",
            "    (2): Linear(in_features=512, out_features=512, bias=True)\n",
            "    (3): ReLU()\n",
            "    (4): Linear(in_features=512, out_features=10, bias=True)\n",
            "  )\n",
            ")\n"
          ]
        }
      ]
    },
    {
      "cell_type": "markdown",
      "source": [
        "### **- 모델 매개변수 최적화하기**\n",
        "\n",
        "모델 학습을 위해서는 **손실 함수(loss fuction)**와 **옵티마이저(optimiser)**가 필요함.\n",
        "\n",
        "> 딥러닝 모델은 손실 함수의 최소값을 찾는 것을 목표로 하는데,\n",
        "\n",
        "> 최소값을 찾아가는 것 = optimization 이고,\n",
        "\n",
        "> optimization을 위한 알고리즘 = optimizer임."
      ],
      "metadata": {
        "id": "lU4wiB39Xk1d"
      }
    },
    {
      "cell_type": "code",
      "source": [
        "loss_fn = nn.CrossEntropyLoss()\n",
        "optimizer = torch.optim.SGD(model.parameters(), lr=1e-3)"
      ],
      "metadata": {
        "id": "iHlausnZXlEb"
      },
      "execution_count": null,
      "outputs": []
    },
    {
      "cell_type": "markdown",
      "source": [
        "각 학습 단계(training loop)마다 **batch단위**로 오는 학습 데이터셋을 모델을 통과시켜 결과를 예측하고,\n",
        "\n",
        "정확한 예측을 위해, **예측된 결과값의 오류를 역전파**시켜 모델의 매개변수를 조정함."
      ],
      "metadata": {
        "id": "cfihfisRYAhy"
      }
    },
    {
      "cell_type": "code",
      "source": [
        "def train(dataloader, model, loss_fn, optimizer):\n",
        "    size = len(dataloader.dataset)\n",
        "    for batch,(X, y) in enumerate(dataloader): #batch는 몇 번 했는지 보려고\n",
        "        X, y = X.to(device), y.to(device)\n",
        "\n",
        "        # 예측 오류 계산\n",
        "        pred = model(X) #결과 예측\n",
        "        loss = loss_fn(pred, y) #손실 함수 정의\n",
        "\n",
        "        # 역전파\n",
        "        optimizer.zero_grad()  # 모든 Tensor의 그래디언트를 0으로 초기화함.\n",
        "                               # 해주지 않으면 그레디언트가 누적되는 문제가 생김.\n",
        "        loss.backward() #역전파\n",
        "        optimizer.step() #한 step씩 진행\n",
        "\n",
        "        if batch % 100 == 0:\n",
        "            loss, current = loss.item(), (batch + 1) * len(X)\n",
        "            print(f\"loss: {loss:>7f} [{current:>5d}/{size:>5d}]\")\n",
        "\n",
        "# 테스트 데이터셋으로 모델 성능 확인하는 함수 정의\n",
        "def test(dataloader, model, loss_fn):\n",
        "    size = len(dataloader.dataset) #전체 데이터 셋 사이즈\n",
        "    num_batches = len(dataloader) #batch 갯수 = dataloader 길이\n",
        "    model.eval() #PyTorch에서 모델을 평가 모드로 전환하는 메서드.\n",
        "                 #드롭아웃이 비활성화되고 배치 정규화의 이동 평균과 이동 분산이 업데이트되지 않음.\n",
        "                 #테스트 데이터나 검증 데이터를 사용하여 모델을 평가할 때 사용\n",
        "                 #모델 객체를 추론(inference)할 때 model.eval()을 호출하여 추론 모드로 전환하고,\n",
        "                 #추론이 끝난 후에는 다시 model.train()을 호출하여 학습 모드로 전환하는 것이 일반적.\n",
        "    test_loss, correct = 0, 0\n",
        "    with torch.no_grad(): #자원을 획득하고, 사용하고, 반납할때 주로 사용\n",
        "        for X, y in dataloader:\n",
        "            X, y = X.to(device), y.to(device) #torch.tensor.to(): tensor를 지정한 device로 보냄.\n",
        "            pred = model(X)\n",
        "            test_loss += loss_fn(pred, y).item() #.item(): 딕셔너리에 사용, key, value쌍을 가져올 때 사용\n",
        "            correct += (pred.argmax(1) == y).type(torch.float).sum().item() #pred.argmax(1) == nn.argmax(pred, dim=1), 행을 기준으로 max 값이 있는 index를 출력\n",
        "                                                                            #예측 값이 y(label)값이랑 같으면\n",
        "                                                                            #그걸 float으로 형변환 해서\n",
        "                                                                            #더하고\n",
        "                                                                            #key,value 쌍 값을 가져온다\n",
        "        test_loss /= num_batches #batch당 발생한 오류의 평균\n",
        "        correct /= size #총 결과 예측이 맞은 확률(정답 맞춘 개수 / 전체 샘플 개수)\n",
        "        print(f\"Test Error: \\n Accuracy: {(100*correct):>0.1f}%, Avg loss:{test_loss:>8f} \\n\")\n",
        "\n"
      ],
      "metadata": {
        "id": "TZ56Hh2SX_vg"
      },
      "execution_count": null,
      "outputs": []
    },
    {
      "cell_type": "markdown",
      "source": [
        "학습 단계는 여러번의 반복 단계(epochs)를 거쳐 수행됨.\n",
        "\n",
        "각 epochs에서 더 나은 예측을 위해 매개변수가 학습됨."
      ],
      "metadata": {
        "id": "cfO4Dof2xdSH"
      }
    },
    {
      "cell_type": "code",
      "source": [
        "#각 epochs마다 정확도(accuracy)와 손실(loss) 출력.\n",
        "#epoch마다 정확도가 증가하고 손실이 감소하는지 확인하기 위함\n",
        "\n",
        "epochs = 5 #학습을 5번 돌린다\n",
        "\n",
        "for t in range(epochs):\n",
        "    print(f\"Epoch {t+1}\\n----------------------------\")\n",
        "    train(train_dataloader, model, loss_fn, optimizer)\n",
        "    test(test_dataloader, model, loss_fn)\n",
        "print(\"Done!\")\n"
      ],
      "metadata": {
        "colab": {
          "base_uri": "https://localhost:8080/"
        },
        "id": "FV_9AkJjyxqC",
        "outputId": "d046fc62-4649-4883-a5d3-4367dfea2c62"
      },
      "execution_count": null,
      "outputs": [
        {
          "output_type": "stream",
          "name": "stdout",
          "text": [
            "Epoch 1\n",
            "----------------------------\n",
            "loss: 1.142205 [   64/60000]\n",
            "loss: 1.161456 [ 6464/60000]\n",
            "loss: 0.967523 [12864/60000]\n",
            "loss: 1.117135 [19264/60000]\n",
            "loss: 0.986845 [25664/60000]\n",
            "loss: 1.006793 [32064/60000]\n",
            "loss: 1.052057 [38464/60000]\n",
            "loss: 0.994590 [44864/60000]\n",
            "loss: 1.032449 [51264/60000]\n",
            "loss: 0.966538 [57664/60000]\n",
            "Test Error: \n",
            " Accuracy: 66.5%, Avg loss:0.976673 \n",
            "\n",
            "Epoch 2\n",
            "----------------------------\n",
            "loss: 1.019979 [   64/60000]\n",
            "loss: 1.061606 [ 6464/60000]\n",
            "loss: 0.850415 [12864/60000]\n",
            "loss: 1.021950 [19264/60000]\n",
            "loss: 0.895408 [25664/60000]\n",
            "loss: 0.912465 [32064/60000]\n",
            "loss: 0.975252 [38464/60000]\n",
            "loss: 0.920680 [44864/60000]\n",
            "loss: 0.955130 [51264/60000]\n",
            "loss: 0.899433 [57664/60000]\n",
            "Test Error: \n",
            " Accuracy: 67.8%, Avg loss:0.903631 \n",
            "\n",
            "Epoch 3\n",
            "----------------------------\n",
            "loss: 0.931217 [   64/60000]\n",
            "loss: 0.993123 [ 6464/60000]\n",
            "loss: 0.767842 [12864/60000]\n",
            "loss: 0.956460 [19264/60000]\n",
            "loss: 0.835692 [25664/60000]\n",
            "loss: 0.845064 [32064/60000]\n",
            "loss: 0.922529 [38464/60000]\n",
            "loss: 0.871652 [44864/60000]\n",
            "loss: 0.900323 [51264/60000]\n",
            "loss: 0.852091 [57664/60000]\n",
            "Test Error: \n",
            " Accuracy: 68.9%, Avg loss:0.851819 \n",
            "\n",
            "Epoch 4\n",
            "----------------------------\n",
            "loss: 0.863176 [   64/60000]\n",
            "loss: 0.941759 [ 6464/60000]\n",
            "loss: 0.706778 [12864/60000]\n",
            "loss: 0.908373 [19264/60000]\n",
            "loss: 0.793560 [25664/60000]\n",
            "loss: 0.795501 [32064/60000]\n",
            "loss: 0.882987 [38464/60000]\n",
            "loss: 0.837584 [44864/60000]\n",
            "loss: 0.859553 [51264/60000]\n",
            "loss: 0.816135 [57664/60000]\n",
            "Test Error: \n",
            " Accuracy: 70.2%, Avg loss:0.812772 \n",
            "\n",
            "Epoch 5\n",
            "----------------------------\n",
            "loss: 0.808933 [   64/60000]\n",
            "loss: 0.900397 [ 6464/60000]\n",
            "loss: 0.659923 [12864/60000]\n",
            "loss: 0.871498 [19264/60000]\n",
            "loss: 0.761939 [25664/60000]\n",
            "loss: 0.757929 [32064/60000]\n",
            "loss: 0.850698 [38464/60000]\n",
            "loss: 0.812329 [44864/60000]\n",
            "loss: 0.827781 [51264/60000]\n",
            "loss: 0.787599 [57664/60000]\n",
            "Test Error: \n",
            " Accuracy: 71.4%, Avg loss:0.781780 \n",
            "\n",
            "Done!\n"
          ]
        }
      ]
    },
    {
      "cell_type": "markdown",
      "source": [
        "### **- 모델 저장하기**\n",
        "\n",
        "일반적인 방법은 모델의 매개변수들을 포함해서 **내부 상태 사전(internal state dictionary)를 직렬화(serialize)**하는 것."
      ],
      "metadata": {
        "id": "8GhlIofg1v2T"
      }
    },
    {
      "cell_type": "code",
      "source": [
        "torch.save(model.state_dict(), \"model.pth\")\n",
        "print(\"Saved Pytorch Model State to model.pth\")"
      ],
      "metadata": {
        "colab": {
          "base_uri": "https://localhost:8080/"
        },
        "id": "F0o4DtwO1uVR",
        "outputId": "ce2abe48-7f11-4ab8-c768-9574a55f7db3"
      },
      "execution_count": null,
      "outputs": [
        {
          "output_type": "stream",
          "name": "stdout",
          "text": [
            "Saved Pytorch Model State to model.pth\n"
          ]
        }
      ]
    },
    {
      "cell_type": "markdown",
      "source": [
        "모델 불러오기\n",
        "모델을 불러오는 과정에는 **모델 구조를 다시 만들고**, **상태 사전을 모델에 불러오는 과정**이 포함됨."
      ],
      "metadata": {
        "id": "qRr86QTj2R8D"
      }
    },
    {
      "cell_type": "code",
      "source": [
        "model = NeuralNetwork().to(device)\n",
        "model.load_state_dict(torch.load(\"model.pth\"))"
      ],
      "metadata": {
        "colab": {
          "base_uri": "https://localhost:8080/"
        },
        "id": "ceuBHhma2buj",
        "outputId": "a39e6a6f-dbef-4c79-f24b-cab0f2cc6f90"
      },
      "execution_count": null,
      "outputs": [
        {
          "output_type": "execute_result",
          "data": {
            "text/plain": [
              "<All keys matched successfully>"
            ]
          },
          "metadata": {},
          "execution_count": 21
        }
      ]
    },
    {
      "cell_type": "code",
      "source": [
        "# 불러온 모델로 결과 예측하기\n",
        "\n",
        "classes =[\n",
        "    \"T-shirt/top\",\n",
        "    \"Trouser\",\n",
        "    \"Pullover\",\n",
        "    \"Dress\",\n",
        "    \"Coat\",\n",
        "    \"Sandal\",\n",
        "    \"Shirt\",\n",
        "    \"Sneaker\",\n",
        "    \"Bag\",\n",
        "    \"Ankle boot\"\n",
        "]\n",
        "\n",
        "model.eval()\n",
        "x, y = test_data[0][0], test_data[0][1]\n",
        "with torch.no_grad(): # 주된 목적은 autograd를 끔으로써 메모리 사용량을 줄이고 연산 속도를 높히기 위함\n",
        "    x = x.to(device)\n",
        "    pred = model(x)\n",
        "    predicted, actual = classes[pred[0].argmax(0)], classes[y]\n",
        "\n",
        "    print(f'Predicted: \"{predicted}\", Actual: \"{actual}\"')"
      ],
      "metadata": {
        "colab": {
          "base_uri": "https://localhost:8080/"
        },
        "id": "3Gq-5tbF25A9",
        "outputId": "269d984e-51ac-40c5-9140-0d487e5bb11c"
      },
      "execution_count": null,
      "outputs": [
        {
          "output_type": "stream",
          "name": "stdout",
          "text": [
            "Predicted: \"Ankle boot\", Actual: \"Ankle boot\"\n"
          ]
        }
      ]
    }
  ]
}