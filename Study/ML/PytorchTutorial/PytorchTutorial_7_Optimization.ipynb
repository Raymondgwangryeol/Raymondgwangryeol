{
  "nbformat": 4,
  "nbformat_minor": 0,
  "metadata": {
    "colab": {
      "provenance": [],
      "authorship_tag": "ABX9TyMUrsjDFojFzW77/z93I2il",
      "include_colab_link": true
    },
    "kernelspec": {
      "name": "python3",
      "display_name": "Python 3"
    },
    "language_info": {
      "name": "python"
    }
  },
  "cells": [
    {
      "cell_type": "markdown",
      "metadata": {
        "id": "view-in-github",
        "colab_type": "text"
      },
      "source": [
        "<a href=\"https://colab.research.google.com/github/Raymondgwangryeol/Raymondgwangryeol/blob/main/Study/ML/PytorchTutorial/PytorchTutorial_7_Optimization.ipynb\" target=\"_parent\"><img src=\"https://colab.research.google.com/assets/colab-badge.svg\" alt=\"Open In Colab\"/></a>"
      ]
    },
    {
      "cell_type": "markdown",
      "source": [
        "# **모델 매개변수 최적화하기**\n",
        "\n",
        "\n",
        "---\n",
        "\n",
        "\n",
        "모델과 데이터가 준비되었으니, 데이터에 매개변수를 최적화해서 모델 학습, 검증, 테스트를 드디어 한다 와...\n",
        "\n",
        "<br>\n",
        "\n",
        "### **[모델 학습과정]**\n",
        "반복을 통해 학습!\n",
        "<br>\n",
        "\n",
        "&nbsp;&nbsp;&nbsp;&nbsp;&nbsp;&nbsp;&nbsp;&nbsp;&nbsp;&nbsp;&nbsp;&nbsp;&nbsp;각 반복 단계에서 출력 추측<br>\n",
        "&nbsp;&nbsp;&nbsp;&nbsp;&nbsp;&nbsp;&nbsp;&nbsp;&nbsp;&nbsp;&nbsp;&nbsp;&nbsp;&nbsp;&nbsp;&nbsp;&nbsp;&nbsp;&nbsp;&nbsp;&nbsp;&nbsp;&nbsp;&nbsp;&nbsp;&nbsp;&nbsp;&nbsp;&nbsp;&nbsp;&nbsp;&nbsp;&nbsp;&nbsp;**↓**   \n",
        "&nbsp;&nbsp;&nbsp;&nbsp;추측과 정답 사이의 오류(loss) 계산<br>\n",
        "&nbsp;&nbsp;&nbsp;&nbsp;&nbsp;&nbsp;&nbsp;&nbsp;&nbsp;&nbsp;&nbsp;&nbsp;&nbsp;&nbsp;&nbsp;&nbsp;&nbsp;&nbsp;&nbsp;&nbsp;&nbsp;&nbsp;&nbsp;&nbsp;&nbsp;&nbsp;&nbsp;&nbsp;&nbsp;&nbsp;&nbsp;&nbsp;&nbsp;&nbsp;**↓**   \n",
        "매개변수에 대한 오류의 도함수(derivaticve)수집<br>\n",
        "&nbsp;&nbsp;&nbsp;&nbsp;&nbsp;&nbsp;&nbsp;&nbsp;&nbsp;&nbsp;&nbsp;&nbsp;&nbsp;&nbsp;&nbsp;&nbsp;&nbsp;&nbsp;&nbsp;&nbsp;&nbsp;&nbsp;&nbsp;&nbsp;&nbsp;&nbsp;&nbsp;&nbsp;&nbsp;&nbsp;&nbsp;&nbsp;&nbsp;&nbsp;**↓**    \n",
        "경사하강법(상황에 따라 알맞은 최적화 알고리즘 사용)사용해서 파라미터 최적화(optimize)"
      ],
      "metadata": {
        "id": "473e-nVVbtMx"
      }
    },
    {
      "cell_type": "code",
      "execution_count": null,
      "metadata": {
        "id": "Z52g36DDbmvP"
      },
      "outputs": [],
      "source": [
        "#기본(pre-requisite) 코드\n",
        "#이전 장인 Dataset과 DataLoader와 신경망 모델 구성하기에서 코드를 가져왔습니다.\n",
        "\n",
        "import torch\n",
        "from torch import nn\n",
        "from torch.utils.data import DataLoader\n",
        "from torchvision import datasets\n",
        "from torchvision.transforms import ToTensor\n",
        "\n",
        "device=(\n",
        "    \"cuda\"\n",
        "    if torch.cuda.is_available()\n",
        "    else \"mps\"\n",
        "    if torch.backends.mps.is_available()\n",
        "    else \"cpu\"\n",
        ")\n",
        "training_data = datasets.FashionMNIST(\n",
        "    root = \".\",\n",
        "    train = True,\n",
        "    download = True,\n",
        "    transform=ToTensor()\n",
        ")\n",
        "\n",
        "test_data = datasets.FashionMNIST(\n",
        "    root=\".\",\n",
        "    train=False,\n",
        "    download = True,\n",
        "    transform=ToTensor()\n",
        ")\n",
        "\n",
        "train_dataloader = DataLoader(training_data, batch_size=64)\n",
        "test_dataloader = DataLoader(test_data, batch_size=64)\n",
        "\n",
        "class NeuralNetwork(nn.Module):\n",
        "    def __init__(self):\n",
        "        super(NeuralNetwork, self).__init__()\n",
        "        self.flatten = nn.Flatten()\n",
        "        self.linear_relu_stack=nn.Sequential(\n",
        "            nn.Linear(28*28, 512),\n",
        "            nn.ReLU(),\n",
        "            nn.Linear(512, 512),\n",
        "            nn.ReLU(),\n",
        "            nn.Linear(512, 10)\n",
        "        )\n",
        "    def forward(self, x):\n",
        "        x = self.flatten(x)\n",
        "        logits = self.linear_relu_stack(x)\n",
        "        return logits\n",
        "\n",
        "model=NeuralNetwork().to(device)"
      ]
    },
    {
      "cell_type": "markdown",
      "source": [
        "## **하이퍼파라미터(Hyperparameter)**\n",
        "\n",
        "하이퍼 파라미터는 파라미터와 구분되어, 사용자가 딥러닝을 위해 설정하는 조절 가능한 값들을 모두 지칭한다. 모델 최적화 과정을 제어할 수 있고, 서로 다른 하이퍼 파라미터 값은 모델 학습과 수렴율(convergence rate)에 영향을 미칠 수 있다.\n",
        "\n",
        "### **[학습 시 정의되는 하이퍼파라미터]**\n",
        "- **epoch 수:** 데이터 셋을 반복하는 횟수\n",
        "- **batch size:** 매개변수가 갱신되기 전 신경망을 통해 전파된 데이터 샘플의 수\n",
        "- **학습률(learning rate):** 각 batch 또는 epoch에서 모델의 매개변수를 조절하는 비율. 값이 작을수록 학습 속도가 느려지고, 값이 크면 학습 중 예측할 수 없는 동작이 발생할 수 있음."
      ],
      "metadata": {
        "id": "H_ndXC5l1Ny1"
      }
    },
    {
      "cell_type": "code",
      "source": [
        "learning_rate = 1e-3\n",
        "batch_size = 64\n",
        "epochs = 5"
      ],
      "metadata": {
        "id": "1q_0Tzxk3XmW"
      },
      "execution_count": null,
      "outputs": []
    },
    {
      "cell_type": "markdown",
      "source": [
        "## **최적화 단계(Optimization Loop)**\n",
        "\n",
        "하이퍼 파라미터를 설정한 뒤, 최적화 단계를 통해 모델을 학습하고 최적화할 수 있다. 최적화 단계의 각 반복(iteration)을 epoch라고 한다.\n",
        "\n",
        "하나의 epoch은 2가지 단계로 나누어진다.\n",
        "- **학습 단계(train loop):** 학습용 데이터셋을 반복하고 최적의 매개변수로 수렴\n",
        "- **검증/테스트 단계(validation/test loop):** 모델 성능이 개선되고 있는지 확인을 위해 테스트 데이터셋 반복\n",
        "\n",
        "학습 단계에서 알아야 하는 몇 가지 개념들을 간략히 알아보자.\n",
        "\n",
        "<br><br>\n",
        "\n",
        "### **손실 함수(loss function)**\n",
        "\n",
        "학습용 데이터를 학습되지 않은 신경망에 넣었을 때, 정답인 결과를 얻기는 어렵다. 정답에 가까운 결과를 얻기 위해, **학습을 통해 획득한 결과와 실제 값 사이의 틀린 정도(degree of dissimilarity)를 측정**하는데(loss), 이를 측정하는 함수가 손실 함수이다. loss값을 최소화(0에 거의 수렴)하는 것이 목표이다.\n",
        "\n",
        "일반적으로 쓰이는 손실함수로는 회귀 문제(regression task, 예측 결과가 연속성을 지님)에 쓰이는 **nn.MSELoss**(평균 제곱 오차(MSE; Mean Square Error))나 분류(classification)에 사용하는 **nn.NLLLoss**(Negative Log Likelihood), 그리고 nn.LogSoftmax와 nn.NLLLoss를 합친 **nn.CrossEntropyLoss**등이 있다.\n"
      ],
      "metadata": {
        "id": "KYd_H2VF3W19"
      }
    },
    {
      "cell_type": "code",
      "source": [
        "#모델의 출력 logit을 nn.CrossEntropyLoss에 전달하여,\n",
        "#logit을 정규화하고 예측 오류를 계산합니다.\n",
        "loss_fn = nn.CrossEntropyLoss()"
      ],
      "metadata": {
        "id": "-lvmTy-J62xm"
      },
      "execution_count": null,
      "outputs": []
    },
    {
      "cell_type": "markdown",
      "source": [
        "### **옵티마이저(Optimizer)**\n",
        "최적화란, 각 학습 단계에서 loss를 줄이기 위해 모델의 매개변수를 조정하는 과정을 말한다. 최적화 알고리즘은 이 과정이 수행되는 방식을 정의한다.\n",
        "\n",
        "모든 최적화 절차(logic)은 optimizer객체에 캡슐화(encapsulate)되며, PyTorch에서는 ADAM이나 RMSProp과 같은 다양한 옵티마이저를 제공하고 있다."
      ],
      "metadata": {
        "id": "nCBj6ju_7FGw"
      }
    },
    {
      "cell_type": "code",
      "source": [
        "#확률적 경사하강법(SGD, Stochastic Gradient Descent)를 최적화 함수로 사용.\n",
        "#학습하려는 모델의 매개변수와 학습률을 등록하여 옵티마이저를 초기화 합니다.\n",
        "optimizer = torch.optim.SGD(model.parameters(), lr=learning_rate)"
      ],
      "metadata": {
        "id": "lAqzgUdQ7vvk"
      },
      "execution_count": null,
      "outputs": []
    },
    {
      "cell_type": "markdown",
      "source": [
        "학습 단계(loop)에서 최적화는 3단계로 이뤄진다.\n",
        "1. ***optimizer.zero_grad()* 호출해서 모델 매개변수의 gradient 값 재설정.**\n",
        "    >변화도는 기본적으로 더해지기(add up)때문에 중복 계산을 막기 위해 반복할 때 마다 0으로 initialize 함.\n",
        "2. ***loss.bacwards()*로 예측 손실(prediction loss) 역전파.**\n",
        "    >PyTorch는 각 매개변수에 대한 손실 변화도를 저장함.\n",
        "\n",
        "3. **Gradient 계산 뒤 *optimizer.step()*을 호출, 역전파 단계에서 수집된 기울기값으로 매개변수 조정**"
      ],
      "metadata": {
        "id": "v3AdJ_PW8Uo5"
      }
    },
    {
      "cell_type": "markdown",
      "source": [
        "## **전체 구현**\n",
        "\n",
        "아래는 최적화 코드를 반복하여 수행하는 train_loop와 테스트 데이터로 모델의 성능을 측정하는 test_loop를 정의한 코드이다."
      ],
      "metadata": {
        "id": "GtC4nbuJ992A"
      }
    },
    {
      "cell_type": "code",
      "source": [
        "def train_loop(dataloader, model, loss_fn, optimizer):\n",
        "    size = len(dataloader.dataset)\n",
        "    for batch, (X,y) in enumerate(dataloader):\n",
        "        # 예측(ptrediction)과 손실(loss) 계산\n",
        "        pred = model(X)\n",
        "        loss = loss_fn(pred, y)\n",
        "\n",
        "        # 역전파\n",
        "        optimizer.zero_grad()\n",
        "        loss.backward()\n",
        "        optimizer.step()\n",
        "\n",
        "        if batch % 100 == 0:\n",
        "            loss, current = loss.item(), (batch+1)*len(X)\n",
        "            print(f\"loss: {loss:>7f}  [{current:>5d}/{size:>5d}]\")\n",
        "\n",
        "def test_loop(dataloader, model, loss_fn):\n",
        "    size = len(dataloader.dataset)\n",
        "    num_batches = len(dataloader)\n",
        "    test_loss, correct =0, 0\n",
        "\n",
        "    with torch.no_grad():\n",
        "        for X, y in dataloader:\n",
        "            pred = model(X)\n",
        "            test_loss += loss_fn(pred, y).item()\n",
        "            correct += (pred.argmax(1) == y).type(torch.float).sum().item()\n",
        "\n",
        "    test_loss /= num_batches\n",
        "    correct /= size\n",
        "    print(f\"Test Error: \\n Accuracy: {(100*correct):>0.1f}%, Avg loss: {test_loss:>8f} \\n\")"
      ],
      "metadata": {
        "id": "gcc5ijGr-L9S"
      },
      "execution_count": null,
      "outputs": []
    },
    {
      "cell_type": "markdown",
      "source": [
        "손실 함수와 옵티마이저를 초기화하고, train_loop와 test_loop에 전달한다. 모델의 성능 향상을 알아보기 위해, 자유롭게 epoch수를 증가시킬 수 있다."
      ],
      "metadata": {
        "id": "1928gc-bAQxl"
      }
    },
    {
      "cell_type": "code",
      "source": [
        "loss_fn = nn.CrossEntropyLoss()\n",
        "optimizer = torch.optim.SGD(model.parameters(), lr=learning_rate)\n",
        "\n",
        "epochs = 10\n",
        "for t in range(epochs):\n",
        "    print(f\"Epoch {t+1}\\n----------------------\")\n",
        "    train_loop(train_dataloader, model, loss_fn, optimizer)\n",
        "    test_loop(test_dataloader, model, loss_fn)\n",
        "\n",
        "print(\"Done!\")"
      ],
      "metadata": {
        "colab": {
          "base_uri": "https://localhost:8080/"
        },
        "id": "D0vOMYrUAZMm",
        "outputId": "b9a59e1c-4824-4e5a-f8bf-ea0436fb6055"
      },
      "execution_count": null,
      "outputs": [
        {
          "output_type": "stream",
          "name": "stdout",
          "text": [
            "Epoch 1\n",
            "----------------------\n",
            "loss: 2.302871  [   64/60000]\n",
            "loss: 2.287245  [ 6464/60000]\n",
            "loss: 2.261708  [12864/60000]\n",
            "loss: 2.251158  [19264/60000]\n",
            "loss: 2.235386  [25664/60000]\n",
            "loss: 2.199327  [32064/60000]\n",
            "loss: 2.203393  [38464/60000]\n",
            "loss: 2.169182  [44864/60000]\n",
            "loss: 2.164755  [51264/60000]\n",
            "loss: 2.119562  [57664/60000]\n",
            "Test Error: \n",
            " Accuracy: 50.2%, Avg loss: 2.124042 \n",
            "\n",
            "Epoch 2\n",
            "----------------------\n",
            "loss: 2.137970  [   64/60000]\n",
            "loss: 2.120782  [ 6464/60000]\n",
            "loss: 2.054124  [12864/60000]\n",
            "loss: 2.072233  [19264/60000]\n",
            "loss: 2.016366  [25664/60000]\n",
            "loss: 1.950552  [32064/60000]\n",
            "loss: 1.970934  [38464/60000]\n",
            "loss: 1.887004  [44864/60000]\n",
            "loss: 1.895324  [51264/60000]\n",
            "loss: 1.808978  [57664/60000]\n",
            "Test Error: \n",
            " Accuracy: 60.3%, Avg loss: 1.818489 \n",
            "\n",
            "Epoch 3\n",
            "----------------------\n",
            "loss: 1.853732  [   64/60000]\n",
            "loss: 1.815678  [ 6464/60000]\n",
            "loss: 1.695454  [12864/60000]\n",
            "loss: 1.743981  [19264/60000]\n",
            "loss: 1.637595  [25664/60000]\n",
            "loss: 1.593030  [32064/60000]\n",
            "loss: 1.603603  [38464/60000]\n",
            "loss: 1.514144  [44864/60000]\n",
            "loss: 1.546116  [51264/60000]\n",
            "loss: 1.434854  [57664/60000]\n",
            "Test Error: \n",
            " Accuracy: 62.2%, Avg loss: 1.463631 \n",
            "\n",
            "Epoch 4\n",
            "----------------------\n",
            "loss: 1.526954  [   64/60000]\n",
            "loss: 1.495500  [ 6464/60000]\n",
            "loss: 1.349287  [12864/60000]\n",
            "loss: 1.428301  [19264/60000]\n",
            "loss: 1.311319  [25664/60000]\n",
            "loss: 1.311502  [32064/60000]\n",
            "loss: 1.314639  [38464/60000]\n",
            "loss: 1.249308  [44864/60000]\n",
            "loss: 1.290309  [51264/60000]\n",
            "loss: 1.188437  [57664/60000]\n",
            "Test Error: \n",
            " Accuracy: 63.5%, Avg loss: 1.219350 \n",
            "\n",
            "Epoch 5\n",
            "----------------------\n",
            "loss: 1.286297  [   64/60000]\n",
            "loss: 1.275052  [ 6464/60000]\n",
            "loss: 1.113376  [12864/60000]\n",
            "loss: 1.226729  [19264/60000]\n",
            "loss: 1.094539  [25664/60000]\n",
            "loss: 1.123536  [32064/60000]\n",
            "loss: 1.136163  [38464/60000]\n",
            "loss: 1.082415  [44864/60000]\n",
            "loss: 1.127934  [51264/60000]\n",
            "loss: 1.039929  [57664/60000]\n",
            "Test Error: \n",
            " Accuracy: 64.6%, Avg loss: 1.065347 \n",
            "\n",
            "Epoch 6\n",
            "----------------------\n",
            "loss: 1.123738  [   64/60000]\n",
            "loss: 1.134173  [ 6464/60000]\n",
            "loss: 0.956066  [12864/60000]\n",
            "loss: 1.098506  [19264/60000]\n",
            "loss: 0.959628  [25664/60000]\n",
            "loss: 0.996655  [32064/60000]\n",
            "loss: 1.026150  [38464/60000]\n",
            "loss: 0.977029  [44864/60000]\n",
            "loss: 1.019648  [51264/60000]\n",
            "loss: 0.946314  [57664/60000]\n",
            "Test Error: \n",
            " Accuracy: 66.1%, Avg loss: 0.965292 \n",
            "\n",
            "Epoch 7\n",
            "----------------------\n",
            "loss: 1.009461  [   64/60000]\n",
            "loss: 1.042361  [ 6464/60000]\n",
            "loss: 0.847453  [12864/60000]\n",
            "loss: 1.012300  [19264/60000]\n",
            "loss: 0.873074  [25664/60000]\n",
            "loss: 0.907468  [32064/60000]\n",
            "loss: 0.954526  [38464/60000]\n",
            "loss: 0.909165  [44864/60000]\n",
            "loss: 0.943325  [51264/60000]\n",
            "loss: 0.882690  [57664/60000]\n",
            "Test Error: \n",
            " Accuracy: 67.5%, Avg loss: 0.896767 \n",
            "\n",
            "Epoch 8\n",
            "----------------------\n",
            "loss: 0.925308  [   64/60000]\n",
            "loss: 0.978314  [ 6464/60000]\n",
            "loss: 0.769242  [12864/60000]\n",
            "loss: 0.950717  [19264/60000]\n",
            "loss: 0.814564  [25664/60000]\n",
            "loss: 0.842428  [32064/60000]\n",
            "loss: 0.903921  [38464/60000]\n",
            "loss: 0.864118  [44864/60000]\n",
            "loss: 0.887671  [51264/60000]\n",
            "loss: 0.836162  [57664/60000]\n",
            "Test Error: \n",
            " Accuracy: 68.6%, Avg loss: 0.847219 \n",
            "\n",
            "Epoch 9\n",
            "----------------------\n",
            "loss: 0.860788  [   64/60000]\n",
            "loss: 0.930134  [ 6464/60000]\n",
            "loss: 0.710592  [12864/60000]\n",
            "loss: 0.904480  [19264/60000]\n",
            "loss: 0.772652  [25664/60000]\n",
            "loss: 0.793666  [32064/60000]\n",
            "loss: 0.865241  [38464/60000]\n",
            "loss: 0.832776  [44864/60000]\n",
            "loss: 0.845990  [51264/60000]\n",
            "loss: 0.800303  [57664/60000]\n",
            "Test Error: \n",
            " Accuracy: 69.9%, Avg loss: 0.809506 \n",
            "\n",
            "Epoch 10\n",
            "----------------------\n",
            "loss: 0.809081  [   64/60000]\n",
            "loss: 0.891358  [ 6464/60000]\n",
            "loss: 0.664626  [12864/60000]\n",
            "loss: 0.868549  [19264/60000]\n",
            "loss: 0.740681  [25664/60000]\n",
            "loss: 0.755946  [32064/60000]\n",
            "loss: 0.833882  [38464/60000]\n",
            "loss: 0.809704  [44864/60000]\n",
            "loss: 0.813373  [51264/60000]\n",
            "loss: 0.771214  [57664/60000]\n",
            "Test Error: \n",
            " Accuracy: 71.3%, Avg loss: 0.779362 \n",
            "\n",
            "Done!\n"
          ]
        }
      ]
    }
  ]
}