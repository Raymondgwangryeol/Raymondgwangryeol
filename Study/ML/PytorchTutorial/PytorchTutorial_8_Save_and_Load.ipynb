{
 "cells": [
  {
   "cell_type": "markdown",
   "metadata": {
    "id": "kurGG93GBWCM"
   },
   "source": [
    "# **모델 저장하고 불러오기**\n",
    "\n",
    "\n",
    "---\n",
    "\n",
    "\n",
    "저장하기나 불러오기를 통해 모델의 상태를 유지(persist)하고 모델의 예측을 실행하는 방법을 알아보자."
   ]
  },
  {
   "cell_type": "code",
   "execution_count": null,
   "metadata": {
    "id": "kV9xp7d3BVGg"
   },
   "outputs": [],
   "source": [
    "import torch\n",
    "import torchvision.models as models"
   ]
  },
  {
   "cell_type": "markdown",
   "metadata": {
    "id": "bqKOBh5qBlKP"
   },
   "source": [
    "## **모델 가중치 저장하고 불러오기**\n",
    "\n",
    "PyTorch는 저장하고자 하는 모델의 학습한 매개변수를 *state_dict*라고 불리는 **내부 상태 사전**(internal state dictionary)에 저장한다. 이 상태 값들은 *torch.save* 메소드를 써서 저장(persist)할 수 있다."
   ]
  },
  {
   "cell_type": "code",
   "execution_count": null,
   "metadata": {
    "colab": {
     "base_uri": "https://localhost:8080/"
    },
    "id": "51fDgM4IB7kn",
    "outputId": "cf60247a-ceba-470f-f92f-a9e25d2cb7ca"
   },
   "outputs": [
    {
     "name": "stderr",
     "output_type": "stream",
     "text": [
      "Downloading: \"https://download.pytorch.org/models/vgg16-397923af.pth\" to /root/.cache/torch/hub/checkpoints/vgg16-397923af.pth\n",
      "100%|██████████| 528M/528M [00:06<00:00, 85.7MB/s]\n"
     ]
    }
   ],
   "source": [
    "model = models.vgg16(weights='IMAGENET1K_V1') #VGG16: 3*3 Convolution Layer가 겹겹이 쌓인 16층 구조.\n",
    "                                              #중간중간에 2*2 Pooling Layer 있음.\n",
    "                                              #이미지 분류에 좋은 성능을 보임\n",
    "torch.save(model.state_dict(), 'model_weights.pth')"
   ]
  },
  {
   "cell_type": "markdown",
   "metadata": {
    "id": "JR9nLF9eCuL-"
   },
   "source": [
    "모델 가중치를 불러오기 위해서, 먼저 동일한 모델의 instance를 생성한 뒤, *load_state_dict()* 메소드를 사용하여 매개변수들을 불러온다."
   ]
  },
  {
   "cell_type": "code",
   "execution_count": null,
   "metadata": {
    "colab": {
     "base_uri": "https://localhost:8080/"
    },
    "id": "rTPsGHheC62d",
    "outputId": "4e29add8-91bd-4f73-a8a1-3e48a09fd05a"
   },
   "outputs": [
    {
     "data": {
      "text/plain": [
       "VGG(\n",
       "  (features): Sequential(\n",
       "    (0): Conv2d(3, 64, kernel_size=(3, 3), stride=(1, 1), padding=(1, 1))\n",
       "    (1): ReLU(inplace=True)\n",
       "    (2): Conv2d(64, 64, kernel_size=(3, 3), stride=(1, 1), padding=(1, 1))\n",
       "    (3): ReLU(inplace=True)\n",
       "    (4): MaxPool2d(kernel_size=2, stride=2, padding=0, dilation=1, ceil_mode=False)\n",
       "    (5): Conv2d(64, 128, kernel_size=(3, 3), stride=(1, 1), padding=(1, 1))\n",
       "    (6): ReLU(inplace=True)\n",
       "    (7): Conv2d(128, 128, kernel_size=(3, 3), stride=(1, 1), padding=(1, 1))\n",
       "    (8): ReLU(inplace=True)\n",
       "    (9): MaxPool2d(kernel_size=2, stride=2, padding=0, dilation=1, ceil_mode=False)\n",
       "    (10): Conv2d(128, 256, kernel_size=(3, 3), stride=(1, 1), padding=(1, 1))\n",
       "    (11): ReLU(inplace=True)\n",
       "    (12): Conv2d(256, 256, kernel_size=(3, 3), stride=(1, 1), padding=(1, 1))\n",
       "    (13): ReLU(inplace=True)\n",
       "    (14): Conv2d(256, 256, kernel_size=(3, 3), stride=(1, 1), padding=(1, 1))\n",
       "    (15): ReLU(inplace=True)\n",
       "    (16): MaxPool2d(kernel_size=2, stride=2, padding=0, dilation=1, ceil_mode=False)\n",
       "    (17): Conv2d(256, 512, kernel_size=(3, 3), stride=(1, 1), padding=(1, 1))\n",
       "    (18): ReLU(inplace=True)\n",
       "    (19): Conv2d(512, 512, kernel_size=(3, 3), stride=(1, 1), padding=(1, 1))\n",
       "    (20): ReLU(inplace=True)\n",
       "    (21): Conv2d(512, 512, kernel_size=(3, 3), stride=(1, 1), padding=(1, 1))\n",
       "    (22): ReLU(inplace=True)\n",
       "    (23): MaxPool2d(kernel_size=2, stride=2, padding=0, dilation=1, ceil_mode=False)\n",
       "    (24): Conv2d(512, 512, kernel_size=(3, 3), stride=(1, 1), padding=(1, 1))\n",
       "    (25): ReLU(inplace=True)\n",
       "    (26): Conv2d(512, 512, kernel_size=(3, 3), stride=(1, 1), padding=(1, 1))\n",
       "    (27): ReLU(inplace=True)\n",
       "    (28): Conv2d(512, 512, kernel_size=(3, 3), stride=(1, 1), padding=(1, 1))\n",
       "    (29): ReLU(inplace=True)\n",
       "    (30): MaxPool2d(kernel_size=2, stride=2, padding=0, dilation=1, ceil_mode=False)\n",
       "  )\n",
       "  (avgpool): AdaptiveAvgPool2d(output_size=(7, 7))\n",
       "  (classifier): Sequential(\n",
       "    (0): Linear(in_features=25088, out_features=4096, bias=True)\n",
       "    (1): ReLU(inplace=True)\n",
       "    (2): Dropout(p=0.5, inplace=False)\n",
       "    (3): Linear(in_features=4096, out_features=4096, bias=True)\n",
       "    (4): ReLU(inplace=True)\n",
       "    (5): Dropout(p=0.5, inplace=False)\n",
       "    (6): Linear(in_features=4096, out_features=1000, bias=True)\n",
       "  )\n",
       ")"
      ]
     },
     "execution_count": 4,
     "metadata": {},
     "output_type": "execute_result"
    }
   ],
   "source": [
    "model = models.vgg16() #모델을 불러오기 위해,\n",
    "                      #학습되지 않은 동일한 구조의 instance 생성\n",
    "\n",
    "model.load_state_dict(torch.load('model_weights.pth'))\n",
    "model.eval() #추론하기 전, model.eval()메소드를 호출해,\n",
    "             #드롭아웃과 배치 정규화를 평가모드(evaluation mode)로 설정해야 함\n",
    "             #안 그러면 추론 결과가 일관성이 없게 나옴"
   ]
  },
  {
   "cell_type": "markdown",
   "metadata": {
    "id": "dOzqYgH8Dpq7"
   },
   "source": [
    "## **모델의 형태를 포함하여 저장하고 불러오기**\n",
    "\n",
    "모델 형태를 정의하고 있는 클래스의 구조를 모델과 함께 저장하고 싶으면, model.state_dict()가 아닌 **model을 통으로 저장함수에 전달**한다.\n",
    "\n",
    "이 접근 방식은 Python pickle 모듈을 사용하여 모델을 직렬화(serialize)하기 때문에, 모델을 불러올 때 실제 클래스 정의(definition)을 적용(rely on)한다.\n",
    "\n",
    "**pickle** - Python object serialization\n",
    ">The pickle module implements binary protocols for serializing and de-serializing a Python object structure"
   ]
  },
  {
   "cell_type": "code",
   "execution_count": null,
   "metadata": {
    "id": "V5HFLrGqFDYU"
   },
   "outputs": [],
   "source": [
    "#모델 저장하기\n",
    "torch.save(model, 'model.pth')\n",
    "\n",
    "#모델 불러오기\n",
    "model = torch.load('model.pth')"
   ]
  }
 ],
 "metadata": {
  "colab": {
   "provenance": []
  },
  "kernelspec": {
   "display_name": "Python 3",
   "language": "python",
   "name": "python3"
  },
  "language_info": {
   "codemirror_mode": {
    "name": "ipython",
    "version": 3
   },
   "file_extension": ".py",
   "mimetype": "text/x-python",
   "name": "python",
   "nbconvert_exporter": "python",
   "pygments_lexer": "ipython3",
   "version": "3.6.5"
  }
 },
 "nbformat": 4,
 "nbformat_minor": 1
}
