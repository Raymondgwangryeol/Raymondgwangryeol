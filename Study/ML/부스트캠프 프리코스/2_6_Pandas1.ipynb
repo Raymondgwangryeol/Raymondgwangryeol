{
  "cells": [
    {
      "cell_type": "markdown",
      "source": [
        "## **Pandas**\n",
        "- 테이블 형태의 data를 다루는데 최적화된 라이브러리.\n",
        "- 고성능 array 계산 라이브러리인 NumPy와 통합, 강력한 '스프레드시트' 처리 기능 제공\n",
        "- 데이터 처리 및 통계 분석을 위해 사용."
      ],
      "metadata": {
        "id": "NgCKrwwbTaBX"
      },
      "id": "NgCKrwwbTaBX"
    },
    {
      "cell_type": "code",
      "execution_count": null,
      "id": "65fe07f2-92af-4182-95bc-ccafe9ac36a4",
      "metadata": {
        "id": "65fe07f2-92af-4182-95bc-ccafe9ac36a4"
      },
      "outputs": [],
      "source": [
        "import numpy as np\n",
        "import pandas as pd"
      ]
    },
    {
      "cell_type": "markdown",
      "id": "0ae3606f-8520-4d00-9d78-ab57f87f839b",
      "metadata": {
        "id": "0ae3606f-8520-4d00-9d78-ab57f87f839b"
      },
      "source": [
        "### **Data Loading**"
      ]
    },
    {
      "cell_type": "code",
      "execution_count": null,
      "id": "bab26779-c32c-42ae-8e67-1e49c4b29b5e",
      "metadata": {
        "id": "bab26779-c32c-42ae-8e67-1e49c4b29b5e"
      },
      "outputs": [],
      "source": [
        "data_url = \"https://archive.ics.uci.edu/ml/machine-learning-databases/housing/housing.data\"\n",
        "df_data = pd.read_csv(data_url, sep='\\s+', header=None) # Seperate는 빈 공간(띄어쓰기)으로, Column은 가져오지 않음."
      ]
    },
    {
      "cell_type": "code",
      "execution_count": null,
      "id": "6ffe988f-3661-4eb2-b1d0-a66add9adafc",
      "metadata": {
        "id": "6ffe988f-3661-4eb2-b1d0-a66add9adafc",
        "outputId": "1b901eae-c2cb-4e9a-c26d-c9177a1e4bb7"
      },
      "outputs": [
        {
          "data": {
            "text/html": [
              "<div>\n",
              "<style scoped>\n",
              "    .dataframe tbody tr th:only-of-type {\n",
              "        vertical-align: middle;\n",
              "    }\n",
              "\n",
              "    .dataframe tbody tr th {\n",
              "        vertical-align: top;\n",
              "    }\n",
              "\n",
              "    .dataframe thead th {\n",
              "        text-align: right;\n",
              "    }\n",
              "</style>\n",
              "<table border=\"1\" class=\"dataframe\">\n",
              "  <thead>\n",
              "    <tr style=\"text-align: right;\">\n",
              "      <th></th>\n",
              "      <th>0</th>\n",
              "      <th>1</th>\n",
              "      <th>2</th>\n",
              "      <th>3</th>\n",
              "      <th>4</th>\n",
              "      <th>5</th>\n",
              "      <th>6</th>\n",
              "      <th>7</th>\n",
              "      <th>8</th>\n",
              "      <th>9</th>\n",
              "      <th>10</th>\n",
              "      <th>11</th>\n",
              "      <th>12</th>\n",
              "      <th>13</th>\n",
              "    </tr>\n",
              "  </thead>\n",
              "  <tbody>\n",
              "    <tr>\n",
              "      <th>0</th>\n",
              "      <td>0.00632</td>\n",
              "      <td>18.0</td>\n",
              "      <td>2.31</td>\n",
              "      <td>0</td>\n",
              "      <td>0.538</td>\n",
              "      <td>6.575</td>\n",
              "      <td>65.2</td>\n",
              "      <td>4.0900</td>\n",
              "      <td>1</td>\n",
              "      <td>296.0</td>\n",
              "      <td>15.3</td>\n",
              "      <td>396.90</td>\n",
              "      <td>4.98</td>\n",
              "      <td>24.0</td>\n",
              "    </tr>\n",
              "    <tr>\n",
              "      <th>1</th>\n",
              "      <td>0.02731</td>\n",
              "      <td>0.0</td>\n",
              "      <td>7.07</td>\n",
              "      <td>0</td>\n",
              "      <td>0.469</td>\n",
              "      <td>6.421</td>\n",
              "      <td>78.9</td>\n",
              "      <td>4.9671</td>\n",
              "      <td>2</td>\n",
              "      <td>242.0</td>\n",
              "      <td>17.8</td>\n",
              "      <td>396.90</td>\n",
              "      <td>9.14</td>\n",
              "      <td>21.6</td>\n",
              "    </tr>\n",
              "    <tr>\n",
              "      <th>2</th>\n",
              "      <td>0.02729</td>\n",
              "      <td>0.0</td>\n",
              "      <td>7.07</td>\n",
              "      <td>0</td>\n",
              "      <td>0.469</td>\n",
              "      <td>7.185</td>\n",
              "      <td>61.1</td>\n",
              "      <td>4.9671</td>\n",
              "      <td>2</td>\n",
              "      <td>242.0</td>\n",
              "      <td>17.8</td>\n",
              "      <td>392.83</td>\n",
              "      <td>4.03</td>\n",
              "      <td>34.7</td>\n",
              "    </tr>\n",
              "    <tr>\n",
              "      <th>3</th>\n",
              "      <td>0.03237</td>\n",
              "      <td>0.0</td>\n",
              "      <td>2.18</td>\n",
              "      <td>0</td>\n",
              "      <td>0.458</td>\n",
              "      <td>6.998</td>\n",
              "      <td>45.8</td>\n",
              "      <td>6.0622</td>\n",
              "      <td>3</td>\n",
              "      <td>222.0</td>\n",
              "      <td>18.7</td>\n",
              "      <td>394.63</td>\n",
              "      <td>2.94</td>\n",
              "      <td>33.4</td>\n",
              "    </tr>\n",
              "    <tr>\n",
              "      <th>4</th>\n",
              "      <td>0.06905</td>\n",
              "      <td>0.0</td>\n",
              "      <td>2.18</td>\n",
              "      <td>0</td>\n",
              "      <td>0.458</td>\n",
              "      <td>7.147</td>\n",
              "      <td>54.2</td>\n",
              "      <td>6.0622</td>\n",
              "      <td>3</td>\n",
              "      <td>222.0</td>\n",
              "      <td>18.7</td>\n",
              "      <td>396.90</td>\n",
              "      <td>5.33</td>\n",
              "      <td>36.2</td>\n",
              "    </tr>\n",
              "  </tbody>\n",
              "</table>\n",
              "</div>"
            ],
            "text/plain": [
              "        0     1     2   3      4      5     6       7   8      9     10  \\\n",
              "0  0.00632  18.0  2.31   0  0.538  6.575  65.2  4.0900   1  296.0  15.3   \n",
              "1  0.02731   0.0  7.07   0  0.469  6.421  78.9  4.9671   2  242.0  17.8   \n",
              "2  0.02729   0.0  7.07   0  0.469  7.185  61.1  4.9671   2  242.0  17.8   \n",
              "3  0.03237   0.0  2.18   0  0.458  6.998  45.8  6.0622   3  222.0  18.7   \n",
              "4  0.06905   0.0  2.18   0  0.458  7.147  54.2  6.0622   3  222.0  18.7   \n",
              "\n",
              "       11    12    13  \n",
              "0  396.90  4.98  24.0  \n",
              "1  396.90  9.14  21.6  \n",
              "2  392.83  4.03  34.7  \n",
              "3  394.63  2.94  33.4  \n",
              "4  396.90  5.33  36.2  "
            ]
          },
          "execution_count": 3,
          "metadata": {},
          "output_type": "execute_result"
        }
      ],
      "source": [
        "df_data.head() #처음 다섯줄 가져오기"
      ]
    },
    {
      "cell_type": "code",
      "execution_count": null,
      "id": "6f2c62c9-ded0-42e7-b1c4-510a0f21b3b2",
      "metadata": {
        "id": "6f2c62c9-ded0-42e7-b1c4-510a0f21b3b2",
        "outputId": "02647686-3418-4870-92b7-5e2c35e63b32"
      },
      "outputs": [
        {
          "data": {
            "text/html": [
              "<div>\n",
              "<style scoped>\n",
              "    .dataframe tbody tr th:only-of-type {\n",
              "        vertical-align: middle;\n",
              "    }\n",
              "\n",
              "    .dataframe tbody tr th {\n",
              "        vertical-align: top;\n",
              "    }\n",
              "\n",
              "    .dataframe thead th {\n",
              "        text-align: right;\n",
              "    }\n",
              "</style>\n",
              "<table border=\"1\" class=\"dataframe\">\n",
              "  <thead>\n",
              "    <tr style=\"text-align: right;\">\n",
              "      <th></th>\n",
              "      <th>CRIM</th>\n",
              "      <th>ZN</th>\n",
              "      <th>INDUS</th>\n",
              "      <th>CHAS</th>\n",
              "      <th>NOX</th>\n",
              "      <th>RM</th>\n",
              "      <th>AGE</th>\n",
              "      <th>DIS</th>\n",
              "      <th>RAD</th>\n",
              "      <th>TAX</th>\n",
              "      <th>PTRATIO</th>\n",
              "      <th>B</th>\n",
              "      <th>LSTAT</th>\n",
              "      <th>MEDV</th>\n",
              "    </tr>\n",
              "  </thead>\n",
              "  <tbody>\n",
              "    <tr>\n",
              "      <th>0</th>\n",
              "      <td>0.00632</td>\n",
              "      <td>18.0</td>\n",
              "      <td>2.31</td>\n",
              "      <td>0</td>\n",
              "      <td>0.538</td>\n",
              "      <td>6.575</td>\n",
              "      <td>65.2</td>\n",
              "      <td>4.0900</td>\n",
              "      <td>1</td>\n",
              "      <td>296.0</td>\n",
              "      <td>15.3</td>\n",
              "      <td>396.90</td>\n",
              "      <td>4.98</td>\n",
              "      <td>24.0</td>\n",
              "    </tr>\n",
              "    <tr>\n",
              "      <th>1</th>\n",
              "      <td>0.02731</td>\n",
              "      <td>0.0</td>\n",
              "      <td>7.07</td>\n",
              "      <td>0</td>\n",
              "      <td>0.469</td>\n",
              "      <td>6.421</td>\n",
              "      <td>78.9</td>\n",
              "      <td>4.9671</td>\n",
              "      <td>2</td>\n",
              "      <td>242.0</td>\n",
              "      <td>17.8</td>\n",
              "      <td>396.90</td>\n",
              "      <td>9.14</td>\n",
              "      <td>21.6</td>\n",
              "    </tr>\n",
              "    <tr>\n",
              "      <th>2</th>\n",
              "      <td>0.02729</td>\n",
              "      <td>0.0</td>\n",
              "      <td>7.07</td>\n",
              "      <td>0</td>\n",
              "      <td>0.469</td>\n",
              "      <td>7.185</td>\n",
              "      <td>61.1</td>\n",
              "      <td>4.9671</td>\n",
              "      <td>2</td>\n",
              "      <td>242.0</td>\n",
              "      <td>17.8</td>\n",
              "      <td>392.83</td>\n",
              "      <td>4.03</td>\n",
              "      <td>34.7</td>\n",
              "    </tr>\n",
              "    <tr>\n",
              "      <th>3</th>\n",
              "      <td>0.03237</td>\n",
              "      <td>0.0</td>\n",
              "      <td>2.18</td>\n",
              "      <td>0</td>\n",
              "      <td>0.458</td>\n",
              "      <td>6.998</td>\n",
              "      <td>45.8</td>\n",
              "      <td>6.0622</td>\n",
              "      <td>3</td>\n",
              "      <td>222.0</td>\n",
              "      <td>18.7</td>\n",
              "      <td>394.63</td>\n",
              "      <td>2.94</td>\n",
              "      <td>33.4</td>\n",
              "    </tr>\n",
              "    <tr>\n",
              "      <th>4</th>\n",
              "      <td>0.06905</td>\n",
              "      <td>0.0</td>\n",
              "      <td>2.18</td>\n",
              "      <td>0</td>\n",
              "      <td>0.458</td>\n",
              "      <td>7.147</td>\n",
              "      <td>54.2</td>\n",
              "      <td>6.0622</td>\n",
              "      <td>3</td>\n",
              "      <td>222.0</td>\n",
              "      <td>18.7</td>\n",
              "      <td>396.90</td>\n",
              "      <td>5.33</td>\n",
              "      <td>36.2</td>\n",
              "    </tr>\n",
              "  </tbody>\n",
              "</table>\n",
              "</div>"
            ],
            "text/plain": [
              "      CRIM    ZN  INDUS  CHAS    NOX     RM   AGE     DIS  RAD    TAX  \\\n",
              "0  0.00632  18.0   2.31     0  0.538  6.575  65.2  4.0900    1  296.0   \n",
              "1  0.02731   0.0   7.07     0  0.469  6.421  78.9  4.9671    2  242.0   \n",
              "2  0.02729   0.0   7.07     0  0.469  7.185  61.1  4.9671    2  242.0   \n",
              "3  0.03237   0.0   2.18     0  0.458  6.998  45.8  6.0622    3  222.0   \n",
              "4  0.06905   0.0   2.18     0  0.458  7.147  54.2  6.0622    3  222.0   \n",
              "\n",
              "   PTRATIO       B  LSTAT  MEDV  \n",
              "0     15.3  396.90   4.98  24.0  \n",
              "1     17.8  396.90   9.14  21.6  \n",
              "2     17.8  392.83   4.03  34.7  \n",
              "3     18.7  394.63   2.94  33.4  \n",
              "4     18.7  396.90   5.33  36.2  "
            ]
          },
          "execution_count": 4,
          "metadata": {},
          "output_type": "execute_result"
        }
      ],
      "source": [
        "#Colunm Header 이름 지정\n",
        "df_data.columns=['CRIM','ZN','INDUS','CHAS','NOX','RM','AGE','DIS','RAD','TAX','PTRATIO','B','LSTAT','MEDV']\n",
        "df_data.head()"
      ]
    },
    {
      "cell_type": "code",
      "execution_count": null,
      "id": "33bb3a77-2df7-438a-823d-7eccaf0de2be",
      "metadata": {
        "id": "33bb3a77-2df7-438a-823d-7eccaf0de2be"
      },
      "outputs": [],
      "source": [
        "#data를 NumPy로 가져올 수 있다.\n",
        "#df_data.values"
      ]
    },
    {
      "cell_type": "markdown",
      "id": "2c45b028-2e3d-4d95-ba2c-811b84cb22e5",
      "metadata": {
        "id": "2c45b028-2e3d-4d95-ba2c-811b84cb22e5"
      },
      "source": [
        "### **Series**\n",
        "- DataFrame중 하나의 Column에 해당하는 column vector를 표현하는 object\n",
        "- NumPy와 다른 점: Index값으로 value에 접근할 수 있고, index를 원하는 형태로 지정할 수 있다\n",
        "- numpy.ndarray의 subclass\n",
        "- Duplicate 가능"
      ]
    },
    {
      "cell_type": "code",
      "execution_count": null,
      "id": "c3d2be9c-c3d5-4155-9212-27186e483dcb",
      "metadata": {
        "id": "c3d2be9c-c3d5-4155-9212-27186e483dcb"
      },
      "outputs": [],
      "source": [
        "from pandas import Series, DataFrame"
      ]
    },
    {
      "cell_type": "code",
      "execution_count": null,
      "id": "f1f061d1-d8d5-4c47-9b2e-dec94bb2dbbc",
      "metadata": {
        "id": "f1f061d1-d8d5-4c47-9b2e-dec94bb2dbbc",
        "outputId": "6d77ee80-66cf-434a-f6ca-b75656102757"
      },
      "outputs": [
        {
          "data": {
            "text/plain": [
              "0    1\n",
              "1    2\n",
              "2    3\n",
              "3    4\n",
              "4    5\n",
              "dtype: int64"
            ]
          },
          "execution_count": 7,
          "metadata": {},
          "output_type": "execute_result"
        }
      ],
      "source": [
        "# Series는 NumPy를 series로 변환시켜주기 위한 wrapper\n",
        "data = [1,2,3,4,5]\n",
        "obj = Series(data = data)\n",
        "obj"
      ]
    },
    {
      "cell_type": "code",
      "execution_count": null,
      "id": "a7663575-2270-48dc-ae12-b4df48e17369",
      "metadata": {
        "id": "a7663575-2270-48dc-ae12-b4df48e17369",
        "outputId": "034f5052-12af-44b3-875f-cdfaa3ea6e8f"
      },
      "outputs": [
        {
          "data": {
            "text/plain": [
              "a    1\n",
              "b    2\n",
              "c    3\n",
              "d    4\n",
              "e    5\n",
              "dtype: int64"
            ]
          },
          "execution_count": 8,
          "metadata": {},
          "output_type": "execute_result"
        }
      ],
      "source": [
        "# index 지정\n",
        "index =  ['a','b','c','d','e']\n",
        "obj = Series(data=data, index=index) # 인덱스 이름을 지정\n",
        "obj"
      ]
    },
    {
      "cell_type": "code",
      "execution_count": null,
      "id": "19b4f072-f39c-440e-9b98-1f4fe2d3258c",
      "metadata": {
        "id": "19b4f072-f39c-440e-9b98-1f4fe2d3258c",
        "outputId": "942ea3d5-ba39-4728-cb26-122ab9dc0f14"
      },
      "outputs": [
        {
          "data": {
            "text/plain": [
              "Index(['a', 'b', 'c', 'd', 'e'], dtype='object')"
            ]
          },
          "execution_count": 9,
          "metadata": {},
          "output_type": "execute_result"
        }
      ],
      "source": [
        "# index 반환\n",
        "obj.index"
      ]
    },
    {
      "cell_type": "code",
      "execution_count": null,
      "id": "4f916f8f-5460-4357-aa28-39ed63e120c1",
      "metadata": {
        "id": "4f916f8f-5460-4357-aa28-39ed63e120c1",
        "outputId": "c9735808-f39a-418c-aa37-f00beb7e72f9"
      },
      "outputs": [
        {
          "data": {
            "text/plain": [
              "array([1, 2, 3, 4, 5], dtype=int64)"
            ]
          },
          "execution_count": 10,
          "metadata": {},
          "output_type": "execute_result"
        }
      ],
      "source": [
        "# values 반환\n",
        "obj.values"
      ]
    },
    {
      "cell_type": "code",
      "execution_count": null,
      "id": "a49812e0-9cfa-4148-b68d-1f1f94629703",
      "metadata": {
        "id": "a49812e0-9cfa-4148-b68d-1f1f94629703",
        "outputId": "113ad99f-3b38-465e-8f89-3d511ef8102a"
      },
      "outputs": [
        {
          "data": {
            "text/plain": [
              "numpy.ndarray"
            ]
          },
          "execution_count": 11,
          "metadata": {},
          "output_type": "execute_result"
        }
      ],
      "source": [
        "# value값은 numpy.ndarray\n",
        "type(obj.values)"
      ]
    },
    {
      "cell_type": "code",
      "execution_count": null,
      "id": "0f85a054-3630-4225-a5b1-668263c5e082",
      "metadata": {
        "id": "0f85a054-3630-4225-a5b1-668263c5e082",
        "outputId": "7d187ca4-286e-4048-9f42-f1814d31de1b"
      },
      "outputs": [
        {
          "data": {
            "text/plain": [
              "a    1.0\n",
              "b    2.0\n",
              "c    3.0\n",
              "d    4.0\n",
              "e    5.0\n",
              "Name: example_data, dtype: float32"
            ]
          },
          "execution_count": 14,
          "metadata": {},
          "output_type": "execute_result"
        }
      ],
      "source": [
        "dict_data = {'a':1, 'b':2, 'c':3, 'd':4, 'e':5}\n",
        "obj = Series(data=dict_data, dtype=np.float32, name='example_data')\n",
        "obj         #                데이터 타입 설정,  series 이름 설정\n",
        "obj"
      ]
    },
    {
      "cell_type": "code",
      "execution_count": null,
      "id": "86411db4-0476-4511-835f-9a3e37c7fccb",
      "metadata": {
        "id": "86411db4-0476-4511-835f-9a3e37c7fccb",
        "outputId": "9a876f2d-4f8c-4329-cbde-711e5ee3cdb6"
      },
      "outputs": [
        {
          "data": {
            "text/plain": [
              "1.0"
            ]
          },
          "execution_count": 15,
          "metadata": {},
          "output_type": "execute_result"
        }
      ],
      "source": [
        "# 인덱스 접근\n",
        "obj['a']"
      ]
    },
    {
      "cell_type": "code",
      "execution_count": null,
      "id": "00decb43-999b-4004-978c-66419dfe630a",
      "metadata": {
        "id": "00decb43-999b-4004-978c-66419dfe630a"
      },
      "outputs": [],
      "source": [
        "obj = obj.astype(float) #데이터 타입 float64로 변환\n",
        "#인덱스 값 할당\n",
        "obj['a']=3.2\n",
        "obj"
      ]
    },
    {
      "cell_type": "code",
      "source": [
        "# 값 리스트만\n",
        "obj.valuess"
      ],
      "metadata": {
        "id": "NfTzjQD_Ump6"
      },
      "id": "NfTzjQD_Ump6",
      "execution_count": null,
      "outputs": []
    },
    {
      "cell_type": "code",
      "source": [
        "# index 리스트만\n",
        "obj.index"
      ],
      "metadata": {
        "id": "l_NUHHKzUtKE"
      },
      "id": "l_NUHHKzUtKE",
      "execution_count": null,
      "outputs": []
    },
    {
      "cell_type": "markdown",
      "id": "09e28eed-be89-4477-8d5c-2f625b7c2842",
      "metadata": {
        "id": "09e28eed-be89-4477-8d5c-2f625b7c2842"
      },
      "source": [
        "#### **Serise Operation**"
      ]
    },
    {
      "cell_type": "code",
      "execution_count": null,
      "id": "8025eb04-62c6-4267-abdf-e719720cc2f0",
      "metadata": {
        "id": "8025eb04-62c6-4267-abdf-e719720cc2f0",
        "outputId": "ac7d3409-b2d1-4b0e-8934-33a3de30141c"
      },
      "outputs": [
        {
          "data": {
            "text/plain": [
              "a    1\n",
              "b    2\n",
              "c    3\n",
              "d    4\n",
              "e    5\n",
              "dtype: int64"
            ]
          },
          "execution_count": 37,
          "metadata": {},
          "output_type": "execute_result"
        }
      ],
      "source": [
        "s1 = Series(data=[1,2,3,4,5], index=list('abcde'))\n",
        "s1"
      ]
    },
    {
      "cell_type": "code",
      "execution_count": null,
      "id": "be9171f9-b514-4bb7-8fcd-1ad1c4a92faa",
      "metadata": {
        "id": "be9171f9-b514-4bb7-8fcd-1ad1c4a92faa",
        "outputId": "f108aee4-09e8-4017-aeb0-86009fb0467d"
      },
      "outputs": [
        {
          "data": {
            "text/plain": [
              "b     5\n",
              "c     6\n",
              "d     7\n",
              "e     8\n",
              "f     9\n",
              "e    10\n",
              "dtype: int64"
            ]
          },
          "execution_count": 38,
          "metadata": {},
          "output_type": "execute_result"
        }
      ],
      "source": [
        "# 인덱스 중복 가능\n",
        "s2 = Series(data=list(range(5,11)), index=list('bcdefe'))\n",
        "s2"
      ]
    },
    {
      "cell_type": "code",
      "execution_count": null,
      "id": "0bd70dca-4b18-4dda-b838-ee80c72b7ad4",
      "metadata": {
        "id": "0bd70dca-4b18-4dda-b838-ee80c72b7ad4",
        "outputId": "cba042fa-0f5a-467b-90f3-bf85f9388d45"
      },
      "outputs": [
        {
          "data": {
            "text/plain": [
              "a     NaN\n",
              "b     7.0\n",
              "c     9.0\n",
              "d    11.0\n",
              "e    13.0\n",
              "e    15.0\n",
              "f     NaN\n",
              "dtype: float64"
            ]
          },
          "execution_count": 39,
          "metadata": {},
          "output_type": "execute_result"
        }
      ],
      "source": [
        "#index를 기준으로 연산 수행\n",
        "#서로 없는 부분의 index 값은 NaN으로 채워진다.\n",
        "s1.add(s2)\n",
        "#s1+s2"
      ]
    },
    {
      "cell_type": "markdown",
      "id": "cca5a128-9a7f-4510-9152-cce4a7d92859",
      "metadata": {
        "id": "cca5a128-9a7f-4510-9152-cce4a7d92859"
      },
      "source": [
        "### **DataFrame**\n",
        "- DataTable 전체를 포함하는, Series를 모아서 만든 Object\n",
        "- 2차원\n",
        "- index 뿐 아니라 column값도 가지고 있다\n",
        "- Serise 별 data type으로 각자 다양한 종류의 dtype을 가질 수 있다"
      ]
    },
    {
      "cell_type": "code",
      "execution_count": null,
      "id": "78db6f72-bdd8-4baa-b7d4-08abcffc68ca",
      "metadata": {
        "id": "78db6f72-bdd8-4baa-b7d4-08abcffc68ca",
        "outputId": "2852abec-5dbf-408c-954a-8928f453a8b8"
      },
      "outputs": [
        {
          "data": {
            "text/html": [
              "<div>\n",
              "<style scoped>\n",
              "    .dataframe tbody tr th:only-of-type {\n",
              "        vertical-align: middle;\n",
              "    }\n",
              "\n",
              "    .dataframe tbody tr th {\n",
              "        vertical-align: top;\n",
              "    }\n",
              "\n",
              "    .dataframe thead th {\n",
              "        text-align: right;\n",
              "    }\n",
              "</style>\n",
              "<table border=\"1\" class=\"dataframe\">\n",
              "  <thead>\n",
              "    <tr style=\"text-align: right;\">\n",
              "      <th></th>\n",
              "      <th>first_name</th>\n",
              "      <th>last_name</th>\n",
              "      <th>age</th>\n",
              "      <th>city</th>\n",
              "    </tr>\n",
              "  </thead>\n",
              "  <tbody>\n",
              "    <tr>\n",
              "      <th>0</th>\n",
              "      <td>Jason</td>\n",
              "      <td>Miller</td>\n",
              "      <td>42</td>\n",
              "      <td>San Francisco</td>\n",
              "    </tr>\n",
              "    <tr>\n",
              "      <th>1</th>\n",
              "      <td>Molly</td>\n",
              "      <td>Jacoabson</td>\n",
              "      <td>52</td>\n",
              "      <td>Baltimore</td>\n",
              "    </tr>\n",
              "    <tr>\n",
              "      <th>2</th>\n",
              "      <td>Tina</td>\n",
              "      <td>Ail</td>\n",
              "      <td>36</td>\n",
              "      <td>Miami</td>\n",
              "    </tr>\n",
              "  </tbody>\n",
              "</table>\n",
              "</div>"
            ],
            "text/plain": [
              "  first_name  last_name  age           city\n",
              "0      Jason     Miller   42  San Francisco\n",
              "1      Molly  Jacoabson   52      Baltimore\n",
              "2       Tina        Ail   36          Miami"
            ]
          },
          "execution_count": 6,
          "metadata": {},
          "output_type": "execute_result"
        }
      ],
      "source": [
        "raw_data={'first_name':['Jason', 'Molly', 'Tina'],\n",
        "          'last_name':['Miller','Jacoabson','Ail'],\n",
        "          'age':[42,52,36],\n",
        "          'city':['San Francisco', 'Baltimore', 'Miami']}\n",
        "# column name = key값, data = value값\n",
        "df=pd.DataFrame(data=raw_data, columns=['first_name', 'last_name', 'age', 'city']) # columns: 컬럼 선택\n",
        "df"
      ]
    },
    {
      "cell_type": "code",
      "execution_count": null,
      "id": "93f6d03c-ed3d-4e7f-a292-aa861e761cbb",
      "metadata": {
        "id": "93f6d03c-ed3d-4e7f-a292-aa861e761cbb",
        "outputId": "3b06f3c2-2898-4c19-e569-8463c12e61ef"
      },
      "outputs": [
        {
          "data": {
            "text/plain": [
              "0    Jason\n",
              "1    Molly\n",
              "2     Tina\n",
              "Name: first_name, dtype: object"
            ]
          },
          "execution_count": 13,
          "metadata": {},
          "output_type": "execute_result"
        }
      ],
      "source": [
        "#dataframe index 접근\n",
        "df.first_name\n",
        "#df[\"first_name\"]"
      ]
    },
    {
      "cell_type": "code",
      "execution_count": null,
      "id": "8aa77adb-e53c-4d22-ab54-fcb17a9ce0ed",
      "metadata": {
        "id": "8aa77adb-e53c-4d22-ab54-fcb17a9ce0ed",
        "outputId": "e49255e9-3aaa-46ac-e542-abdebe40be40"
      },
      "outputs": [
        {
          "data": {
            "text/plain": [
              "pandas.core.series.Series"
            ]
          },
          "execution_count": 14,
          "metadata": {},
          "output_type": "execute_result"
        }
      ],
      "source": [
        "type(df.first_name)"
      ]
    },
    {
      "cell_type": "code",
      "source": [
        "# csv 변환\n",
        "df.to_csv('example.csv')"
      ],
      "metadata": {
        "id": "H0BRwM9jWOXu"
      },
      "id": "H0BRwM9jWOXu",
      "execution_count": null,
      "outputs": []
    },
    {
      "cell_type": "markdown",
      "id": "790a70c2-83f9-4661-873c-fe74cce1e154",
      "metadata": {
        "id": "790a70c2-83f9-4661-873c-fe74cce1e154"
      },
      "source": [
        "#### **DataFrame Indexing**"
      ]
    },
    {
      "cell_type": "markdown",
      "id": "3c99ac42-a688-4cad-81c3-a7cd2807428a",
      "metadata": {
        "id": "3c99ac42-a688-4cad-81c3-a7cd2807428a"
      },
      "source": [
        "#### **loc, iloc**\n",
        "- loc: 인덱스 이름 기준, 해당 인덱스 이름 까지 슬라이싱\n",
        "- iloc: 인덱스의 순서, 해당 번째 인덱스 전까지 슬라이싱"
      ]
    },
    {
      "cell_type": "code",
      "execution_count": null,
      "id": "c46d6807-02c9-443d-a582-f97b3d9d67d4",
      "metadata": {
        "id": "c46d6807-02c9-443d-a582-f97b3d9d67d4",
        "outputId": "7128377f-d30d-4616-c5f9-ea45acb7cb7f"
      },
      "outputs": [
        {
          "data": {
            "text/html": [
              "<div>\n",
              "<style scoped>\n",
              "    .dataframe tbody tr th:only-of-type {\n",
              "        vertical-align: middle;\n",
              "    }\n",
              "\n",
              "    .dataframe tbody tr th {\n",
              "        vertical-align: top;\n",
              "    }\n",
              "\n",
              "    .dataframe thead th {\n",
              "        text-align: right;\n",
              "    }\n",
              "</style>\n",
              "<table border=\"1\" class=\"dataframe\">\n",
              "  <thead>\n",
              "    <tr style=\"text-align: right;\">\n",
              "      <th></th>\n",
              "      <th>last_name</th>\n",
              "    </tr>\n",
              "  </thead>\n",
              "  <tbody>\n",
              "    <tr>\n",
              "      <th>0</th>\n",
              "      <td>Miller</td>\n",
              "    </tr>\n",
              "    <tr>\n",
              "      <th>1</th>\n",
              "      <td>Jacoabson</td>\n",
              "    </tr>\n",
              "    <tr>\n",
              "      <th>2</th>\n",
              "      <td>Ail</td>\n",
              "    </tr>\n",
              "  </tbody>\n",
              "</table>\n",
              "</div>"
            ],
            "text/plain": [
              "   last_name\n",
              "0     Miller\n",
              "1  Jacoabson\n",
              "2        Ail"
            ]
          },
          "execution_count": 15,
          "metadata": {},
          "output_type": "execute_result"
        }
      ],
      "source": [
        "df.loc[:,['last_name']] #list형태로 넣어줘야 함"
      ]
    },
    {
      "cell_type": "code",
      "execution_count": null,
      "id": "9dac060a-c9e9-4e10-894d-0c38fc7f57b6",
      "metadata": {
        "id": "9dac060a-c9e9-4e10-894d-0c38fc7f57b6",
        "outputId": "1a4468ce-dd5f-4259-9311-d56ce718152e"
      },
      "outputs": [
        {
          "data": {
            "text/plain": [
              "1    52\n",
              "2    36\n",
              "Name: age, dtype: int64"
            ]
          },
          "execution_count": 16,
          "metadata": {},
          "output_type": "execute_result"
        }
      ],
      "source": [
        "df['age'].iloc[1:]"
      ]
    },
    {
      "cell_type": "code",
      "execution_count": null,
      "id": "1438faef-6fd0-4df0-9a80-123e79d2d59d",
      "metadata": {
        "id": "1438faef-6fd0-4df0-9a80-123e79d2d59d",
        "outputId": "5f3a076e-133a-41c9-a3f8-cfd49c9d3eb7"
      },
      "outputs": [
        {
          "data": {
            "text/html": [
              "<div>\n",
              "<style scoped>\n",
              "    .dataframe tbody tr th:only-of-type {\n",
              "        vertical-align: middle;\n",
              "    }\n",
              "\n",
              "    .dataframe tbody tr th {\n",
              "        vertical-align: top;\n",
              "    }\n",
              "\n",
              "    .dataframe thead th {\n",
              "        text-align: right;\n",
              "    }\n",
              "</style>\n",
              "<table border=\"1\" class=\"dataframe\">\n",
              "  <thead>\n",
              "    <tr style=\"text-align: right;\">\n",
              "      <th></th>\n",
              "      <th>first_name</th>\n",
              "      <th>last_name</th>\n",
              "      <th>age</th>\n",
              "      <th>city</th>\n",
              "      <th>debt</th>\n",
              "    </tr>\n",
              "  </thead>\n",
              "  <tbody>\n",
              "    <tr>\n",
              "      <th>0</th>\n",
              "      <td>Jason</td>\n",
              "      <td>Miller</td>\n",
              "      <td>42</td>\n",
              "      <td>San Francisco</td>\n",
              "      <td>NaN</td>\n",
              "    </tr>\n",
              "    <tr>\n",
              "      <th>1</th>\n",
              "      <td>Molly</td>\n",
              "      <td>Jacoabson</td>\n",
              "      <td>52</td>\n",
              "      <td>Baltimore</td>\n",
              "      <td>NaN</td>\n",
              "    </tr>\n",
              "    <tr>\n",
              "      <th>2</th>\n",
              "      <td>Tina</td>\n",
              "      <td>Ail</td>\n",
              "      <td>36</td>\n",
              "      <td>Miami</td>\n",
              "      <td>NaN</td>\n",
              "    </tr>\n",
              "  </tbody>\n",
              "</table>\n",
              "</div>"
            ],
            "text/plain": [
              "  first_name  last_name  age           city debt\n",
              "0      Jason     Miller   42  San Francisco  NaN\n",
              "1      Molly  Jacoabson   52      Baltimore  NaN\n",
              "2       Tina        Ail   36          Miami  NaN"
            ]
          },
          "execution_count": 17,
          "metadata": {},
          "output_type": "execute_result"
        }
      ],
      "source": [
        "# boolean data serise를 'dept' column에 삽입\n",
        "df = DataFrame(data=raw_data, columns=['first_name','last_name','age','city','debt'])\n",
        "df"
      ]
    },
    {
      "cell_type": "code",
      "execution_count": null,
      "id": "33de0f06-e8a8-4483-afdb-26adbaa50bc5",
      "metadata": {
        "id": "33de0f06-e8a8-4483-afdb-26adbaa50bc5",
        "outputId": "53b9c6db-937e-4399-8653-87d14f395a10"
      },
      "outputs": [
        {
          "data": {
            "text/html": [
              "<div>\n",
              "<style scoped>\n",
              "    .dataframe tbody tr th:only-of-type {\n",
              "        vertical-align: middle;\n",
              "    }\n",
              "\n",
              "    .dataframe tbody tr th {\n",
              "        vertical-align: top;\n",
              "    }\n",
              "\n",
              "    .dataframe thead th {\n",
              "        text-align: right;\n",
              "    }\n",
              "</style>\n",
              "<table border=\"1\" class=\"dataframe\">\n",
              "  <thead>\n",
              "    <tr style=\"text-align: right;\">\n",
              "      <th></th>\n",
              "      <th>first_name</th>\n",
              "      <th>last_name</th>\n",
              "      <th>age</th>\n",
              "      <th>city</th>\n",
              "      <th>debt</th>\n",
              "    </tr>\n",
              "  </thead>\n",
              "  <tbody>\n",
              "    <tr>\n",
              "      <th>0</th>\n",
              "      <td>Jason</td>\n",
              "      <td>Miller</td>\n",
              "      <td>42</td>\n",
              "      <td>San Francisco</td>\n",
              "      <td>True</td>\n",
              "    </tr>\n",
              "    <tr>\n",
              "      <th>1</th>\n",
              "      <td>Molly</td>\n",
              "      <td>Jacoabson</td>\n",
              "      <td>52</td>\n",
              "      <td>Baltimore</td>\n",
              "      <td>True</td>\n",
              "    </tr>\n",
              "    <tr>\n",
              "      <th>2</th>\n",
              "      <td>Tina</td>\n",
              "      <td>Ail</td>\n",
              "      <td>36</td>\n",
              "      <td>Miami</td>\n",
              "      <td>False</td>\n",
              "    </tr>\n",
              "  </tbody>\n",
              "</table>\n",
              "</div>"
            ],
            "text/plain": [
              "  first_name  last_name  age           city   debt\n",
              "0      Jason     Miller   42  San Francisco   True\n",
              "1      Molly  Jacoabson   52      Baltimore   True\n",
              "2       Tina        Ail   36          Miami  False"
            ]
          },
          "execution_count": 18,
          "metadata": {},
          "output_type": "execute_result"
        }
      ],
      "source": [
        "# column에 새로운 값 할당\n",
        "df.debt = df.age > 40\n",
        "df"
      ]
    },
    {
      "cell_type": "code",
      "execution_count": null,
      "id": "c17b526f-40e5-4dc3-b449-6688d014f90a",
      "metadata": {
        "id": "c17b526f-40e5-4dc3-b449-6688d014f90a",
        "outputId": "74951586-e5f1-49b3-ba2c-843a13f89107"
      },
      "outputs": [
        {
          "data": {
            "text/plain": [
              "0    M\n",
              "1    F\n",
              "dtype: object"
            ]
          },
          "execution_count": 19,
          "metadata": {},
          "output_type": "execute_result"
        }
      ],
      "source": [
        "values = Series(data=['M','F'], index=[0,1])\n",
        "values"
      ]
    },
    {
      "cell_type": "code",
      "execution_count": null,
      "id": "2fc35794-c506-4838-b020-d44eb52ffe9b",
      "metadata": {
        "id": "2fc35794-c506-4838-b020-d44eb52ffe9b",
        "outputId": "0975eaeb-006b-4679-f2a0-2f763d44f3f9"
      },
      "outputs": [
        {
          "data": {
            "text/html": [
              "<div>\n",
              "<style scoped>\n",
              "    .dataframe tbody tr th:only-of-type {\n",
              "        vertical-align: middle;\n",
              "    }\n",
              "\n",
              "    .dataframe tbody tr th {\n",
              "        vertical-align: top;\n",
              "    }\n",
              "\n",
              "    .dataframe thead th {\n",
              "        text-align: right;\n",
              "    }\n",
              "</style>\n",
              "<table border=\"1\" class=\"dataframe\">\n",
              "  <thead>\n",
              "    <tr style=\"text-align: right;\">\n",
              "      <th></th>\n",
              "      <th>first_name</th>\n",
              "      <th>last_name</th>\n",
              "      <th>age</th>\n",
              "      <th>city</th>\n",
              "      <th>debt</th>\n",
              "    </tr>\n",
              "  </thead>\n",
              "  <tbody>\n",
              "    <tr>\n",
              "      <th>0</th>\n",
              "      <td>Jason</td>\n",
              "      <td>Miller</td>\n",
              "      <td>42</td>\n",
              "      <td>San Francisco</td>\n",
              "      <td>True</td>\n",
              "    </tr>\n",
              "    <tr>\n",
              "      <th>1</th>\n",
              "      <td>Molly</td>\n",
              "      <td>Jacoabson</td>\n",
              "      <td>52</td>\n",
              "      <td>Baltimore</td>\n",
              "      <td>True</td>\n",
              "    </tr>\n",
              "    <tr>\n",
              "      <th>2</th>\n",
              "      <td>Tina</td>\n",
              "      <td>Ail</td>\n",
              "      <td>36</td>\n",
              "      <td>Miami</td>\n",
              "      <td>False</td>\n",
              "    </tr>\n",
              "  </tbody>\n",
              "</table>\n",
              "</div>"
            ],
            "text/plain": [
              "  first_name  last_name  age           city   debt\n",
              "0      Jason     Miller   42  San Francisco   True\n",
              "1      Molly  Jacoabson   52      Baltimore   True\n",
              "2       Tina        Ail   36          Miami  False"
            ]
          },
          "execution_count": 20,
          "metadata": {},
          "output_type": "execute_result"
        }
      ],
      "source": [
        "df"
      ]
    },
    {
      "cell_type": "code",
      "execution_count": null,
      "id": "90111db9-dbce-41f0-aa9b-558aea9f7ee4",
      "metadata": {
        "id": "90111db9-dbce-41f0-aa9b-558aea9f7ee4",
        "outputId": "b18fdaf8-03e6-4cb1-bdcf-686206a2b689"
      },
      "outputs": [
        {
          "data": {
            "text/html": [
              "<div>\n",
              "<style scoped>\n",
              "    .dataframe tbody tr th:only-of-type {\n",
              "        vertical-align: middle;\n",
              "    }\n",
              "\n",
              "    .dataframe tbody tr th {\n",
              "        vertical-align: top;\n",
              "    }\n",
              "\n",
              "    .dataframe thead th {\n",
              "        text-align: right;\n",
              "    }\n",
              "</style>\n",
              "<table border=\"1\" class=\"dataframe\">\n",
              "  <thead>\n",
              "    <tr style=\"text-align: right;\">\n",
              "      <th></th>\n",
              "      <th>first_name</th>\n",
              "      <th>last_name</th>\n",
              "      <th>age</th>\n",
              "      <th>city</th>\n",
              "      <th>debt</th>\n",
              "      <th>sex</th>\n",
              "    </tr>\n",
              "  </thead>\n",
              "  <tbody>\n",
              "    <tr>\n",
              "      <th>0</th>\n",
              "      <td>Jason</td>\n",
              "      <td>Miller</td>\n",
              "      <td>42</td>\n",
              "      <td>San Francisco</td>\n",
              "      <td>True</td>\n",
              "      <td>M</td>\n",
              "    </tr>\n",
              "    <tr>\n",
              "      <th>1</th>\n",
              "      <td>Molly</td>\n",
              "      <td>Jacoabson</td>\n",
              "      <td>52</td>\n",
              "      <td>Baltimore</td>\n",
              "      <td>True</td>\n",
              "      <td>F</td>\n",
              "    </tr>\n",
              "    <tr>\n",
              "      <th>2</th>\n",
              "      <td>Tina</td>\n",
              "      <td>Ail</td>\n",
              "      <td>36</td>\n",
              "      <td>Miami</td>\n",
              "      <td>False</td>\n",
              "      <td>NaN</td>\n",
              "    </tr>\n",
              "  </tbody>\n",
              "</table>\n",
              "</div>"
            ],
            "text/plain": [
              "  first_name  last_name  age           city   debt  sex\n",
              "0      Jason     Miller   42  San Francisco   True    M\n",
              "1      Molly  Jacoabson   52      Baltimore   True    F\n",
              "2       Tina        Ail   36          Miami  False  NaN"
            ]
          },
          "execution_count": 21,
          "metadata": {},
          "output_type": "execute_result"
        }
      ],
      "source": [
        "# index를 Series에서 지정해주지 않은 부분은 NaN값이 들어간다.\n",
        "df['sex'] = values # sex라는 필드를 만들고, values를 넣는다.\n",
        "df"
      ]
    },
    {
      "cell_type": "code",
      "execution_count": null,
      "id": "0719b3e4-1fd7-4b0a-a31b-bc919ed34589",
      "metadata": {
        "id": "0719b3e4-1fd7-4b0a-a31b-bc919ed34589",
        "outputId": "bd071c8d-cf98-455b-cb5d-74d3f5cb9eae"
      },
      "outputs": [
        {
          "data": {
            "text/html": [
              "<div>\n",
              "<style scoped>\n",
              "    .dataframe tbody tr th:only-of-type {\n",
              "        vertical-align: middle;\n",
              "    }\n",
              "\n",
              "    .dataframe tbody tr th {\n",
              "        vertical-align: top;\n",
              "    }\n",
              "\n",
              "    .dataframe thead th {\n",
              "        text-align: right;\n",
              "    }\n",
              "</style>\n",
              "<table border=\"1\" class=\"dataframe\">\n",
              "  <thead>\n",
              "    <tr style=\"text-align: right;\">\n",
              "      <th></th>\n",
              "      <th>first_name</th>\n",
              "      <th>last_name</th>\n",
              "      <th>age</th>\n",
              "      <th>city</th>\n",
              "      <th>sex</th>\n",
              "    </tr>\n",
              "  </thead>\n",
              "  <tbody>\n",
              "    <tr>\n",
              "      <th>0</th>\n",
              "      <td>Jason</td>\n",
              "      <td>Miller</td>\n",
              "      <td>42</td>\n",
              "      <td>San Francisco</td>\n",
              "      <td>M</td>\n",
              "    </tr>\n",
              "    <tr>\n",
              "      <th>1</th>\n",
              "      <td>Molly</td>\n",
              "      <td>Jacoabson</td>\n",
              "      <td>52</td>\n",
              "      <td>Baltimore</td>\n",
              "      <td>F</td>\n",
              "    </tr>\n",
              "    <tr>\n",
              "      <th>2</th>\n",
              "      <td>Tina</td>\n",
              "      <td>Ail</td>\n",
              "      <td>36</td>\n",
              "      <td>Miami</td>\n",
              "      <td>NaN</td>\n",
              "    </tr>\n",
              "  </tbody>\n",
              "</table>\n",
              "</div>"
            ],
            "text/plain": [
              "  first_name  last_name  age           city  sex\n",
              "0      Jason     Miller   42  San Francisco    M\n",
              "1      Molly  Jacoabson   52      Baltimore    F\n",
              "2       Tina        Ail   36          Miami  NaN"
            ]
          },
          "execution_count": 22,
          "metadata": {},
          "output_type": "execute_result"
        }
      ],
      "source": [
        "#column 삭제\n",
        "df.drop('debt', axis=1) # column기준"
      ]
    },
    {
      "cell_type": "code",
      "execution_count": null,
      "id": "86db19fd-9123-4216-a724-f20f07d61c33",
      "metadata": {
        "id": "86db19fd-9123-4216-a724-f20f07d61c33",
        "outputId": "040511d6-8be6-44fd-8361-6fcbf133c5c8"
      },
      "outputs": [
        {
          "data": {
            "text/html": [
              "<div>\n",
              "<style scoped>\n",
              "    .dataframe tbody tr th:only-of-type {\n",
              "        vertical-align: middle;\n",
              "    }\n",
              "\n",
              "    .dataframe tbody tr th {\n",
              "        vertical-align: top;\n",
              "    }\n",
              "\n",
              "    .dataframe thead th {\n",
              "        text-align: right;\n",
              "    }\n",
              "</style>\n",
              "<table border=\"1\" class=\"dataframe\">\n",
              "  <thead>\n",
              "    <tr style=\"text-align: right;\">\n",
              "      <th></th>\n",
              "      <th>first_name</th>\n",
              "      <th>last_name</th>\n",
              "      <th>age</th>\n",
              "      <th>city</th>\n",
              "      <th>debt</th>\n",
              "      <th>sex</th>\n",
              "    </tr>\n",
              "  </thead>\n",
              "  <tbody>\n",
              "    <tr>\n",
              "      <th>0</th>\n",
              "      <td>Jason</td>\n",
              "      <td>Miller</td>\n",
              "      <td>42</td>\n",
              "      <td>San Francisco</td>\n",
              "      <td>True</td>\n",
              "      <td>M</td>\n",
              "    </tr>\n",
              "    <tr>\n",
              "      <th>1</th>\n",
              "      <td>Molly</td>\n",
              "      <td>Jacoabson</td>\n",
              "      <td>52</td>\n",
              "      <td>Baltimore</td>\n",
              "      <td>True</td>\n",
              "      <td>F</td>\n",
              "    </tr>\n",
              "    <tr>\n",
              "      <th>2</th>\n",
              "      <td>Tina</td>\n",
              "      <td>Ail</td>\n",
              "      <td>36</td>\n",
              "      <td>Miami</td>\n",
              "      <td>False</td>\n",
              "      <td>NaN</td>\n",
              "    </tr>\n",
              "  </tbody>\n",
              "</table>\n",
              "</div>"
            ],
            "text/plain": [
              "  first_name  last_name  age           city   debt  sex\n",
              "0      Jason     Miller   42  San Francisco   True    M\n",
              "1      Molly  Jacoabson   52      Baltimore   True    F\n",
              "2       Tina        Ail   36          Miami  False  NaN"
            ]
          },
          "execution_count": 23,
          "metadata": {},
          "output_type": "execute_result"
        }
      ],
      "source": [
        "#df는 그대로\n",
        "df"
      ]
    },
    {
      "cell_type": "code",
      "execution_count": null,
      "id": "b127e7a0-0450-4dd1-a4c1-1cb12205d124",
      "metadata": {
        "id": "b127e7a0-0450-4dd1-a4c1-1cb12205d124",
        "outputId": "92ccfd4c-2f6e-4950-c693-7e54df93e11f"
      },
      "outputs": [
        {
          "data": {
            "text/html": [
              "<div>\n",
              "<style scoped>\n",
              "    .dataframe tbody tr th:only-of-type {\n",
              "        vertical-align: middle;\n",
              "    }\n",
              "\n",
              "    .dataframe tbody tr th {\n",
              "        vertical-align: top;\n",
              "    }\n",
              "\n",
              "    .dataframe thead th {\n",
              "        text-align: right;\n",
              "    }\n",
              "</style>\n",
              "<table border=\"1\" class=\"dataframe\">\n",
              "  <thead>\n",
              "    <tr style=\"text-align: right;\">\n",
              "      <th></th>\n",
              "      <th>first_name</th>\n",
              "      <th>last_name</th>\n",
              "      <th>age</th>\n",
              "      <th>city</th>\n",
              "      <th>sex</th>\n",
              "    </tr>\n",
              "  </thead>\n",
              "  <tbody>\n",
              "    <tr>\n",
              "      <th>0</th>\n",
              "      <td>Jason</td>\n",
              "      <td>Miller</td>\n",
              "      <td>42</td>\n",
              "      <td>San Francisco</td>\n",
              "      <td>M</td>\n",
              "    </tr>\n",
              "    <tr>\n",
              "      <th>1</th>\n",
              "      <td>Molly</td>\n",
              "      <td>Jacoabson</td>\n",
              "      <td>52</td>\n",
              "      <td>Baltimore</td>\n",
              "      <td>F</td>\n",
              "    </tr>\n",
              "    <tr>\n",
              "      <th>2</th>\n",
              "      <td>Tina</td>\n",
              "      <td>Ail</td>\n",
              "      <td>36</td>\n",
              "      <td>Miami</td>\n",
              "      <td>NaN</td>\n",
              "    </tr>\n",
              "  </tbody>\n",
              "</table>\n",
              "</div>"
            ],
            "text/plain": [
              "  first_name  last_name  age           city  sex\n",
              "0      Jason     Miller   42  San Francisco    M\n",
              "1      Molly  Jacoabson   52      Baltimore    F\n",
              "2       Tina        Ail   36          Miami  NaN"
            ]
          },
          "execution_count": 24,
          "metadata": {},
          "output_type": "execute_result"
        }
      ],
      "source": [
        "# del은 메모리에서 아예 삭제\n",
        "del df['debt']\n",
        "df"
      ]
    },
    {
      "cell_type": "code",
      "execution_count": null,
      "id": "968a8954-c182-4f9f-8f9d-84f652238c32",
      "metadata": {
        "id": "968a8954-c182-4f9f-8f9d-84f652238c32",
        "outputId": "6d14b9fb-6e34-4efd-e295-401a2f358d90"
      },
      "outputs": [
        {
          "data": {
            "text/html": [
              "<div>\n",
              "<style scoped>\n",
              "    .dataframe tbody tr th:only-of-type {\n",
              "        vertical-align: middle;\n",
              "    }\n",
              "\n",
              "    .dataframe tbody tr th {\n",
              "        vertical-align: top;\n",
              "    }\n",
              "\n",
              "    .dataframe thead th {\n",
              "        text-align: right;\n",
              "    }\n",
              "</style>\n",
              "<table border=\"1\" class=\"dataframe\">\n",
              "  <thead>\n",
              "    <tr style=\"text-align: right;\">\n",
              "      <th></th>\n",
              "      <th>Nevada</th>\n",
              "      <th>Ohio</th>\n",
              "    </tr>\n",
              "  </thead>\n",
              "  <tbody>\n",
              "    <tr>\n",
              "      <th>2001</th>\n",
              "      <td>2.4</td>\n",
              "      <td>1.7</td>\n",
              "    </tr>\n",
              "    <tr>\n",
              "      <th>2002</th>\n",
              "      <td>2.9</td>\n",
              "      <td>3.6</td>\n",
              "    </tr>\n",
              "    <tr>\n",
              "      <th>2000</th>\n",
              "      <td>NaN</td>\n",
              "      <td>1.5</td>\n",
              "    </tr>\n",
              "  </tbody>\n",
              "</table>\n",
              "</div>"
            ],
            "text/plain": [
              "      Nevada  Ohio\n",
              "2001     2.4   1.7\n",
              "2002     2.9   3.6\n",
              "2000     NaN   1.5"
            ]
          },
          "execution_count": 27,
          "metadata": {},
          "output_type": "execute_result"
        }
      ],
      "source": [
        "#'Nevada', 'Ohio'는 Column으로, 2000, 2001, 2002는 index값으로\n",
        "#JSON 데이터가 가끔 이렇게 넘어온다\n",
        "pop = {'Nevada':{2001: 2.4, 2002: 2.9}, 'Ohio':{2000: 1.5, 2001: 1.7, 2002: 3.6}}\n",
        "DataFrame(pop)"
      ]
    },
    {
      "cell_type": "markdown",
      "id": "df6073ca-0751-46f6-bf32-ba5b22c492ee",
      "metadata": {
        "id": "df6073ca-0751-46f6-bf32-ba5b22c492ee"
      },
      "source": [
        "### **Selection**"
      ]
    },
    {
      "cell_type": "markdown",
      "id": "971abcb9-7f61-4f46-920a-3337ccc4e385",
      "metadata": {
        "id": "971abcb9-7f61-4f46-920a-3337ccc4e385"
      },
      "source": [
        "엑셀 파일을 다루기 위한 xlrd설치"
      ]
    },
    {
      "cell_type": "code",
      "execution_count": null,
      "id": "f7d25a75-0dd9-48e7-a63b-3a6fbc5c09b5",
      "metadata": {
        "id": "f7d25a75-0dd9-48e7-a63b-3a6fbc5c09b5",
        "outputId": "7b7e059b-6491-4a4a-e646-6012c131d63a"
      },
      "outputs": [
        {
          "name": "stdout",
          "output_type": "stream",
          "text": [
            "Channels:\n",
            " - anaconda\n",
            " - defaults\n",
            "Platform: win-64\n",
            "Collecting package metadata (repodata.json): ...working... done\n",
            "Solving environment: ...working... done\n",
            "\n",
            "# All requested packages already installed.\n",
            "\n"
          ]
        }
      ],
      "source": [
        "!conda install --y -c anaconda xlrd"
      ]
    },
    {
      "cell_type": "code",
      "execution_count": null,
      "id": "c1c6d9d4-e9dc-4c68-a34f-dd9620a43c17",
      "metadata": {
        "id": "c1c6d9d4-e9dc-4c68-a34f-dd9620a43c17",
        "outputId": "5122750d-d8ad-4837-e375-703aa73af41b"
      },
      "outputs": [
        {
          "data": {
            "text/html": [
              "<div>\n",
              "<style scoped>\n",
              "    .dataframe tbody tr th:only-of-type {\n",
              "        vertical-align: middle;\n",
              "    }\n",
              "\n",
              "    .dataframe tbody tr th {\n",
              "        vertical-align: top;\n",
              "    }\n",
              "\n",
              "    .dataframe thead th {\n",
              "        text-align: right;\n",
              "    }\n",
              "</style>\n",
              "<table border=\"1\" class=\"dataframe\">\n",
              "  <thead>\n",
              "    <tr style=\"text-align: right;\">\n",
              "      <th></th>\n",
              "      <th>account</th>\n",
              "      <th>name</th>\n",
              "      <th>street</th>\n",
              "      <th>city</th>\n",
              "      <th>state</th>\n",
              "      <th>postal-code</th>\n",
              "      <th>Jan</th>\n",
              "      <th>Feb</th>\n",
              "      <th>Mar</th>\n",
              "    </tr>\n",
              "  </thead>\n",
              "  <tbody>\n",
              "    <tr>\n",
              "      <th>0</th>\n",
              "      <td>211829</td>\n",
              "      <td>Kerluke, Koepp and Hilpert</td>\n",
              "      <td>34456 Sean Highway</td>\n",
              "      <td>New Jaycob</td>\n",
              "      <td>Texas</td>\n",
              "      <td>28752</td>\n",
              "      <td>10000</td>\n",
              "      <td>62000</td>\n",
              "      <td>35000</td>\n",
              "    </tr>\n",
              "    <tr>\n",
              "      <th>1</th>\n",
              "      <td>320563</td>\n",
              "      <td>Walter-Trantow</td>\n",
              "      <td>1311 Alvis Tunnel</td>\n",
              "      <td>Port Khadijah</td>\n",
              "      <td>NorthCarolina</td>\n",
              "      <td>38365</td>\n",
              "      <td>95000</td>\n",
              "      <td>45000</td>\n",
              "      <td>35000</td>\n",
              "    </tr>\n",
              "    <tr>\n",
              "      <th>2</th>\n",
              "      <td>648336</td>\n",
              "      <td>Bashirian, Kunde and Price</td>\n",
              "      <td>62184 Schamberger Underpass Apt. 231</td>\n",
              "      <td>New Lilianland</td>\n",
              "      <td>Iowa</td>\n",
              "      <td>76517</td>\n",
              "      <td>91000</td>\n",
              "      <td>120000</td>\n",
              "      <td>35000</td>\n",
              "    </tr>\n",
              "    <tr>\n",
              "      <th>3</th>\n",
              "      <td>109996</td>\n",
              "      <td>D'Amore, Gleichner and Bode</td>\n",
              "      <td>155 Fadel Crescent Apt. 144</td>\n",
              "      <td>Hyattburgh</td>\n",
              "      <td>Maine</td>\n",
              "      <td>46021</td>\n",
              "      <td>45000</td>\n",
              "      <td>120000</td>\n",
              "      <td>10000</td>\n",
              "    </tr>\n",
              "    <tr>\n",
              "      <th>4</th>\n",
              "      <td>121213</td>\n",
              "      <td>Bauch-Goldner</td>\n",
              "      <td>7274 Marissa Common</td>\n",
              "      <td>Shanahanchester</td>\n",
              "      <td>California</td>\n",
              "      <td>49681</td>\n",
              "      <td>162000</td>\n",
              "      <td>120000</td>\n",
              "      <td>35000</td>\n",
              "    </tr>\n",
              "  </tbody>\n",
              "</table>\n",
              "</div>"
            ],
            "text/plain": [
              "   account                         name                                street  \\\n",
              "0   211829   Kerluke, Koepp and Hilpert                    34456 Sean Highway   \n",
              "1   320563               Walter-Trantow                     1311 Alvis Tunnel   \n",
              "2   648336   Bashirian, Kunde and Price  62184 Schamberger Underpass Apt. 231   \n",
              "3   109996  D'Amore, Gleichner and Bode           155 Fadel Crescent Apt. 144   \n",
              "4   121213                Bauch-Goldner                   7274 Marissa Common   \n",
              "\n",
              "              city          state  postal-code     Jan     Feb    Mar  \n",
              "0       New Jaycob          Texas        28752   10000   62000  35000  \n",
              "1    Port Khadijah  NorthCarolina        38365   95000   45000  35000  \n",
              "2   New Lilianland           Iowa        76517   91000  120000  35000  \n",
              "3       Hyattburgh          Maine        46021   45000  120000  10000  \n",
              "4  Shanahanchester     California        49681  162000  120000  35000  "
            ]
          },
          "execution_count": 3,
          "metadata": {},
          "output_type": "execute_result"
        }
      ],
      "source": [
        "df=pd.read_excel('./excel-comp-data.xlsx')\n",
        "df.head()"
      ]
    },
    {
      "cell_type": "code",
      "execution_count": null,
      "id": "8650ef27-1185-4ecb-8962-0f2903626865",
      "metadata": {
        "id": "8650ef27-1185-4ecb-8962-0f2903626865",
        "outputId": "87857f59-0395-496e-d016-be8e6b545578"
      },
      "outputs": [
        {
          "data": {
            "text/plain": [
              "0    211829\n",
              "1    320563\n",
              "2    648336\n",
              "Name: account, dtype: int64"
            ]
          },
          "execution_count": 4,
          "metadata": {},
          "output_type": "execute_result"
        }
      ],
      "source": [
        "# 한 개의 column 선택\n",
        "df['account'].head(3) # 그냥 넣어주면 serise형태로 뽑힌다"
      ]
    },
    {
      "cell_type": "code",
      "execution_count": null,
      "id": "2a416488-85b3-4722-b971-1596940149d9",
      "metadata": {
        "id": "2a416488-85b3-4722-b971-1596940149d9",
        "outputId": "f2df6010-08af-45a3-90bb-c9dd4dd84e86"
      },
      "outputs": [
        {
          "data": {
            "text/html": [
              "<div>\n",
              "<style scoped>\n",
              "    .dataframe tbody tr th:only-of-type {\n",
              "        vertical-align: middle;\n",
              "    }\n",
              "\n",
              "    .dataframe tbody tr th {\n",
              "        vertical-align: top;\n",
              "    }\n",
              "\n",
              "    .dataframe thead th {\n",
              "        text-align: right;\n",
              "    }\n",
              "</style>\n",
              "<table border=\"1\" class=\"dataframe\">\n",
              "  <thead>\n",
              "    <tr style=\"text-align: right;\">\n",
              "      <th></th>\n",
              "      <th>account</th>\n",
              "      <th>name</th>\n",
              "      <th>street</th>\n",
              "    </tr>\n",
              "  </thead>\n",
              "  <tbody>\n",
              "    <tr>\n",
              "      <th>0</th>\n",
              "      <td>211829</td>\n",
              "      <td>Kerluke, Koepp and Hilpert</td>\n",
              "      <td>34456 Sean Highway</td>\n",
              "    </tr>\n",
              "    <tr>\n",
              "      <th>1</th>\n",
              "      <td>320563</td>\n",
              "      <td>Walter-Trantow</td>\n",
              "      <td>1311 Alvis Tunnel</td>\n",
              "    </tr>\n",
              "    <tr>\n",
              "      <th>2</th>\n",
              "      <td>648336</td>\n",
              "      <td>Bashirian, Kunde and Price</td>\n",
              "      <td>62184 Schamberger Underpass Apt. 231</td>\n",
              "    </tr>\n",
              "  </tbody>\n",
              "</table>\n",
              "</div>"
            ],
            "text/plain": [
              "   account                        name                                street\n",
              "0   211829  Kerluke, Koepp and Hilpert                    34456 Sean Highway\n",
              "1   320563              Walter-Trantow                     1311 Alvis Tunnel\n",
              "2   648336  Bashirian, Kunde and Price  62184 Schamberger Underpass Apt. 231"
            ]
          },
          "execution_count": 6,
          "metadata": {},
          "output_type": "execute_result"
        }
      ],
      "source": [
        "# 한 개 이상의 column 선택\n",
        "df[['account', 'name', 'street']].head(3) # list 형태로 넣으면 dataframe으로 뽑힌다"
      ]
    },
    {
      "cell_type": "code",
      "execution_count": null,
      "id": "c5699852-59bd-43dc-9e3f-5793edd12ba8",
      "metadata": {
        "id": "c5699852-59bd-43dc-9e3f-5793edd12ba8",
        "outputId": "27b07dd5-b05b-4c55-cb83-7b1419d7623f"
      },
      "outputs": [
        {
          "data": {
            "text/html": [
              "<div>\n",
              "<style scoped>\n",
              "    .dataframe tbody tr th:only-of-type {\n",
              "        vertical-align: middle;\n",
              "    }\n",
              "\n",
              "    .dataframe tbody tr th {\n",
              "        vertical-align: top;\n",
              "    }\n",
              "\n",
              "    .dataframe thead th {\n",
              "        text-align: right;\n",
              "    }\n",
              "</style>\n",
              "<table border=\"1\" class=\"dataframe\">\n",
              "  <thead>\n",
              "    <tr style=\"text-align: right;\">\n",
              "      <th></th>\n",
              "      <th>0</th>\n",
              "      <th>1</th>\n",
              "      <th>2</th>\n",
              "      <th>3</th>\n",
              "      <th>4</th>\n",
              "    </tr>\n",
              "  </thead>\n",
              "  <tbody>\n",
              "    <tr>\n",
              "      <th>account</th>\n",
              "      <td>211829</td>\n",
              "      <td>320563</td>\n",
              "      <td>648336</td>\n",
              "      <td>109996</td>\n",
              "      <td>121213</td>\n",
              "    </tr>\n",
              "    <tr>\n",
              "      <th>name</th>\n",
              "      <td>Kerluke, Koepp and Hilpert</td>\n",
              "      <td>Walter-Trantow</td>\n",
              "      <td>Bashirian, Kunde and Price</td>\n",
              "      <td>D'Amore, Gleichner and Bode</td>\n",
              "      <td>Bauch-Goldner</td>\n",
              "    </tr>\n",
              "    <tr>\n",
              "      <th>street</th>\n",
              "      <td>34456 Sean Highway</td>\n",
              "      <td>1311 Alvis Tunnel</td>\n",
              "      <td>62184 Schamberger Underpass Apt. 231</td>\n",
              "      <td>155 Fadel Crescent Apt. 144</td>\n",
              "      <td>7274 Marissa Common</td>\n",
              "    </tr>\n",
              "    <tr>\n",
              "      <th>city</th>\n",
              "      <td>New Jaycob</td>\n",
              "      <td>Port Khadijah</td>\n",
              "      <td>New Lilianland</td>\n",
              "      <td>Hyattburgh</td>\n",
              "      <td>Shanahanchester</td>\n",
              "    </tr>\n",
              "    <tr>\n",
              "      <th>state</th>\n",
              "      <td>Texas</td>\n",
              "      <td>NorthCarolina</td>\n",
              "      <td>Iowa</td>\n",
              "      <td>Maine</td>\n",
              "      <td>California</td>\n",
              "    </tr>\n",
              "    <tr>\n",
              "      <th>postal-code</th>\n",
              "      <td>28752</td>\n",
              "      <td>38365</td>\n",
              "      <td>76517</td>\n",
              "      <td>46021</td>\n",
              "      <td>49681</td>\n",
              "    </tr>\n",
              "    <tr>\n",
              "      <th>Jan</th>\n",
              "      <td>10000</td>\n",
              "      <td>95000</td>\n",
              "      <td>91000</td>\n",
              "      <td>45000</td>\n",
              "      <td>162000</td>\n",
              "    </tr>\n",
              "    <tr>\n",
              "      <th>Feb</th>\n",
              "      <td>62000</td>\n",
              "      <td>45000</td>\n",
              "      <td>120000</td>\n",
              "      <td>120000</td>\n",
              "      <td>120000</td>\n",
              "    </tr>\n",
              "    <tr>\n",
              "      <th>Mar</th>\n",
              "      <td>35000</td>\n",
              "      <td>35000</td>\n",
              "      <td>35000</td>\n",
              "      <td>10000</td>\n",
              "      <td>35000</td>\n",
              "    </tr>\n",
              "  </tbody>\n",
              "</table>\n",
              "</div>"
            ],
            "text/plain": [
              "                                      0                  1  \\\n",
              "account                          211829             320563   \n",
              "name         Kerluke, Koepp and Hilpert     Walter-Trantow   \n",
              "street               34456 Sean Highway  1311 Alvis Tunnel   \n",
              "city                         New Jaycob      Port Khadijah   \n",
              "state                             Texas      NorthCarolina   \n",
              "postal-code                       28752              38365   \n",
              "Jan                               10000              95000   \n",
              "Feb                               62000              45000   \n",
              "Mar                               35000              35000   \n",
              "\n",
              "                                                2  \\\n",
              "account                                    648336   \n",
              "name                   Bashirian, Kunde and Price   \n",
              "street       62184 Schamberger Underpass Apt. 231   \n",
              "city                               New Lilianland   \n",
              "state                                        Iowa   \n",
              "postal-code                                 76517   \n",
              "Jan                                         91000   \n",
              "Feb                                        120000   \n",
              "Mar                                         35000   \n",
              "\n",
              "                                       3                    4  \n",
              "account                           109996               121213  \n",
              "name         D'Amore, Gleichner and Bode        Bauch-Goldner  \n",
              "street       155 Fadel Crescent Apt. 144  7274 Marissa Common  \n",
              "city                          Hyattburgh      Shanahanchester  \n",
              "state                              Maine           California  \n",
              "postal-code                        46021                49681  \n",
              "Jan                                45000               162000  \n",
              "Feb                               120000               120000  \n",
              "Mar                                10000                35000  "
            ]
          },
          "execution_count": 11,
          "metadata": {},
          "output_type": "execute_result"
        }
      ],
      "source": [
        "# Transpose\n",
        "# 더 깔끔하게 잘 볼 수 있다\n",
        "df.head().T"
      ]
    },
    {
      "cell_type": "markdown",
      "id": "94f84b83-a614-438b-93c2-f318e2d9d375",
      "metadata": {
        "id": "94f84b83-a614-438b-93c2-f318e2d9d375"
      },
      "source": [
        "#### **basic, loc, iloc selection**"
      ]
    },
    {
      "cell_type": "code",
      "execution_count": null,
      "id": "3cd660f9-00c8-4d92-ada6-6f07f167e884",
      "metadata": {
        "id": "3cd660f9-00c8-4d92-ada6-6f07f167e884",
        "outputId": "ad394063-4d96-499b-9e07-d44afe940016"
      },
      "outputs": [
        {
          "data": {
            "text/html": [
              "<div>\n",
              "<style scoped>\n",
              "    .dataframe tbody tr th:only-of-type {\n",
              "        vertical-align: middle;\n",
              "    }\n",
              "\n",
              "    .dataframe tbody tr th {\n",
              "        vertical-align: top;\n",
              "    }\n",
              "\n",
              "    .dataframe thead th {\n",
              "        text-align: right;\n",
              "    }\n",
              "</style>\n",
              "<table border=\"1\" class=\"dataframe\">\n",
              "  <thead>\n",
              "    <tr style=\"text-align: right;\">\n",
              "      <th></th>\n",
              "      <th>account</th>\n",
              "      <th>name</th>\n",
              "      <th>street</th>\n",
              "      <th>city</th>\n",
              "      <th>state</th>\n",
              "      <th>postal-code</th>\n",
              "      <th>Jan</th>\n",
              "      <th>Feb</th>\n",
              "      <th>Mar</th>\n",
              "    </tr>\n",
              "    <tr>\n",
              "      <th>account</th>\n",
              "      <th></th>\n",
              "      <th></th>\n",
              "      <th></th>\n",
              "      <th></th>\n",
              "      <th></th>\n",
              "      <th></th>\n",
              "      <th></th>\n",
              "      <th></th>\n",
              "      <th></th>\n",
              "    </tr>\n",
              "  </thead>\n",
              "  <tbody>\n",
              "    <tr>\n",
              "      <th>211829</th>\n",
              "      <td>211829</td>\n",
              "      <td>Kerluke, Koepp and Hilpert</td>\n",
              "      <td>34456 Sean Highway</td>\n",
              "      <td>New Jaycob</td>\n",
              "      <td>Texas</td>\n",
              "      <td>28752</td>\n",
              "      <td>10000</td>\n",
              "      <td>62000</td>\n",
              "      <td>35000</td>\n",
              "    </tr>\n",
              "    <tr>\n",
              "      <th>320563</th>\n",
              "      <td>320563</td>\n",
              "      <td>Walter-Trantow</td>\n",
              "      <td>1311 Alvis Tunnel</td>\n",
              "      <td>Port Khadijah</td>\n",
              "      <td>NorthCarolina</td>\n",
              "      <td>38365</td>\n",
              "      <td>95000</td>\n",
              "      <td>45000</td>\n",
              "      <td>35000</td>\n",
              "    </tr>\n",
              "    <tr>\n",
              "      <th>648336</th>\n",
              "      <td>648336</td>\n",
              "      <td>Bashirian, Kunde and Price</td>\n",
              "      <td>62184 Schamberger Underpass Apt. 231</td>\n",
              "      <td>New Lilianland</td>\n",
              "      <td>Iowa</td>\n",
              "      <td>76517</td>\n",
              "      <td>91000</td>\n",
              "      <td>120000</td>\n",
              "      <td>35000</td>\n",
              "    </tr>\n",
              "    <tr>\n",
              "      <th>109996</th>\n",
              "      <td>109996</td>\n",
              "      <td>D'Amore, Gleichner and Bode</td>\n",
              "      <td>155 Fadel Crescent Apt. 144</td>\n",
              "      <td>Hyattburgh</td>\n",
              "      <td>Maine</td>\n",
              "      <td>46021</td>\n",
              "      <td>45000</td>\n",
              "      <td>120000</td>\n",
              "      <td>10000</td>\n",
              "    </tr>\n",
              "    <tr>\n",
              "      <th>121213</th>\n",
              "      <td>121213</td>\n",
              "      <td>Bauch-Goldner</td>\n",
              "      <td>7274 Marissa Common</td>\n",
              "      <td>Shanahanchester</td>\n",
              "      <td>California</td>\n",
              "      <td>49681</td>\n",
              "      <td>162000</td>\n",
              "      <td>120000</td>\n",
              "      <td>35000</td>\n",
              "    </tr>\n",
              "  </tbody>\n",
              "</table>\n",
              "</div>"
            ],
            "text/plain": [
              "         account                         name  \\\n",
              "account                                         \n",
              "211829    211829   Kerluke, Koepp and Hilpert   \n",
              "320563    320563               Walter-Trantow   \n",
              "648336    648336   Bashirian, Kunde and Price   \n",
              "109996    109996  D'Amore, Gleichner and Bode   \n",
              "121213    121213                Bauch-Goldner   \n",
              "\n",
              "                                       street             city          state  \\\n",
              "account                                                                         \n",
              "211829                     34456 Sean Highway       New Jaycob          Texas   \n",
              "320563                      1311 Alvis Tunnel    Port Khadijah  NorthCarolina   \n",
              "648336   62184 Schamberger Underpass Apt. 231   New Lilianland           Iowa   \n",
              "109996            155 Fadel Crescent Apt. 144       Hyattburgh          Maine   \n",
              "121213                    7274 Marissa Common  Shanahanchester     California   \n",
              "\n",
              "         postal-code     Jan     Feb    Mar  \n",
              "account                                      \n",
              "211829         28752   10000   62000  35000  \n",
              "320563         38365   95000   45000  35000  \n",
              "648336         76517   91000  120000  35000  \n",
              "109996         46021   45000  120000  10000  \n",
              "121213         49681  162000  120000  35000  "
            ]
          },
          "execution_count": 18,
          "metadata": {},
          "output_type": "execute_result"
        }
      ],
      "source": [
        "#index 변경\n",
        "df.index = df['account']\n",
        "df.head()"
      ]
    },
    {
      "cell_type": "code",
      "execution_count": null,
      "id": "8f5d48c3-32ee-47c7-9ded-cc5584bcb4b7",
      "metadata": {
        "id": "8f5d48c3-32ee-47c7-9ded-cc5584bcb4b7",
        "outputId": "110d4d9b-323c-4be9-f77a-6bb70a85a504"
      },
      "outputs": [
        {
          "data": {
            "text/html": [
              "<div>\n",
              "<style scoped>\n",
              "    .dataframe tbody tr th:only-of-type {\n",
              "        vertical-align: middle;\n",
              "    }\n",
              "\n",
              "    .dataframe tbody tr th {\n",
              "        vertical-align: top;\n",
              "    }\n",
              "\n",
              "    .dataframe thead th {\n",
              "        text-align: right;\n",
              "    }\n",
              "</style>\n",
              "<table border=\"1\" class=\"dataframe\">\n",
              "  <thead>\n",
              "    <tr style=\"text-align: right;\">\n",
              "      <th></th>\n",
              "      <th>name</th>\n",
              "      <th>street</th>\n",
              "      <th>city</th>\n",
              "      <th>state</th>\n",
              "      <th>postal-code</th>\n",
              "      <th>Jan</th>\n",
              "      <th>Feb</th>\n",
              "      <th>Mar</th>\n",
              "    </tr>\n",
              "    <tr>\n",
              "      <th>account</th>\n",
              "      <th></th>\n",
              "      <th></th>\n",
              "      <th></th>\n",
              "      <th></th>\n",
              "      <th></th>\n",
              "      <th></th>\n",
              "      <th></th>\n",
              "      <th></th>\n",
              "    </tr>\n",
              "  </thead>\n",
              "  <tbody>\n",
              "    <tr>\n",
              "      <th>211829</th>\n",
              "      <td>Kerluke, Koepp and Hilpert</td>\n",
              "      <td>34456 Sean Highway</td>\n",
              "      <td>New Jaycob</td>\n",
              "      <td>Texas</td>\n",
              "      <td>28752</td>\n",
              "      <td>10000</td>\n",
              "      <td>62000</td>\n",
              "      <td>35000</td>\n",
              "    </tr>\n",
              "    <tr>\n",
              "      <th>320563</th>\n",
              "      <td>Walter-Trantow</td>\n",
              "      <td>1311 Alvis Tunnel</td>\n",
              "      <td>Port Khadijah</td>\n",
              "      <td>NorthCarolina</td>\n",
              "      <td>38365</td>\n",
              "      <td>95000</td>\n",
              "      <td>45000</td>\n",
              "      <td>35000</td>\n",
              "    </tr>\n",
              "    <tr>\n",
              "      <th>648336</th>\n",
              "      <td>Bashirian, Kunde and Price</td>\n",
              "      <td>62184 Schamberger Underpass Apt. 231</td>\n",
              "      <td>New Lilianland</td>\n",
              "      <td>Iowa</td>\n",
              "      <td>76517</td>\n",
              "      <td>91000</td>\n",
              "      <td>120000</td>\n",
              "      <td>35000</td>\n",
              "    </tr>\n",
              "    <tr>\n",
              "      <th>109996</th>\n",
              "      <td>D'Amore, Gleichner and Bode</td>\n",
              "      <td>155 Fadel Crescent Apt. 144</td>\n",
              "      <td>Hyattburgh</td>\n",
              "      <td>Maine</td>\n",
              "      <td>46021</td>\n",
              "      <td>45000</td>\n",
              "      <td>120000</td>\n",
              "      <td>10000</td>\n",
              "    </tr>\n",
              "    <tr>\n",
              "      <th>121213</th>\n",
              "      <td>Bauch-Goldner</td>\n",
              "      <td>7274 Marissa Common</td>\n",
              "      <td>Shanahanchester</td>\n",
              "      <td>California</td>\n",
              "      <td>49681</td>\n",
              "      <td>162000</td>\n",
              "      <td>120000</td>\n",
              "      <td>35000</td>\n",
              "    </tr>\n",
              "  </tbody>\n",
              "</table>\n",
              "</div>"
            ],
            "text/plain": [
              "                                name                                street  \\\n",
              "account                                                                      \n",
              "211829    Kerluke, Koepp and Hilpert                    34456 Sean Highway   \n",
              "320563                Walter-Trantow                     1311 Alvis Tunnel   \n",
              "648336    Bashirian, Kunde and Price  62184 Schamberger Underpass Apt. 231   \n",
              "109996   D'Amore, Gleichner and Bode           155 Fadel Crescent Apt. 144   \n",
              "121213                 Bauch-Goldner                   7274 Marissa Common   \n",
              "\n",
              "                    city          state  postal-code     Jan     Feb    Mar  \n",
              "account                                                                      \n",
              "211829        New Jaycob          Texas        28752   10000   62000  35000  \n",
              "320563     Port Khadijah  NorthCarolina        38365   95000   45000  35000  \n",
              "648336    New Lilianland           Iowa        76517   91000  120000  35000  \n",
              "109996        Hyattburgh          Maine        46021   45000  120000  10000  \n",
              "121213   Shanahanchester     California        49681  162000  120000  35000  "
            ]
          },
          "execution_count": 19,
          "metadata": {},
          "output_type": "execute_result"
        }
      ],
      "source": [
        "del df['account']\n",
        "df.head()"
      ]
    },
    {
      "cell_type": "code",
      "execution_count": null,
      "id": "b6f5a54f-cb77-4d33-9590-f07b047b2f84",
      "metadata": {
        "id": "b6f5a54f-cb77-4d33-9590-f07b047b2f84",
        "outputId": "691a415e-7be7-4e82-d66b-0ad6b6afa2ef"
      },
      "outputs": [
        {
          "data": {
            "text/html": [
              "<div>\n",
              "<style scoped>\n",
              "    .dataframe tbody tr th:only-of-type {\n",
              "        vertical-align: middle;\n",
              "    }\n",
              "\n",
              "    .dataframe tbody tr th {\n",
              "        vertical-align: top;\n",
              "    }\n",
              "\n",
              "    .dataframe thead th {\n",
              "        text-align: right;\n",
              "    }\n",
              "</style>\n",
              "<table border=\"1\" class=\"dataframe\">\n",
              "  <thead>\n",
              "    <tr style=\"text-align: right;\">\n",
              "      <th></th>\n",
              "      <th>name</th>\n",
              "      <th>street</th>\n",
              "    </tr>\n",
              "    <tr>\n",
              "      <th>account</th>\n",
              "      <th></th>\n",
              "      <th></th>\n",
              "    </tr>\n",
              "  </thead>\n",
              "  <tbody>\n",
              "    <tr>\n",
              "      <th>211829</th>\n",
              "      <td>Kerluke, Koepp and Hilpert</td>\n",
              "      <td>34456 Sean Highway</td>\n",
              "    </tr>\n",
              "    <tr>\n",
              "      <th>320563</th>\n",
              "      <td>Walter-Trantow</td>\n",
              "      <td>1311 Alvis Tunnel</td>\n",
              "    </tr>\n",
              "  </tbody>\n",
              "</table>\n",
              "</div>"
            ],
            "text/plain": [
              "                               name              street\n",
              "account                                                \n",
              "211829   Kerluke, Koepp and Hilpert  34456 Sean Highway\n",
              "320563               Walter-Trantow   1311 Alvis Tunnel"
            ]
          },
          "execution_count": 20,
          "metadata": {},
          "output_type": "execute_result"
        }
      ],
      "source": [
        "#basic\n",
        "df[['name','street']][:2]"
      ]
    },
    {
      "cell_type": "code",
      "execution_count": null,
      "id": "40e98f0f-2a14-4a14-ab2c-06293e58b52a",
      "metadata": {
        "id": "40e98f0f-2a14-4a14-ab2c-06293e58b52a",
        "outputId": "39201a43-d4bb-4a8e-fd14-159c96f53b3e"
      },
      "outputs": [
        {
          "data": {
            "text/html": [
              "<div>\n",
              "<style scoped>\n",
              "    .dataframe tbody tr th:only-of-type {\n",
              "        vertical-align: middle;\n",
              "    }\n",
              "\n",
              "    .dataframe tbody tr th {\n",
              "        vertical-align: top;\n",
              "    }\n",
              "\n",
              "    .dataframe thead th {\n",
              "        text-align: right;\n",
              "    }\n",
              "</style>\n",
              "<table border=\"1\" class=\"dataframe\">\n",
              "  <thead>\n",
              "    <tr style=\"text-align: right;\">\n",
              "      <th></th>\n",
              "      <th>name</th>\n",
              "      <th>street</th>\n",
              "    </tr>\n",
              "    <tr>\n",
              "      <th>account</th>\n",
              "      <th></th>\n",
              "      <th></th>\n",
              "    </tr>\n",
              "  </thead>\n",
              "  <tbody>\n",
              "    <tr>\n",
              "      <th>211829</th>\n",
              "      <td>Kerluke, Koepp and Hilpert</td>\n",
              "      <td>34456 Sean Highway</td>\n",
              "    </tr>\n",
              "    <tr>\n",
              "      <th>320563</th>\n",
              "      <td>Walter-Trantow</td>\n",
              "      <td>1311 Alvis Tunnel</td>\n",
              "    </tr>\n",
              "  </tbody>\n",
              "</table>\n",
              "</div>"
            ],
            "text/plain": [
              "                               name              street\n",
              "account                                                \n",
              "211829   Kerluke, Koepp and Hilpert  34456 Sean Highway\n",
              "320563               Walter-Trantow   1311 Alvis Tunnel"
            ]
          },
          "execution_count": 21,
          "metadata": {},
          "output_type": "execute_result"
        }
      ],
      "source": [
        "#loc\n",
        "#row를 쓴 다음 column을 써야 함.\n",
        "df.loc[[211829, 320563], ['name', 'street']] # index의 값은 명확하게 넣어줘야 함!"
      ]
    },
    {
      "cell_type": "code",
      "execution_count": null,
      "id": "9ac97a63-7073-4ca3-9a93-30dc3bdc8bee",
      "metadata": {
        "id": "9ac97a63-7073-4ca3-9a93-30dc3bdc8bee",
        "outputId": "8976f858-0013-4aa7-e4ae-526a574604de"
      },
      "outputs": [
        {
          "data": {
            "text/html": [
              "<div>\n",
              "<style scoped>\n",
              "    .dataframe tbody tr th:only-of-type {\n",
              "        vertical-align: middle;\n",
              "    }\n",
              "\n",
              "    .dataframe tbody tr th {\n",
              "        vertical-align: top;\n",
              "    }\n",
              "\n",
              "    .dataframe thead th {\n",
              "        text-align: right;\n",
              "    }\n",
              "</style>\n",
              "<table border=\"1\" class=\"dataframe\">\n",
              "  <thead>\n",
              "    <tr style=\"text-align: right;\">\n",
              "      <th></th>\n",
              "      <th>name</th>\n",
              "      <th>street</th>\n",
              "      <th>city</th>\n",
              "      <th>state</th>\n",
              "      <th>postal-code</th>\n",
              "      <th>Jan</th>\n",
              "      <th>Feb</th>\n",
              "      <th>Mar</th>\n",
              "    </tr>\n",
              "    <tr>\n",
              "      <th>account</th>\n",
              "      <th></th>\n",
              "      <th></th>\n",
              "      <th></th>\n",
              "      <th></th>\n",
              "      <th></th>\n",
              "      <th></th>\n",
              "      <th></th>\n",
              "      <th></th>\n",
              "    </tr>\n",
              "  </thead>\n",
              "  <tbody>\n",
              "    <tr>\n",
              "      <th>211829</th>\n",
              "      <td>Kerluke, Koepp and Hilpert</td>\n",
              "      <td>34456 Sean Highway</td>\n",
              "      <td>New Jaycob</td>\n",
              "      <td>Texas</td>\n",
              "      <td>28752</td>\n",
              "      <td>10000</td>\n",
              "      <td>62000</td>\n",
              "      <td>35000</td>\n",
              "    </tr>\n",
              "    <tr>\n",
              "      <th>320563</th>\n",
              "      <td>Walter-Trantow</td>\n",
              "      <td>1311 Alvis Tunnel</td>\n",
              "      <td>Port Khadijah</td>\n",
              "      <td>NorthCarolina</td>\n",
              "      <td>38365</td>\n",
              "      <td>95000</td>\n",
              "      <td>45000</td>\n",
              "      <td>35000</td>\n",
              "    </tr>\n",
              "  </tbody>\n",
              "</table>\n",
              "</div>"
            ],
            "text/plain": [
              "                               name              street           city  \\\n",
              "account                                                                  \n",
              "211829   Kerluke, Koepp and Hilpert  34456 Sean Highway     New Jaycob   \n",
              "320563               Walter-Trantow   1311 Alvis Tunnel  Port Khadijah   \n",
              "\n",
              "                 state  postal-code    Jan    Feb    Mar  \n",
              "account                                                   \n",
              "211829           Texas        28752  10000  62000  35000  \n",
              "320563   NorthCarolina        38365  95000  45000  35000  "
            ]
          },
          "execution_count": 22,
          "metadata": {},
          "output_type": "execute_result"
        }
      ],
      "source": [
        "#iloc\n",
        "df.iloc[:2][:2]"
      ]
    },
    {
      "cell_type": "markdown",
      "id": "c4d2b99a-d306-4b6d-b805-770b6954c93e",
      "metadata": {
        "id": "c4d2b99a-d306-4b6d-b805-770b6954c93e"
      },
      "source": [
        "#### **reindex**"
      ]
    },
    {
      "cell_type": "code",
      "execution_count": null,
      "id": "eed03ba7-1dd3-4ab9-80b7-341c6bb73fa1",
      "metadata": {
        "id": "eed03ba7-1dd3-4ab9-80b7-341c6bb73fa1",
        "outputId": "81720f18-30b1-493a-8f98-05cd7ab9a4d7"
      },
      "outputs": [
        {
          "data": {
            "text/html": [
              "<div>\n",
              "<style scoped>\n",
              "    .dataframe tbody tr th:only-of-type {\n",
              "        vertical-align: middle;\n",
              "    }\n",
              "\n",
              "    .dataframe tbody tr th {\n",
              "        vertical-align: top;\n",
              "    }\n",
              "\n",
              "    .dataframe thead th {\n",
              "        text-align: right;\n",
              "    }\n",
              "</style>\n",
              "<table border=\"1\" class=\"dataframe\">\n",
              "  <thead>\n",
              "    <tr style=\"text-align: right;\">\n",
              "      <th></th>\n",
              "      <th>name</th>\n",
              "      <th>street</th>\n",
              "      <th>city</th>\n",
              "      <th>state</th>\n",
              "      <th>postal-code</th>\n",
              "      <th>Jan</th>\n",
              "      <th>Feb</th>\n",
              "      <th>Mar</th>\n",
              "    </tr>\n",
              "  </thead>\n",
              "  <tbody>\n",
              "    <tr>\n",
              "      <th>0</th>\n",
              "      <td>Kerluke, Koepp and Hilpert</td>\n",
              "      <td>34456 Sean Highway</td>\n",
              "      <td>New Jaycob</td>\n",
              "      <td>Texas</td>\n",
              "      <td>28752</td>\n",
              "      <td>10000</td>\n",
              "      <td>62000</td>\n",
              "      <td>35000</td>\n",
              "    </tr>\n",
              "    <tr>\n",
              "      <th>1</th>\n",
              "      <td>Walter-Trantow</td>\n",
              "      <td>1311 Alvis Tunnel</td>\n",
              "      <td>Port Khadijah</td>\n",
              "      <td>NorthCarolina</td>\n",
              "      <td>38365</td>\n",
              "      <td>95000</td>\n",
              "      <td>45000</td>\n",
              "      <td>35000</td>\n",
              "    </tr>\n",
              "    <tr>\n",
              "      <th>2</th>\n",
              "      <td>Bashirian, Kunde and Price</td>\n",
              "      <td>62184 Schamberger Underpass Apt. 231</td>\n",
              "      <td>New Lilianland</td>\n",
              "      <td>Iowa</td>\n",
              "      <td>76517</td>\n",
              "      <td>91000</td>\n",
              "      <td>120000</td>\n",
              "      <td>35000</td>\n",
              "    </tr>\n",
              "    <tr>\n",
              "      <th>3</th>\n",
              "      <td>D'Amore, Gleichner and Bode</td>\n",
              "      <td>155 Fadel Crescent Apt. 144</td>\n",
              "      <td>Hyattburgh</td>\n",
              "      <td>Maine</td>\n",
              "      <td>46021</td>\n",
              "      <td>45000</td>\n",
              "      <td>120000</td>\n",
              "      <td>10000</td>\n",
              "    </tr>\n",
              "    <tr>\n",
              "      <th>4</th>\n",
              "      <td>Bauch-Goldner</td>\n",
              "      <td>7274 Marissa Common</td>\n",
              "      <td>Shanahanchester</td>\n",
              "      <td>California</td>\n",
              "      <td>49681</td>\n",
              "      <td>162000</td>\n",
              "      <td>120000</td>\n",
              "      <td>35000</td>\n",
              "    </tr>\n",
              "  </tbody>\n",
              "</table>\n",
              "</div>"
            ],
            "text/plain": [
              "                          name                                street  \\\n",
              "0   Kerluke, Koepp and Hilpert                    34456 Sean Highway   \n",
              "1               Walter-Trantow                     1311 Alvis Tunnel   \n",
              "2   Bashirian, Kunde and Price  62184 Schamberger Underpass Apt. 231   \n",
              "3  D'Amore, Gleichner and Bode           155 Fadel Crescent Apt. 144   \n",
              "4                Bauch-Goldner                   7274 Marissa Common   \n",
              "\n",
              "              city          state  postal-code     Jan     Feb    Mar  \n",
              "0       New Jaycob          Texas        28752   10000   62000  35000  \n",
              "1    Port Khadijah  NorthCarolina        38365   95000   45000  35000  \n",
              "2   New Lilianland           Iowa        76517   91000  120000  35000  \n",
              "3       Hyattburgh          Maine        46021   45000  120000  10000  \n",
              "4  Shanahanchester     California        49681  162000  120000  35000  "
            ]
          },
          "execution_count": 24,
          "metadata": {},
          "output_type": "execute_result"
        }
      ],
      "source": [
        "df.index=list(range(0,15))\n",
        "#df.reset_index(inplace=True)# inplace=True를 해주면 df자체가 변화가 일어남. 안 해주면 df에는 변화가 없음.\n",
        "df.head()"
      ]
    },
    {
      "cell_type": "code",
      "execution_count": null,
      "id": "3eb33b4f-9024-42e9-92bb-1ef3a37589cd",
      "metadata": {
        "id": "3eb33b4f-9024-42e9-92bb-1ef3a37589cd",
        "outputId": "5d9d5e8f-378c-4b01-a306-ff1f5b3ccf5d"
      },
      "outputs": [
        {
          "data": {
            "text/html": [
              "<div>\n",
              "<style scoped>\n",
              "    .dataframe tbody tr th:only-of-type {\n",
              "        vertical-align: middle;\n",
              "    }\n",
              "\n",
              "    .dataframe tbody tr th {\n",
              "        vertical-align: top;\n",
              "    }\n",
              "\n",
              "    .dataframe thead th {\n",
              "        text-align: right;\n",
              "    }\n",
              "</style>\n",
              "<table border=\"1\" class=\"dataframe\">\n",
              "  <thead>\n",
              "    <tr style=\"text-align: right;\">\n",
              "      <th></th>\n",
              "      <th>name</th>\n",
              "      <th>street</th>\n",
              "      <th>city</th>\n",
              "      <th>state</th>\n",
              "      <th>postal-code</th>\n",
              "      <th>Jan</th>\n",
              "      <th>Feb</th>\n",
              "      <th>Mar</th>\n",
              "    </tr>\n",
              "  </thead>\n",
              "  <tbody>\n",
              "    <tr>\n",
              "      <th>0</th>\n",
              "      <td>Kerluke, Koepp and Hilpert</td>\n",
              "      <td>34456 Sean Highway</td>\n",
              "      <td>New Jaycob</td>\n",
              "      <td>Texas</td>\n",
              "      <td>28752</td>\n",
              "      <td>10000</td>\n",
              "      <td>62000</td>\n",
              "      <td>35000</td>\n",
              "    </tr>\n",
              "    <tr>\n",
              "      <th>1</th>\n",
              "      <td>Walter-Trantow</td>\n",
              "      <td>1311 Alvis Tunnel</td>\n",
              "      <td>Port Khadijah</td>\n",
              "      <td>NorthCarolina</td>\n",
              "      <td>38365</td>\n",
              "      <td>95000</td>\n",
              "      <td>45000</td>\n",
              "      <td>35000</td>\n",
              "    </tr>\n",
              "    <tr>\n",
              "      <th>2</th>\n",
              "      <td>Bashirian, Kunde and Price</td>\n",
              "      <td>62184 Schamberger Underpass Apt. 231</td>\n",
              "      <td>New Lilianland</td>\n",
              "      <td>Iowa</td>\n",
              "      <td>76517</td>\n",
              "      <td>91000</td>\n",
              "      <td>120000</td>\n",
              "      <td>35000</td>\n",
              "    </tr>\n",
              "    <tr>\n",
              "      <th>3</th>\n",
              "      <td>D'Amore, Gleichner and Bode</td>\n",
              "      <td>155 Fadel Crescent Apt. 144</td>\n",
              "      <td>Hyattburgh</td>\n",
              "      <td>Maine</td>\n",
              "      <td>46021</td>\n",
              "      <td>45000</td>\n",
              "      <td>120000</td>\n",
              "      <td>10000</td>\n",
              "    </tr>\n",
              "    <tr>\n",
              "      <th>4</th>\n",
              "      <td>Bauch-Goldner</td>\n",
              "      <td>7274 Marissa Common</td>\n",
              "      <td>Shanahanchester</td>\n",
              "      <td>California</td>\n",
              "      <td>49681</td>\n",
              "      <td>162000</td>\n",
              "      <td>120000</td>\n",
              "      <td>35000</td>\n",
              "    </tr>\n",
              "  </tbody>\n",
              "</table>\n",
              "</div>"
            ],
            "text/plain": [
              "                          name                                street  \\\n",
              "0   Kerluke, Koepp and Hilpert                    34456 Sean Highway   \n",
              "1               Walter-Trantow                     1311 Alvis Tunnel   \n",
              "2   Bashirian, Kunde and Price  62184 Schamberger Underpass Apt. 231   \n",
              "3  D'Amore, Gleichner and Bode           155 Fadel Crescent Apt. 144   \n",
              "4                Bauch-Goldner                   7274 Marissa Common   \n",
              "\n",
              "              city          state  postal-code     Jan     Feb    Mar  \n",
              "0       New Jaycob          Texas        28752   10000   62000  35000  \n",
              "1    Port Khadijah  NorthCarolina        38365   95000   45000  35000  \n",
              "2   New Lilianland           Iowa        76517   91000  120000  35000  \n",
              "3       Hyattburgh          Maine        46021   45000  120000  10000  \n",
              "4  Shanahanchester     California        49681  162000  120000  35000  "
            ]
          },
          "execution_count": 26,
          "metadata": {},
          "output_type": "execute_result"
        }
      ],
      "source": [
        "df.reset_index(drop=True).head() #기존의 index가 drop된다."
      ]
    },
    {
      "cell_type": "markdown",
      "id": "a51976a9-f874-4847-a842-2e233bb03b3e",
      "metadata": {
        "id": "a51976a9-f874-4847-a842-2e233bb03b3e"
      },
      "source": [
        "### **Drop**"
      ]
    },
    {
      "cell_type": "code",
      "execution_count": null,
      "id": "55a110eb-b0e7-4b1b-ba60-19f22a25f953",
      "metadata": {
        "id": "55a110eb-b0e7-4b1b-ba60-19f22a25f953",
        "outputId": "67e98c89-047c-4f87-b5cd-1386e8d24359"
      },
      "outputs": [
        {
          "data": {
            "text/html": [
              "<div>\n",
              "<style scoped>\n",
              "    .dataframe tbody tr th:only-of-type {\n",
              "        vertical-align: middle;\n",
              "    }\n",
              "\n",
              "    .dataframe tbody tr th {\n",
              "        vertical-align: top;\n",
              "    }\n",
              "\n",
              "    .dataframe thead th {\n",
              "        text-align: right;\n",
              "    }\n",
              "</style>\n",
              "<table border=\"1\" class=\"dataframe\">\n",
              "  <thead>\n",
              "    <tr style=\"text-align: right;\">\n",
              "      <th></th>\n",
              "      <th>name</th>\n",
              "      <th>street</th>\n",
              "      <th>city</th>\n",
              "      <th>state</th>\n",
              "      <th>postal-code</th>\n",
              "      <th>Jan</th>\n",
              "      <th>Feb</th>\n",
              "      <th>Mar</th>\n",
              "    </tr>\n",
              "  </thead>\n",
              "  <tbody>\n",
              "    <tr>\n",
              "      <th>0</th>\n",
              "      <td>Kerluke, Koepp and Hilpert</td>\n",
              "      <td>34456 Sean Highway</td>\n",
              "      <td>New Jaycob</td>\n",
              "      <td>Texas</td>\n",
              "      <td>28752</td>\n",
              "      <td>10000</td>\n",
              "      <td>62000</td>\n",
              "      <td>35000</td>\n",
              "    </tr>\n",
              "    <tr>\n",
              "      <th>2</th>\n",
              "      <td>Bashirian, Kunde and Price</td>\n",
              "      <td>62184 Schamberger Underpass Apt. 231</td>\n",
              "      <td>New Lilianland</td>\n",
              "      <td>Iowa</td>\n",
              "      <td>76517</td>\n",
              "      <td>91000</td>\n",
              "      <td>120000</td>\n",
              "      <td>35000</td>\n",
              "    </tr>\n",
              "    <tr>\n",
              "      <th>3</th>\n",
              "      <td>D'Amore, Gleichner and Bode</td>\n",
              "      <td>155 Fadel Crescent Apt. 144</td>\n",
              "      <td>Hyattburgh</td>\n",
              "      <td>Maine</td>\n",
              "      <td>46021</td>\n",
              "      <td>45000</td>\n",
              "      <td>120000</td>\n",
              "      <td>10000</td>\n",
              "    </tr>\n",
              "    <tr>\n",
              "      <th>4</th>\n",
              "      <td>Bauch-Goldner</td>\n",
              "      <td>7274 Marissa Common</td>\n",
              "      <td>Shanahanchester</td>\n",
              "      <td>California</td>\n",
              "      <td>49681</td>\n",
              "      <td>162000</td>\n",
              "      <td>120000</td>\n",
              "      <td>35000</td>\n",
              "    </tr>\n",
              "    <tr>\n",
              "      <th>5</th>\n",
              "      <td>Williamson, Schumm and Hettinger</td>\n",
              "      <td>89403 Casimer Spring</td>\n",
              "      <td>Jeremieburgh</td>\n",
              "      <td>Arkansas</td>\n",
              "      <td>62785</td>\n",
              "      <td>150000</td>\n",
              "      <td>120000</td>\n",
              "      <td>35000</td>\n",
              "    </tr>\n",
              "  </tbody>\n",
              "</table>\n",
              "</div>"
            ],
            "text/plain": [
              "                               name                                street  \\\n",
              "0        Kerluke, Koepp and Hilpert                    34456 Sean Highway   \n",
              "2        Bashirian, Kunde and Price  62184 Schamberger Underpass Apt. 231   \n",
              "3       D'Amore, Gleichner and Bode           155 Fadel Crescent Apt. 144   \n",
              "4                     Bauch-Goldner                   7274 Marissa Common   \n",
              "5  Williamson, Schumm and Hettinger                  89403 Casimer Spring   \n",
              "\n",
              "              city       state  postal-code     Jan     Feb    Mar  \n",
              "0       New Jaycob       Texas        28752   10000   62000  35000  \n",
              "2   New Lilianland        Iowa        76517   91000  120000  35000  \n",
              "3       Hyattburgh       Maine        46021   45000  120000  10000  \n",
              "4  Shanahanchester  California        49681  162000  120000  35000  \n",
              "5     Jeremieburgh    Arkansas        62785  150000  120000  35000  "
            ]
          },
          "execution_count": 29,
          "metadata": {},
          "output_type": "execute_result"
        }
      ],
      "source": [
        "df.drop(1).head() #df 자체는 변하지 않음. inplace=True해야 df도 변함."
      ]
    },
    {
      "cell_type": "code",
      "execution_count": null,
      "id": "bcb03464-788b-4a6a-9d1d-67e4618963da",
      "metadata": {
        "id": "bcb03464-788b-4a6a-9d1d-67e4618963da",
        "outputId": "9d2918ac-d562-468e-a3af-e693581ca9de"
      },
      "outputs": [
        {
          "data": {
            "text/html": [
              "<div>\n",
              "<style scoped>\n",
              "    .dataframe tbody tr th:only-of-type {\n",
              "        vertical-align: middle;\n",
              "    }\n",
              "\n",
              "    .dataframe tbody tr th {\n",
              "        vertical-align: top;\n",
              "    }\n",
              "\n",
              "    .dataframe thead th {\n",
              "        text-align: right;\n",
              "    }\n",
              "</style>\n",
              "<table border=\"1\" class=\"dataframe\">\n",
              "  <thead>\n",
              "    <tr style=\"text-align: right;\">\n",
              "      <th></th>\n",
              "      <th>name</th>\n",
              "      <th>street</th>\n",
              "      <th>city</th>\n",
              "      <th>state</th>\n",
              "      <th>postal-code</th>\n",
              "      <th>Jan</th>\n",
              "      <th>Feb</th>\n",
              "      <th>Mar</th>\n",
              "    </tr>\n",
              "  </thead>\n",
              "  <tbody>\n",
              "    <tr>\n",
              "      <th>4</th>\n",
              "      <td>Bauch-Goldner</td>\n",
              "      <td>7274 Marissa Common</td>\n",
              "      <td>Shanahanchester</td>\n",
              "      <td>California</td>\n",
              "      <td>49681</td>\n",
              "      <td>162000</td>\n",
              "      <td>120000</td>\n",
              "      <td>35000</td>\n",
              "    </tr>\n",
              "    <tr>\n",
              "      <th>5</th>\n",
              "      <td>Williamson, Schumm and Hettinger</td>\n",
              "      <td>89403 Casimer Spring</td>\n",
              "      <td>Jeremieburgh</td>\n",
              "      <td>Arkansas</td>\n",
              "      <td>62785</td>\n",
              "      <td>150000</td>\n",
              "      <td>120000</td>\n",
              "      <td>35000</td>\n",
              "    </tr>\n",
              "    <tr>\n",
              "      <th>6</th>\n",
              "      <td>Casper LLC</td>\n",
              "      <td>340 Consuela Bridge Apt. 400</td>\n",
              "      <td>Lake Gabriellaton</td>\n",
              "      <td>Mississipi</td>\n",
              "      <td>18008</td>\n",
              "      <td>62000</td>\n",
              "      <td>120000</td>\n",
              "      <td>70000</td>\n",
              "    </tr>\n",
              "    <tr>\n",
              "      <th>7</th>\n",
              "      <td>Kovacek-Johnston</td>\n",
              "      <td>91971 Cronin Vista Suite 601</td>\n",
              "      <td>Deronville</td>\n",
              "      <td>RhodeIsland</td>\n",
              "      <td>53461</td>\n",
              "      <td>145000</td>\n",
              "      <td>95000</td>\n",
              "      <td>35000</td>\n",
              "    </tr>\n",
              "    <tr>\n",
              "      <th>8</th>\n",
              "      <td>Champlin-Morar</td>\n",
              "      <td>26739 Grant Lock</td>\n",
              "      <td>Lake Juliannton</td>\n",
              "      <td>Pennsylvania</td>\n",
              "      <td>64415</td>\n",
              "      <td>70000</td>\n",
              "      <td>95000</td>\n",
              "      <td>35000</td>\n",
              "    </tr>\n",
              "  </tbody>\n",
              "</table>\n",
              "</div>"
            ],
            "text/plain": [
              "                               name                        street  \\\n",
              "4                     Bauch-Goldner           7274 Marissa Common   \n",
              "5  Williamson, Schumm and Hettinger          89403 Casimer Spring   \n",
              "6                        Casper LLC  340 Consuela Bridge Apt. 400   \n",
              "7                  Kovacek-Johnston  91971 Cronin Vista Suite 601   \n",
              "8                    Champlin-Morar              26739 Grant Lock   \n",
              "\n",
              "                city         state  postal-code     Jan     Feb    Mar  \n",
              "4    Shanahanchester    California        49681  162000  120000  35000  \n",
              "5       Jeremieburgh      Arkansas        62785  150000  120000  35000  \n",
              "6  Lake Gabriellaton    Mississipi        18008   62000  120000  70000  \n",
              "7         Deronville   RhodeIsland        53461  145000   95000  35000  \n",
              "8    Lake Juliannton  Pennsylvania        64415   70000   95000  35000  "
            ]
          },
          "execution_count": 30,
          "metadata": {},
          "output_type": "execute_result"
        }
      ],
      "source": [
        "# 한 개 이상의 index number로 drop\n",
        "df.drop([0,1,2,3]).head()"
      ]
    },
    {
      "cell_type": "code",
      "execution_count": null,
      "id": "b2d670c6-8d62-4e4d-b2c8-7790cda4f623",
      "metadata": {
        "id": "b2d670c6-8d62-4e4d-b2c8-7790cda4f623",
        "outputId": "e048d2d7-0f78-467c-c63d-fbbe515995ad"
      },
      "outputs": [
        {
          "data": {
            "text/html": [
              "<div>\n",
              "<style scoped>\n",
              "    .dataframe tbody tr th:only-of-type {\n",
              "        vertical-align: middle;\n",
              "    }\n",
              "\n",
              "    .dataframe tbody tr th {\n",
              "        vertical-align: top;\n",
              "    }\n",
              "\n",
              "    .dataframe thead th {\n",
              "        text-align: right;\n",
              "    }\n",
              "</style>\n",
              "<table border=\"1\" class=\"dataframe\">\n",
              "  <thead>\n",
              "    <tr style=\"text-align: right;\">\n",
              "      <th></th>\n",
              "      <th>name</th>\n",
              "      <th>street</th>\n",
              "      <th>state</th>\n",
              "      <th>postal-code</th>\n",
              "      <th>Jan</th>\n",
              "      <th>Feb</th>\n",
              "      <th>Mar</th>\n",
              "    </tr>\n",
              "  </thead>\n",
              "  <tbody>\n",
              "    <tr>\n",
              "      <th>0</th>\n",
              "      <td>Kerluke, Koepp and Hilpert</td>\n",
              "      <td>34456 Sean Highway</td>\n",
              "      <td>Texas</td>\n",
              "      <td>28752</td>\n",
              "      <td>10000</td>\n",
              "      <td>62000</td>\n",
              "      <td>35000</td>\n",
              "    </tr>\n",
              "    <tr>\n",
              "      <th>1</th>\n",
              "      <td>Walter-Trantow</td>\n",
              "      <td>1311 Alvis Tunnel</td>\n",
              "      <td>NorthCarolina</td>\n",
              "      <td>38365</td>\n",
              "      <td>95000</td>\n",
              "      <td>45000</td>\n",
              "      <td>35000</td>\n",
              "    </tr>\n",
              "    <tr>\n",
              "      <th>2</th>\n",
              "      <td>Bashirian, Kunde and Price</td>\n",
              "      <td>62184 Schamberger Underpass Apt. 231</td>\n",
              "      <td>Iowa</td>\n",
              "      <td>76517</td>\n",
              "      <td>91000</td>\n",
              "      <td>120000</td>\n",
              "      <td>35000</td>\n",
              "    </tr>\n",
              "    <tr>\n",
              "      <th>3</th>\n",
              "      <td>D'Amore, Gleichner and Bode</td>\n",
              "      <td>155 Fadel Crescent Apt. 144</td>\n",
              "      <td>Maine</td>\n",
              "      <td>46021</td>\n",
              "      <td>45000</td>\n",
              "      <td>120000</td>\n",
              "      <td>10000</td>\n",
              "    </tr>\n",
              "    <tr>\n",
              "      <th>4</th>\n",
              "      <td>Bauch-Goldner</td>\n",
              "      <td>7274 Marissa Common</td>\n",
              "      <td>California</td>\n",
              "      <td>49681</td>\n",
              "      <td>162000</td>\n",
              "      <td>120000</td>\n",
              "      <td>35000</td>\n",
              "    </tr>\n",
              "  </tbody>\n",
              "</table>\n",
              "</div>"
            ],
            "text/plain": [
              "                          name                                street  \\\n",
              "0   Kerluke, Koepp and Hilpert                    34456 Sean Highway   \n",
              "1               Walter-Trantow                     1311 Alvis Tunnel   \n",
              "2   Bashirian, Kunde and Price  62184 Schamberger Underpass Apt. 231   \n",
              "3  D'Amore, Gleichner and Bode           155 Fadel Crescent Apt. 144   \n",
              "4                Bauch-Goldner                   7274 Marissa Common   \n",
              "\n",
              "           state  postal-code     Jan     Feb    Mar  \n",
              "0          Texas        28752   10000   62000  35000  \n",
              "1  NorthCarolina        38365   95000   45000  35000  \n",
              "2           Iowa        76517   91000  120000  35000  \n",
              "3          Maine        46021   45000  120000  10000  \n",
              "4     California        49681  162000  120000  35000  "
            ]
          },
          "execution_count": 32,
          "metadata": {},
          "output_type": "execute_result"
        }
      ],
      "source": [
        "#axis 지정 축을 기준으로 drop\n",
        "#column중 city를 삭제하는 코드\n",
        "df.drop('city', axis=1).head()"
      ]
    },
    {
      "cell_type": "markdown",
      "id": "1ac14871-8397-459e-8d01-f2f8a8507688",
      "metadata": {
        "id": "1ac14871-8397-459e-8d01-f2f8a8507688"
      },
      "source": [
        "### **DataFrame Operation**\n",
        "- column값과 index를 함께 고려\n",
        "- Operation types: add, sub, div, mul"
      ]
    },
    {
      "cell_type": "code",
      "execution_count": null,
      "id": "c2fc34d1-95d2-47f7-98a2-e33f57215333",
      "metadata": {
        "id": "c2fc34d1-95d2-47f7-98a2-e33f57215333",
        "outputId": "e9b68d71-7729-465c-8236-e40a6af440ba"
      },
      "outputs": [
        {
          "data": {
            "text/html": [
              "<div>\n",
              "<style scoped>\n",
              "    .dataframe tbody tr th:only-of-type {\n",
              "        vertical-align: middle;\n",
              "    }\n",
              "\n",
              "    .dataframe tbody tr th {\n",
              "        vertical-align: top;\n",
              "    }\n",
              "\n",
              "    .dataframe thead th {\n",
              "        text-align: right;\n",
              "    }\n",
              "</style>\n",
              "<table border=\"1\" class=\"dataframe\">\n",
              "  <thead>\n",
              "    <tr style=\"text-align: right;\">\n",
              "      <th></th>\n",
              "      <th>a</th>\n",
              "      <th>b</th>\n",
              "      <th>c</th>\n",
              "    </tr>\n",
              "  </thead>\n",
              "  <tbody>\n",
              "    <tr>\n",
              "      <th>0</th>\n",
              "      <td>0</td>\n",
              "      <td>1</td>\n",
              "      <td>2</td>\n",
              "    </tr>\n",
              "    <tr>\n",
              "      <th>1</th>\n",
              "      <td>3</td>\n",
              "      <td>4</td>\n",
              "      <td>5</td>\n",
              "    </tr>\n",
              "    <tr>\n",
              "      <th>2</th>\n",
              "      <td>6</td>\n",
              "      <td>7</td>\n",
              "      <td>8</td>\n",
              "    </tr>\n",
              "  </tbody>\n",
              "</table>\n",
              "</div>"
            ],
            "text/plain": [
              "   a  b  c\n",
              "0  0  1  2\n",
              "1  3  4  5\n",
              "2  6  7  8"
            ]
          },
          "execution_count": 40,
          "metadata": {},
          "output_type": "execute_result"
        }
      ],
      "source": [
        "df1 = DataFrame(np.arange(9).reshape(3,3), columns=list('abc'))\n",
        "df1"
      ]
    },
    {
      "cell_type": "code",
      "execution_count": null,
      "id": "935b6493-dcd6-45f9-b817-ef37101c5384",
      "metadata": {
        "id": "935b6493-dcd6-45f9-b817-ef37101c5384",
        "outputId": "1191fa3e-db02-41c8-e1eb-2a51928997ed"
      },
      "outputs": [
        {
          "data": {
            "text/html": [
              "<div>\n",
              "<style scoped>\n",
              "    .dataframe tbody tr th:only-of-type {\n",
              "        vertical-align: middle;\n",
              "    }\n",
              "\n",
              "    .dataframe tbody tr th {\n",
              "        vertical-align: top;\n",
              "    }\n",
              "\n",
              "    .dataframe thead th {\n",
              "        text-align: right;\n",
              "    }\n",
              "</style>\n",
              "<table border=\"1\" class=\"dataframe\">\n",
              "  <thead>\n",
              "    <tr style=\"text-align: right;\">\n",
              "      <th></th>\n",
              "      <th>a</th>\n",
              "      <th>b</th>\n",
              "      <th>c</th>\n",
              "      <th>d</th>\n",
              "    </tr>\n",
              "  </thead>\n",
              "  <tbody>\n",
              "    <tr>\n",
              "      <th>0</th>\n",
              "      <td>0</td>\n",
              "      <td>1</td>\n",
              "      <td>2</td>\n",
              "      <td>3</td>\n",
              "    </tr>\n",
              "    <tr>\n",
              "      <th>1</th>\n",
              "      <td>4</td>\n",
              "      <td>5</td>\n",
              "      <td>6</td>\n",
              "      <td>7</td>\n",
              "    </tr>\n",
              "    <tr>\n",
              "      <th>2</th>\n",
              "      <td>8</td>\n",
              "      <td>9</td>\n",
              "      <td>10</td>\n",
              "      <td>11</td>\n",
              "    </tr>\n",
              "    <tr>\n",
              "      <th>3</th>\n",
              "      <td>12</td>\n",
              "      <td>13</td>\n",
              "      <td>14</td>\n",
              "      <td>15</td>\n",
              "    </tr>\n",
              "  </tbody>\n",
              "</table>\n",
              "</div>"
            ],
            "text/plain": [
              "    a   b   c   d\n",
              "0   0   1   2   3\n",
              "1   4   5   6   7\n",
              "2   8   9  10  11\n",
              "3  12  13  14  15"
            ]
          },
          "execution_count": 41,
          "metadata": {},
          "output_type": "execute_result"
        }
      ],
      "source": [
        "df2 = DataFrame(np.arange(16).reshape(4,4), columns=list('abcd'))\n",
        "df2"
      ]
    },
    {
      "cell_type": "code",
      "execution_count": null,
      "id": "6325f6f4-1d2c-4c83-84d8-f6860e2aebb9",
      "metadata": {
        "id": "6325f6f4-1d2c-4c83-84d8-f6860e2aebb9",
        "outputId": "bcbc6672-3982-4dfc-f400-78cd05cf8c99"
      },
      "outputs": [
        {
          "data": {
            "text/html": [
              "<div>\n",
              "<style scoped>\n",
              "    .dataframe tbody tr th:only-of-type {\n",
              "        vertical-align: middle;\n",
              "    }\n",
              "\n",
              "    .dataframe tbody tr th {\n",
              "        vertical-align: top;\n",
              "    }\n",
              "\n",
              "    .dataframe thead th {\n",
              "        text-align: right;\n",
              "    }\n",
              "</style>\n",
              "<table border=\"1\" class=\"dataframe\">\n",
              "  <thead>\n",
              "    <tr style=\"text-align: right;\">\n",
              "      <th></th>\n",
              "      <th>a</th>\n",
              "      <th>b</th>\n",
              "      <th>c</th>\n",
              "      <th>d</th>\n",
              "    </tr>\n",
              "  </thead>\n",
              "  <tbody>\n",
              "    <tr>\n",
              "      <th>0</th>\n",
              "      <td>0.0</td>\n",
              "      <td>2.0</td>\n",
              "      <td>4.0</td>\n",
              "      <td>NaN</td>\n",
              "    </tr>\n",
              "    <tr>\n",
              "      <th>1</th>\n",
              "      <td>7.0</td>\n",
              "      <td>9.0</td>\n",
              "      <td>11.0</td>\n",
              "      <td>NaN</td>\n",
              "    </tr>\n",
              "    <tr>\n",
              "      <th>2</th>\n",
              "      <td>14.0</td>\n",
              "      <td>16.0</td>\n",
              "      <td>18.0</td>\n",
              "      <td>NaN</td>\n",
              "    </tr>\n",
              "    <tr>\n",
              "      <th>3</th>\n",
              "      <td>NaN</td>\n",
              "      <td>NaN</td>\n",
              "      <td>NaN</td>\n",
              "      <td>NaN</td>\n",
              "    </tr>\n",
              "  </tbody>\n",
              "</table>\n",
              "</div>"
            ],
            "text/plain": [
              "      a     b     c   d\n",
              "0   0.0   2.0   4.0 NaN\n",
              "1   7.0   9.0  11.0 NaN\n",
              "2  14.0  16.0  18.0 NaN\n",
              "3   NaN   NaN   NaN NaN"
            ]
          },
          "execution_count": 42,
          "metadata": {},
          "output_type": "execute_result"
        }
      ],
      "source": [
        "# dataframe은 column값과 index를 함께 고려\n",
        "df1+df2"
      ]
    },
    {
      "cell_type": "code",
      "execution_count": null,
      "id": "f3f0d8f9-514c-4842-87a8-988aca3dea31",
      "metadata": {
        "id": "f3f0d8f9-514c-4842-87a8-988aca3dea31",
        "outputId": "24cd15e6-4a05-4222-8671-2264666d9faa"
      },
      "outputs": [
        {
          "data": {
            "text/html": [
              "<div>\n",
              "<style scoped>\n",
              "    .dataframe tbody tr th:only-of-type {\n",
              "        vertical-align: middle;\n",
              "    }\n",
              "\n",
              "    .dataframe tbody tr th {\n",
              "        vertical-align: top;\n",
              "    }\n",
              "\n",
              "    .dataframe thead th {\n",
              "        text-align: right;\n",
              "    }\n",
              "</style>\n",
              "<table border=\"1\" class=\"dataframe\">\n",
              "  <thead>\n",
              "    <tr style=\"text-align: right;\">\n",
              "      <th></th>\n",
              "      <th>a</th>\n",
              "      <th>b</th>\n",
              "      <th>c</th>\n",
              "      <th>d</th>\n",
              "    </tr>\n",
              "  </thead>\n",
              "  <tbody>\n",
              "    <tr>\n",
              "      <th>0</th>\n",
              "      <td>0.0</td>\n",
              "      <td>2.0</td>\n",
              "      <td>4.0</td>\n",
              "      <td>3.0</td>\n",
              "    </tr>\n",
              "    <tr>\n",
              "      <th>1</th>\n",
              "      <td>7.0</td>\n",
              "      <td>9.0</td>\n",
              "      <td>11.0</td>\n",
              "      <td>7.0</td>\n",
              "    </tr>\n",
              "    <tr>\n",
              "      <th>2</th>\n",
              "      <td>14.0</td>\n",
              "      <td>16.0</td>\n",
              "      <td>18.0</td>\n",
              "      <td>11.0</td>\n",
              "    </tr>\n",
              "    <tr>\n",
              "      <th>3</th>\n",
              "      <td>12.0</td>\n",
              "      <td>13.0</td>\n",
              "      <td>14.0</td>\n",
              "      <td>15.0</td>\n",
              "    </tr>\n",
              "  </tbody>\n",
              "</table>\n",
              "</div>"
            ],
            "text/plain": [
              "      a     b     c     d\n",
              "0   0.0   2.0   4.0   3.0\n",
              "1   7.0   9.0  11.0   7.0\n",
              "2  14.0  16.0  18.0  11.0\n",
              "3  12.0  13.0  14.0  15.0"
            ]
          },
          "execution_count": 43,
          "metadata": {},
          "output_type": "execute_result"
        }
      ],
      "source": [
        "#fill_value를 하면 NaN값을 0으로 변환\n",
        "df1.add(df2, fill_value=0)"
      ]
    },
    {
      "cell_type": "code",
      "execution_count": null,
      "id": "83bfae58-2615-487d-9030-b971f3e74148",
      "metadata": {
        "id": "83bfae58-2615-487d-9030-b971f3e74148",
        "outputId": "8ab9882a-65a9-410a-f765-8b0aa95863a5"
      },
      "outputs": [
        {
          "data": {
            "text/html": [
              "<div>\n",
              "<style scoped>\n",
              "    .dataframe tbody tr th:only-of-type {\n",
              "        vertical-align: middle;\n",
              "    }\n",
              "\n",
              "    .dataframe tbody tr th {\n",
              "        vertical-align: top;\n",
              "    }\n",
              "\n",
              "    .dataframe thead th {\n",
              "        text-align: right;\n",
              "    }\n",
              "</style>\n",
              "<table border=\"1\" class=\"dataframe\">\n",
              "  <thead>\n",
              "    <tr style=\"text-align: right;\">\n",
              "      <th></th>\n",
              "      <th>a</th>\n",
              "      <th>b</th>\n",
              "      <th>c</th>\n",
              "      <th>d</th>\n",
              "    </tr>\n",
              "  </thead>\n",
              "  <tbody>\n",
              "    <tr>\n",
              "      <th>0</th>\n",
              "      <td>10</td>\n",
              "      <td>11</td>\n",
              "      <td>12</td>\n",
              "      <td>13</td>\n",
              "    </tr>\n",
              "    <tr>\n",
              "      <th>1</th>\n",
              "      <td>15</td>\n",
              "      <td>16</td>\n",
              "      <td>17</td>\n",
              "      <td>18</td>\n",
              "    </tr>\n",
              "    <tr>\n",
              "      <th>2</th>\n",
              "      <td>20</td>\n",
              "      <td>21</td>\n",
              "      <td>22</td>\n",
              "      <td>23</td>\n",
              "    </tr>\n",
              "    <tr>\n",
              "      <th>3</th>\n",
              "      <td>25</td>\n",
              "      <td>26</td>\n",
              "      <td>27</td>\n",
              "      <td>28</td>\n",
              "    </tr>\n",
              "  </tbody>\n",
              "</table>\n",
              "</div>"
            ],
            "text/plain": [
              "    a   b   c   d\n",
              "0  10  11  12  13\n",
              "1  15  16  17  18\n",
              "2  20  21  22  23\n",
              "3  25  26  27  28"
            ]
          },
          "execution_count": 45,
          "metadata": {},
          "output_type": "execute_result"
        }
      ],
      "source": [
        "#DataFrame+Series\n",
        "s1 = Series(data=[10,11,12,13])\n",
        "#그냥 더하면 NaN값이 나오고, axis를 정해줘야 한다\n",
        "df2.add(s1, axis=0) #axis를 기준으로 broad casting이 일어남"
      ]
    },
    {
      "cell_type": "markdown",
      "id": "f754fb2e-4979-4249-a7ad-eeb93c347287",
      "metadata": {
        "id": "f754fb2e-4979-4249-a7ad-eeb93c347287"
      },
      "source": [
        "#### **map for series**\n",
        "- pandas의 series type의 데이터도 map 함수 사용 가능\n",
        "- function 대신 dict, sequence형 자료등으로 대체 가능"
      ]
    },
    {
      "cell_type": "code",
      "execution_count": null,
      "id": "31da88e8-3d91-4afb-a484-e8f67aac40a2",
      "metadata": {
        "id": "31da88e8-3d91-4afb-a484-e8f67aac40a2",
        "outputId": "bc3d1167-fe65-443e-d790-042f4d2e94c5"
      },
      "outputs": [
        {
          "data": {
            "text/plain": [
              "0    0\n",
              "1    1\n",
              "2    2\n",
              "3    3\n",
              "4    4\n",
              "dtype: int64"
            ]
          },
          "execution_count": 54,
          "metadata": {},
          "output_type": "execute_result"
        }
      ],
      "source": [
        "ex = Series(data=[0,1,2,3,4,], index=np.arange(5))\n",
        "ex"
      ]
    },
    {
      "cell_type": "code",
      "execution_count": null,
      "id": "3686430a-e334-4654-8e00-09770c4c027d",
      "metadata": {
        "id": "3686430a-e334-4654-8e00-09770c4c027d",
        "outputId": "8577caaa-ca30-4d8c-fa41-fe0a7e41b7cc"
      },
      "outputs": [
        {
          "data": {
            "text/plain": [
              "[0, 1, 4, 9, 16]"
            ]
          },
          "execution_count": 55,
          "metadata": {},
          "output_type": "execute_result"
        }
      ],
      "source": [
        "# lambda 적용\n",
        "f = lambda x : x ** 2\n",
        "list(map(f,ex))"
      ]
    },
    {
      "cell_type": "code",
      "execution_count": null,
      "id": "407ef231-462c-4db9-9195-6e9918382b38",
      "metadata": {
        "id": "407ef231-462c-4db9-9195-6e9918382b38",
        "outputId": "481ab3fc-d523-40d7-e614-c06eb1276df6"
      },
      "outputs": [
        {
          "data": {
            "text/plain": [
              "[5, 6, 7, 8, 9]"
            ]
          },
          "execution_count": 56,
          "metadata": {},
          "output_type": "execute_result"
        }
      ],
      "source": [
        "# 함수 적용\n",
        "def f(x):\n",
        "    return x+5\n",
        "list(map(f,ex))"
      ]
    },
    {
      "cell_type": "code",
      "execution_count": null,
      "id": "aac9b69b-7dab-4279-9398-4c2d12dbced4",
      "metadata": {
        "id": "aac9b69b-7dab-4279-9398-4c2d12dbced4",
        "outputId": "520ae37e-09d5-41cd-e575-0edcadfd457c"
      },
      "outputs": [
        {
          "data": {
            "text/plain": [
              "0    NaN\n",
              "1      A\n",
              "2      B\n",
              "3      C\n",
              "4    NaN\n",
              "dtype: object"
            ]
          },
          "execution_count": 57,
          "metadata": {},
          "output_type": "execute_result"
        }
      ],
      "source": [
        "# dict type으로 데이터 교체\n",
        "# index 1번의 1을 A로, index 2번의 2를 B로, index 3번의 3을 C로\n",
        "z= {1:'A', 2:'B', 3:'C'}\n",
        "ex.map(z).head(5)"
      ]
    },
    {
      "cell_type": "code",
      "execution_count": null,
      "id": "1130f951-dd3a-40a4-bac1-ecbf564ca79d",
      "metadata": {
        "id": "1130f951-dd3a-40a4-bac1-ecbf564ca79d",
        "outputId": "643ae831-d5c1-44af-9c79-b05c77c78eb6"
      },
      "outputs": [
        {
          "data": {
            "text/plain": [
              "0    10\n",
              "1    11\n",
              "2    12\n",
              "3    13\n",
              "4    14\n",
              "dtype: int32"
            ]
          },
          "execution_count": 59,
          "metadata": {},
          "output_type": "execute_result"
        }
      ],
      "source": [
        "# 같은 위치의 데이터를 s2로 전환\n",
        "s2 = Series(np.arange(10,15))\n",
        "ex.map(s2).head()"
      ]
    },
    {
      "cell_type": "code",
      "execution_count": null,
      "id": "a9c40761-d3eb-493d-b922-f8df36a21f3d",
      "metadata": {
        "id": "a9c40761-d3eb-493d-b922-f8df36a21f3d",
        "outputId": "dc2e8037-ac00-4819-f9a0-ca408a94f7a1"
      },
      "outputs": [
        {
          "name": "stderr",
          "output_type": "stream",
          "text": [
            "--2024-05-22 16:52:43--  https://raw.githubusercontent.com/rstudio/Intro/master/data/wages.csv\n",
            "Resolving raw.githubusercontent.com (raw.githubusercontent.com)... 185.199.111.133, 185.199.108.133, 185.199.109.133, ...\n",
            "Connecting to raw.githubusercontent.com (raw.githubusercontent.com)|185.199.111.133|:443... connected.\n",
            "HTTP request sent, awaiting response... 200 OK\n",
            "Length: 62250 (61K) [text/plain]\n",
            "Saving to: 'wages.csv'\n",
            "\n",
            "     0K .......... .......... .......... .......... .......... 82%  345K 0s\n",
            "    50K ..........                                            100%  793K=0.2s\n",
            "\n",
            "2024-05-22 16:52:44 (384 KB/s) - 'wages.csv' saved [62250/62250]\n",
            "\n"
          ]
        }
      ],
      "source": [
        "!wget https://raw.githubusercontent.com/rstudio/Intro/master/data/wages.csv"
      ]
    },
    {
      "cell_type": "code",
      "execution_count": null,
      "id": "1886bed0-9e30-481a-a5cf-a73635dd48da",
      "metadata": {
        "id": "1886bed0-9e30-481a-a5cf-a73635dd48da",
        "outputId": "fe0c4ecd-b72d-470d-f1c3-61abe356a35d"
      },
      "outputs": [
        {
          "data": {
            "text/html": [
              "<div>\n",
              "<style scoped>\n",
              "    .dataframe tbody tr th:only-of-type {\n",
              "        vertical-align: middle;\n",
              "    }\n",
              "\n",
              "    .dataframe tbody tr th {\n",
              "        vertical-align: top;\n",
              "    }\n",
              "\n",
              "    .dataframe thead th {\n",
              "        text-align: right;\n",
              "    }\n",
              "</style>\n",
              "<table border=\"1\" class=\"dataframe\">\n",
              "  <thead>\n",
              "    <tr style=\"text-align: right;\">\n",
              "      <th></th>\n",
              "      <th>earn</th>\n",
              "      <th>height</th>\n",
              "      <th>sex</th>\n",
              "      <th>race</th>\n",
              "      <th>ed</th>\n",
              "      <th>age</th>\n",
              "    </tr>\n",
              "  </thead>\n",
              "  <tbody>\n",
              "    <tr>\n",
              "      <th>0</th>\n",
              "      <td>79571.299011</td>\n",
              "      <td>73.89</td>\n",
              "      <td>male</td>\n",
              "      <td>white</td>\n",
              "      <td>16</td>\n",
              "      <td>49</td>\n",
              "    </tr>\n",
              "    <tr>\n",
              "      <th>1</th>\n",
              "      <td>96396.988643</td>\n",
              "      <td>66.23</td>\n",
              "      <td>female</td>\n",
              "      <td>white</td>\n",
              "      <td>16</td>\n",
              "      <td>62</td>\n",
              "    </tr>\n",
              "    <tr>\n",
              "      <th>2</th>\n",
              "      <td>48710.666947</td>\n",
              "      <td>63.77</td>\n",
              "      <td>female</td>\n",
              "      <td>white</td>\n",
              "      <td>16</td>\n",
              "      <td>33</td>\n",
              "    </tr>\n",
              "    <tr>\n",
              "      <th>3</th>\n",
              "      <td>80478.096153</td>\n",
              "      <td>63.22</td>\n",
              "      <td>female</td>\n",
              "      <td>other</td>\n",
              "      <td>16</td>\n",
              "      <td>95</td>\n",
              "    </tr>\n",
              "    <tr>\n",
              "      <th>4</th>\n",
              "      <td>82089.345498</td>\n",
              "      <td>63.08</td>\n",
              "      <td>female</td>\n",
              "      <td>white</td>\n",
              "      <td>17</td>\n",
              "      <td>43</td>\n",
              "    </tr>\n",
              "  </tbody>\n",
              "</table>\n",
              "</div>"
            ],
            "text/plain": [
              "           earn  height     sex   race  ed  age\n",
              "0  79571.299011   73.89    male  white  16   49\n",
              "1  96396.988643   66.23  female  white  16   62\n",
              "2  48710.666947   63.77  female  white  16   33\n",
              "3  80478.096153   63.22  female  other  16   95\n",
              "4  82089.345498   63.08  female  white  17   43"
            ]
          },
          "execution_count": 63,
          "metadata": {},
          "output_type": "execute_result"
        }
      ],
      "source": [
        "df = pd.read_csv('wages.csv')\n",
        "df.head()"
      ]
    },
    {
      "cell_type": "code",
      "execution_count": null,
      "id": "692ae7c9-7c3b-4f94-81a4-6a105bc81d5f",
      "metadata": {
        "id": "692ae7c9-7c3b-4f94-81a4-6a105bc81d5f",
        "outputId": "4c334176-8e00-4903-c49f-92d01875da8d"
      },
      "outputs": [
        {
          "data": {
            "text/plain": [
              "array(['male', 'female'], dtype=object)"
            ]
          },
          "execution_count": 64,
          "metadata": {},
          "output_type": "execute_result"
        }
      ],
      "source": [
        "df.sex.unique()"
      ]
    },
    {
      "cell_type": "code",
      "execution_count": null,
      "id": "3f91ed50-2ed3-4901-8087-9989d16c544e",
      "metadata": {
        "id": "3f91ed50-2ed3-4901-8087-9989d16c544e",
        "outputId": "88b843e7-d7ae-4794-a5ca-b9e264c8f062"
      },
      "outputs": [
        {
          "data": {
            "text/html": [
              "<div>\n",
              "<style scoped>\n",
              "    .dataframe tbody tr th:only-of-type {\n",
              "        vertical-align: middle;\n",
              "    }\n",
              "\n",
              "    .dataframe tbody tr th {\n",
              "        vertical-align: top;\n",
              "    }\n",
              "\n",
              "    .dataframe thead th {\n",
              "        text-align: right;\n",
              "    }\n",
              "</style>\n",
              "<table border=\"1\" class=\"dataframe\">\n",
              "  <thead>\n",
              "    <tr style=\"text-align: right;\">\n",
              "      <th></th>\n",
              "      <th>earn</th>\n",
              "      <th>height</th>\n",
              "      <th>sex</th>\n",
              "      <th>race</th>\n",
              "      <th>ed</th>\n",
              "      <th>age</th>\n",
              "      <th>sex_code</th>\n",
              "    </tr>\n",
              "  </thead>\n",
              "  <tbody>\n",
              "    <tr>\n",
              "      <th>0</th>\n",
              "      <td>79571.299011</td>\n",
              "      <td>73.89</td>\n",
              "      <td>male</td>\n",
              "      <td>white</td>\n",
              "      <td>16</td>\n",
              "      <td>49</td>\n",
              "      <td>0</td>\n",
              "    </tr>\n",
              "    <tr>\n",
              "      <th>1</th>\n",
              "      <td>96396.988643</td>\n",
              "      <td>66.23</td>\n",
              "      <td>female</td>\n",
              "      <td>white</td>\n",
              "      <td>16</td>\n",
              "      <td>62</td>\n",
              "      <td>1</td>\n",
              "    </tr>\n",
              "    <tr>\n",
              "      <th>2</th>\n",
              "      <td>48710.666947</td>\n",
              "      <td>63.77</td>\n",
              "      <td>female</td>\n",
              "      <td>white</td>\n",
              "      <td>16</td>\n",
              "      <td>33</td>\n",
              "      <td>1</td>\n",
              "    </tr>\n",
              "    <tr>\n",
              "      <th>3</th>\n",
              "      <td>80478.096153</td>\n",
              "      <td>63.22</td>\n",
              "      <td>female</td>\n",
              "      <td>other</td>\n",
              "      <td>16</td>\n",
              "      <td>95</td>\n",
              "      <td>1</td>\n",
              "    </tr>\n",
              "    <tr>\n",
              "      <th>4</th>\n",
              "      <td>82089.345498</td>\n",
              "      <td>63.08</td>\n",
              "      <td>female</td>\n",
              "      <td>white</td>\n",
              "      <td>17</td>\n",
              "      <td>43</td>\n",
              "      <td>1</td>\n",
              "    </tr>\n",
              "  </tbody>\n",
              "</table>\n",
              "</div>"
            ],
            "text/plain": [
              "           earn  height     sex   race  ed  age  sex_code\n",
              "0  79571.299011   73.89    male  white  16   49         0\n",
              "1  96396.988643   66.23  female  white  16   62         1\n",
              "2  48710.666947   63.77  female  white  16   33         1\n",
              "3  80478.096153   63.22  female  other  16   95         1\n",
              "4  82089.345498   63.08  female  white  17   43         1"
            ]
          },
          "execution_count": 65,
          "metadata": {},
          "output_type": "execute_result"
        }
      ],
      "source": [
        "df['sex_code'] = df.sex.map({'male':0, 'female':1})\n",
        "df.head()"
      ]
    },
    {
      "cell_type": "markdown",
      "id": "662d148f-d6db-4aa9-9d04-42329f62735e",
      "metadata": {
        "id": "662d148f-d6db-4aa9-9d04-42329f62735e"
      },
      "source": [
        "#### **replace**\n",
        "- map 함수에서 데이터 변환 기능만 담당\n",
        "- 데이터 변환시 많이 사용하는 함수"
      ]
    },
    {
      "cell_type": "code",
      "execution_count": null,
      "id": "e5f93e06-446a-4d18-af38-ef0aaef0ff7b",
      "metadata": {
        "id": "e5f93e06-446a-4d18-af38-ef0aaef0ff7b",
        "outputId": "c62e0ec6-c28b-45da-9164-9c2b48dc2097"
      },
      "outputs": [
        {
          "data": {
            "text/plain": [
              "0       0\n",
              "1       1\n",
              "2       1\n",
              "3       1\n",
              "4       1\n",
              "       ..\n",
              "1374    0\n",
              "1375    1\n",
              "1376    1\n",
              "1377    0\n",
              "1378    0\n",
              "Name: sex, Length: 1379, dtype: int64"
            ]
          },
          "execution_count": 66,
          "metadata": {},
          "output_type": "execute_result"
        }
      ],
      "source": [
        "#df 값은 바뀌지 않는다\n",
        "df.sex.replace({'male':0, 'female':1})"
      ]
    },
    {
      "cell_type": "markdown",
      "id": "9f6af94f-2ec6-4a55-af8c-a1b94792d156",
      "metadata": {
        "id": "9f6af94f-2ec6-4a55-af8c-a1b94792d156"
      },
      "source": [
        "#### **apply**\n",
        "- map과 달리, Series 전체에 해당 함수를 적용.\n",
        "- 내장 연산 함수(**mean, std, sum** 등)를 사용할 때도 똑같은 효과를 가짐\n",
        "- scalar 값 이외에 series 값 반환도 가능"
      ]
    },
    {
      "cell_type": "code",
      "execution_count": null,
      "id": "8ba16a11-2056-466e-98a4-27c7f8011eae",
      "metadata": {
        "id": "8ba16a11-2056-466e-98a4-27c7f8011eae",
        "outputId": "8f635584-e698-4a53-f513-403de1b7ed54"
      },
      "outputs": [
        {
          "data": {
            "text/plain": [
              "earn      318047.708444\n",
              "height        19.870000\n",
              "age           73.000000\n",
              "dtype: float64"
            ]
          },
          "execution_count": 67,
          "metadata": {},
          "output_type": "execute_result"
        }
      ],
      "source": [
        "df_info = df[['earn', 'height', 'age']]\n",
        "f=lambda x : x.max() - x.min()\n",
        "df_info.apply(f)"
      ]
    },
    {
      "cell_type": "code",
      "execution_count": null,
      "id": "50d9f25e-d7d4-4d17-884e-9e3875f877bd",
      "metadata": {
        "id": "50d9f25e-d7d4-4d17-884e-9e3875f877bd",
        "outputId": "4933e36f-03f6-475d-f2db-4c11dd600c9c"
      },
      "outputs": [
        {
          "data": {
            "text/plain": [
              "earn      4.474344e+07\n",
              "height    9.183125e+04\n",
              "age       6.250800e+04\n",
              "dtype: float64"
            ]
          },
          "execution_count": 68,
          "metadata": {},
          "output_type": "execute_result"
        }
      ],
      "source": [
        "# 내장함수\n",
        "df_info.sum()\n",
        "# df_info.apply(sum)"
      ]
    },
    {
      "cell_type": "code",
      "execution_count": null,
      "id": "03be40b7-aaf8-4bc1-aa1e-0c41c084ff41",
      "metadata": {
        "id": "03be40b7-aaf8-4bc1-aa1e-0c41c084ff41",
        "outputId": "1e4d45f0-a687-462f-a40c-04a9626690c6"
      },
      "outputs": [
        {
          "data": {
            "text/html": [
              "<div>\n",
              "<style scoped>\n",
              "    .dataframe tbody tr th:only-of-type {\n",
              "        vertical-align: middle;\n",
              "    }\n",
              "\n",
              "    .dataframe tbody tr th {\n",
              "        vertical-align: top;\n",
              "    }\n",
              "\n",
              "    .dataframe thead th {\n",
              "        text-align: right;\n",
              "    }\n",
              "</style>\n",
              "<table border=\"1\" class=\"dataframe\">\n",
              "  <thead>\n",
              "    <tr style=\"text-align: right;\">\n",
              "      <th></th>\n",
              "      <th>earn</th>\n",
              "      <th>height</th>\n",
              "      <th>age</th>\n",
              "    </tr>\n",
              "  </thead>\n",
              "  <tbody>\n",
              "    <tr>\n",
              "      <th>min</th>\n",
              "      <td>-98.580489</td>\n",
              "      <td>57.34</td>\n",
              "      <td>22</td>\n",
              "    </tr>\n",
              "    <tr>\n",
              "      <th>max</th>\n",
              "      <td>317949.127955</td>\n",
              "      <td>77.21</td>\n",
              "      <td>95</td>\n",
              "    </tr>\n",
              "  </tbody>\n",
              "</table>\n",
              "</div>"
            ],
            "text/plain": [
              "              earn  height  age\n",
              "min     -98.580489   57.34   22\n",
              "max  317949.127955   77.21   95"
            ]
          },
          "execution_count": 69,
          "metadata": {},
          "output_type": "execute_result"
        }
      ],
      "source": [
        "# Series값의 반환\n",
        "def f(x):\n",
        "    return Series([x.min(), x.max()], index=['min', 'max'])\n",
        "df_info.apply(f)"
      ]
    },
    {
      "cell_type": "markdown",
      "id": "61f70cf5-5cfa-44d7-9f5e-e5be7f347400",
      "metadata": {
        "id": "61f70cf5-5cfa-44d7-9f5e-e5be7f347400"
      },
      "source": [
        "#### **applymap for dataframe**\n",
        "- series 단위가 아닌 모든 element에 함수를 적용.\n",
        "- series 단위에 apply를 적용시킬 때와 같은 효과"
      ]
    },
    {
      "cell_type": "code",
      "execution_count": null,
      "id": "4843ae74-6f7d-4b26-a2e8-a7efee492c05",
      "metadata": {
        "id": "4843ae74-6f7d-4b26-a2e8-a7efee492c05",
        "outputId": "12dcfa88-e218-4fcf-b29e-14d213f32d53"
      },
      "outputs": [
        {
          "data": {
            "text/html": [
              "<div>\n",
              "<style scoped>\n",
              "    .dataframe tbody tr th:only-of-type {\n",
              "        vertical-align: middle;\n",
              "    }\n",
              "\n",
              "    .dataframe tbody tr th {\n",
              "        vertical-align: top;\n",
              "    }\n",
              "\n",
              "    .dataframe thead th {\n",
              "        text-align: right;\n",
              "    }\n",
              "</style>\n",
              "<table border=\"1\" class=\"dataframe\">\n",
              "  <thead>\n",
              "    <tr style=\"text-align: right;\">\n",
              "      <th></th>\n",
              "      <th>earn</th>\n",
              "      <th>height</th>\n",
              "      <th>age</th>\n",
              "    </tr>\n",
              "  </thead>\n",
              "  <tbody>\n",
              "    <tr>\n",
              "      <th>0</th>\n",
              "      <td>-79571.299011</td>\n",
              "      <td>-73.89</td>\n",
              "      <td>-49</td>\n",
              "    </tr>\n",
              "    <tr>\n",
              "      <th>1</th>\n",
              "      <td>-96396.988643</td>\n",
              "      <td>-66.23</td>\n",
              "      <td>-62</td>\n",
              "    </tr>\n",
              "    <tr>\n",
              "      <th>2</th>\n",
              "      <td>-48710.666947</td>\n",
              "      <td>-63.77</td>\n",
              "      <td>-33</td>\n",
              "    </tr>\n",
              "    <tr>\n",
              "      <th>3</th>\n",
              "      <td>-80478.096153</td>\n",
              "      <td>-63.22</td>\n",
              "      <td>-95</td>\n",
              "    </tr>\n",
              "    <tr>\n",
              "      <th>4</th>\n",
              "      <td>-82089.345498</td>\n",
              "      <td>-63.08</td>\n",
              "      <td>-43</td>\n",
              "    </tr>\n",
              "  </tbody>\n",
              "</table>\n",
              "</div>"
            ],
            "text/plain": [
              "           earn  height  age\n",
              "0 -79571.299011  -73.89  -49\n",
              "1 -96396.988643  -66.23  -62\n",
              "2 -48710.666947  -63.77  -33\n",
              "3 -80478.096153  -63.22  -95\n",
              "4 -82089.345498  -63.08  -43"
            ]
          },
          "execution_count": 70,
          "metadata": {},
          "output_type": "execute_result"
        }
      ],
      "source": [
        "f = lambda x:-x\n",
        "df_info.applymap(f).head()\n",
        "#df_info['column 이름'].apply(f)"
      ]
    },
    {
      "cell_type": "markdown",
      "id": "99035a0f-1619-48dd-bc65-db1dc35de53e",
      "metadata": {
        "id": "99035a0f-1619-48dd-bc65-db1dc35de53e"
      },
      "source": [
        "### **Pandas built-in functions**"
      ]
    },
    {
      "cell_type": "markdown",
      "id": "7a90794e-f973-4a25-985d-01502d2ff20c",
      "metadata": {
        "id": "7a90794e-f973-4a25-985d-01502d2ff20c"
      },
      "source": [
        "#### **describe**\n",
        "- Numeric type 데이터의 요약 정보"
      ]
    },
    {
      "cell_type": "code",
      "execution_count": null,
      "id": "e086c6f6-2083-4783-9eb1-e3dbb05d49d3",
      "metadata": {
        "id": "e086c6f6-2083-4783-9eb1-e3dbb05d49d3",
        "outputId": "0d59d080-44bb-4ece-a036-970905539ba7"
      },
      "outputs": [
        {
          "data": {
            "text/html": [
              "<div>\n",
              "<style scoped>\n",
              "    .dataframe tbody tr th:only-of-type {\n",
              "        vertical-align: middle;\n",
              "    }\n",
              "\n",
              "    .dataframe tbody tr th {\n",
              "        vertical-align: top;\n",
              "    }\n",
              "\n",
              "    .dataframe thead th {\n",
              "        text-align: right;\n",
              "    }\n",
              "</style>\n",
              "<table border=\"1\" class=\"dataframe\">\n",
              "  <thead>\n",
              "    <tr style=\"text-align: right;\">\n",
              "      <th></th>\n",
              "      <th>earn</th>\n",
              "      <th>height</th>\n",
              "      <th>ed</th>\n",
              "      <th>age</th>\n",
              "      <th>sex_code</th>\n",
              "    </tr>\n",
              "  </thead>\n",
              "  <tbody>\n",
              "    <tr>\n",
              "      <th>count</th>\n",
              "      <td>1379.000000</td>\n",
              "      <td>1379.000000</td>\n",
              "      <td>1379.000000</td>\n",
              "      <td>1379.000000</td>\n",
              "      <td>1379.000000</td>\n",
              "    </tr>\n",
              "    <tr>\n",
              "      <th>mean</th>\n",
              "      <td>32446.292622</td>\n",
              "      <td>66.592640</td>\n",
              "      <td>13.354605</td>\n",
              "      <td>45.328499</td>\n",
              "      <td>0.622915</td>\n",
              "    </tr>\n",
              "    <tr>\n",
              "      <th>std</th>\n",
              "      <td>31257.070006</td>\n",
              "      <td>3.818108</td>\n",
              "      <td>2.438741</td>\n",
              "      <td>15.789715</td>\n",
              "      <td>0.484832</td>\n",
              "    </tr>\n",
              "    <tr>\n",
              "      <th>min</th>\n",
              "      <td>-98.580489</td>\n",
              "      <td>57.340000</td>\n",
              "      <td>3.000000</td>\n",
              "      <td>22.000000</td>\n",
              "      <td>0.000000</td>\n",
              "    </tr>\n",
              "    <tr>\n",
              "      <th>25%</th>\n",
              "      <td>10538.790721</td>\n",
              "      <td>63.720000</td>\n",
              "      <td>12.000000</td>\n",
              "      <td>33.000000</td>\n",
              "      <td>0.000000</td>\n",
              "    </tr>\n",
              "    <tr>\n",
              "      <th>50%</th>\n",
              "      <td>26877.870178</td>\n",
              "      <td>66.050000</td>\n",
              "      <td>13.000000</td>\n",
              "      <td>42.000000</td>\n",
              "      <td>1.000000</td>\n",
              "    </tr>\n",
              "    <tr>\n",
              "      <th>75%</th>\n",
              "      <td>44506.215336</td>\n",
              "      <td>69.315000</td>\n",
              "      <td>15.000000</td>\n",
              "      <td>55.000000</td>\n",
              "      <td>1.000000</td>\n",
              "    </tr>\n",
              "    <tr>\n",
              "      <th>max</th>\n",
              "      <td>317949.127955</td>\n",
              "      <td>77.210000</td>\n",
              "      <td>18.000000</td>\n",
              "      <td>95.000000</td>\n",
              "      <td>1.000000</td>\n",
              "    </tr>\n",
              "  </tbody>\n",
              "</table>\n",
              "</div>"
            ],
            "text/plain": [
              "                earn       height           ed          age     sex_code\n",
              "count    1379.000000  1379.000000  1379.000000  1379.000000  1379.000000\n",
              "mean    32446.292622    66.592640    13.354605    45.328499     0.622915\n",
              "std     31257.070006     3.818108     2.438741    15.789715     0.484832\n",
              "min       -98.580489    57.340000     3.000000    22.000000     0.000000\n",
              "25%     10538.790721    63.720000    12.000000    33.000000     0.000000\n",
              "50%     26877.870178    66.050000    13.000000    42.000000     1.000000\n",
              "75%     44506.215336    69.315000    15.000000    55.000000     1.000000\n",
              "max    317949.127955    77.210000    18.000000    95.000000     1.000000"
            ]
          },
          "execution_count": 71,
          "metadata": {},
          "output_type": "execute_result"
        }
      ],
      "source": [
        "df.describe()"
      ]
    },
    {
      "cell_type": "markdown",
      "id": "eb57d6ee-c54a-408d-9adb-719425a1dde0",
      "metadata": {
        "id": "eb57d6ee-c54a-408d-9adb-719425a1dde0"
      },
      "source": [
        "#### **unique**\n",
        "- series data의 유일한 값을 list로 반환"
      ]
    },
    {
      "cell_type": "code",
      "execution_count": null,
      "id": "64380fca-7146-41e3-886d-132017757bd7",
      "metadata": {
        "id": "64380fca-7146-41e3-886d-132017757bd7",
        "outputId": "063d979a-8ced-4a98-8e46-65f7df4ab685"
      },
      "outputs": [
        {
          "data": {
            "text/plain": [
              "array(['white', 'other', 'hispanic', 'black'], dtype=object)"
            ]
          },
          "execution_count": 72,
          "metadata": {},
          "output_type": "execute_result"
        }
      ],
      "source": [
        "df.race.unique()"
      ]
    },
    {
      "cell_type": "code",
      "execution_count": null,
      "id": "2cb67312-fb76-4d8e-ad6d-ad9dde1a84ab",
      "metadata": {
        "id": "2cb67312-fb76-4d8e-ad6d-ad9dde1a84ab",
        "outputId": "136d2c28-22f1-4aa0-af5a-1734ce9fffc5"
      },
      "outputs": [
        {
          "data": {
            "text/html": [
              "<div>\n",
              "<style scoped>\n",
              "    .dataframe tbody tr th:only-of-type {\n",
              "        vertical-align: middle;\n",
              "    }\n",
              "\n",
              "    .dataframe tbody tr th {\n",
              "        vertical-align: top;\n",
              "    }\n",
              "\n",
              "    .dataframe thead th {\n",
              "        text-align: right;\n",
              "    }\n",
              "</style>\n",
              "<table border=\"1\" class=\"dataframe\">\n",
              "  <thead>\n",
              "    <tr style=\"text-align: right;\">\n",
              "      <th></th>\n",
              "      <th>earn</th>\n",
              "      <th>height</th>\n",
              "      <th>sex</th>\n",
              "      <th>race</th>\n",
              "      <th>ed</th>\n",
              "      <th>age</th>\n",
              "      <th>sex_code</th>\n",
              "    </tr>\n",
              "  </thead>\n",
              "  <tbody>\n",
              "    <tr>\n",
              "      <th>0</th>\n",
              "      <td>79571.299011</td>\n",
              "      <td>73.89</td>\n",
              "      <td>0</td>\n",
              "      <td>0</td>\n",
              "      <td>16</td>\n",
              "      <td>49</td>\n",
              "      <td>0</td>\n",
              "    </tr>\n",
              "    <tr>\n",
              "      <th>1</th>\n",
              "      <td>96396.988643</td>\n",
              "      <td>66.23</td>\n",
              "      <td>1</td>\n",
              "      <td>0</td>\n",
              "      <td>16</td>\n",
              "      <td>62</td>\n",
              "      <td>1</td>\n",
              "    </tr>\n",
              "    <tr>\n",
              "      <th>2</th>\n",
              "      <td>48710.666947</td>\n",
              "      <td>63.77</td>\n",
              "      <td>1</td>\n",
              "      <td>0</td>\n",
              "      <td>16</td>\n",
              "      <td>33</td>\n",
              "      <td>1</td>\n",
              "    </tr>\n",
              "    <tr>\n",
              "      <th>3</th>\n",
              "      <td>80478.096153</td>\n",
              "      <td>63.22</td>\n",
              "      <td>1</td>\n",
              "      <td>1</td>\n",
              "      <td>16</td>\n",
              "      <td>95</td>\n",
              "      <td>1</td>\n",
              "    </tr>\n",
              "    <tr>\n",
              "      <th>4</th>\n",
              "      <td>82089.345498</td>\n",
              "      <td>63.08</td>\n",
              "      <td>1</td>\n",
              "      <td>0</td>\n",
              "      <td>17</td>\n",
              "      <td>43</td>\n",
              "      <td>1</td>\n",
              "    </tr>\n",
              "    <tr>\n",
              "      <th>...</th>\n",
              "      <td>...</td>\n",
              "      <td>...</td>\n",
              "      <td>...</td>\n",
              "      <td>...</td>\n",
              "      <td>...</td>\n",
              "      <td>...</td>\n",
              "      <td>...</td>\n",
              "    </tr>\n",
              "    <tr>\n",
              "      <th>1374</th>\n",
              "      <td>30173.380363</td>\n",
              "      <td>71.68</td>\n",
              "      <td>0</td>\n",
              "      <td>0</td>\n",
              "      <td>12</td>\n",
              "      <td>33</td>\n",
              "      <td>0</td>\n",
              "    </tr>\n",
              "    <tr>\n",
              "      <th>1375</th>\n",
              "      <td>24853.519514</td>\n",
              "      <td>61.31</td>\n",
              "      <td>1</td>\n",
              "      <td>0</td>\n",
              "      <td>18</td>\n",
              "      <td>86</td>\n",
              "      <td>1</td>\n",
              "    </tr>\n",
              "    <tr>\n",
              "      <th>1376</th>\n",
              "      <td>13710.671312</td>\n",
              "      <td>63.64</td>\n",
              "      <td>1</td>\n",
              "      <td>0</td>\n",
              "      <td>12</td>\n",
              "      <td>37</td>\n",
              "      <td>1</td>\n",
              "    </tr>\n",
              "    <tr>\n",
              "      <th>1377</th>\n",
              "      <td>95426.014410</td>\n",
              "      <td>71.65</td>\n",
              "      <td>0</td>\n",
              "      <td>0</td>\n",
              "      <td>12</td>\n",
              "      <td>54</td>\n",
              "      <td>0</td>\n",
              "    </tr>\n",
              "    <tr>\n",
              "      <th>1378</th>\n",
              "      <td>9575.461857</td>\n",
              "      <td>68.22</td>\n",
              "      <td>0</td>\n",
              "      <td>0</td>\n",
              "      <td>12</td>\n",
              "      <td>31</td>\n",
              "      <td>0</td>\n",
              "    </tr>\n",
              "  </tbody>\n",
              "</table>\n",
              "<p>1379 rows × 7 columns</p>\n",
              "</div>"
            ],
            "text/plain": [
              "              earn  height  sex  race  ed  age  sex_code\n",
              "0     79571.299011   73.89    0     0  16   49         0\n",
              "1     96396.988643   66.23    1     0  16   62         1\n",
              "2     48710.666947   63.77    1     0  16   33         1\n",
              "3     80478.096153   63.22    1     1  16   95         1\n",
              "4     82089.345498   63.08    1     0  17   43         1\n",
              "...            ...     ...  ...   ...  ..  ...       ...\n",
              "1374  30173.380363   71.68    0     0  12   33         0\n",
              "1375  24853.519514   61.31    1     0  18   86         1\n",
              "1376  13710.671312   63.64    1     0  12   37         1\n",
              "1377  95426.014410   71.65    0     0  12   54         0\n",
              "1378   9575.461857   68.22    0     0  12   31         0\n",
              "\n",
              "[1379 rows x 7 columns]"
            ]
          },
          "execution_count": 81,
          "metadata": {},
          "output_type": "execute_result"
        }
      ],
      "source": [
        "value = list(map(int, np.array(list(enumerate(df['race'].unique())))[:,0].tolist()))\n",
        "key = np.array(list(enumerate(df['race'].unique())), dtype=str)[:, 1].tolist()\n",
        "df['race'].replace(to_replace=key, value=value, inplace=True)\n",
        "\n",
        "value = list(map(int, np.array(list(enumerate(df['sex'].unique())))[:,0].tolist()))\n",
        "key = np.array(list(enumerate(df['sex'].unique())), dtype=str)[:, 1].tolist()\n",
        "df['sex'].replace(to_replace=key, value=value, inplace=True)\n",
        "\n",
        "df"
      ]
    },
    {
      "cell_type": "markdown",
      "id": "cafeaf6f-1141-4d69-ab82-f1856bf205e4",
      "metadata": {
        "id": "cafeaf6f-1141-4d69-ab82-f1856bf205e4"
      },
      "source": [
        "#### **isnull**\n",
        "- column 또는 row의 NaN값의 index 반환"
      ]
    },
    {
      "cell_type": "code",
      "execution_count": null,
      "id": "67081193-3ffe-496b-815c-66ac25683f0b",
      "metadata": {
        "id": "67081193-3ffe-496b-815c-66ac25683f0b",
        "outputId": "62966eb1-3195-4849-d4ee-8623aebf5209"
      },
      "outputs": [
        {
          "data": {
            "text/plain": [
              "earn        0\n",
              "height      0\n",
              "sex         0\n",
              "race        0\n",
              "ed          0\n",
              "age         0\n",
              "sex_code    0\n",
              "dtype: int64"
            ]
          },
          "execution_count": 73,
          "metadata": {},
          "output_type": "execute_result"
        }
      ],
      "source": [
        "# NaN값이 얼마나 있는지 알 수 있다\n",
        "df.isnull().sum()"
      ]
    },
    {
      "cell_type": "markdown",
      "id": "8139ec81-91d1-4d35-94b8-2df75a830376",
      "metadata": {
        "id": "8139ec81-91d1-4d35-94b8-2df75a830376"
      },
      "source": [
        "#### **sort_values**\n",
        "- column값을 기준으로 data를 sorting"
      ]
    },
    {
      "cell_type": "code",
      "execution_count": null,
      "id": "eec8233a-770a-4126-9fb5-cd9e1b4d30c0",
      "metadata": {
        "id": "eec8233a-770a-4126-9fb5-cd9e1b4d30c0",
        "outputId": "5dbb7aec-0463-4690-c32c-875e05332064"
      },
      "outputs": [
        {
          "data": {
            "text/html": [
              "<div>\n",
              "<style scoped>\n",
              "    .dataframe tbody tr th:only-of-type {\n",
              "        vertical-align: middle;\n",
              "    }\n",
              "\n",
              "    .dataframe tbody tr th {\n",
              "        vertical-align: top;\n",
              "    }\n",
              "\n",
              "    .dataframe thead th {\n",
              "        text-align: right;\n",
              "    }\n",
              "</style>\n",
              "<table border=\"1\" class=\"dataframe\">\n",
              "  <thead>\n",
              "    <tr style=\"text-align: right;\">\n",
              "      <th></th>\n",
              "      <th>earn</th>\n",
              "      <th>height</th>\n",
              "      <th>sex</th>\n",
              "      <th>race</th>\n",
              "      <th>ed</th>\n",
              "      <th>age</th>\n",
              "      <th>sex_code</th>\n",
              "    </tr>\n",
              "  </thead>\n",
              "  <tbody>\n",
              "    <tr>\n",
              "      <th>1038</th>\n",
              "      <td>-56.321979</td>\n",
              "      <td>67.81</td>\n",
              "      <td>male</td>\n",
              "      <td>hispanic</td>\n",
              "      <td>10</td>\n",
              "      <td>22</td>\n",
              "      <td>0</td>\n",
              "    </tr>\n",
              "    <tr>\n",
              "      <th>800</th>\n",
              "      <td>-27.876819</td>\n",
              "      <td>72.29</td>\n",
              "      <td>male</td>\n",
              "      <td>white</td>\n",
              "      <td>12</td>\n",
              "      <td>22</td>\n",
              "      <td>0</td>\n",
              "    </tr>\n",
              "    <tr>\n",
              "      <th>963</th>\n",
              "      <td>-25.655260</td>\n",
              "      <td>68.90</td>\n",
              "      <td>male</td>\n",
              "      <td>white</td>\n",
              "      <td>12</td>\n",
              "      <td>22</td>\n",
              "      <td>0</td>\n",
              "    </tr>\n",
              "    <tr>\n",
              "      <th>1105</th>\n",
              "      <td>988.565070</td>\n",
              "      <td>64.71</td>\n",
              "      <td>female</td>\n",
              "      <td>white</td>\n",
              "      <td>12</td>\n",
              "      <td>22</td>\n",
              "      <td>1</td>\n",
              "    </tr>\n",
              "    <tr>\n",
              "      <th>801</th>\n",
              "      <td>1000.221504</td>\n",
              "      <td>64.09</td>\n",
              "      <td>female</td>\n",
              "      <td>white</td>\n",
              "      <td>12</td>\n",
              "      <td>22</td>\n",
              "      <td>1</td>\n",
              "    </tr>\n",
              "  </tbody>\n",
              "</table>\n",
              "</div>"
            ],
            "text/plain": [
              "             earn  height     sex      race  ed  age  sex_code\n",
              "1038   -56.321979   67.81    male  hispanic  10   22         0\n",
              "800    -27.876819   72.29    male     white  12   22         0\n",
              "963    -25.655260   68.90    male     white  12   22         0\n",
              "1105   988.565070   64.71  female     white  12   22         1\n",
              "801   1000.221504   64.09  female     white  12   22         1"
            ]
          },
          "execution_count": 74,
          "metadata": {},
          "output_type": "execute_result"
        }
      ],
      "source": [
        "df.sort_values(['age','earn'], ascending=True).head()"
      ]
    },
    {
      "cell_type": "markdown",
      "id": "dad56255-ff59-4a22-9c67-9ebece5a9d70",
      "metadata": {
        "id": "dad56255-ff59-4a22-9c67-9ebece5a9d70"
      },
      "source": [
        "#### **corr, cov, corrwith**\n",
        "- corr: 상관계수\n",
        "- cov: 공분산\n",
        "- corrwith: 한 column의 dataframe 전체에 대한 상관계수"
      ]
    },
    {
      "cell_type": "code",
      "execution_count": null,
      "id": "c8fe7425-a388-43b9-993d-571ad18a9c97",
      "metadata": {
        "id": "c8fe7425-a388-43b9-993d-571ad18a9c97",
        "outputId": "d318c648-80e7-4720-ba7f-58dac9781587"
      },
      "outputs": [
        {
          "data": {
            "text/plain": [
              "0.07400349177836056"
            ]
          },
          "execution_count": 75,
          "metadata": {},
          "output_type": "execute_result"
        }
      ],
      "source": [
        "df.age.corr(df.earn)"
      ]
    },
    {
      "cell_type": "code",
      "execution_count": null,
      "id": "20077a74-2242-47c1-9e5f-227e36d2c2b7",
      "metadata": {
        "id": "20077a74-2242-47c1-9e5f-227e36d2c2b7",
        "outputId": "4c131485-4578-4f38-94e2-d347b0dc578e"
      },
      "outputs": [
        {
          "data": {
            "text/plain": [
              "36523.69921040891"
            ]
          },
          "execution_count": 76,
          "metadata": {},
          "output_type": "execute_result"
        }
      ],
      "source": [
        "df.age.cov(df.earn)"
      ]
    },
    {
      "cell_type": "code",
      "execution_count": null,
      "id": "a8e7c7be-d5d7-4dbd-b423-619778e00210",
      "metadata": {
        "id": "a8e7c7be-d5d7-4dbd-b423-619778e00210",
        "outputId": "23f80b9d-97c9-470d-c4b2-641e6765d91d"
      },
      "outputs": [
        {
          "data": {
            "text/plain": [
              "earn        1.000000\n",
              "height      0.291601\n",
              "sex        -0.337328\n",
              "race       -0.063977\n",
              "ed          0.350373\n",
              "age         0.074003\n",
              "sex_code   -0.337328\n",
              "dtype: float64"
            ]
          },
          "execution_count": 82,
          "metadata": {},
          "output_type": "execute_result"
        }
      ],
      "source": [
        "df.corrwith(df.earn.astype(int))"
      ]
    },
    {
      "cell_type": "code",
      "execution_count": null,
      "id": "9c31b8e3-4778-4eec-bd97-e6a00bdd1ff6",
      "metadata": {
        "id": "9c31b8e3-4778-4eec-bd97-e6a00bdd1ff6",
        "outputId": "90877965-8f29-43b4-dc34-032d1c11b013"
      },
      "outputs": [
        {
          "data": {
            "text/html": [
              "<div>\n",
              "<style scoped>\n",
              "    .dataframe tbody tr th:only-of-type {\n",
              "        vertical-align: middle;\n",
              "    }\n",
              "\n",
              "    .dataframe tbody tr th {\n",
              "        vertical-align: top;\n",
              "    }\n",
              "\n",
              "    .dataframe thead th {\n",
              "        text-align: right;\n",
              "    }\n",
              "</style>\n",
              "<table border=\"1\" class=\"dataframe\">\n",
              "  <thead>\n",
              "    <tr style=\"text-align: right;\">\n",
              "      <th></th>\n",
              "      <th>earn</th>\n",
              "      <th>height</th>\n",
              "      <th>sex</th>\n",
              "      <th>race</th>\n",
              "      <th>ed</th>\n",
              "      <th>age</th>\n",
              "      <th>sex_code</th>\n",
              "    </tr>\n",
              "  </thead>\n",
              "  <tbody>\n",
              "    <tr>\n",
              "      <th>earn</th>\n",
              "      <td>1.000000</td>\n",
              "      <td>0.291600</td>\n",
              "      <td>-0.337328</td>\n",
              "      <td>-0.063977</td>\n",
              "      <td>0.350374</td>\n",
              "      <td>0.074003</td>\n",
              "      <td>-0.337328</td>\n",
              "    </tr>\n",
              "    <tr>\n",
              "      <th>height</th>\n",
              "      <td>0.291600</td>\n",
              "      <td>1.000000</td>\n",
              "      <td>-0.703672</td>\n",
              "      <td>-0.045974</td>\n",
              "      <td>0.114047</td>\n",
              "      <td>-0.133727</td>\n",
              "      <td>-0.703672</td>\n",
              "    </tr>\n",
              "    <tr>\n",
              "      <th>sex</th>\n",
              "      <td>-0.337328</td>\n",
              "      <td>-0.703672</td>\n",
              "      <td>1.000000</td>\n",
              "      <td>0.000858</td>\n",
              "      <td>-0.061747</td>\n",
              "      <td>0.070036</td>\n",
              "      <td>1.000000</td>\n",
              "    </tr>\n",
              "    <tr>\n",
              "      <th>race</th>\n",
              "      <td>-0.063977</td>\n",
              "      <td>-0.045974</td>\n",
              "      <td>0.000858</td>\n",
              "      <td>1.000000</td>\n",
              "      <td>-0.049487</td>\n",
              "      <td>-0.056879</td>\n",
              "      <td>0.000858</td>\n",
              "    </tr>\n",
              "    <tr>\n",
              "      <th>ed</th>\n",
              "      <td>0.350374</td>\n",
              "      <td>0.114047</td>\n",
              "      <td>-0.061747</td>\n",
              "      <td>-0.049487</td>\n",
              "      <td>1.000000</td>\n",
              "      <td>-0.129802</td>\n",
              "      <td>-0.061747</td>\n",
              "    </tr>\n",
              "    <tr>\n",
              "      <th>age</th>\n",
              "      <td>0.074003</td>\n",
              "      <td>-0.133727</td>\n",
              "      <td>0.070036</td>\n",
              "      <td>-0.056879</td>\n",
              "      <td>-0.129802</td>\n",
              "      <td>1.000000</td>\n",
              "      <td>0.070036</td>\n",
              "    </tr>\n",
              "    <tr>\n",
              "      <th>sex_code</th>\n",
              "      <td>-0.337328</td>\n",
              "      <td>-0.703672</td>\n",
              "      <td>1.000000</td>\n",
              "      <td>0.000858</td>\n",
              "      <td>-0.061747</td>\n",
              "      <td>0.070036</td>\n",
              "      <td>1.000000</td>\n",
              "    </tr>\n",
              "  </tbody>\n",
              "</table>\n",
              "</div>"
            ],
            "text/plain": [
              "              earn    height       sex      race        ed       age  sex_code\n",
              "earn      1.000000  0.291600 -0.337328 -0.063977  0.350374  0.074003 -0.337328\n",
              "height    0.291600  1.000000 -0.703672 -0.045974  0.114047 -0.133727 -0.703672\n",
              "sex      -0.337328 -0.703672  1.000000  0.000858 -0.061747  0.070036  1.000000\n",
              "race     -0.063977 -0.045974  0.000858  1.000000 -0.049487 -0.056879  0.000858\n",
              "ed        0.350374  0.114047 -0.061747 -0.049487  1.000000 -0.129802 -0.061747\n",
              "age       0.074003 -0.133727  0.070036 -0.056879 -0.129802  1.000000  0.070036\n",
              "sex_code -0.337328 -0.703672  1.000000  0.000858 -0.061747  0.070036  1.000000"
            ]
          },
          "execution_count": 83,
          "metadata": {},
          "output_type": "execute_result"
        }
      ],
      "source": [
        "#모든 column들간의 상관관계\n",
        "df.corr()"
      ]
    },
    {
      "cell_type": "code",
      "execution_count": null,
      "id": "656afa7a-f6ba-4745-97ff-fff3abf34113",
      "metadata": {
        "id": "656afa7a-f6ba-4745-97ff-fff3abf34113",
        "outputId": "0155af9a-40e3-4975-de6d-636f900d8654"
      },
      "outputs": [
        {
          "data": {
            "text/plain": [
              "sex\n",
              "1    0.622915\n",
              "0    0.377085\n",
              "Name: count, dtype: float64"
            ]
          },
          "execution_count": 85,
          "metadata": {},
          "output_type": "execute_result"
        }
      ],
      "source": [
        "#value들이 각각 얼마나 있는지 나타냄.\n",
        "#len(df)로 나누면 비율을 얻을 수 있음.\n",
        "df.sex.value_counts(sort=True) / len(df)"
      ]
    }
  ],
  "metadata": {
    "kernelspec": {
      "display_name": "Python 3 (ipykernel)",
      "language": "python",
      "name": "python3"
    },
    "language_info": {
      "codemirror_mode": {
        "name": "ipython",
        "version": 3
      },
      "file_extension": ".py",
      "mimetype": "text/x-python",
      "name": "python",
      "nbconvert_exporter": "python",
      "pygments_lexer": "ipython3",
      "version": "3.8.19"
    },
    "colab": {
      "provenance": []
    }
  },
  "nbformat": 4,
  "nbformat_minor": 5
}