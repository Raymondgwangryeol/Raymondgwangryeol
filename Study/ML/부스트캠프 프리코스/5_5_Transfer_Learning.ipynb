{
  "nbformat": 4,
  "nbformat_minor": 0,
  "metadata": {
    "colab": {
      "provenance": [],
      "gpuType": "T4"
    },
    "kernelspec": {
      "name": "python3",
      "display_name": "Python 3"
    },
    "language_info": {
      "name": "python"
    },
    "accelerator": "GPU"
  },
  "cells": [
    {
      "cell_type": "markdown",
      "source": [
        "## **목표**\n",
        "딥러닝의 중요 개념 중 하나인 **전이학습(Transfer Learning)**은 이미 학습된 모델의 지식을 새로운 학습에 활용하는 방법으로, 효율적이고 빠른 학습을 가능하게 한다.    \n",
        "PyTorch에서는 다양한 **사전 학습된 모델**을 제공하고 있으며, 이런 모델들을 기반으로 전이학습을 수행할 수 있다.   \n",
        "PyTorch에서 제공되는 모델들을 저장하고 불러와 보고, 데이터셋을 통해 전이 학습을 실습해본다."
      ],
      "metadata": {
        "id": "0x5oy9VhQgE3"
      }
    },
    {
      "cell_type": "code",
      "execution_count": null,
      "metadata": {
        "id": "lo-BQve9yAcg",
        "colab": {
          "base_uri": "https://localhost:8080/"
        },
        "outputId": "854d0f1f-d2e0-4f93-9acf-f0d71dd52f28"
      },
      "outputs": [
        {
          "output_type": "stream",
          "name": "stdout",
          "text": [
            "Requirement already satisfied: torchsummary in /usr/local/lib/python3.10/dist-packages (1.5.1)\n"
          ]
        }
      ],
      "source": [
        "!pip install torchsummary"
      ]
    },
    {
      "cell_type": "markdown",
      "source": [
        "**❓퀴즈**   \n",
        "### **torch.save()**\n",
        "- 학습의 결과를 저장하기 위한 함수\n",
        "- **🖊 정답:** 모델 형태(architecture)와 파라미터(가중치)를 저장\n",
        "- 중간 과정의 저장을 통해 최선의 결과 모델을 선택, 만든 모델을 외부 연구자와 공유하여 삭습 재연성 향상"
      ],
      "metadata": {
        "id": "3f-Ceqa8nTZU"
      }
    },
    {
      "cell_type": "markdown",
      "source": [
        "### **checkpoints**\n",
        "- 학습의 중간 결과를 저장하여 최선의 결과를 선택\n",
        "- Early Stopping 기법 사용시 이전 학습의 결과물을 저장\n",
        "- loss, metric값을 지속적으로 확인, 저장\n",
        "    - 일반적으로 epoch, loss, metric을 함께 저장하여 확인"
      ],
      "metadata": {
        "id": "VUDDuVuToiBs"
      }
    },
    {
      "cell_type": "markdown",
      "source": [
        "### **1. PyTorch 모델 저장하기 & 불러오기**"
      ],
      "metadata": {
        "id": "OwVHmvcpyK4x"
      }
    },
    {
      "cell_type": "code",
      "source": [
        "import os\n",
        "import shutil\n",
        "import zipfile\n",
        "import warnings\n",
        "import torch\n",
        "import torch.nn as nn\n",
        "import torch.optim as optim\n",
        "import torchvision.transforms as transforms\n",
        "from torchsummary import summary\n",
        "from os import walk\n",
        "from PIL import Image\n",
        "from torchvision import datasets\n",
        "from torchvision import models\n",
        "\n",
        "warnings.filterwarnings(\"ignore\")"
      ],
      "metadata": {
        "id": "qoJLkhqDyR-C"
      },
      "execution_count": null,
      "outputs": []
    },
    {
      "cell_type": "code",
      "source": [
        "# 신경망 모델 클래스 정의\n",
        "class TheModelClass(nn.Module):\n",
        "    def __init__(self):\n",
        "        super(TheModelClass, self).__init__()\n",
        "\n",
        "        # 첫 번째 층: 합성곱, 배치 정규화, ReLU 활성화 함수, 최대 풀링 포함\n",
        "        self.layer1 = nn.Sequential(\n",
        "            nn.Conv2d(3, 16, kernel_size=3, stride=2, padding=0),\n",
        "            nn.BatchNorm2d(16),\n",
        "            nn.ReLU(),\n",
        "            nn.MaxPool2d(kernel_size=2, stride=2))\n",
        "\n",
        "        # 두 번째 층\n",
        "        self.layer2 = nn.Sequential(\n",
        "            nn.Conv2d(16, 32, kernel_size=3, stride=2, padding=0),\n",
        "            nn.BatchNorm2d(32),\n",
        "            nn.ReLU(),\n",
        "            nn.MaxPool2d(kernel_size=2, stride=2))\n",
        "\n",
        "        # 세 번째 층\n",
        "        self.layer3 = nn.Sequential(\n",
        "            nn.Conv2d(32, 64, kernel_size=3, stride=2, padding=0),\n",
        "            nn.BatchNorm2d(64),\n",
        "            nn.ReLU(),\n",
        "            nn.MaxPool2d(kernel_size=2, stride=2))\n",
        "\n",
        "        # 드롭아웃 층\n",
        "        self.drop_out = nn.Dropout()\n",
        "\n",
        "        # 완전 연결 층\n",
        "        self.fc1 = nn.Linear(3 * 3 * 64, 1000)\n",
        "        self.fc2 = nn.Linear(1000, 1)\n",
        "\n",
        "    # 순전파 함수 정의\n",
        "    def forward(self, x):\n",
        "        out = self.layer1(x)\n",
        "        out = self.layer2(out)\n",
        "        out = self.layer3(out)\n",
        "\n",
        "        # 텐서를 1차원으로 변환\n",
        "        out = out.view(out.size(0), -1)\n",
        "        out = self.drop_out(out)\n",
        "        out = self.fc1(out)\n",
        "        out = self.fc2(out)\n",
        "        return out"
      ],
      "metadata": {
        "id": "ARHyBIf8ySYe"
      },
      "execution_count": null,
      "outputs": []
    },
    {
      "cell_type": "code",
      "source": [
        "# 모델 초기화 및 GPU로 이동.\n",
        "model = TheModelClass().cuda()\n",
        "\n",
        "# optimizer 초기화, SGD 사용\n",
        "optimizer = optim.SGD(model.parameters(), lr=0.1, momentum=0.9)"
      ],
      "metadata": {
        "id": "4J3MDsLg0RhJ"
      },
      "execution_count": null,
      "outputs": []
    },
    {
      "cell_type": "code",
      "source": [
        "# 모델 상태 사전 출력\n",
        "# ordered dict 타입으로 출력됨.\n",
        "print(\"Model's state_dict:\")\n",
        "for param_tensor in model.state_dict():\n",
        "    print(param_tensor, \"\\t\", model.state_dict()[param_tensor].size())"
      ],
      "metadata": {
        "id": "Ca1qzGdN0nM_",
        "colab": {
          "base_uri": "https://localhost:8080/"
        },
        "outputId": "28fbad06-5b5d-4e52-b2e8-e7aed14bb941"
      },
      "execution_count": null,
      "outputs": [
        {
          "output_type": "stream",
          "name": "stdout",
          "text": [
            "Model's state_dict:\n",
            "layer1.0.weight \t torch.Size([16, 3, 3, 3])\n",
            "layer1.0.bias \t torch.Size([16])\n",
            "layer1.1.weight \t torch.Size([16])\n",
            "layer1.1.bias \t torch.Size([16])\n",
            "layer1.1.running_mean \t torch.Size([16])\n",
            "layer1.1.running_var \t torch.Size([16])\n",
            "layer1.1.num_batches_tracked \t torch.Size([])\n",
            "layer2.0.weight \t torch.Size([32, 16, 3, 3])\n",
            "layer2.0.bias \t torch.Size([32])\n",
            "layer2.1.weight \t torch.Size([32])\n",
            "layer2.1.bias \t torch.Size([32])\n",
            "layer2.1.running_mean \t torch.Size([32])\n",
            "layer2.1.running_var \t torch.Size([32])\n",
            "layer2.1.num_batches_tracked \t torch.Size([])\n",
            "layer3.0.weight \t torch.Size([64, 32, 3, 3])\n",
            "layer3.0.bias \t torch.Size([64])\n",
            "layer3.1.weight \t torch.Size([64])\n",
            "layer3.1.bias \t torch.Size([64])\n",
            "layer3.1.running_mean \t torch.Size([64])\n",
            "layer3.1.running_var \t torch.Size([64])\n",
            "layer3.1.num_batches_tracked \t torch.Size([])\n",
            "fc1.weight \t torch.Size([1000, 576])\n",
            "fc1.bias \t torch.Size([1000])\n",
            "fc2.weight \t torch.Size([1, 1000])\n",
            "fc2.bias \t torch.Size([1])\n"
          ]
        }
      ]
    },
    {
      "cell_type": "code",
      "source": [
        "# 모델 상태 사전 타입 출력\n",
        "type(model.state_dict())"
      ],
      "metadata": {
        "id": "SiX3fPse00Xj",
        "colab": {
          "base_uri": "https://localhost:8080/"
        },
        "outputId": "08c6f336-b5b4-43b1-ddcf-e3fbb59711fc"
      },
      "execution_count": null,
      "outputs": [
        {
          "output_type": "execute_result",
          "data": {
            "text/plain": [
              "collections.OrderedDict"
            ]
          },
          "metadata": {},
          "execution_count": 14
        }
      ]
    },
    {
      "cell_type": "code",
      "source": [
        "# 모델의 구조 및 파라미터 요약 출력\n",
        "# summary로 상태 사전을 케라스 형태로 확인할 수 있음.\n",
        "# 이렇게 보는 것을 권장\n",
        "summary(model, (3, 244, 244))"
      ],
      "metadata": {
        "id": "XbIhudsg0_D2",
        "colab": {
          "base_uri": "https://localhost:8080/"
        },
        "outputId": "f52f9108-b8cc-46ab-bbc8-089dfa00a65e"
      },
      "execution_count": null,
      "outputs": [
        {
          "output_type": "stream",
          "name": "stdout",
          "text": [
            "----------------------------------------------------------------\n",
            "        Layer (type)               Output Shape         Param #\n",
            "================================================================\n",
            "            Conv2d-1         [-1, 16, 121, 121]             448\n",
            "       BatchNorm2d-2         [-1, 16, 121, 121]              32\n",
            "              ReLU-3         [-1, 16, 121, 121]               0\n",
            "         MaxPool2d-4           [-1, 16, 60, 60]               0\n",
            "            Conv2d-5           [-1, 32, 29, 29]           4,640\n",
            "       BatchNorm2d-6           [-1, 32, 29, 29]              64\n",
            "              ReLU-7           [-1, 32, 29, 29]               0\n",
            "         MaxPool2d-8           [-1, 32, 14, 14]               0\n",
            "            Conv2d-9             [-1, 64, 6, 6]          18,496\n",
            "      BatchNorm2d-10             [-1, 64, 6, 6]             128\n",
            "             ReLU-11             [-1, 64, 6, 6]               0\n",
            "        MaxPool2d-12             [-1, 64, 3, 3]               0\n",
            "          Dropout-13                  [-1, 576]               0\n",
            "           Linear-14                 [-1, 1000]         577,000\n",
            "           Linear-15                    [-1, 1]           1,001\n",
            "================================================================\n",
            "Total params: 601,809\n",
            "Trainable params: 601,809\n",
            "Non-trainable params: 0\n",
            "----------------------------------------------------------------\n",
            "Input size (MB): 0.68\n",
            "Forward/backward pass size (MB): 6.53\n",
            "Params size (MB): 2.30\n",
            "Estimated Total Size (MB): 9.51\n",
            "----------------------------------------------------------------\n"
          ]
        }
      ]
    },
    {
      "cell_type": "code",
      "source": [
        "# 모델 저장 경로\n",
        "MODEL_PATH = \"saved\"\n",
        "\n",
        "# 지정된 경로가 존재하지 않으면, 해당 경로를 생성\n",
        "if not os.path.exists(MODEL_PATH):\n",
        "    os.makedirs(MODEL_PATH)\n",
        "\n",
        "# 모델의 상태 사전을 저장.\n",
        "torch.save(model.state_dict(), os.path.join(MODEL_PATH, 'model.pt'))"
      ],
      "metadata": {
        "id": "Fe-Ah37w1FmY"
      },
      "execution_count": null,
      "outputs": []
    },
    {
      "cell_type": "code",
      "source": [
        "# 모델 불러오기\n",
        "# 동일한 모델이어야 함\n",
        "device = torch.device('cuda' if torch.cuda.is_available() else 'cpu')\n",
        "\n",
        "new_model = TheModelClass()\n",
        "new_model.load_state_dict(torch.load(os.path.join(MODEL_PATH, 'model.pt')))"
      ],
      "metadata": {
        "id": "JrKcV1tx1zE1",
        "colab": {
          "base_uri": "https://localhost:8080/"
        },
        "outputId": "5c6fd696-4f03-414e-da9a-1828c3d959db"
      },
      "execution_count": null,
      "outputs": [
        {
          "output_type": "execute_result",
          "data": {
            "text/plain": [
              "<All keys matched successfully>"
            ]
          },
          "metadata": {},
          "execution_count": 17
        }
      ]
    },
    {
      "cell_type": "code",
      "source": [
        "# 전체 모델을 파일로 저장(pickle)\n",
        "torch.save(model, os.path.join(MODEL_PATH, 'model_pickle.pt'))\n",
        "\n",
        "# 저장된 전체 모델 불러오기\n",
        "model = torch.load(os.path.join(MODEL_PATH, 'model_pickle.pt'))\n",
        "\n",
        "# 모델을 평가 모드로 설정. (드롭 아웃 및 배치 정규화 비활성화)\n",
        "model.eval()"
      ],
      "metadata": {
        "id": "ILYj13Yf2Hnz",
        "colab": {
          "base_uri": "https://localhost:8080/"
        },
        "outputId": "d9e6c910-8c8b-4d8a-c1f7-8c5b983e2de7"
      },
      "execution_count": null,
      "outputs": [
        {
          "output_type": "execute_result",
          "data": {
            "text/plain": [
              "TheModelClass(\n",
              "  (layer1): Sequential(\n",
              "    (0): Conv2d(3, 16, kernel_size=(3, 3), stride=(2, 2))\n",
              "    (1): BatchNorm2d(16, eps=1e-05, momentum=0.1, affine=True, track_running_stats=True)\n",
              "    (2): ReLU()\n",
              "    (3): MaxPool2d(kernel_size=2, stride=2, padding=0, dilation=1, ceil_mode=False)\n",
              "  )\n",
              "  (layer2): Sequential(\n",
              "    (0): Conv2d(16, 32, kernel_size=(3, 3), stride=(2, 2))\n",
              "    (1): BatchNorm2d(32, eps=1e-05, momentum=0.1, affine=True, track_running_stats=True)\n",
              "    (2): ReLU()\n",
              "    (3): MaxPool2d(kernel_size=2, stride=2, padding=0, dilation=1, ceil_mode=False)\n",
              "  )\n",
              "  (layer3): Sequential(\n",
              "    (0): Conv2d(32, 64, kernel_size=(3, 3), stride=(2, 2))\n",
              "    (1): BatchNorm2d(64, eps=1e-05, momentum=0.1, affine=True, track_running_stats=True)\n",
              "    (2): ReLU()\n",
              "    (3): MaxPool2d(kernel_size=2, stride=2, padding=0, dilation=1, ceil_mode=False)\n",
              "  )\n",
              "  (drop_out): Dropout(p=0.5, inplace=False)\n",
              "  (fc1): Linear(in_features=576, out_features=1000, bias=True)\n",
              "  (fc2): Linear(in_features=1000, out_features=1, bias=True)\n",
              ")"
            ]
          },
          "metadata": {},
          "execution_count": 18
        }
      ]
    },
    {
      "cell_type": "code",
      "source": [
        "# 개와 고양이 데이터셋 가져오기\n",
        "!wget https://download.microsoft.com/download/3/E/1/3E1C3F21-ECDB-4869-8368-6DEBA77B919F/kagglecatsanddogs_5340.zip"
      ],
      "metadata": {
        "id": "VEO9sx-e2jt8"
      },
      "execution_count": null,
      "outputs": []
    },
    {
      "cell_type": "code",
      "source": [
        "# 드라이브 마운트 해서 가져오는게 더 빠름.\n",
        "from google.colab import drive\n",
        "drive.mount('/content/drive')"
      ],
      "metadata": {
        "colab": {
          "base_uri": "https://localhost:8080/"
        },
        "id": "v-cuU_CKFpXf",
        "outputId": "98c464a2-3cad-4299-fbe3-5858e6bec8f2"
      },
      "execution_count": null,
      "outputs": [
        {
          "output_type": "stream",
          "name": "stdout",
          "text": [
            "Mounted at /content/drive\n"
          ]
        }
      ]
    },
    {
      "cell_type": "code",
      "source": [
        "# 압축 파일명 지정\n",
        "filename = 'kagglecatsanddogs_5340.zip'\n",
        "\n",
        "# 압축 파일 풀기\n",
        "with zipfile.ZipFile(filename, 'r') as zip_ref:\n",
        "    zip_ref.extractall()\n",
        "\n",
        "# 'PetImages' 폴더를 'data'폴더로 이동\n",
        "shutil.move('PetImages', 'data')\n",
        "\n",
        "# 'data' 폴더 내의 모든 파일 경로를 가져오기\n",
        "my_path='data'\n",
        "f_path=[]\n",
        "for(dirpath, dirnames, filenames) in walk(my_path):\n",
        "    f_path.extend(os.path.join(dirpath, filename) for filename in filenames)\n",
        "\n",
        "# 손상된 이미지 파일이 있는지 확인, 손상된 파일은 삭제.\n",
        "for f_name in f_path:\n",
        "    try:\n",
        "        Image.open(f_name)\n",
        "    except Exception as e:\n",
        "        print(e)\n",
        "        os.remove(f_name)"
      ],
      "metadata": {
        "id": "UDEPVn012l5b",
        "colab": {
          "base_uri": "https://localhost:8080/"
        },
        "outputId": "700ef909-b89c-4175-8d84-7ab75ab29c20"
      },
      "execution_count": null,
      "outputs": [
        {
          "output_type": "stream",
          "name": "stdout",
          "text": [
            "cannot identify image file 'data/Dog/11702.jpg'\n",
            "cannot identify image file 'data/Dog/Thumbs.db'\n",
            "cannot identify image file 'data/Cat/666.jpg'\n",
            "cannot identify image file 'data/Cat/Thumbs.db'\n"
          ]
        }
      ]
    },
    {
      "cell_type": "code",
      "source": [
        "# 데이터셋 로드, 전처리\n",
        "dataset = datasets.ImageFolder(\n",
        "                                root='data',\n",
        "                                transform=transforms.Compose([\n",
        "                                    transforms.Resize(244),\n",
        "                                    transforms.CenterCrop(244),\n",
        "                                    transforms.ToTensor(),\n",
        "                                    transforms.Normalize((0.5,0.5,0.5),\n",
        "                                                         (0.5,0.5,0.5))\n",
        "                                ]))\n",
        "dataloader = torch.utils.data.DataLoader(dataset,\n",
        "                                         batch_size=8,\n",
        "                                         shuffle=True,\n",
        "                                         num_workers=8)"
      ],
      "metadata": {
        "id": "hX8hV2nX4Pf1"
      },
      "execution_count": null,
      "outputs": []
    },
    {
      "cell_type": "code",
      "source": [
        "# 이진 분류 정확도를 계산하는 함수\n",
        "def binary_acc(y_pred, y_test):\n",
        "    y_pred_tag = torch.round(torch.sigmoid(y_pred))\n",
        "    correct_results_sum = (y_pred_tag == y_test).sum().float()\n",
        "    acc = correct_results_sum/y_test.shape[0]\n",
        "    acc = torch.round(acc * 100)\n",
        "    return acc"
      ],
      "metadata": {
        "id": "REmJT4OB5O_b"
      },
      "execution_count": null,
      "outputs": []
    },
    {
      "cell_type": "code",
      "source": [
        "EPOCHS = 10\n",
        "BATCH_SIZE = 64\n",
        "LEARNING_RATE = 0.1"
      ],
      "metadata": {
        "id": "C7PjVctw74r_"
      },
      "execution_count": null,
      "outputs": []
    },
    {
      "cell_type": "code",
      "source": [
        "model.to(device)\n",
        "\n",
        "# nn.BCEWithLogitsLoss:\n",
        "# 맨 끝 층에 sigmoid가 없는 모델의 경우,\n",
        "# sigmoid가 없어도 자동으로 나온 값에 sigmoid를 적용시켜주는 Loss함수.\n",
        "# binary classification에 이용\n",
        "criterion = nn.BCEWithLogitsLoss()\n",
        "optimizer = optim.Adam(model.parameters(), lr=LEARNING_RATE)"
      ],
      "metadata": {
        "id": "Cpicq9y47-wq"
      },
      "execution_count": null,
      "outputs": []
    },
    {
      "cell_type": "code",
      "source": [
        "for e in range(1, EPOCHS+1):\n",
        "    epoch_loss = 0\n",
        "    epoch_acc = 0\n",
        "    for X_batch, y_batch in dataloader:\n",
        "        X_batch, y_batch = X_batch.to(device), y_batch.to(device).type(torch.cuda.FloatTensor)\n",
        "\n",
        "        optimizer.zero_grad()\n",
        "        y_pred = model(X_batch)\n",
        "        # y_pred=(batch_size, 1), y_batch=(batch_size)\n",
        "        loss = criterion(y_pred, y_batch.unsqueeze(1))\n",
        "        acc = binary_acc(y_pred, y_batch.unsqueeze(1))\n",
        "\n",
        "        loss.backward()\n",
        "        optimizer.step()\n",
        "\n",
        "        epoch_loss += loss.item()\n",
        "        epoch_acc += acc.item()\n",
        "\n",
        "    # 모델의 상태와 옵티마이저의 상태를 저장.\n",
        "    # 이렇게 saved 폴더에 저장하는 것 보다는, 구글 드라이브 안의 폴더에 저장하는 것이 좋다.\n",
        "    # loss가 좋아지면 저장한다거나, acc가 좋아지면 저장한다거나,\n",
        "    # 더 이상 loss가 줄지 않고 증가하면 멈춘다거나 이런 식으로 활용할 수 있다.\n",
        "    # 모델 저장 시 .pth보다는 .pt를 쓰는 것을 추천.\n",
        "    torch.save(\n",
        "        {\n",
        "            'epoch':e,\n",
        "            'model_state_dict': model.state_dict(),\n",
        "            'optimizer_state_dict': optimizer.state_dict(),\n",
        "            'loss': epoch_loss\n",
        "        },f\"saved/checkpoint_model_{e}_{epoch_loss/len(dataloader)}_{epoch_acc/len(dataloader)}.pt\")\n",
        "\n",
        "    # 에폭별 손실과 정확도를 출력.\n",
        "    print(f'Epoch {e+0:03}: | Loss: {epoch_loss/len(dataloader):.5f} | Acc: {epoch_acc/len(dataloader):.3f}')"
      ],
      "metadata": {
        "id": "DHtFFIh68SuN",
        "colab": {
          "base_uri": "https://localhost:8080/"
        },
        "outputId": "1b0fc02a-6c57-4680-ae1b-169c02a0f8b0"
      },
      "execution_count": null,
      "outputs": [
        {
          "output_type": "stream",
          "name": "stdout",
          "text": [
            "Epoch 001: | Loss: 0.84945 | Acc: 49.935\n",
            "Epoch 002: | Loss: 0.87515 | Acc: 49.725\n",
            "Epoch 003: | Loss: 0.87216 | Acc: 50.094\n",
            "Epoch 004: | Loss: 0.81532 | Acc: 49.968\n",
            "Epoch 005: | Loss: 0.85331 | Acc: 49.544\n",
            "Epoch 006: | Loss: 0.84168 | Acc: 50.053\n",
            "Epoch 007: | Loss: 0.84857 | Acc: 50.092\n",
            "Epoch 008: | Loss: 0.85844 | Acc: 50.081\n",
            "Epoch 009: | Loss: 0.84216 | Acc: 50.503\n",
            "Epoch 010: | Loss: 0.84573 | Acc: 49.835\n"
          ]
        }
      ]
    },
    {
      "cell_type": "markdown",
      "source": [
        "### **2. Pretrained model 불러오기**\n"
      ],
      "metadata": {
        "id": "rBxF8o-ddXi6"
      }
    },
    {
      "cell_type": "markdown",
      "source": [
        "### **Transfer learning**\n",
        "이미 학습된 모델을 학습하고자 하는 다른 데이터에 맞춰 학습시키는 것. 대용량 데이터셋으로 만들어진 모델로, 현재 데이터셋(대용량 데이터셋의 일부)를 학습시킨다면 높은 정확도가 나올 것임.     \n",
        "\n",
        "현재 DL에서 가장 일반적인 학습 방법.   \n",
        "\n",
        "Backbone architecture가 잘 학습된 모델에서 일부분만 변경하여 학습을 수행.   \n",
        "\n",
        "**TorchVision**에서는 다양한 기본 모델을 제공하고 있음.\n",
        "<br><br>\n",
        "\n",
        "### **Freezing**\n",
        "- Pretrained model 활용시 모델의 일부분을 frozen시킴.\n",
        "    - 더 이상 모델 파라미터 값을 바뀌지 않게 하는 것.\n",
        "    - backpropagation이 나머지 일부분에서만 일어나게 함.\n"
      ],
      "metadata": {
        "id": "2TilNoxbo_8M"
      }
    },
    {
      "cell_type": "code",
      "source": [
        "device = torch.device('cuda' if torch.cuda.is_available() else 'cpu')\n",
        "\n",
        "# 사전 학습된 VGG16 모델 불러오기\n",
        "vgg = models.vgg16(pretrained=True).to(device)\n",
        "print(vgg)"
      ],
      "metadata": {
        "id": "OVuas3A6eMZp",
        "colab": {
          "base_uri": "https://localhost:8080/"
        },
        "outputId": "6d9f9438-c47b-4586-8a23-55b2f5a560f8"
      },
      "execution_count": null,
      "outputs": [
        {
          "output_type": "stream",
          "name": "stderr",
          "text": [
            "Downloading: \"https://download.pytorch.org/models/vgg16-397923af.pth\" to /root/.cache/torch/hub/checkpoints/vgg16-397923af.pth\n",
            "100%|██████████| 528M/528M [00:09<00:00, 60.3MB/s]\n"
          ]
        },
        {
          "output_type": "stream",
          "name": "stdout",
          "text": [
            "VGG(\n",
            "  (features): Sequential(\n",
            "    (0): Conv2d(3, 64, kernel_size=(3, 3), stride=(1, 1), padding=(1, 1))\n",
            "    (1): ReLU(inplace=True)\n",
            "    (2): Conv2d(64, 64, kernel_size=(3, 3), stride=(1, 1), padding=(1, 1))\n",
            "    (3): ReLU(inplace=True)\n",
            "    (4): MaxPool2d(kernel_size=2, stride=2, padding=0, dilation=1, ceil_mode=False)\n",
            "    (5): Conv2d(64, 128, kernel_size=(3, 3), stride=(1, 1), padding=(1, 1))\n",
            "    (6): ReLU(inplace=True)\n",
            "    (7): Conv2d(128, 128, kernel_size=(3, 3), stride=(1, 1), padding=(1, 1))\n",
            "    (8): ReLU(inplace=True)\n",
            "    (9): MaxPool2d(kernel_size=2, stride=2, padding=0, dilation=1, ceil_mode=False)\n",
            "    (10): Conv2d(128, 256, kernel_size=(3, 3), stride=(1, 1), padding=(1, 1))\n",
            "    (11): ReLU(inplace=True)\n",
            "    (12): Conv2d(256, 256, kernel_size=(3, 3), stride=(1, 1), padding=(1, 1))\n",
            "    (13): ReLU(inplace=True)\n",
            "    (14): Conv2d(256, 256, kernel_size=(3, 3), stride=(1, 1), padding=(1, 1))\n",
            "    (15): ReLU(inplace=True)\n",
            "    (16): MaxPool2d(kernel_size=2, stride=2, padding=0, dilation=1, ceil_mode=False)\n",
            "    (17): Conv2d(256, 512, kernel_size=(3, 3), stride=(1, 1), padding=(1, 1))\n",
            "    (18): ReLU(inplace=True)\n",
            "    (19): Conv2d(512, 512, kernel_size=(3, 3), stride=(1, 1), padding=(1, 1))\n",
            "    (20): ReLU(inplace=True)\n",
            "    (21): Conv2d(512, 512, kernel_size=(3, 3), stride=(1, 1), padding=(1, 1))\n",
            "    (22): ReLU(inplace=True)\n",
            "    (23): MaxPool2d(kernel_size=2, stride=2, padding=0, dilation=1, ceil_mode=False)\n",
            "    (24): Conv2d(512, 512, kernel_size=(3, 3), stride=(1, 1), padding=(1, 1))\n",
            "    (25): ReLU(inplace=True)\n",
            "    (26): Conv2d(512, 512, kernel_size=(3, 3), stride=(1, 1), padding=(1, 1))\n",
            "    (27): ReLU(inplace=True)\n",
            "    (28): Conv2d(512, 512, kernel_size=(3, 3), stride=(1, 1), padding=(1, 1))\n",
            "    (29): ReLU(inplace=True)\n",
            "    (30): MaxPool2d(kernel_size=2, stride=2, padding=0, dilation=1, ceil_mode=False)\n",
            "  )\n",
            "  (avgpool): AdaptiveAvgPool2d(output_size=(7, 7))\n",
            "  (classifier): Sequential(\n",
            "    (0): Linear(in_features=25088, out_features=4096, bias=True)\n",
            "    (1): ReLU(inplace=True)\n",
            "    (2): Dropout(p=0.5, inplace=False)\n",
            "    (3): Linear(in_features=4096, out_features=4096, bias=True)\n",
            "    (4): ReLU(inplace=True)\n",
            "    (5): Dropout(p=0.5, inplace=False)\n",
            "    (6): Linear(in_features=4096, out_features=1000, bias=True)\n",
            "  )\n",
            ")\n"
          ]
        }
      ]
    },
    {
      "cell_type": "code",
      "source": [
        "summary(vgg, (3, 224, 224))"
      ],
      "metadata": {
        "id": "sJ10ORy6ejtP",
        "colab": {
          "base_uri": "https://localhost:8080/"
        },
        "outputId": "f6f16973-1487-4732-802b-7e0b1208cc99"
      },
      "execution_count": null,
      "outputs": [
        {
          "output_type": "stream",
          "name": "stdout",
          "text": [
            "----------------------------------------------------------------\n",
            "        Layer (type)               Output Shape         Param #\n",
            "================================================================\n",
            "            Conv2d-1         [-1, 64, 224, 224]           1,792\n",
            "              ReLU-2         [-1, 64, 224, 224]               0\n",
            "            Conv2d-3         [-1, 64, 224, 224]          36,928\n",
            "              ReLU-4         [-1, 64, 224, 224]               0\n",
            "         MaxPool2d-5         [-1, 64, 112, 112]               0\n",
            "            Conv2d-6        [-1, 128, 112, 112]          73,856\n",
            "              ReLU-7        [-1, 128, 112, 112]               0\n",
            "            Conv2d-8        [-1, 128, 112, 112]         147,584\n",
            "              ReLU-9        [-1, 128, 112, 112]               0\n",
            "        MaxPool2d-10          [-1, 128, 56, 56]               0\n",
            "           Conv2d-11          [-1, 256, 56, 56]         295,168\n",
            "             ReLU-12          [-1, 256, 56, 56]               0\n",
            "           Conv2d-13          [-1, 256, 56, 56]         590,080\n",
            "             ReLU-14          [-1, 256, 56, 56]               0\n",
            "           Conv2d-15          [-1, 256, 56, 56]         590,080\n",
            "             ReLU-16          [-1, 256, 56, 56]               0\n",
            "        MaxPool2d-17          [-1, 256, 28, 28]               0\n",
            "           Conv2d-18          [-1, 512, 28, 28]       1,180,160\n",
            "             ReLU-19          [-1, 512, 28, 28]               0\n",
            "           Conv2d-20          [-1, 512, 28, 28]       2,359,808\n",
            "             ReLU-21          [-1, 512, 28, 28]               0\n",
            "           Conv2d-22          [-1, 512, 28, 28]       2,359,808\n",
            "             ReLU-23          [-1, 512, 28, 28]               0\n",
            "        MaxPool2d-24          [-1, 512, 14, 14]               0\n",
            "           Conv2d-25          [-1, 512, 14, 14]       2,359,808\n",
            "             ReLU-26          [-1, 512, 14, 14]               0\n",
            "           Conv2d-27          [-1, 512, 14, 14]       2,359,808\n",
            "             ReLU-28          [-1, 512, 14, 14]               0\n",
            "           Conv2d-29          [-1, 512, 14, 14]       2,359,808\n",
            "             ReLU-30          [-1, 512, 14, 14]               0\n",
            "        MaxPool2d-31            [-1, 512, 7, 7]               0\n",
            "AdaptiveAvgPool2d-32            [-1, 512, 7, 7]               0\n",
            "           Linear-33                 [-1, 4096]     102,764,544\n",
            "             ReLU-34                 [-1, 4096]               0\n",
            "          Dropout-35                 [-1, 4096]               0\n",
            "           Linear-36                 [-1, 4096]      16,781,312\n",
            "             ReLU-37                 [-1, 4096]               0\n",
            "          Dropout-38                 [-1, 4096]               0\n",
            "           Linear-39                 [-1, 1000]       4,097,000\n",
            "================================================================\n",
            "Total params: 138,357,544\n",
            "Trainable params: 138,357,544\n",
            "Non-trainable params: 0\n",
            "----------------------------------------------------------------\n",
            "Input size (MB): 0.57\n",
            "Forward/backward pass size (MB): 218.78\n",
            "Params size (MB): 527.79\n",
            "Estimated Total Size (MB): 747.15\n",
            "----------------------------------------------------------------\n"
          ]
        }
      ]
    },
    {
      "cell_type": "code",
      "source": [
        "# 방법 1. 대부분 이 방법을 사용\n",
        "# VGG16 모델의 각 층의 이름과 구조를 출력\n",
        "for name, layer in vgg.named_modules():\n",
        "    print(name, layer)"
      ],
      "metadata": {
        "id": "O871kmnNeo0_",
        "colab": {
          "base_uri": "https://localhost:8080/"
        },
        "outputId": "0f0e160b-1a05-432a-c509-62215f397f2a"
      },
      "execution_count": null,
      "outputs": [
        {
          "output_type": "stream",
          "name": "stdout",
          "text": [
            " VGG(\n",
            "  (features): Sequential(\n",
            "    (0): Conv2d(3, 64, kernel_size=(3, 3), stride=(1, 1), padding=(1, 1))\n",
            "    (1): ReLU(inplace=True)\n",
            "    (2): Conv2d(64, 64, kernel_size=(3, 3), stride=(1, 1), padding=(1, 1))\n",
            "    (3): ReLU(inplace=True)\n",
            "    (4): MaxPool2d(kernel_size=2, stride=2, padding=0, dilation=1, ceil_mode=False)\n",
            "    (5): Conv2d(64, 128, kernel_size=(3, 3), stride=(1, 1), padding=(1, 1))\n",
            "    (6): ReLU(inplace=True)\n",
            "    (7): Conv2d(128, 128, kernel_size=(3, 3), stride=(1, 1), padding=(1, 1))\n",
            "    (8): ReLU(inplace=True)\n",
            "    (9): MaxPool2d(kernel_size=2, stride=2, padding=0, dilation=1, ceil_mode=False)\n",
            "    (10): Conv2d(128, 256, kernel_size=(3, 3), stride=(1, 1), padding=(1, 1))\n",
            "    (11): ReLU(inplace=True)\n",
            "    (12): Conv2d(256, 256, kernel_size=(3, 3), stride=(1, 1), padding=(1, 1))\n",
            "    (13): ReLU(inplace=True)\n",
            "    (14): Conv2d(256, 256, kernel_size=(3, 3), stride=(1, 1), padding=(1, 1))\n",
            "    (15): ReLU(inplace=True)\n",
            "    (16): MaxPool2d(kernel_size=2, stride=2, padding=0, dilation=1, ceil_mode=False)\n",
            "    (17): Conv2d(256, 512, kernel_size=(3, 3), stride=(1, 1), padding=(1, 1))\n",
            "    (18): ReLU(inplace=True)\n",
            "    (19): Conv2d(512, 512, kernel_size=(3, 3), stride=(1, 1), padding=(1, 1))\n",
            "    (20): ReLU(inplace=True)\n",
            "    (21): Conv2d(512, 512, kernel_size=(3, 3), stride=(1, 1), padding=(1, 1))\n",
            "    (22): ReLU(inplace=True)\n",
            "    (23): MaxPool2d(kernel_size=2, stride=2, padding=0, dilation=1, ceil_mode=False)\n",
            "    (24): Conv2d(512, 512, kernel_size=(3, 3), stride=(1, 1), padding=(1, 1))\n",
            "    (25): ReLU(inplace=True)\n",
            "    (26): Conv2d(512, 512, kernel_size=(3, 3), stride=(1, 1), padding=(1, 1))\n",
            "    (27): ReLU(inplace=True)\n",
            "    (28): Conv2d(512, 512, kernel_size=(3, 3), stride=(1, 1), padding=(1, 1))\n",
            "    (29): ReLU(inplace=True)\n",
            "    (30): MaxPool2d(kernel_size=2, stride=2, padding=0, dilation=1, ceil_mode=False)\n",
            "  )\n",
            "  (avgpool): AdaptiveAvgPool2d(output_size=(7, 7))\n",
            "  (classifier): Sequential(\n",
            "    (0): Linear(in_features=25088, out_features=4096, bias=True)\n",
            "    (1): ReLU(inplace=True)\n",
            "    (2): Dropout(p=0.5, inplace=False)\n",
            "    (3): Linear(in_features=4096, out_features=4096, bias=True)\n",
            "    (4): ReLU(inplace=True)\n",
            "    (5): Dropout(p=0.5, inplace=False)\n",
            "    (6): Linear(in_features=4096, out_features=1000, bias=True)\n",
            "  )\n",
            ")\n",
            "features Sequential(\n",
            "  (0): Conv2d(3, 64, kernel_size=(3, 3), stride=(1, 1), padding=(1, 1))\n",
            "  (1): ReLU(inplace=True)\n",
            "  (2): Conv2d(64, 64, kernel_size=(3, 3), stride=(1, 1), padding=(1, 1))\n",
            "  (3): ReLU(inplace=True)\n",
            "  (4): MaxPool2d(kernel_size=2, stride=2, padding=0, dilation=1, ceil_mode=False)\n",
            "  (5): Conv2d(64, 128, kernel_size=(3, 3), stride=(1, 1), padding=(1, 1))\n",
            "  (6): ReLU(inplace=True)\n",
            "  (7): Conv2d(128, 128, kernel_size=(3, 3), stride=(1, 1), padding=(1, 1))\n",
            "  (8): ReLU(inplace=True)\n",
            "  (9): MaxPool2d(kernel_size=2, stride=2, padding=0, dilation=1, ceil_mode=False)\n",
            "  (10): Conv2d(128, 256, kernel_size=(3, 3), stride=(1, 1), padding=(1, 1))\n",
            "  (11): ReLU(inplace=True)\n",
            "  (12): Conv2d(256, 256, kernel_size=(3, 3), stride=(1, 1), padding=(1, 1))\n",
            "  (13): ReLU(inplace=True)\n",
            "  (14): Conv2d(256, 256, kernel_size=(3, 3), stride=(1, 1), padding=(1, 1))\n",
            "  (15): ReLU(inplace=True)\n",
            "  (16): MaxPool2d(kernel_size=2, stride=2, padding=0, dilation=1, ceil_mode=False)\n",
            "  (17): Conv2d(256, 512, kernel_size=(3, 3), stride=(1, 1), padding=(1, 1))\n",
            "  (18): ReLU(inplace=True)\n",
            "  (19): Conv2d(512, 512, kernel_size=(3, 3), stride=(1, 1), padding=(1, 1))\n",
            "  (20): ReLU(inplace=True)\n",
            "  (21): Conv2d(512, 512, kernel_size=(3, 3), stride=(1, 1), padding=(1, 1))\n",
            "  (22): ReLU(inplace=True)\n",
            "  (23): MaxPool2d(kernel_size=2, stride=2, padding=0, dilation=1, ceil_mode=False)\n",
            "  (24): Conv2d(512, 512, kernel_size=(3, 3), stride=(1, 1), padding=(1, 1))\n",
            "  (25): ReLU(inplace=True)\n",
            "  (26): Conv2d(512, 512, kernel_size=(3, 3), stride=(1, 1), padding=(1, 1))\n",
            "  (27): ReLU(inplace=True)\n",
            "  (28): Conv2d(512, 512, kernel_size=(3, 3), stride=(1, 1), padding=(1, 1))\n",
            "  (29): ReLU(inplace=True)\n",
            "  (30): MaxPool2d(kernel_size=2, stride=2, padding=0, dilation=1, ceil_mode=False)\n",
            ")\n",
            "features.0 Conv2d(3, 64, kernel_size=(3, 3), stride=(1, 1), padding=(1, 1))\n",
            "features.1 ReLU(inplace=True)\n",
            "features.2 Conv2d(64, 64, kernel_size=(3, 3), stride=(1, 1), padding=(1, 1))\n",
            "features.3 ReLU(inplace=True)\n",
            "features.4 MaxPool2d(kernel_size=2, stride=2, padding=0, dilation=1, ceil_mode=False)\n",
            "features.5 Conv2d(64, 128, kernel_size=(3, 3), stride=(1, 1), padding=(1, 1))\n",
            "features.6 ReLU(inplace=True)\n",
            "features.7 Conv2d(128, 128, kernel_size=(3, 3), stride=(1, 1), padding=(1, 1))\n",
            "features.8 ReLU(inplace=True)\n",
            "features.9 MaxPool2d(kernel_size=2, stride=2, padding=0, dilation=1, ceil_mode=False)\n",
            "features.10 Conv2d(128, 256, kernel_size=(3, 3), stride=(1, 1), padding=(1, 1))\n",
            "features.11 ReLU(inplace=True)\n",
            "features.12 Conv2d(256, 256, kernel_size=(3, 3), stride=(1, 1), padding=(1, 1))\n",
            "features.13 ReLU(inplace=True)\n",
            "features.14 Conv2d(256, 256, kernel_size=(3, 3), stride=(1, 1), padding=(1, 1))\n",
            "features.15 ReLU(inplace=True)\n",
            "features.16 MaxPool2d(kernel_size=2, stride=2, padding=0, dilation=1, ceil_mode=False)\n",
            "features.17 Conv2d(256, 512, kernel_size=(3, 3), stride=(1, 1), padding=(1, 1))\n",
            "features.18 ReLU(inplace=True)\n",
            "features.19 Conv2d(512, 512, kernel_size=(3, 3), stride=(1, 1), padding=(1, 1))\n",
            "features.20 ReLU(inplace=True)\n",
            "features.21 Conv2d(512, 512, kernel_size=(3, 3), stride=(1, 1), padding=(1, 1))\n",
            "features.22 ReLU(inplace=True)\n",
            "features.23 MaxPool2d(kernel_size=2, stride=2, padding=0, dilation=1, ceil_mode=False)\n",
            "features.24 Conv2d(512, 512, kernel_size=(3, 3), stride=(1, 1), padding=(1, 1))\n",
            "features.25 ReLU(inplace=True)\n",
            "features.26 Conv2d(512, 512, kernel_size=(3, 3), stride=(1, 1), padding=(1, 1))\n",
            "features.27 ReLU(inplace=True)\n",
            "features.28 Conv2d(512, 512, kernel_size=(3, 3), stride=(1, 1), padding=(1, 1))\n",
            "features.29 ReLU(inplace=True)\n",
            "features.30 MaxPool2d(kernel_size=2, stride=2, padding=0, dilation=1, ceil_mode=False)\n",
            "avgpool AdaptiveAvgPool2d(output_size=(7, 7))\n",
            "classifier Sequential(\n",
            "  (0): Linear(in_features=25088, out_features=4096, bias=True)\n",
            "  (1): ReLU(inplace=True)\n",
            "  (2): Dropout(p=0.5, inplace=False)\n",
            "  (3): Linear(in_features=4096, out_features=4096, bias=True)\n",
            "  (4): ReLU(inplace=True)\n",
            "  (5): Dropout(p=0.5, inplace=False)\n",
            "  (6): Linear(in_features=4096, out_features=1000, bias=True)\n",
            ")\n",
            "classifier.0 Linear(in_features=25088, out_features=4096, bias=True)\n",
            "classifier.1 ReLU(inplace=True)\n",
            "classifier.2 Dropout(p=0.5, inplace=False)\n",
            "classifier.3 Linear(in_features=4096, out_features=4096, bias=True)\n",
            "classifier.4 ReLU(inplace=True)\n",
            "classifier.5 Dropout(p=0.5, inplace=False)\n",
            "classifier.6 Linear(in_features=4096, out_features=1000, bias=True)\n"
          ]
        }
      ]
    },
    {
      "cell_type": "code",
      "source": [
        "# VGG 모델의 완전 연결 층(FC)을 수정해 출력 유닛 수를 1로 변경.\n",
        "vgg.fc = torch.nn.Linear(1000,1)\n",
        "vgg.cuda()"
      ],
      "metadata": {
        "id": "2pg7VKgLfFRf",
        "colab": {
          "base_uri": "https://localhost:8080/"
        },
        "outputId": "7e4de229-4279-44e6-ce06-029d72ef34c4"
      },
      "execution_count": null,
      "outputs": [
        {
          "output_type": "execute_result",
          "data": {
            "text/plain": [
              "VGG(\n",
              "  (features): Sequential(\n",
              "    (0): Conv2d(3, 64, kernel_size=(3, 3), stride=(1, 1), padding=(1, 1))\n",
              "    (1): ReLU(inplace=True)\n",
              "    (2): Conv2d(64, 64, kernel_size=(3, 3), stride=(1, 1), padding=(1, 1))\n",
              "    (3): ReLU(inplace=True)\n",
              "    (4): MaxPool2d(kernel_size=2, stride=2, padding=0, dilation=1, ceil_mode=False)\n",
              "    (5): Conv2d(64, 128, kernel_size=(3, 3), stride=(1, 1), padding=(1, 1))\n",
              "    (6): ReLU(inplace=True)\n",
              "    (7): Conv2d(128, 128, kernel_size=(3, 3), stride=(1, 1), padding=(1, 1))\n",
              "    (8): ReLU(inplace=True)\n",
              "    (9): MaxPool2d(kernel_size=2, stride=2, padding=0, dilation=1, ceil_mode=False)\n",
              "    (10): Conv2d(128, 256, kernel_size=(3, 3), stride=(1, 1), padding=(1, 1))\n",
              "    (11): ReLU(inplace=True)\n",
              "    (12): Conv2d(256, 256, kernel_size=(3, 3), stride=(1, 1), padding=(1, 1))\n",
              "    (13): ReLU(inplace=True)\n",
              "    (14): Conv2d(256, 256, kernel_size=(3, 3), stride=(1, 1), padding=(1, 1))\n",
              "    (15): ReLU(inplace=True)\n",
              "    (16): MaxPool2d(kernel_size=2, stride=2, padding=0, dilation=1, ceil_mode=False)\n",
              "    (17): Conv2d(256, 512, kernel_size=(3, 3), stride=(1, 1), padding=(1, 1))\n",
              "    (18): ReLU(inplace=True)\n",
              "    (19): Conv2d(512, 512, kernel_size=(3, 3), stride=(1, 1), padding=(1, 1))\n",
              "    (20): ReLU(inplace=True)\n",
              "    (21): Conv2d(512, 512, kernel_size=(3, 3), stride=(1, 1), padding=(1, 1))\n",
              "    (22): ReLU(inplace=True)\n",
              "    (23): MaxPool2d(kernel_size=2, stride=2, padding=0, dilation=1, ceil_mode=False)\n",
              "    (24): Conv2d(512, 512, kernel_size=(3, 3), stride=(1, 1), padding=(1, 1))\n",
              "    (25): ReLU(inplace=True)\n",
              "    (26): Conv2d(512, 512, kernel_size=(3, 3), stride=(1, 1), padding=(1, 1))\n",
              "    (27): ReLU(inplace=True)\n",
              "    (28): Conv2d(512, 512, kernel_size=(3, 3), stride=(1, 1), padding=(1, 1))\n",
              "    (29): ReLU(inplace=True)\n",
              "    (30): MaxPool2d(kernel_size=2, stride=2, padding=0, dilation=1, ceil_mode=False)\n",
              "  )\n",
              "  (avgpool): AdaptiveAvgPool2d(output_size=(7, 7))\n",
              "  (classifier): Sequential(\n",
              "    (0): Linear(in_features=25088, out_features=4096, bias=True)\n",
              "    (1): ReLU(inplace=True)\n",
              "    (2): Dropout(p=0.5, inplace=False)\n",
              "    (3): Linear(in_features=4096, out_features=4096, bias=True)\n",
              "    (4): ReLU(inplace=True)\n",
              "    (5): Dropout(p=0.5, inplace=False)\n",
              "    (6): Linear(in_features=4096, out_features=1000, bias=True)\n",
              "  )\n",
              "  (fc): Linear(in_features=1000, out_features=1, bias=True)\n",
              ")"
            ]
          },
          "metadata": {},
          "execution_count": 31
        }
      ]
    },
    {
      "cell_type": "code",
      "source": [
        "# 방법 2,\n",
        "# 다시 사전 학습된 VGG16 모델 불러오기\n",
        "vgg = models.vgg16(pretrained=True).to(device)\n",
        "print(vgg)"
      ],
      "metadata": {
        "id": "MEVNNNOHfZYy",
        "colab": {
          "base_uri": "https://localhost:8080/"
        },
        "outputId": "f0dee01e-f6d9-4196-b787-ead790154eac"
      },
      "execution_count": null,
      "outputs": [
        {
          "output_type": "stream",
          "name": "stdout",
          "text": [
            "VGG(\n",
            "  (features): Sequential(\n",
            "    (0): Conv2d(3, 64, kernel_size=(3, 3), stride=(1, 1), padding=(1, 1))\n",
            "    (1): ReLU(inplace=True)\n",
            "    (2): Conv2d(64, 64, kernel_size=(3, 3), stride=(1, 1), padding=(1, 1))\n",
            "    (3): ReLU(inplace=True)\n",
            "    (4): MaxPool2d(kernel_size=2, stride=2, padding=0, dilation=1, ceil_mode=False)\n",
            "    (5): Conv2d(64, 128, kernel_size=(3, 3), stride=(1, 1), padding=(1, 1))\n",
            "    (6): ReLU(inplace=True)\n",
            "    (7): Conv2d(128, 128, kernel_size=(3, 3), stride=(1, 1), padding=(1, 1))\n",
            "    (8): ReLU(inplace=True)\n",
            "    (9): MaxPool2d(kernel_size=2, stride=2, padding=0, dilation=1, ceil_mode=False)\n",
            "    (10): Conv2d(128, 256, kernel_size=(3, 3), stride=(1, 1), padding=(1, 1))\n",
            "    (11): ReLU(inplace=True)\n",
            "    (12): Conv2d(256, 256, kernel_size=(3, 3), stride=(1, 1), padding=(1, 1))\n",
            "    (13): ReLU(inplace=True)\n",
            "    (14): Conv2d(256, 256, kernel_size=(3, 3), stride=(1, 1), padding=(1, 1))\n",
            "    (15): ReLU(inplace=True)\n",
            "    (16): MaxPool2d(kernel_size=2, stride=2, padding=0, dilation=1, ceil_mode=False)\n",
            "    (17): Conv2d(256, 512, kernel_size=(3, 3), stride=(1, 1), padding=(1, 1))\n",
            "    (18): ReLU(inplace=True)\n",
            "    (19): Conv2d(512, 512, kernel_size=(3, 3), stride=(1, 1), padding=(1, 1))\n",
            "    (20): ReLU(inplace=True)\n",
            "    (21): Conv2d(512, 512, kernel_size=(3, 3), stride=(1, 1), padding=(1, 1))\n",
            "    (22): ReLU(inplace=True)\n",
            "    (23): MaxPool2d(kernel_size=2, stride=2, padding=0, dilation=1, ceil_mode=False)\n",
            "    (24): Conv2d(512, 512, kernel_size=(3, 3), stride=(1, 1), padding=(1, 1))\n",
            "    (25): ReLU(inplace=True)\n",
            "    (26): Conv2d(512, 512, kernel_size=(3, 3), stride=(1, 1), padding=(1, 1))\n",
            "    (27): ReLU(inplace=True)\n",
            "    (28): Conv2d(512, 512, kernel_size=(3, 3), stride=(1, 1), padding=(1, 1))\n",
            "    (29): ReLU(inplace=True)\n",
            "    (30): MaxPool2d(kernel_size=2, stride=2, padding=0, dilation=1, ceil_mode=False)\n",
            "  )\n",
            "  (avgpool): AdaptiveAvgPool2d(output_size=(7, 7))\n",
            "  (classifier): Sequential(\n",
            "    (0): Linear(in_features=25088, out_features=4096, bias=True)\n",
            "    (1): ReLU(inplace=True)\n",
            "    (2): Dropout(p=0.5, inplace=False)\n",
            "    (3): Linear(in_features=4096, out_features=4096, bias=True)\n",
            "    (4): ReLU(inplace=True)\n",
            "    (5): Dropout(p=0.5, inplace=False)\n",
            "    (6): Linear(in_features=4096, out_features=1000, bias=True)\n",
            "  )\n",
            ")\n"
          ]
        }
      ]
    },
    {
      "cell_type": "code",
      "source": [
        "# VGG16모델의 분류기(Classifier) 중 마지막 선형 층을 수정하여 출력 유닛의 수를 1로 변경.\n",
        "vgg.classifier._modules['6'] = torch.nn.Linear(4096, 1)\n",
        "vgg.cuda()"
      ],
      "metadata": {
        "id": "nsTSXF7wfmj-",
        "colab": {
          "base_uri": "https://localhost:8080/"
        },
        "outputId": "a0f3bb4c-4737-4410-acae-c3cbe15ad2e6"
      },
      "execution_count": null,
      "outputs": [
        {
          "output_type": "execute_result",
          "data": {
            "text/plain": [
              "VGG(\n",
              "  (features): Sequential(\n",
              "    (0): Conv2d(3, 64, kernel_size=(3, 3), stride=(1, 1), padding=(1, 1))\n",
              "    (1): ReLU(inplace=True)\n",
              "    (2): Conv2d(64, 64, kernel_size=(3, 3), stride=(1, 1), padding=(1, 1))\n",
              "    (3): ReLU(inplace=True)\n",
              "    (4): MaxPool2d(kernel_size=2, stride=2, padding=0, dilation=1, ceil_mode=False)\n",
              "    (5): Conv2d(64, 128, kernel_size=(3, 3), stride=(1, 1), padding=(1, 1))\n",
              "    (6): ReLU(inplace=True)\n",
              "    (7): Conv2d(128, 128, kernel_size=(3, 3), stride=(1, 1), padding=(1, 1))\n",
              "    (8): ReLU(inplace=True)\n",
              "    (9): MaxPool2d(kernel_size=2, stride=2, padding=0, dilation=1, ceil_mode=False)\n",
              "    (10): Conv2d(128, 256, kernel_size=(3, 3), stride=(1, 1), padding=(1, 1))\n",
              "    (11): ReLU(inplace=True)\n",
              "    (12): Conv2d(256, 256, kernel_size=(3, 3), stride=(1, 1), padding=(1, 1))\n",
              "    (13): ReLU(inplace=True)\n",
              "    (14): Conv2d(256, 256, kernel_size=(3, 3), stride=(1, 1), padding=(1, 1))\n",
              "    (15): ReLU(inplace=True)\n",
              "    (16): MaxPool2d(kernel_size=2, stride=2, padding=0, dilation=1, ceil_mode=False)\n",
              "    (17): Conv2d(256, 512, kernel_size=(3, 3), stride=(1, 1), padding=(1, 1))\n",
              "    (18): ReLU(inplace=True)\n",
              "    (19): Conv2d(512, 512, kernel_size=(3, 3), stride=(1, 1), padding=(1, 1))\n",
              "    (20): ReLU(inplace=True)\n",
              "    (21): Conv2d(512, 512, kernel_size=(3, 3), stride=(1, 1), padding=(1, 1))\n",
              "    (22): ReLU(inplace=True)\n",
              "    (23): MaxPool2d(kernel_size=2, stride=2, padding=0, dilation=1, ceil_mode=False)\n",
              "    (24): Conv2d(512, 512, kernel_size=(3, 3), stride=(1, 1), padding=(1, 1))\n",
              "    (25): ReLU(inplace=True)\n",
              "    (26): Conv2d(512, 512, kernel_size=(3, 3), stride=(1, 1), padding=(1, 1))\n",
              "    (27): ReLU(inplace=True)\n",
              "    (28): Conv2d(512, 512, kernel_size=(3, 3), stride=(1, 1), padding=(1, 1))\n",
              "    (29): ReLU(inplace=True)\n",
              "    (30): MaxPool2d(kernel_size=2, stride=2, padding=0, dilation=1, ceil_mode=False)\n",
              "  )\n",
              "  (avgpool): AdaptiveAvgPool2d(output_size=(7, 7))\n",
              "  (classifier): Sequential(\n",
              "    (0): Linear(in_features=25088, out_features=4096, bias=True)\n",
              "    (1): ReLU(inplace=True)\n",
              "    (2): Dropout(p=0.5, inplace=False)\n",
              "    (3): Linear(in_features=4096, out_features=4096, bias=True)\n",
              "    (4): ReLU(inplace=True)\n",
              "    (5): Dropout(p=0.5, inplace=False)\n",
              "    (6): Linear(in_features=4096, out_features=1, bias=True)\n",
              "  )\n",
              ")"
            ]
          },
          "metadata": {},
          "execution_count": 33
        }
      ]
    },
    {
      "cell_type": "markdown",
      "source": [
        "### **3. Pretrained Model로 나만의 모델 만들기**"
      ],
      "metadata": {
        "id": "QdWpK4R4gCcs"
      }
    },
    {
      "cell_type": "code",
      "source": [
        "# 'data/' 경로의 이미지 데이터를 불러오고 전처리를 적용.\n",
        "dataset = datasets.ImageFolder(\n",
        "                                root = 'data/',\n",
        "                                transform = transforms.Compose([\n",
        "                                    transforms.Resize(224),\n",
        "                                    transforms.CenterCrop(224),\n",
        "                                    transforms.ToTensor(),\n",
        "                                    transforms.Normalize((0.5, 0.5, 0.5),\n",
        "                                                         (0.5, 0.5, 0.5))\n",
        "                                ]))\n",
        "#num_workers는 dataset의 데이터를 gpu로 전송할 때 필요한 전처리를 수행할 때 사용하는 subprocess의 수를 말한다.\n",
        "# num_workers의 수를 늘리면 병렬처리를 통해 더 빠르게 gpu에 정보를 전달할 수 있어 성능이 좋아진다.\n",
        "# 하지만 num_workers의 수가 너무 크면 다른 일을 수행하는 데 사용할 자원이 적어져 성능이 안좋아질 수 있다.\n",
        "# 따라서 적절한 값을 찾기 위해 하이퍼파라미터 튜닝을 하듯 접근한다.\n",
        "dataloader = torch.utils.data.DataLoader(dataset, batch_size=2, shuffle=True, num_workers=8)"
      ],
      "metadata": {
        "id": "6W8pbCC9gBPP"
      },
      "execution_count": null,
      "outputs": []
    },
    {
      "cell_type": "code",
      "source": [
        "# 새로운 신경망 모델 정의\n",
        "class MyNewNet(nn.Module):\n",
        "    def __init__(self):\n",
        "        super(MyNewNet, self).__init__()\n",
        "        # 사전 학습된 VGG19 사용.\n",
        "        self.vgg19 = models.vgg19(pretrained=True)\n",
        "        # 추가적인 선형 층 정의\n",
        "        self.linear_layers = nn.Linear(1000, 1)\n",
        "\n",
        "    def forward(self, x):\n",
        "        x = self.vgg19(x)\n",
        "        return self.linear_layers(x)"
      ],
      "metadata": {
        "id": "yMjGUPXGhPHu"
      },
      "execution_count": null,
      "outputs": []
    },
    {
      "cell_type": "code",
      "source": [
        "device = torch.device('cuda' if torch.cuda.is_available() else 'cpu')\n",
        "\n",
        "# 모델 초기화, GPU로 이동\n",
        "my_model = MyNewNet()\n",
        "my_model = my_model.to(device)"
      ],
      "metadata": {
        "id": "JdMGYMwEh6Tq",
        "colab": {
          "base_uri": "https://localhost:8080/"
        },
        "outputId": "fcbf28e2-4465-4234-b22e-0597f895e089"
      },
      "execution_count": null,
      "outputs": [
        {
          "output_type": "stream",
          "name": "stderr",
          "text": [
            "Downloading: \"https://download.pytorch.org/models/vgg19-dcbb9e9d.pth\" to /root/.cache/torch/hub/checkpoints/vgg19-dcbb9e9d.pth\n",
            "100%|██████████| 548M/548M [00:05<00:00, 103MB/s]\n"
          ]
        }
      ]
    },
    {
      "cell_type": "code",
      "source": [
        "print(my_model)"
      ],
      "metadata": {
        "id": "KWSAZGO3iKvY",
        "colab": {
          "base_uri": "https://localhost:8080/"
        },
        "outputId": "12302e0b-a35b-497a-ce87-cb88d9bf7ac3"
      },
      "execution_count": null,
      "outputs": [
        {
          "output_type": "stream",
          "name": "stdout",
          "text": [
            "MyNewNet(\n",
            "  (vgg19): VGG(\n",
            "    (features): Sequential(\n",
            "      (0): Conv2d(3, 64, kernel_size=(3, 3), stride=(1, 1), padding=(1, 1))\n",
            "      (1): ReLU(inplace=True)\n",
            "      (2): Conv2d(64, 64, kernel_size=(3, 3), stride=(1, 1), padding=(1, 1))\n",
            "      (3): ReLU(inplace=True)\n",
            "      (4): MaxPool2d(kernel_size=2, stride=2, padding=0, dilation=1, ceil_mode=False)\n",
            "      (5): Conv2d(64, 128, kernel_size=(3, 3), stride=(1, 1), padding=(1, 1))\n",
            "      (6): ReLU(inplace=True)\n",
            "      (7): Conv2d(128, 128, kernel_size=(3, 3), stride=(1, 1), padding=(1, 1))\n",
            "      (8): ReLU(inplace=True)\n",
            "      (9): MaxPool2d(kernel_size=2, stride=2, padding=0, dilation=1, ceil_mode=False)\n",
            "      (10): Conv2d(128, 256, kernel_size=(3, 3), stride=(1, 1), padding=(1, 1))\n",
            "      (11): ReLU(inplace=True)\n",
            "      (12): Conv2d(256, 256, kernel_size=(3, 3), stride=(1, 1), padding=(1, 1))\n",
            "      (13): ReLU(inplace=True)\n",
            "      (14): Conv2d(256, 256, kernel_size=(3, 3), stride=(1, 1), padding=(1, 1))\n",
            "      (15): ReLU(inplace=True)\n",
            "      (16): Conv2d(256, 256, kernel_size=(3, 3), stride=(1, 1), padding=(1, 1))\n",
            "      (17): ReLU(inplace=True)\n",
            "      (18): MaxPool2d(kernel_size=2, stride=2, padding=0, dilation=1, ceil_mode=False)\n",
            "      (19): Conv2d(256, 512, kernel_size=(3, 3), stride=(1, 1), padding=(1, 1))\n",
            "      (20): ReLU(inplace=True)\n",
            "      (21): Conv2d(512, 512, kernel_size=(3, 3), stride=(1, 1), padding=(1, 1))\n",
            "      (22): ReLU(inplace=True)\n",
            "      (23): Conv2d(512, 512, kernel_size=(3, 3), stride=(1, 1), padding=(1, 1))\n",
            "      (24): ReLU(inplace=True)\n",
            "      (25): Conv2d(512, 512, kernel_size=(3, 3), stride=(1, 1), padding=(1, 1))\n",
            "      (26): ReLU(inplace=True)\n",
            "      (27): MaxPool2d(kernel_size=2, stride=2, padding=0, dilation=1, ceil_mode=False)\n",
            "      (28): Conv2d(512, 512, kernel_size=(3, 3), stride=(1, 1), padding=(1, 1))\n",
            "      (29): ReLU(inplace=True)\n",
            "      (30): Conv2d(512, 512, kernel_size=(3, 3), stride=(1, 1), padding=(1, 1))\n",
            "      (31): ReLU(inplace=True)\n",
            "      (32): Conv2d(512, 512, kernel_size=(3, 3), stride=(1, 1), padding=(1, 1))\n",
            "      (33): ReLU(inplace=True)\n",
            "      (34): Conv2d(512, 512, kernel_size=(3, 3), stride=(1, 1), padding=(1, 1))\n",
            "      (35): ReLU(inplace=True)\n",
            "      (36): MaxPool2d(kernel_size=2, stride=2, padding=0, dilation=1, ceil_mode=False)\n",
            "    )\n",
            "    (avgpool): AdaptiveAvgPool2d(output_size=(7, 7))\n",
            "    (classifier): Sequential(\n",
            "      (0): Linear(in_features=25088, out_features=4096, bias=True)\n",
            "      (1): ReLU(inplace=True)\n",
            "      (2): Dropout(p=0.5, inplace=False)\n",
            "      (3): Linear(in_features=4096, out_features=4096, bias=True)\n",
            "      (4): ReLU(inplace=True)\n",
            "      (5): Dropout(p=0.5, inplace=False)\n",
            "      (6): Linear(in_features=4096, out_features=1000, bias=True)\n",
            "    )\n",
            "  )\n",
            "  (linear_layers): Linear(in_features=1000, out_features=1, bias=True)\n",
            ")\n"
          ]
        }
      ]
    },
    {
      "cell_type": "code",
      "source": [
        "# 모델의 모든 파라미터 고정(frozen)\n",
        "for param in my_model.parameters():\n",
        "    param.requires_grad = False"
      ],
      "metadata": {
        "id": "-LicMD0liNSw"
      },
      "execution_count": null,
      "outputs": []
    },
    {
      "cell_type": "code",
      "source": [
        "# 선형 층의 파라미터만 학습 가능하도록 설정\n",
        "for param in my_model.linear_layers.parameters():\n",
        "    param.requires_grad = True"
      ],
      "metadata": {
        "id": "woUuv6q6iX3x"
      },
      "execution_count": null,
      "outputs": []
    },
    {
      "cell_type": "code",
      "source": [
        "# 모델을 평가 모드로 설정\n",
        "my_model.eval()"
      ],
      "metadata": {
        "id": "GaWn-2N5iiPf",
        "colab": {
          "base_uri": "https://localhost:8080/"
        },
        "outputId": "187f38d9-2e74-463f-dff3-994e50f87470"
      },
      "execution_count": null,
      "outputs": [
        {
          "output_type": "execute_result",
          "data": {
            "text/plain": [
              "MyNewNet(\n",
              "  (vgg19): VGG(\n",
              "    (features): Sequential(\n",
              "      (0): Conv2d(3, 64, kernel_size=(3, 3), stride=(1, 1), padding=(1, 1))\n",
              "      (1): ReLU(inplace=True)\n",
              "      (2): Conv2d(64, 64, kernel_size=(3, 3), stride=(1, 1), padding=(1, 1))\n",
              "      (3): ReLU(inplace=True)\n",
              "      (4): MaxPool2d(kernel_size=2, stride=2, padding=0, dilation=1, ceil_mode=False)\n",
              "      (5): Conv2d(64, 128, kernel_size=(3, 3), stride=(1, 1), padding=(1, 1))\n",
              "      (6): ReLU(inplace=True)\n",
              "      (7): Conv2d(128, 128, kernel_size=(3, 3), stride=(1, 1), padding=(1, 1))\n",
              "      (8): ReLU(inplace=True)\n",
              "      (9): MaxPool2d(kernel_size=2, stride=2, padding=0, dilation=1, ceil_mode=False)\n",
              "      (10): Conv2d(128, 256, kernel_size=(3, 3), stride=(1, 1), padding=(1, 1))\n",
              "      (11): ReLU(inplace=True)\n",
              "      (12): Conv2d(256, 256, kernel_size=(3, 3), stride=(1, 1), padding=(1, 1))\n",
              "      (13): ReLU(inplace=True)\n",
              "      (14): Conv2d(256, 256, kernel_size=(3, 3), stride=(1, 1), padding=(1, 1))\n",
              "      (15): ReLU(inplace=True)\n",
              "      (16): Conv2d(256, 256, kernel_size=(3, 3), stride=(1, 1), padding=(1, 1))\n",
              "      (17): ReLU(inplace=True)\n",
              "      (18): MaxPool2d(kernel_size=2, stride=2, padding=0, dilation=1, ceil_mode=False)\n",
              "      (19): Conv2d(256, 512, kernel_size=(3, 3), stride=(1, 1), padding=(1, 1))\n",
              "      (20): ReLU(inplace=True)\n",
              "      (21): Conv2d(512, 512, kernel_size=(3, 3), stride=(1, 1), padding=(1, 1))\n",
              "      (22): ReLU(inplace=True)\n",
              "      (23): Conv2d(512, 512, kernel_size=(3, 3), stride=(1, 1), padding=(1, 1))\n",
              "      (24): ReLU(inplace=True)\n",
              "      (25): Conv2d(512, 512, kernel_size=(3, 3), stride=(1, 1), padding=(1, 1))\n",
              "      (26): ReLU(inplace=True)\n",
              "      (27): MaxPool2d(kernel_size=2, stride=2, padding=0, dilation=1, ceil_mode=False)\n",
              "      (28): Conv2d(512, 512, kernel_size=(3, 3), stride=(1, 1), padding=(1, 1))\n",
              "      (29): ReLU(inplace=True)\n",
              "      (30): Conv2d(512, 512, kernel_size=(3, 3), stride=(1, 1), padding=(1, 1))\n",
              "      (31): ReLU(inplace=True)\n",
              "      (32): Conv2d(512, 512, kernel_size=(3, 3), stride=(1, 1), padding=(1, 1))\n",
              "      (33): ReLU(inplace=True)\n",
              "      (34): Conv2d(512, 512, kernel_size=(3, 3), stride=(1, 1), padding=(1, 1))\n",
              "      (35): ReLU(inplace=True)\n",
              "      (36): MaxPool2d(kernel_size=2, stride=2, padding=0, dilation=1, ceil_mode=False)\n",
              "    )\n",
              "    (avgpool): AdaptiveAvgPool2d(output_size=(7, 7))\n",
              "    (classifier): Sequential(\n",
              "      (0): Linear(in_features=25088, out_features=4096, bias=True)\n",
              "      (1): ReLU(inplace=True)\n",
              "      (2): Dropout(p=0.5, inplace=False)\n",
              "      (3): Linear(in_features=4096, out_features=4096, bias=True)\n",
              "      (4): ReLU(inplace=True)\n",
              "      (5): Dropout(p=0.5, inplace=False)\n",
              "      (6): Linear(in_features=4096, out_features=1000, bias=True)\n",
              "    )\n",
              "  )\n",
              "  (linear_layers): Linear(in_features=1000, out_features=1, bias=True)\n",
              ")"
            ]
          },
          "metadata": {},
          "execution_count": 40
        }
      ]
    },
    {
      "cell_type": "code",
      "source": [
        "# 데이터 로더에서 첫 번째 배치 가져오기\n",
        "x = next(iter(dataloader))"
      ],
      "metadata": {
        "id": "kKUUIT91ioxs"
      },
      "execution_count": null,
      "outputs": []
    },
    {
      "cell_type": "code",
      "source": [
        "# 입력 데이터의 형태를 출력.\n",
        "x[0].shape"
      ],
      "metadata": {
        "id": "JB_4Vaapizva",
        "colab": {
          "base_uri": "https://localhost:8080/"
        },
        "outputId": "4a0bbb41-a5a7-4569-d56b-f6eac50839c2"
      },
      "execution_count": null,
      "outputs": [
        {
          "output_type": "execute_result",
          "data": {
            "text/plain": [
              "torch.Size([2, 3, 224, 224])"
            ]
          },
          "metadata": {},
          "execution_count": 42
        }
      ]
    },
    {
      "cell_type": "code",
      "source": [
        "# 모델을 통해 예측 수행\n",
        "my_model(x[0].to(device))"
      ],
      "metadata": {
        "id": "t1dD6nDLjDDt",
        "colab": {
          "base_uri": "https://localhost:8080/"
        },
        "outputId": "e46fb420-fbe0-483a-891e-28b6aaafffb1"
      },
      "execution_count": null,
      "outputs": [
        {
          "output_type": "execute_result",
          "data": {
            "text/plain": [
              "tensor([[1.1347],\n",
              "        [0.7828]], device='cuda:0', grad_fn=<AddmmBackward0>)"
            ]
          },
          "metadata": {},
          "execution_count": 43
        }
      ]
    },
    {
      "cell_type": "code",
      "source": [
        "EPOCHS = 5\n",
        "BATCH_SIZE = 64\n",
        "LEARNING_RATE = 0.001"
      ],
      "metadata": {
        "id": "n2zrfDXyjJqX"
      },
      "execution_count": null,
      "outputs": []
    },
    {
      "cell_type": "code",
      "source": [
        "# 데이터 로더의 배치 크기를 업데이트.\n",
        "dataloader = torch.utils.data.DataLoader(dataset,\n",
        "                                         batch_size=BATCH_SIZE,\n",
        "                                         shuffle=True,\n",
        "                                         num_workers=8)"
      ],
      "metadata": {
        "id": "OH6-A__WjVjh"
      },
      "execution_count": null,
      "outputs": []
    },
    {
      "cell_type": "code",
      "source": [
        "# VGG19 모델의 첫 번재 합성곱 층의 파라미터를 출력.\n",
        "next(my_model.vgg19.features._modules['0'].parameters())[0]"
      ],
      "metadata": {
        "id": "sJ5lHkdwj3j_",
        "colab": {
          "base_uri": "https://localhost:8080/"
        },
        "outputId": "0b03808f-0895-4543-a0dd-222e859dd1f0"
      },
      "execution_count": null,
      "outputs": [
        {
          "output_type": "execute_result",
          "data": {
            "text/plain": [
              "tensor([[[-0.0535, -0.0493, -0.0679],\n",
              "         [ 0.0153,  0.0451,  0.0021],\n",
              "         [ 0.0362,  0.0200,  0.0199]],\n",
              "\n",
              "        [[ 0.0170,  0.0554, -0.0062],\n",
              "         [ 0.1416,  0.2271,  0.1376],\n",
              "         [ 0.1200,  0.2003,  0.0921]],\n",
              "\n",
              "        [[-0.0449,  0.0127, -0.0145],\n",
              "         [ 0.0597,  0.1395,  0.0541],\n",
              "         [-0.0010,  0.0583, -0.0297]]], device='cuda:0')"
            ]
          },
          "metadata": {},
          "execution_count": 46
        }
      ]
    },
    {
      "cell_type": "code",
      "source": [
        "# 선형 층의 파라미터 중 첫 10개를 출력\n",
        "it = my_model.linear_layers.parameters()\n",
        "next(it)[0][:10]"
      ],
      "metadata": {
        "id": "-OJS0o9VkG2H",
        "colab": {
          "base_uri": "https://localhost:8080/"
        },
        "outputId": "18bf1f5a-cae2-42eb-8f6e-08eaebbc852c"
      },
      "execution_count": null,
      "outputs": [
        {
          "output_type": "execute_result",
          "data": {
            "text/plain": [
              "tensor([-0.0254,  0.0216, -0.0235, -0.0238, -0.0080,  0.0051, -0.0244, -0.0021,\n",
              "         0.0127, -0.0067], device='cuda:0', grad_fn=<SliceBackward0>)"
            ]
          },
          "metadata": {},
          "execution_count": 47
        }
      ]
    },
    {
      "cell_type": "code",
      "source": [
        "# vgg19를 쓰기 때문에 학습 속도가 느리다..\n",
        "def binary_acc(y_pred, y_test):\n",
        "    y_pred_tag = torch.round(torch.sigmoid(y_pred))\n",
        "    correct_results_sum = (y_pred_tag == y_test).sum().float()\n",
        "    acc = correct_results_sum/y_test.shape[0]\n",
        "    acc = torch.round(acc * 100)\n",
        "    return acc\n",
        "\n",
        "# 모델 선언도 다시 해 주는게 좋음.\n",
        "my_model = MyNewNet()\n",
        "my_model = my_model.to(device)\n",
        "\n",
        "# 모델의 모든 파라미터를 고정.\n",
        "for param in my_model.parameters():\n",
        "    param.requires_grad = False\n",
        "\n",
        "# 선형 층의 파라미터만 학습 가능하도록 설정.\n",
        "for param in my_model.linear_layers.parameters():\n",
        "    param.requires_grad = True\n",
        "\n",
        "criterion = nn.BCEWithLogitsLoss()\n",
        "optimizer = optim.Adam(my_model.parameters(), lr=LEARNING_RATE)\n",
        "\n",
        "for e in range(1, EPOCHS+1):\n",
        "    epoch_loss=0\n",
        "    epoch_acc=0\n",
        "\n",
        "    for X_batch, y_batch in dataloader:\n",
        "        X_batch, y_batch = X_batch.to(device), y_batch.to(device).type(torch.cuda.FloatTensor)\n",
        "\n",
        "        optimizer.zero_grad()\n",
        "        y_pred = my_model(X_batch)\n",
        "\n",
        "        loss = criterion(y_pred, y_batch.unsqueeze(1))\n",
        "        acc = binary_acc(y_pred, y_batch.unsqueeze(1))\n",
        "\n",
        "        loss.backward()\n",
        "        optimizer.step()\n",
        "\n",
        "        epoch_loss += loss.item() # torch.Tensor.item(). 단일 값의 텐서에서 Python 숫자를 추출하는 데 사용.\n",
        "                                  # 해당 메서드는 텐서가 1개의 요소만 가질 때 호출 가능.\n",
        "        epoch_acc += acc.item()\n",
        "\n",
        "\n",
        "    print(f'Epoch {e+0:03}: | Loss: {epoch_loss/len(dataloader):.5f} | Acc: {epoch_acc/len(dataloader):.3f}')"
      ],
      "metadata": {
        "id": "08-scNYPkVCM",
        "colab": {
          "base_uri": "https://localhost:8080/"
        },
        "outputId": "af96fcb5-4f61-4d88-9052-8338af51c351"
      },
      "execution_count": null,
      "outputs": [
        {
          "output_type": "stream",
          "name": "stdout",
          "text": [
            "Epoch 001: | Loss: 0.06760 | Acc: 97.240\n",
            "Epoch 002: | Loss: 0.05129 | Acc: 97.898\n",
            "Epoch 003: | Loss: 0.05116 | Acc: 98.013\n",
            "Epoch 004: | Loss: 0.05055 | Acc: 98.051\n",
            "Epoch 005: | Loss: 0.05139 | Acc: 98.028\n"
          ]
        }
      ]
    },
    {
      "cell_type": "code",
      "source": [
        "# VGG19 모델의 첫 번째 합성곱 층의 파라미터 출력(frozen)\n",
        "next(my_model.vgg19.features._modules['0'].parameters())[0] # 첫 번째 파라미터를 가져옴"
      ],
      "metadata": {
        "id": "lmVkf6J9N-rD",
        "colab": {
          "base_uri": "https://localhost:8080/"
        },
        "outputId": "8748c72e-caa2-4273-c124-bd9bcf0bfb92"
      },
      "execution_count": null,
      "outputs": [
        {
          "output_type": "execute_result",
          "data": {
            "text/plain": [
              "tensor([[[-0.0535, -0.0493, -0.0679],\n",
              "         [ 0.0153,  0.0451,  0.0021],\n",
              "         [ 0.0362,  0.0200,  0.0199]],\n",
              "\n",
              "        [[ 0.0170,  0.0554, -0.0062],\n",
              "         [ 0.1416,  0.2271,  0.1376],\n",
              "         [ 0.1200,  0.2003,  0.0921]],\n",
              "\n",
              "        [[-0.0449,  0.0127, -0.0145],\n",
              "         [ 0.0597,  0.1395,  0.0541],\n",
              "         [-0.0010,  0.0583, -0.0297]]], device='cuda:0')"
            ]
          },
          "metadata": {},
          "execution_count": 50
        }
      ]
    },
    {
      "cell_type": "code",
      "source": [
        "# 선형 층의 파라미터 중 첫 10개를 출력(frozen 시키지 않음)\n",
        "it = my_model.linear_layers.parameters()\n",
        "next(it)[0][:10]"
      ],
      "metadata": {
        "id": "KCvDDstnORar",
        "colab": {
          "base_uri": "https://localhost:8080/"
        },
        "outputId": "53d57c7a-9fbb-4625-a73f-039fb33335c2"
      },
      "execution_count": null,
      "outputs": [
        {
          "output_type": "execute_result",
          "data": {
            "text/plain": [
              "tensor([-0.0341, -0.0572,  0.0226, -0.0207, -0.0028, -0.0196,  0.0055, -0.0002,\n",
              "         0.0161, -0.0171], device='cuda:0', grad_fn=<SliceBackward0>)"
            ]
          },
          "metadata": {},
          "execution_count": 51
        }
      ]
    }
  ]
}