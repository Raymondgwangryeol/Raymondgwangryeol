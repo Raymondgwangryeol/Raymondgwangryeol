{
  "cells": [
    {
      "cell_type": "markdown",
      "source": [
        "# **NumPy**\n",
        "- 파이썬의 고성능 과학 계산용 패키지\n",
        "- Matrix와 Vector 같은 Array 연산의 사실상 표준\n",
        "- 일반 리스트에 배해 빠르고, 메모리 효율적\n",
        "- 반복문 없이 데이터 배열에 대한 처리를 지원\n",
        "- 선형대수와 관련된 다양한 기능을 제공"
      ],
      "metadata": {
        "id": "6v32fCGc9IUs"
      },
      "id": "6v32fCGc9IUs"
    },
    {
      "cell_type": "code",
      "execution_count": 1,
      "id": "48aa8f42-3c12-4ceb-8363-2e341dc90242",
      "metadata": {
        "id": "48aa8f42-3c12-4ceb-8363-2e341dc90242"
      },
      "outputs": [],
      "source": [
        "import numpy as np"
      ]
    },
    {
      "cell_type": "markdown",
      "source": [
        "## **Array creation**\n",
        "- numpy는 np.array함수를 활용해 배열(ndarray)을 생성함.\n",
        "    - 리스트랑 거의 같은 구조\n",
        "- numpy는 하나의 데이터 타입만 배열에 넣을 수 있음\n",
        "- List와의 가장 큰 차이점: Dynamic typing not supported\n",
        "- C의 Array를 사용하여 배열을 생성함"
      ],
      "metadata": {
        "id": "JVVr4H7M79lA"
      },
      "id": "JVVr4H7M79lA"
    },
    {
      "cell_type": "markdown",
      "id": "866e0b42-a57f-440c-bedd-54844d4ac2bd",
      "metadata": {
        "id": "866e0b42-a57f-440c-bedd-54844d4ac2bd"
      },
      "source": [
        "#### **ndarray 생성**"
      ]
    },
    {
      "cell_type": "code",
      "execution_count": null,
      "id": "17431477-e00e-469e-b661-45ff1784ab58",
      "metadata": {
        "id": "17431477-e00e-469e-b661-45ff1784ab58"
      },
      "outputs": [],
      "source": [
        "a=[1, 2, 3, 4, 5]\n",
        "b=[5, 4, 3, 2, 1]"
      ]
    },
    {
      "cell_type": "code",
      "execution_count": null,
      "id": "c16e6a09-73c7-4f1c-851f-ee0511fc0a60",
      "metadata": {
        "id": "c16e6a09-73c7-4f1c-851f-ee0511fc0a60",
        "outputId": "9c13ad94-03a7-460d-d3d8-18393c30a930"
      },
      "outputs": [
        {
          "data": {
            "text/plain": [
              "array([1, 2, 3, 4, 5])"
            ]
          },
          "execution_count": 3,
          "metadata": {},
          "output_type": "execute_result"
        }
      ],
      "source": [
        "a=np.array(a, int)\n",
        "a"
      ]
    },
    {
      "cell_type": "markdown",
      "id": "ece65ff9-5b2a-4ef0-b9af-de3826c872c3",
      "metadata": {
        "id": "ece65ff9-5b2a-4ef0-b9af-de3826c872c3"
      },
      "source": [
        "다양한 자료형이 섞인 리스트를 넣어도 모두 float 형식으로 바꿔 저장함."
      ]
    },
    {
      "cell_type": "code",
      "execution_count": null,
      "id": "125057ae-c412-47eb-b819-e4e318bee6ff",
      "metadata": {
        "id": "125057ae-c412-47eb-b819-e4e318bee6ff",
        "outputId": "b07500c4-6bbe-425f-ad2f-48b02bf3f173"
      },
      "outputs": [
        {
          "data": {
            "text/plain": [
              "array([1. , 3. , 0.8, 7. ])"
            ]
          },
          "execution_count": 4,
          "metadata": {},
          "output_type": "execute_result"
        }
      ],
      "source": [
        "test_array = np.array(['1', '3', 0.8, 7], float)\n",
        "test_array"
      ]
    },
    {
      "cell_type": "code",
      "execution_count": null,
      "id": "2adf4043-9f2b-4c49-9943-a1cef18668dd",
      "metadata": {
        "id": "2adf4043-9f2b-4c49-9943-a1cef18668dd",
        "outputId": "eb139e51-8069-4086-f019-e6d289a17b1c"
      },
      "outputs": [
        {
          "data": {
            "text/plain": [
              "numpy.ndarray"
            ]
          },
          "execution_count": 6,
          "metadata": {},
          "output_type": "execute_result"
        }
      ],
      "source": [
        "type(test_array)"
      ]
    },
    {
      "cell_type": "code",
      "execution_count": null,
      "id": "b1cf0cf6-f4d6-4976-b47c-d38722d9cbf6",
      "metadata": {
        "id": "b1cf0cf6-f4d6-4976-b47c-d38722d9cbf6",
        "outputId": "09a9ddb2-ed4d-4332-e77a-6ae67d6e22a3"
      },
      "outputs": [
        {
          "data": {
            "text/plain": [
              "numpy.float64"
            ]
          },
          "execution_count": 7,
          "metadata": {},
          "output_type": "execute_result"
        }
      ],
      "source": [
        "type(test_array[0])"
      ]
    },
    {
      "cell_type": "markdown",
      "id": "34e82045-79f0-49da-9a14-b97f0e6da3c1",
      "metadata": {
        "id": "34e82045-79f0-49da-9a14-b97f0e6da3c1"
      },
      "source": [
        "#### **numpy와 list의 메모리 할당 비교**\n",
        "list는 -5에서 256사이의 값을 is로 비교하면 True가 나오지만, numpy는 해당 사이의 값 중 같은 값을 각각의 리스트에 넣더라도 따로따로 순차적인 배열이 만들어지기 때문에 False     \n",
        "\n",
        "numpy는 순자적으로 배열이 만들어지기 때문에 연산하기 좋음. 또한, 메모리의 크기가 일정해 data 저장 공간 잡기가 수월함."
      ]
    },
    {
      "cell_type": "code",
      "execution_count": null,
      "id": "643f367d-87f2-4dee-bbed-25bd8140276c",
      "metadata": {
        "id": "643f367d-87f2-4dee-bbed-25bd8140276c",
        "outputId": "d5843bd2-2886-4a5e-b935-90adcec07c10"
      },
      "outputs": [
        {
          "data": {
            "text/plain": [
              "True"
            ]
          },
          "execution_count": 8,
          "metadata": {},
          "output_type": "execute_result"
        }
      ],
      "source": [
        "a=[1, 2, 3, 4, 5]\n",
        "b=[5, 4, 3, 2, 1]\n",
        "\n",
        "a[0] is b[-1]"
      ]
    },
    {
      "cell_type": "code",
      "execution_count": null,
      "id": "ec457210-fd27-4c1b-a544-f0f3472543d4",
      "metadata": {
        "id": "ec457210-fd27-4c1b-a544-f0f3472543d4",
        "outputId": "6796e2d2-c5e7-4425-ac1c-02d81112080e"
      },
      "outputs": [
        {
          "data": {
            "text/plain": [
              "False"
            ]
          },
          "execution_count": 9,
          "metadata": {},
          "output_type": "execute_result"
        }
      ],
      "source": [
        "a=np.array(a, int)\n",
        "b=np.array(b, int)\n",
        "\n",
        "a[0] is b[-1]"
      ]
    },
    {
      "cell_type": "markdown",
      "source": [
        "### **Array shape**\n",
        "array의 rank에 따라 불리는 이름이 있음.\n",
        "\n",
        "|Rank|Name|\n",
        "|:------:|:------:|\n",
        "|0|scalar|\n",
        "|1|vector|\n",
        "|2|matrix|\n",
        "|3|3-tensor|\n",
        "|n|n-tensor|"
      ],
      "metadata": {
        "id": "bgGjKp4p-ZqN"
      },
      "id": "bgGjKp4p-ZqN"
    },
    {
      "cell_type": "markdown",
      "id": "20fb859e-f043-4740-8008-bbb186005fde",
      "metadata": {
        "id": "20fb859e-f043-4740-8008-bbb186005fde"
      },
      "source": [
        "#### **shape와 dtype**\n",
        "- shape: size를 튜플 형태로 반환.\n",
        "- dtype: 자료형 반환"
      ]
    },
    {
      "cell_type": "code",
      "execution_count": null,
      "id": "753678b6-9a2d-4274-b292-01c27d074f8c",
      "metadata": {
        "id": "753678b6-9a2d-4274-b292-01c27d074f8c",
        "outputId": "5c4cfab6-878a-4c82-a7d5-581b64e41a33"
      },
      "outputs": [
        {
          "data": {
            "text/plain": [
              "(4,)"
            ]
          },
          "execution_count": 11,
          "metadata": {},
          "output_type": "execute_result"
        }
      ],
      "source": [
        "test_array.shape"
      ]
    },
    {
      "cell_type": "code",
      "execution_count": null,
      "id": "da25e1ed-ef71-41f8-9105-2f65565d3c25",
      "metadata": {
        "id": "da25e1ed-ef71-41f8-9105-2f65565d3c25",
        "outputId": "ccbe1aa8-b89f-449b-8d94-660e8ba2f94b"
      },
      "outputs": [
        {
          "data": {
            "text/plain": [
              "dtype('float64')"
            ]
          },
          "execution_count": 13,
          "metadata": {},
          "output_type": "execute_result"
        }
      ],
      "source": [
        "test_array.dtype"
      ]
    },
    {
      "cell_type": "markdown",
      "id": "32c0b73c-8ee3-4ad2-b355-f35ecd0a8892",
      "metadata": {
        "id": "32c0b73c-8ee3-4ad2-b355-f35ecd0a8892"
      },
      "source": [
        "#### **ndim, size**\n",
        "- np.ndim: rank를 반환\n",
        "- np.size: element가 총 몇 개인지를 반환"
      ]
    },
    {
      "cell_type": "code",
      "execution_count": null,
      "id": "f910c3cb-b5e1-443b-abc7-1891feeabfe6",
      "metadata": {
        "id": "f910c3cb-b5e1-443b-abc7-1891feeabfe6"
      },
      "outputs": [],
      "source": [
        "a = [[1,2,3],[1,2,3]]"
      ]
    },
    {
      "cell_type": "code",
      "execution_count": null,
      "id": "982a86cd-5b42-4d5e-abd4-7097dc090ad1",
      "metadata": {
        "id": "982a86cd-5b42-4d5e-abd4-7097dc090ad1",
        "outputId": "a97b8bac-8345-40ce-ac0b-41d8a2968a45"
      },
      "outputs": [
        {
          "data": {
            "text/plain": [
              "2"
            ]
          },
          "execution_count": 17,
          "metadata": {},
          "output_type": "execute_result"
        }
      ],
      "source": [
        "np.ndim(a)"
      ]
    },
    {
      "cell_type": "code",
      "execution_count": null,
      "id": "81bbaeb6-1d1d-4cdc-b5af-3f01c7400159",
      "metadata": {
        "id": "81bbaeb6-1d1d-4cdc-b5af-3f01c7400159",
        "outputId": "342ce6ce-71f1-4a28-b682-9b13ef180db1"
      },
      "outputs": [
        {
          "data": {
            "text/plain": [
              "6"
            ]
          },
          "execution_count": 18,
          "metadata": {},
          "output_type": "execute_result"
        }
      ],
      "source": [
        "np.size(a)"
      ]
    },
    {
      "cell_type": "markdown",
      "id": "2594adc9-0037-4c89-8f76-c867d64c14c0",
      "metadata": {
        "id": "2594adc9-0037-4c89-8f76-c867d64c14c0"
      },
      "source": [
        "#### **nbytes**\n",
        "- ndarray object의 메모리 크기를 반환"
      ]
    },
    {
      "cell_type": "code",
      "execution_count": null,
      "id": "c5cd2c9c-78fc-4e3f-8a1e-5741789dc1ff",
      "metadata": {
        "id": "c5cd2c9c-78fc-4e3f-8a1e-5741789dc1ff",
        "outputId": "52f4892a-f4da-41a4-8429-046120866b84"
      },
      "outputs": [
        {
          "data": {
            "text/plain": [
              "24"
            ]
          },
          "execution_count": 20,
          "metadata": {},
          "output_type": "execute_result"
        }
      ],
      "source": [
        "np.array([[1, 2, 3],[3, 4, 5]], np.float32).nbytes # 4byte * 6 = 24"
      ]
    },
    {
      "cell_type": "markdown",
      "id": "b7791d59-ca03-418e-a0c2-745b8a7d7faa",
      "metadata": {
        "id": "b7791d59-ca03-418e-a0c2-745b8a7d7faa"
      },
      "source": [
        "#### **reshape**\n",
        "- Array의 shape를 변경, element의 개수는 동일"
      ]
    },
    {
      "cell_type": "code",
      "execution_count": null,
      "id": "55b18ea8-cd60-4a7f-8d65-8fe271900ef0",
      "metadata": {
        "id": "55b18ea8-cd60-4a7f-8d65-8fe271900ef0",
        "outputId": "abbbbd56-8337-403c-f701-6a587f808870"
      },
      "outputs": [
        {
          "data": {
            "text/plain": [
              "(2, 4)"
            ]
          },
          "execution_count": 30,
          "metadata": {},
          "output_type": "execute_result"
        }
      ],
      "source": [
        "test = [[1, 2, 3, 4],[1, 2, 5, 8]]\n",
        "np.array(test).shape"
      ]
    },
    {
      "cell_type": "code",
      "execution_count": null,
      "id": "3f0417e4-770c-41ca-9d3d-5cc00e3dd9f1",
      "metadata": {
        "id": "3f0417e4-770c-41ca-9d3d-5cc00e3dd9f1",
        "outputId": "74e486a7-3ea2-480d-bf74-6c84aaacd262"
      },
      "outputs": [
        {
          "data": {
            "text/plain": [
              "array([[1, 2],\n",
              "       [3, 4],\n",
              "       [1, 2],\n",
              "       [5, 8]])"
            ]
          },
          "execution_count": 31,
          "metadata": {},
          "output_type": "execute_result"
        }
      ],
      "source": [
        "np.array(test).reshape(4,2)"
      ]
    },
    {
      "cell_type": "code",
      "execution_count": null,
      "id": "823ffcbb-4a24-4f2f-bb39-62f70b6f1a39",
      "metadata": {
        "id": "823ffcbb-4a24-4f2f-bb39-62f70b6f1a39",
        "outputId": "fee3d1a4-073f-486b-9f5c-3e5f4bb3651a"
      },
      "outputs": [
        {
          "data": {
            "text/plain": [
              "array([[[1, 2],\n",
              "        [3, 4]],\n",
              "\n",
              "       [[1, 2],\n",
              "        [5, 8]]])"
            ]
          },
          "execution_count": 32,
          "metadata": {},
          "output_type": "execute_result"
        }
      ],
      "source": [
        "np.array(test).reshape(2, 2, 2)"
      ]
    },
    {
      "cell_type": "code",
      "execution_count": null,
      "id": "f65b7b67-9870-4ba8-a4e5-0046f3601079",
      "metadata": {
        "id": "f65b7b67-9870-4ba8-a4e5-0046f3601079",
        "outputId": "15133006-6a0f-4c74-dff4-14c5c75f2531"
      },
      "outputs": [
        {
          "data": {
            "text/plain": [
              "array([[1, 2, 3, 4, 1, 2, 5, 8]])"
            ]
          },
          "execution_count": 33,
          "metadata": {},
          "output_type": "execute_result"
        }
      ],
      "source": [
        "np.array(test).reshape(1, -1)"
      ]
    },
    {
      "cell_type": "markdown",
      "id": "f2e4d4a5-ee41-4908-898b-d8e3bd98ae12",
      "metadata": {
        "id": "f2e4d4a5-ee41-4908-898b-d8e3bd98ae12"
      },
      "source": [
        "#### **flatten**\n",
        "- 다차원 array를 1차원 array로 변환"
      ]
    },
    {
      "cell_type": "code",
      "execution_count": null,
      "id": "d341d16f-c228-49bc-88a3-dd34704cb3e9",
      "metadata": {
        "id": "d341d16f-c228-49bc-88a3-dd34704cb3e9",
        "outputId": "3a35c09d-e2e0-4e51-93cd-dda0500f602c"
      },
      "outputs": [
        {
          "data": {
            "text/plain": [
              "(2, 2, 4)"
            ]
          },
          "execution_count": 34,
          "metadata": {},
          "output_type": "execute_result"
        }
      ],
      "source": [
        "test = [[[1, 2, 3, 4],[1, 2, 5, 8]],[[1, 2, 3, 4],[1, 2, 5, 8]]]\n",
        "np.array(test).shape"
      ]
    },
    {
      "cell_type": "code",
      "execution_count": null,
      "id": "5fb54ee6-1078-4cd4-a9c8-425981f28fff",
      "metadata": {
        "id": "5fb54ee6-1078-4cd4-a9c8-425981f28fff",
        "outputId": "7db9fee9-cd6c-42ae-e689-9df73d304383"
      },
      "outputs": [
        {
          "data": {
            "text/plain": [
              "array([1, 2, 3, 4, 1, 2, 5, 8, 1, 2, 3, 4, 1, 2, 5, 8])"
            ]
          },
          "execution_count": 36,
          "metadata": {},
          "output_type": "execute_result"
        }
      ],
      "source": [
        "np.array(test).flatten()"
      ]
    },
    {
      "cell_type": "code",
      "execution_count": null,
      "id": "afa1bc1e-7f14-4c62-a4e8-49a46ec5c216",
      "metadata": {
        "id": "afa1bc1e-7f14-4c62-a4e8-49a46ec5c216",
        "outputId": "c93c4699-8096-47c0-d43a-5b7ce133defe"
      },
      "outputs": [
        {
          "data": {
            "text/plain": [
              "(16,)"
            ]
          },
          "execution_count": 38,
          "metadata": {},
          "output_type": "execute_result"
        }
      ],
      "source": [
        "np.array(test).flatten().shape"
      ]
    },
    {
      "cell_type": "markdown",
      "id": "aefe7be9-2fc9-43b4-bc0d-ca25631044c1",
      "metadata": {
        "id": "aefe7be9-2fc9-43b4-bc0d-ca25631044c1"
      },
      "source": [
        "#### **indexing**"
      ]
    },
    {
      "cell_type": "code",
      "execution_count": null,
      "id": "8fd7a8fd-6661-4796-89d4-8ffc0af2e32a",
      "metadata": {
        "id": "8fd7a8fd-6661-4796-89d4-8ffc0af2e32a",
        "outputId": "b5e19cb4-dd2a-4877-f302-e90e4329a61b"
      },
      "outputs": [
        {
          "data": {
            "text/plain": [
              "3"
            ]
          },
          "execution_count": 41,
          "metadata": {},
          "output_type": "execute_result"
        }
      ],
      "source": [
        "# [0,0] 표기법\n",
        "test_np = np.array(test, np.int8)\n",
        "test_np[0,0,2] # 3"
      ]
    },
    {
      "cell_type": "markdown",
      "id": "0cbc5d95-f2ae-4f2e-ba98-7d0fba714c34",
      "metadata": {
        "id": "0cbc5d95-f2ae-4f2e-ba98-7d0fba714c34"
      },
      "source": [
        "#### **slicing**\n",
        "- 행과 열 부분을 나눠서 slicing이 가능."
      ]
    },
    {
      "cell_type": "code",
      "execution_count": null,
      "id": "023b4bf1-f891-45e2-a1c3-32d2f5e853a2",
      "metadata": {
        "id": "023b4bf1-f891-45e2-a1c3-32d2f5e853a2",
        "outputId": "fd857abd-71ee-4afb-dcdb-20b94a9c0adc"
      },
      "outputs": [
        {
          "name": "stdout",
          "output_type": "stream",
          "text": [
            "[[[1 2 5 8]]\n",
            "\n",
            " [[1 2 5 8]]]\n"
          ]
        }
      ],
      "source": [
        "print(test_np[:,1:]) #행은 모두, 열은 1번째부터"
      ]
    },
    {
      "cell_type": "code",
      "execution_count": null,
      "id": "48928d11-f69c-47a5-9716-47a23b958e55",
      "metadata": {
        "id": "48928d11-f69c-47a5-9716-47a23b958e55",
        "outputId": "58cde8d9-9cd7-4e73-8a8c-ca8178ceaeab"
      },
      "outputs": [
        {
          "data": {
            "text/plain": [
              "array([[[3, 4],\n",
              "        [5, 8]]], dtype=int8)"
            ]
          },
          "execution_count": 48,
          "metadata": {},
          "output_type": "execute_result"
        }
      ],
      "source": [
        "test_np[1:,:,2:] # 첫 번째 행의 모든 요소 안의 2번째 요소 부터"
      ]
    },
    {
      "cell_type": "code",
      "execution_count": null,
      "id": "2f7dc633-fd13-4d02-9cf7-594d67922184",
      "metadata": {
        "id": "2f7dc633-fd13-4d02-9cf7-594d67922184"
      },
      "outputs": [],
      "source": [
        "test = np.array([[1, 2, 3, 4, 5],[5, 6, 7, 8, 9]], int)"
      ]
    },
    {
      "cell_type": "code",
      "execution_count": null,
      "id": "d25eeed7-39d4-4390-86be-b9d80ab67bcf",
      "metadata": {
        "id": "d25eeed7-39d4-4390-86be-b9d80ab67bcf",
        "outputId": "8ef22af3-324a-4dcc-cf80-724c7690f2cd"
      },
      "outputs": [
        {
          "data": {
            "text/plain": [
              "array([5, 6, 7, 8, 9])"
            ]
          },
          "execution_count": 53,
          "metadata": {},
          "output_type": "execute_result"
        }
      ],
      "source": [
        "test[1] # 1차원으로 나온다"
      ]
    },
    {
      "cell_type": "code",
      "execution_count": null,
      "id": "505b5388-2ab6-4fb4-9f5b-350e503ab2e3",
      "metadata": {
        "id": "505b5388-2ab6-4fb4-9f5b-350e503ab2e3",
        "outputId": "aa5eae9d-953a-46db-c574-10c09f20fc60"
      },
      "outputs": [
        {
          "data": {
            "text/plain": [
              "array([[1, 2, 3, 4, 5]])"
            ]
          },
          "execution_count": 55,
          "metadata": {},
          "output_type": "execute_result"
        }
      ],
      "source": [
        "test[:1,:] # 위와 같은 결과지만, 2차원으로 나온다"
      ]
    },
    {
      "cell_type": "markdown",
      "id": "14a45cc1-7a88-45f2-a8c9-a217e5aa97cd",
      "metadata": {
        "id": "14a45cc1-7a88-45f2-a8c9-a217e5aa97cd"
      },
      "source": [
        "### **Creation function**"
      ]
    },
    {
      "cell_type": "markdown",
      "id": "db639b9a-fef0-430d-bb3b-6e843b3aebd1",
      "metadata": {
        "id": "db639b9a-fef0-430d-bb3b-6e843b3aebd1"
      },
      "source": [
        "#### **arange**\n",
        "- array의 범위를 지정하여, 값의 list를 생성하는 명령어\n",
        "  - List의 range와 같은 효과\n",
        "- arrange(시작, 끝, step)\n",
        "  - list와 달리 step에 실수도 들어갈 수 있다."
      ]
    },
    {
      "cell_type": "code",
      "execution_count": null,
      "id": "e6cbe823-8b7a-440d-ae89-8d612f96f744",
      "metadata": {
        "id": "e6cbe823-8b7a-440d-ae89-8d612f96f744",
        "outputId": "9e05c0ad-f2bb-4ff2-ae00-840f6bf46c09"
      },
      "outputs": [
        {
          "data": {
            "text/plain": [
              "[0, 1, 2, 3, 4]"
            ]
          },
          "execution_count": 57,
          "metadata": {},
          "output_type": "execute_result"
        }
      ],
      "source": [
        "list(range(5))"
      ]
    },
    {
      "cell_type": "code",
      "execution_count": null,
      "id": "6f70c530-d096-4962-8211-b6fa7c4e7a53",
      "metadata": {
        "id": "6f70c530-d096-4962-8211-b6fa7c4e7a53",
        "outputId": "b2371e81-910e-495b-cd3a-4694b75ac625"
      },
      "outputs": [
        {
          "data": {
            "text/plain": [
              "list"
            ]
          },
          "execution_count": 58,
          "metadata": {},
          "output_type": "execute_result"
        }
      ],
      "source": [
        "type(list(range(5)))"
      ]
    },
    {
      "cell_type": "code",
      "execution_count": null,
      "id": "cd40a128-9645-4ec3-826e-165a903f9668",
      "metadata": {
        "id": "cd40a128-9645-4ec3-826e-165a903f9668",
        "outputId": "16abecc4-1d03-4c2a-852c-999276e54f78"
      },
      "outputs": [
        {
          "data": {
            "text/plain": [
              "array([0, 1, 2, 3, 4])"
            ]
          },
          "execution_count": 60,
          "metadata": {},
          "output_type": "execute_result"
        }
      ],
      "source": [
        "np.arange(5)"
      ]
    },
    {
      "cell_type": "code",
      "execution_count": null,
      "id": "8270ceed-ee01-4d5a-be56-92b65e60772d",
      "metadata": {
        "id": "8270ceed-ee01-4d5a-be56-92b65e60772d",
        "outputId": "4321e17b-29bf-4917-9c1a-1afc3485cd46"
      },
      "outputs": [
        {
          "data": {
            "text/plain": [
              "numpy.ndarray"
            ]
          },
          "execution_count": 61,
          "metadata": {},
          "output_type": "execute_result"
        }
      ],
      "source": [
        "type(np.arange(5))"
      ]
    },
    {
      "cell_type": "code",
      "execution_count": null,
      "id": "af9526e1-0319-491f-b56d-69e76aeedb61",
      "metadata": {
        "id": "af9526e1-0319-491f-b56d-69e76aeedb61",
        "outputId": "2c2407d6-bdbc-4d0f-ab64-2928c2c1a085"
      },
      "outputs": [
        {
          "data": {
            "text/plain": [
              "array([0. , 0.5, 1. , 1.5, 2. , 2.5, 3. , 3.5, 4. , 4.5, 5. , 5.5, 6. ,\n",
              "       6.5, 7. , 7.5, 8. , 8.5, 9. , 9.5])"
            ]
          },
          "execution_count": 62,
          "metadata": {},
          "output_type": "execute_result"
        }
      ],
      "source": [
        "np.arange(0, 10, 0.5)"
      ]
    },
    {
      "cell_type": "code",
      "execution_count": null,
      "id": "910bdf02-db3c-4605-be5e-ea6305fe731c",
      "metadata": {
        "id": "910bdf02-db3c-4605-be5e-ea6305fe731c",
        "outputId": "ac99cd5f-d75a-4058-b474-94fcfa23567d"
      },
      "outputs": [
        {
          "data": {
            "text/plain": [
              "array([[ 0,  1,  2,  3,  4,  5],\n",
              "       [ 6,  7,  8,  9, 10, 11],\n",
              "       [12, 13, 14, 15, 16, 17],\n",
              "       [18, 19, 20, 21, 22, 23],\n",
              "       [24, 25, 26, 27, 28, 29]])"
            ]
          },
          "execution_count": 63,
          "metadata": {},
          "output_type": "execute_result"
        }
      ],
      "source": [
        "# 많이 쓰는 기법\n",
        "np.arange(30).reshape(5, 6)"
      ]
    },
    {
      "cell_type": "markdown",
      "id": "5cf8ad23-37a9-4cc6-9708-6d6d0b69c608",
      "metadata": {
        "id": "5cf8ad23-37a9-4cc6-9708-6d6d0b69c608"
      },
      "source": [
        "#### **zeros , ones, empty**\n",
        "- np.zeros(shape,dtype,order)\n",
        "- shape는 튜플형태로"
      ]
    },
    {
      "cell_type": "code",
      "execution_count": null,
      "id": "141d9b58-1e2c-49b2-98e1-d7255dc89784",
      "metadata": {
        "id": "141d9b58-1e2c-49b2-98e1-d7255dc89784",
        "outputId": "c5f911ac-7322-4762-847c-a98f3e7f0d99"
      },
      "outputs": [
        {
          "data": {
            "text/plain": [
              "array([[[0, 0, 0, 0],\n",
              "        [0, 0, 0, 0]],\n",
              "\n",
              "       [[0, 0, 0, 0],\n",
              "        [0, 0, 0, 0]]])"
            ]
          },
          "execution_count": 65,
          "metadata": {},
          "output_type": "execute_result"
        }
      ],
      "source": [
        "test = [[[1, 2, 3, 4],[1, 2, 5, 8]],[[1, 2, 3, 4],[1, 2, 5, 8]]]\n",
        "np.zeros_like(test) # test와 같은 shape의 zeros array 생성"
      ]
    },
    {
      "cell_type": "code",
      "execution_count": null,
      "id": "ad6777e6-308c-4bef-9c2c-37066535d3ee",
      "metadata": {
        "id": "ad6777e6-308c-4bef-9c2c-37066535d3ee",
        "outputId": "a8b461a1-9a8b-4f45-cfbd-a94f96164884"
      },
      "outputs": [
        {
          "data": {
            "text/plain": [
              "array([[[0, 0, 0, 0],\n",
              "        [0, 0, 0, 0]],\n",
              "\n",
              "       [[0, 0, 0, 0],\n",
              "        [0, 0, 0, 0]]])"
            ]
          },
          "execution_count": 71,
          "metadata": {},
          "output_type": "execute_result"
        }
      ],
      "source": [
        "np.empty_like(test) # 공간만 잡아줌. 만약 잡은 공간에 값이 원래 들어있었다면, 해당 값을 확인할 수 있음\n",
        "                    # 실행할 때 마다 값이 달라질 수 있음."
      ]
    },
    {
      "cell_type": "markdown",
      "id": "95d60bd4-63d4-40fd-b591-78a5e83c5183",
      "metadata": {
        "id": "95d60bd4-63d4-40fd-b591-78a5e83c5183"
      },
      "source": [
        "#### **identity, eye, diag**\n",
        "- identity: 단위 행렬을 생성\n",
        "- eye: 대각선이 1인 행렬. k값으로 시작 index 변경 가능\n",
        "- diag: 대각 행렬의 값을 추출"
      ]
    },
    {
      "cell_type": "code",
      "execution_count": null,
      "id": "c7ed6a75-9ebd-4cd4-91bf-dfcdc77aaceb",
      "metadata": {
        "id": "c7ed6a75-9ebd-4cd4-91bf-dfcdc77aaceb",
        "outputId": "c94e3188-6dad-4420-8e4e-6793b542f39c"
      },
      "outputs": [
        {
          "data": {
            "text/plain": [
              "array([[1, 0, 0],\n",
              "       [0, 1, 0],\n",
              "       [0, 0, 1]], dtype=int8)"
            ]
          },
          "execution_count": 72,
          "metadata": {},
          "output_type": "execute_result"
        }
      ],
      "source": [
        "np.identity(n=3, dtype=np.int8)"
      ]
    },
    {
      "cell_type": "code",
      "execution_count": null,
      "id": "b934fa08-3410-429c-95a9-dbd25e6183b2",
      "metadata": {
        "id": "b934fa08-3410-429c-95a9-dbd25e6183b2",
        "outputId": "50f6adc0-67bb-489e-d61d-d99f99925c54"
      },
      "outputs": [
        {
          "data": {
            "text/plain": [
              "array([[0, 0, 1, 0, 0],\n",
              "       [0, 0, 0, 1, 0],\n",
              "       [0, 0, 0, 0, 1]], dtype=int8)"
            ]
          },
          "execution_count": 75,
          "metadata": {},
          "output_type": "execute_result"
        }
      ],
      "source": [
        "np.eye(N=3, M=5, k = 2, dtype=np.int8) #행 3, 열 5, 2번째 부터 시작, dtype는 np.int"
      ]
    },
    {
      "cell_type": "code",
      "execution_count": null,
      "id": "2c07db29-6ae0-49fc-87b2-87d771ce1766",
      "metadata": {
        "id": "2c07db29-6ae0-49fc-87b2-87d771ce1766",
        "outputId": "38f08049-2700-40fa-d1f7-d028d2fb13d9"
      },
      "outputs": [
        {
          "data": {
            "text/plain": [
              "array([0, 4, 8])"
            ]
          },
          "execution_count": 76,
          "metadata": {},
          "output_type": "execute_result"
        }
      ],
      "source": [
        "matrix = np.arange(9).reshape(3,3)\n",
        "np.diag(matrix)"
      ]
    },
    {
      "cell_type": "code",
      "execution_count": null,
      "id": "48a873e2-11f3-4a65-93be-5751f6cb8675",
      "metadata": {
        "id": "48a873e2-11f3-4a65-93be-5751f6cb8675",
        "outputId": "5dd20740-409f-4cb5-fd0b-062e600abeb8"
      },
      "outputs": [
        {
          "data": {
            "text/plain": [
              "array([1, 5])"
            ]
          },
          "execution_count": 77,
          "metadata": {},
          "output_type": "execute_result"
        }
      ],
      "source": [
        "# eye와 마찬가지로, k로 시작 위치 지정 가능\n",
        "np.diag(matrix, k=1)"
      ]
    },
    {
      "cell_type": "markdown",
      "id": "a26516ce-3224-41a6-a391-36e48aea1eac",
      "metadata": {
        "id": "a26516ce-3224-41a6-a391-36e48aea1eac"
      },
      "source": [
        "#### **random sampling**\n",
        "- np.random을 import해야 쓸 수 있음\n",
        "- np.random.uniform(시작값, 끝값, 개수): 균등분포\n",
        "- np.random.normal(): 정규분포"
      ]
    },
    {
      "cell_type": "code",
      "execution_count": null,
      "id": "f47f6dbf-578a-4931-9f31-57b6d72be539",
      "metadata": {
        "id": "f47f6dbf-578a-4931-9f31-57b6d72be539",
        "outputId": "719044d3-4531-4733-91bf-631ea271bd61"
      },
      "outputs": [
        {
          "data": {
            "text/plain": [
              "array([[0.64766729, 0.26200013, 0.50735912, 0.42320367, 0.70515091],\n",
              "       [0.57070097, 0.17182619, 0.7686214 , 0.81140593, 0.47198504]])"
            ]
          },
          "execution_count": 78,
          "metadata": {},
          "output_type": "execute_result"
        }
      ],
      "source": [
        "np.random.uniform(0, 1, 10).reshape(2, 5)"
      ]
    },
    {
      "cell_type": "code",
      "execution_count": null,
      "id": "1e3f8561-cf12-4804-8796-d0feb4af6c19",
      "metadata": {
        "id": "1e3f8561-cf12-4804-8796-d0feb4af6c19",
        "outputId": "9c2a597c-0554-4647-b60d-6ea01f48ea2f"
      },
      "outputs": [
        {
          "data": {
            "text/plain": [
              "array([[-1.22259038,  0.21128053, -1.79253968,  2.49260606, -0.87941283],\n",
              "       [-1.76869874,  0.67791433, -0.16871395,  0.62913827, -0.40770831]])"
            ]
          },
          "execution_count": 79,
          "metadata": {},
          "output_type": "execute_result"
        }
      ],
      "source": [
        "np.random.normal(0, 1, 10).reshape(2, 5)"
      ]
    },
    {
      "cell_type": "markdown",
      "id": "dd13f0d0-9f86-46e5-93dc-7be10d7eb101",
      "metadata": {
        "id": "dd13f0d0-9f86-46e5-93dc-7be10d7eb101"
      },
      "source": [
        "### **Operation functions**"
      ]
    },
    {
      "cell_type": "markdown",
      "id": "d76c5c57-ae97-4804-a913-c30acf394171",
      "metadata": {
        "id": "d76c5c57-ae97-4804-a913-c30acf394171"
      },
      "source": [
        "#### **sum, axis**\n",
        "**axis:** 모든 operation을 실행할 때 기준이 되는 dimension 축"
      ]
    },
    {
      "cell_type": "markdown",
      "source": [
        "![image.png](data:image/png;base64,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)"
      ],
      "metadata": {
        "id": "4Pqobd5LCA4X"
      },
      "id": "4Pqobd5LCA4X"
    },
    {
      "cell_type": "code",
      "execution_count": null,
      "id": "f5090f70-f195-46aa-9c80-79bcc86d2e7a",
      "metadata": {
        "id": "f5090f70-f195-46aa-9c80-79bcc86d2e7a",
        "outputId": "0668a5ee-20bf-4372-e85c-91949dd4c6fb"
      },
      "outputs": [
        {
          "data": {
            "text/plain": [
              "array([[ 1,  2,  3,  4],\n",
              "       [ 5,  6,  7,  8],\n",
              "       [ 9, 10, 11, 12]])"
            ]
          },
          "execution_count": 4,
          "metadata": {},
          "output_type": "execute_result"
        }
      ],
      "source": [
        "test = np.arange(1,13).reshape(3, 4)\n",
        "test"
      ]
    },
    {
      "cell_type": "code",
      "execution_count": null,
      "id": "6c629c17-dc39-4672-aece-f7612ee7565b",
      "metadata": {
        "id": "6c629c17-dc39-4672-aece-f7612ee7565b",
        "outputId": "23a523b5-3e20-49a2-8156-f7205a05d53b"
      },
      "outputs": [
        {
          "data": {
            "text/plain": [
              "array([15, 18, 21, 24])"
            ]
          },
          "execution_count": 5,
          "metadata": {},
          "output_type": "execute_result"
        }
      ],
      "source": [
        "# row 단위\n",
        "test.sum(axis = 0)"
      ]
    },
    {
      "cell_type": "code",
      "execution_count": null,
      "id": "954a8f61-2d9e-491c-a451-b73201bb7b02",
      "metadata": {
        "id": "954a8f61-2d9e-491c-a451-b73201bb7b02",
        "outputId": "9e8aa12a-5f08-4168-fb27-c3c172349c6e"
      },
      "outputs": [
        {
          "data": {
            "text/plain": [
              "array([10, 26, 42])"
            ]
          },
          "execution_count": 6,
          "metadata": {},
          "output_type": "execute_result"
        }
      ],
      "source": [
        "# column 단위\n",
        "test.sum(axis = 1)"
      ]
    },
    {
      "cell_type": "markdown",
      "id": "e195cddc-8c76-460c-b8a2-04a8c0862c9b",
      "metadata": {
        "id": "e195cddc-8c76-460c-b8a2-04a8c0862c9b"
      },
      "source": [
        "#### **Concatenate**"
      ]
    },
    {
      "cell_type": "code",
      "execution_count": null,
      "id": "94dfeaa8-72e8-45b8-aaa1-64f958bedd2e",
      "metadata": {
        "id": "94dfeaa8-72e8-45b8-aaa1-64f958bedd2e",
        "outputId": "7249844b-8da5-483e-9862-5609639db84a"
      },
      "outputs": [
        {
          "data": {
            "text/plain": [
              "array([[1, 2, 3],\n",
              "       [4, 5, 6]])"
            ]
          },
          "execution_count": 8,
          "metadata": {},
          "output_type": "execute_result"
        }
      ],
      "source": [
        "a = np.array([1, 2, 3])\n",
        "b = np.array([4, 5, 6])\n",
        "np.vstack((a, b))\n",
        "#np.concatenate((a, b), axis = 1)"
      ]
    },
    {
      "cell_type": "code",
      "execution_count": null,
      "id": "9d5c2f2d-854e-472f-aaf4-b54e8007a549",
      "metadata": {
        "id": "9d5c2f2d-854e-472f-aaf4-b54e8007a549",
        "outputId": "a1426fdf-750b-49d2-b265-da52be92c618"
      },
      "outputs": [
        {
          "data": {
            "text/plain": [
              "array([[1, 4],\n",
              "       [2, 5],\n",
              "       [3, 6]])"
            ]
          },
          "execution_count": 10,
          "metadata": {},
          "output_type": "execute_result"
        }
      ],
      "source": [
        "a = np.array([[1],[2],[3]])\n",
        "b = np.array([[4],[5],[6]])\n",
        "np.hstack((a, b))\n",
        "#np.concatenate((a, b), axis = 0)"
      ]
    },
    {
      "cell_type": "code",
      "execution_count": null,
      "id": "e6586e8c-8dbc-4fbb-81e4-0b62e8fecb06",
      "metadata": {
        "id": "e6586e8c-8dbc-4fbb-81e4-0b62e8fecb06",
        "outputId": "5dd013b8-55a7-40f5-faf4-2a769264c34e"
      },
      "outputs": [
        {
          "data": {
            "text/plain": [
              "array([[1, 2, 5],\n",
              "       [3, 4, 6]])"
            ]
          },
          "execution_count": 11,
          "metadata": {},
          "output_type": "execute_result"
        }
      ],
      "source": [
        "a = np.array([[1, 2],[3, 4]])\n",
        "b = np.array([5, 6])\n",
        "b = b[np.newaxis, :] # b는 벡터이므로 concat을 위해 축을 하나 추가해준다.\n",
        "np.concatenate((a, b.T), axis = 1)"
      ]
    },
    {
      "cell_type": "markdown",
      "id": "7940fea6-375b-4181-94df-67b22e2a9ee0",
      "metadata": {
        "id": "7940fea6-375b-4181-94df-67b22e2a9ee0"
      },
      "source": [
        "#### **Element-wise operations**\n",
        "- Array간 Shape이 같을 때, element들 간 같은 위치에 있는 값들 끼리 연산."
      ]
    },
    {
      "cell_type": "code",
      "execution_count": null,
      "id": "e79a4dd1-3ea5-4887-9e67-77158299cd7f",
      "metadata": {
        "id": "e79a4dd1-3ea5-4887-9e67-77158299cd7f"
      },
      "outputs": [],
      "source": [
        "a = np.array([1, 2, 3])\n",
        "b = np.array([4, 5, 6])"
      ]
    },
    {
      "cell_type": "code",
      "execution_count": null,
      "id": "eec6e967-7c3c-436b-9677-9e6069f369c5",
      "metadata": {
        "id": "eec6e967-7c3c-436b-9677-9e6069f369c5",
        "outputId": "57639105-0d4e-4dd0-a5b7-7831bc543baf"
      },
      "outputs": [
        {
          "data": {
            "text/plain": [
              "array([5, 7, 9])"
            ]
          },
          "execution_count": 13,
          "metadata": {},
          "output_type": "execute_result"
        }
      ],
      "source": [
        "a+b"
      ]
    },
    {
      "cell_type": "code",
      "execution_count": null,
      "id": "06fa6590-ecc0-453b-8ac2-257b09913226",
      "metadata": {
        "id": "06fa6590-ecc0-453b-8ac2-257b09913226",
        "outputId": "9f32e9e8-926e-4829-eea7-9cb91d4049f1"
      },
      "outputs": [
        {
          "data": {
            "text/plain": [
              "array([3, 3, 3])"
            ]
          },
          "execution_count": 14,
          "metadata": {},
          "output_type": "execute_result"
        }
      ],
      "source": [
        "b-a"
      ]
    },
    {
      "cell_type": "code",
      "execution_count": null,
      "id": "76f66966-702b-4a71-9459-637dfdb03a12",
      "metadata": {
        "id": "76f66966-702b-4a71-9459-637dfdb03a12",
        "outputId": "35423196-1731-46f9-d693-10bcee22753a"
      },
      "outputs": [
        {
          "data": {
            "text/plain": [
              "array([ 4, 10, 18])"
            ]
          },
          "execution_count": 15,
          "metadata": {},
          "output_type": "execute_result"
        }
      ],
      "source": [
        "a*b"
      ]
    },
    {
      "cell_type": "markdown",
      "id": "b303c763-eda5-48f8-b7f7-774829d9dff3",
      "metadata": {
        "id": "b303c763-eda5-48f8-b7f7-774829d9dff3"
      },
      "source": [
        "#### **dot**\n",
        "행렬곱"
      ]
    },
    {
      "cell_type": "code",
      "execution_count": null,
      "id": "f48bd3af-f0f3-4a8e-92da-693ac1733b7e",
      "metadata": {
        "id": "f48bd3af-f0f3-4a8e-92da-693ac1733b7e",
        "outputId": "813e0efe-c294-4bda-8e93-e8b76a89aa1b"
      },
      "outputs": [
        {
          "data": {
            "text/plain": [
              "array([[19, 22],\n",
              "       [43, 50]])"
            ]
          },
          "execution_count": 16,
          "metadata": {},
          "output_type": "execute_result"
        }
      ],
      "source": [
        "a = np.array([[1, 2],[3, 4]])\n",
        "b = np.array([[5, 6], [7, 8]])\n",
        "np.dot(a, b)"
      ]
    },
    {
      "cell_type": "markdown",
      "id": "6a89d6e1-413a-4d85-adc7-c47260b1beab",
      "metadata": {
        "id": "6a89d6e1-413a-4d85-adc7-c47260b1beab"
      },
      "source": [
        "#### **Transpose**"
      ]
    },
    {
      "cell_type": "code",
      "execution_count": null,
      "id": "8a64e035-1241-4dfe-bfc9-346ea49bc969",
      "metadata": {
        "id": "8a64e035-1241-4dfe-bfc9-346ea49bc969",
        "outputId": "97711dae-ecb7-4f4f-8690-1cb00a002d76"
      },
      "outputs": [
        {
          "data": {
            "text/plain": [
              "array([[1, 3],\n",
              "       [2, 4]])"
            ]
          },
          "execution_count": 17,
          "metadata": {},
          "output_type": "execute_result"
        }
      ],
      "source": [
        "np.transpose(a)\n",
        "#a.T"
      ]
    },
    {
      "cell_type": "markdown",
      "id": "dc92b687-83b0-4205-8eac-ea243bb0981e",
      "metadata": {
        "id": "dc92b687-83b0-4205-8eac-ea243bb0981e"
      },
      "source": [
        "### **Comparisons**"
      ]
    },
    {
      "cell_type": "code",
      "execution_count": null,
      "id": "0a07a0a8-5187-4c0e-b9ad-de733e00853d",
      "metadata": {
        "id": "0a07a0a8-5187-4c0e-b9ad-de733e00853d",
        "outputId": "084c4c64-c616-42fb-caa3-edd91c745c0c"
      },
      "outputs": [
        {
          "data": {
            "text/plain": [
              "array([False, False, False, False,  True,  True,  True,  True,  True])"
            ]
          },
          "execution_count": 18,
          "metadata": {},
          "output_type": "execute_result"
        }
      ],
      "source": [
        "a = np.arange(1, 10)\n",
        "a>4"
      ]
    },
    {
      "cell_type": "markdown",
      "id": "ac981718-2a14-42d1-bc8e-df7662cdf805",
      "metadata": {
        "id": "ac981718-2a14-42d1-bc8e-df7662cdf805"
      },
      "source": [
        "#### **any, all**\n",
        "- any: or 조건\n",
        "- all: and 조건"
      ]
    },
    {
      "cell_type": "code",
      "execution_count": null,
      "id": "7b4fb66b-e6e4-48d7-8f82-d1c1425bf25b",
      "metadata": {
        "id": "7b4fb66b-e6e4-48d7-8f82-d1c1425bf25b",
        "outputId": "f0e3d9bd-892c-4d49-fced-99065cc24cfe"
      },
      "outputs": [
        {
          "data": {
            "text/plain": [
              "True"
            ]
          },
          "execution_count": 19,
          "metadata": {},
          "output_type": "execute_result"
        }
      ],
      "source": [
        "np.any(a>5)"
      ]
    },
    {
      "cell_type": "code",
      "execution_count": null,
      "id": "30d05818-cca0-49fd-8592-9c9c1f0fdaf3",
      "metadata": {
        "id": "30d05818-cca0-49fd-8592-9c9c1f0fdaf3",
        "outputId": "3882299d-107c-449f-dcff-e5549b9705d3"
      },
      "outputs": [
        {
          "data": {
            "text/plain": [
              "False"
            ]
          },
          "execution_count": 20,
          "metadata": {},
          "output_type": "execute_result"
        }
      ],
      "source": [
        "np.all(a>5)"
      ]
    },
    {
      "cell_type": "markdown",
      "id": "c3076fb0-ca59-4765-8a5a-809ebb5c603f",
      "metadata": {
        "id": "c3076fb0-ca59-4765-8a5a-809ebb5c603f"
      },
      "source": [
        "#### **배열의 크기가 동일할 때 비교**"
      ]
    },
    {
      "cell_type": "code",
      "execution_count": null,
      "id": "625976bf-5e46-434d-8d26-e0ce845ea895",
      "metadata": {
        "id": "625976bf-5e46-434d-8d26-e0ce845ea895"
      },
      "outputs": [],
      "source": [
        "a = np.array([1, 3, 0])\n",
        "b = np.array([5, 2, 1])"
      ]
    },
    {
      "cell_type": "code",
      "execution_count": null,
      "id": "259831d2-3237-48a2-9dfe-c7635fa66ab7",
      "metadata": {
        "id": "259831d2-3237-48a2-9dfe-c7635fa66ab7",
        "outputId": "49ff5442-6d5b-4478-efbf-2e608374c4c4"
      },
      "outputs": [
        {
          "data": {
            "text/plain": [
              "array([False,  True, False])"
            ]
          },
          "execution_count": 24,
          "metadata": {},
          "output_type": "execute_result"
        }
      ],
      "source": [
        "a>b"
      ]
    },
    {
      "cell_type": "code",
      "execution_count": null,
      "id": "6cd1a75e-8afa-4832-88a1-98e6514fe537",
      "metadata": {
        "id": "6cd1a75e-8afa-4832-88a1-98e6514fe537",
        "outputId": "b196a5eb-4b64-40ad-e110-79726abddd10"
      },
      "outputs": [
        {
          "data": {
            "text/plain": [
              "True"
            ]
          },
          "execution_count": 25,
          "metadata": {},
          "output_type": "execute_result"
        }
      ],
      "source": [
        "(a>b).any()"
      ]
    },
    {
      "cell_type": "code",
      "execution_count": null,
      "id": "52727ac1-e151-4541-83da-7c266944f7a1",
      "metadata": {
        "id": "52727ac1-e151-4541-83da-7c266944f7a1",
        "outputId": "24d07cb0-31d3-47ac-f0ab-3f99c4994724"
      },
      "outputs": [
        {
          "data": {
            "text/plain": [
              "array([ True, False, False])"
            ]
          },
          "execution_count": 26,
          "metadata": {},
          "output_type": "execute_result"
        }
      ],
      "source": [
        "np.logical_and(a > 0, a < 3) #T,T,F & T,F,T"
      ]
    },
    {
      "cell_type": "code",
      "execution_count": null,
      "id": "e5997bfe-ea6e-41dc-b623-877b7bd0e5e7",
      "metadata": {
        "id": "e5997bfe-ea6e-41dc-b623-877b7bd0e5e7",
        "outputId": "e903b411-9a49-48e7-8c63-61203cc1c2bf"
      },
      "outputs": [
        {
          "data": {
            "text/plain": [
              "array([False,  True, False])"
            ]
          },
          "execution_count": 27,
          "metadata": {},
          "output_type": "execute_result"
        }
      ],
      "source": [
        "np.logical_not(a < 3) # !(T,F,T)"
      ]
    },
    {
      "cell_type": "code",
      "execution_count": null,
      "id": "e2a85295-d734-48fe-9609-804a0b553108",
      "metadata": {
        "id": "e2a85295-d734-48fe-9609-804a0b553108",
        "outputId": "8cc3878f-4266-4688-b8b8-d95ad521699a"
      },
      "outputs": [
        {
          "data": {
            "text/plain": [
              "array([ True,  True,  True])"
            ]
          },
          "execution_count": 28,
          "metadata": {},
          "output_type": "execute_result"
        }
      ],
      "source": [
        "np.logical_or(a > 0, a < 3) #T,T,F | T,F,T"
      ]
    },
    {
      "cell_type": "markdown",
      "id": "35880dd9-22ca-4f43-b665-997efaa64af0",
      "metadata": {
        "id": "35880dd9-22ca-4f43-b665-997efaa64af0"
      },
      "source": [
        "#### **np.where**\n",
        "1. where(조건식, TRUE, FALSE)"
      ]
    },
    {
      "cell_type": "code",
      "execution_count": null,
      "id": "25f2153b-374c-4451-a462-12895b40f7f9",
      "metadata": {
        "id": "25f2153b-374c-4451-a462-12895b40f7f9",
        "outputId": "30b9cbcf-386d-4329-eb04-eb89cda671f1"
      },
      "outputs": [
        {
          "data": {
            "text/plain": [
              "array([3, 3, 2])"
            ]
          },
          "execution_count": 29,
          "metadata": {},
          "output_type": "execute_result"
        }
      ],
      "source": [
        "np.where(a > 0, 3, 2) # a의 각각의 element에 대해서 0보다 크면 3, 아니면 2를 넣은 array를 반환\n",
        "                      # T,T,F"
      ]
    },
    {
      "cell_type": "markdown",
      "id": "e6533b7c-e1f9-454f-843c-81e6e1df879f",
      "metadata": {
        "id": "e6533b7c-e1f9-454f-843c-81e6e1df879f"
      },
      "source": [
        "2. 조건을 만족하는 index 값을 반환"
      ]
    },
    {
      "cell_type": "code",
      "execution_count": null,
      "id": "c58fd359-29e2-4c3f-a701-4230f1c14194",
      "metadata": {
        "id": "c58fd359-29e2-4c3f-a701-4230f1c14194",
        "outputId": "9f893a38-04f6-40b0-92b9-c1901f09a155"
      },
      "outputs": [
        {
          "data": {
            "text/plain": [
              "(array([0, 1], dtype=int64),)"
            ]
          },
          "execution_count": 31,
          "metadata": {},
          "output_type": "execute_result"
        }
      ],
      "source": [
        "np.where(a > 0)"
      ]
    },
    {
      "cell_type": "markdown",
      "id": "40c50900-c247-4b02-bc69-4d130680a434",
      "metadata": {
        "id": "40c50900-c247-4b02-bc69-4d130680a434"
      },
      "source": [
        "#### **isnan, isfinite**\n",
        "- isnan: np.NaN일 때 True를 반환\n",
        "- isfinite: 유한한 수일 때 True를 반환"
      ]
    },
    {
      "cell_type": "code",
      "execution_count": null,
      "id": "73620e34-7929-41c7-a345-1af4aa5a49f5",
      "metadata": {
        "id": "73620e34-7929-41c7-a345-1af4aa5a49f5"
      },
      "outputs": [],
      "source": [
        "a = np.array([1, np.NaN, np.Inf])"
      ]
    },
    {
      "cell_type": "code",
      "execution_count": null,
      "id": "819a4350-b2e0-4bb3-b914-5bbf3c40bf7c",
      "metadata": {
        "id": "819a4350-b2e0-4bb3-b914-5bbf3c40bf7c",
        "outputId": "5218c9aa-d14d-4813-d7a3-32260e40339d"
      },
      "outputs": [
        {
          "data": {
            "text/plain": [
              "array([False,  True, False])"
            ]
          },
          "execution_count": 33,
          "metadata": {},
          "output_type": "execute_result"
        }
      ],
      "source": [
        "np.isnan(a)"
      ]
    },
    {
      "cell_type": "code",
      "execution_count": null,
      "id": "6f46596e-3efe-42b3-8ec4-ab92e3de4943",
      "metadata": {
        "id": "6f46596e-3efe-42b3-8ec4-ab92e3de4943",
        "outputId": "94834bad-83d2-4c37-9ff6-aeca4f39c31b"
      },
      "outputs": [
        {
          "data": {
            "text/plain": [
              "array([ True, False, False])"
            ]
          },
          "execution_count": 34,
          "metadata": {},
          "output_type": "execute_result"
        }
      ],
      "source": [
        "np.isfinite(a)"
      ]
    },
    {
      "cell_type": "markdown",
      "id": "d87ff8ea-d0c4-46d2-9b8f-43530bad2bfe",
      "metadata": {
        "id": "d87ff8ea-d0c4-46d2-9b8f-43530bad2bfe"
      },
      "source": [
        "#### **argmax, argmin, argsort**\n",
        "- argmax: 가장 큰 값의 index를 반환\n",
        "- argmin: 가장 작은 값의 index를 반환\n",
        "- argsort: 크기 순서대로 정렬 후 인덱스를 반환"
      ]
    },
    {
      "cell_type": "code",
      "execution_count": null,
      "id": "f6166c52-cb62-41e7-8a79-d9f11e7862c7",
      "metadata": {
        "id": "f6166c52-cb62-41e7-8a79-d9f11e7862c7",
        "outputId": "001c415d-9ac2-4580-9ec6-01387bd84c15"
      },
      "outputs": [
        {
          "data": {
            "text/plain": [
              "(array([3, 1, 1], dtype=int64), array([0, 0, 2, 2], dtype=int64))"
            ]
          },
          "execution_count": 37,
          "metadata": {},
          "output_type": "execute_result"
        }
      ],
      "source": [
        "a = np.array([[1,2,4,7],[9,88,5,45],[9,76,3,4]])\n",
        "np.argmax(a, axis=1), np.argmin(a, axis=0)"
      ]
    },
    {
      "cell_type": "code",
      "execution_count": null,
      "id": "d3e3d8e2-2c1f-4f65-92a7-3d3d563c190b",
      "metadata": {
        "id": "d3e3d8e2-2c1f-4f65-92a7-3d3d563c190b",
        "outputId": "5036d025-55dc-4ffe-9c2f-579453316382"
      },
      "outputs": [
        {
          "data": {
            "text/plain": [
              "array([[0, 1, 2, 3],\n",
              "       [2, 0, 3, 1],\n",
              "       [2, 3, 0, 1]], dtype=int64)"
            ]
          },
          "execution_count": 38,
          "metadata": {},
          "output_type": "execute_result"
        }
      ],
      "source": [
        "#오름차순\n",
        "a.argsort()"
      ]
    },
    {
      "cell_type": "code",
      "execution_count": null,
      "id": "44c42625-69ef-4435-9c12-7e0d17d448b9",
      "metadata": {
        "id": "44c42625-69ef-4435-9c12-7e0d17d448b9",
        "outputId": "61979a27-2960-4c36-d242-2227634293cf"
      },
      "outputs": [
        {
          "data": {
            "text/plain": [
              "array([[3, 2, 1, 0],\n",
              "       [1, 3, 0, 2],\n",
              "       [1, 0, 3, 2]], dtype=int64)"
            ]
          },
          "execution_count": 40,
          "metadata": {},
          "output_type": "execute_result"
        }
      ],
      "source": [
        "#내림차순\n",
        "a.argsort()[:, ::-1]"
      ]
    },
    {
      "cell_type": "code",
      "execution_count": null,
      "id": "c553edaa-f7cf-44ab-85b3-3816dfbd0b24",
      "metadata": {
        "id": "c553edaa-f7cf-44ab-85b3-3816dfbd0b24",
        "outputId": "d48cd318-9c56-4b4f-afbc-625dc722674f"
      },
      "outputs": [
        {
          "data": {
            "text/plain": [
              "array([9])"
            ]
          },
          "execution_count": 51,
          "metadata": {},
          "output_type": "execute_result"
        }
      ],
      "source": [
        "a[np.argmax(a[:, :1], axis=0),0]"
      ]
    },
    {
      "cell_type": "markdown",
      "id": "a00a7298-6000-41bf-a5b4-4aee32c9ecf4",
      "metadata": {
        "id": "a00a7298-6000-41bf-a5b4-4aee32c9ecf4"
      },
      "source": [
        "#### **boolean index**\n",
        "- 특정 조건에 따른 결과값(boolean array)을 index로 넣으면 조건이 True인 index의 element값을 추출."
      ]
    },
    {
      "cell_type": "code",
      "execution_count": null,
      "id": "7b836ec6-833e-4f08-8ada-976a169b0725",
      "metadata": {
        "id": "7b836ec6-833e-4f08-8ada-976a169b0725",
        "outputId": "8b295fb3-bd2a-4600-8ed3-a375b6359a3e"
      },
      "outputs": [
        {
          "data": {
            "text/plain": [
              "array([4., 8., 9., 7.])"
            ]
          },
          "execution_count": 52,
          "metadata": {},
          "output_type": "execute_result"
        }
      ],
      "source": [
        "a = np.array([1,4,0,2,3,8,9,7], float)\n",
        "a[a > 3]"
      ]
    },
    {
      "cell_type": "markdown",
      "id": "7843f3b5-ad1d-4499-8c73-863481d1732b",
      "metadata": {
        "id": "7843f3b5-ad1d-4499-8c73-863481d1732b"
      },
      "source": [
        "#### **fancy index**\n",
        "- index array를 index값으로 넣으면, 해당하는 index에 대한 element값을 추출."
      ]
    },
    {
      "cell_type": "code",
      "execution_count": null,
      "id": "9a49098d-2e79-47dc-8944-fe06de55c773",
      "metadata": {
        "id": "9a49098d-2e79-47dc-8944-fe06de55c773",
        "outputId": "acf5df55-858b-4c7f-dd76-6de733efe7b5"
      },
      "outputs": [
        {
          "data": {
            "text/plain": [
              "array([2., 2., 4., 8., 6., 4.])"
            ]
          },
          "execution_count": 53,
          "metadata": {},
          "output_type": "execute_result"
        }
      ],
      "source": [
        "a = np.array([2,4,6,8], float)\n",
        "b = np.array([0,0,1,3,2,1], int) #반드시 int형으로 선언해야 함\n",
        "a[b]\n",
        "#a.take(b)"
      ]
    },
    {
      "cell_type": "code",
      "execution_count": null,
      "id": "f8202d7c-0c32-4d8b-b80a-91afe4563218",
      "metadata": {
        "id": "f8202d7c-0c32-4d8b-b80a-91afe4563218",
        "outputId": "2db0b471-96b1-4635-db31-fdbec965f97c"
      },
      "outputs": [
        {
          "data": {
            "text/plain": [
              "array([ 1.,  4., 16., 16.,  4.])"
            ]
          },
          "execution_count": 54,
          "metadata": {},
          "output_type": "execute_result"
        }
      ],
      "source": [
        "# matrix 형태\n",
        "a=np.array([[1,4],[9,16]], float)\n",
        "b=np.array([0,0,1,1,0], int)\n",
        "c=np.array([0,1,1,1,1])\n",
        "a[b,c]"
      ]
    },
    {
      "cell_type": "code",
      "execution_count": null,
      "id": "fd6c55c9-5564-4c15-8e35-ded79f4c7e98",
      "metadata": {
        "id": "fd6c55c9-5564-4c15-8e35-ded79f4c7e98",
        "outputId": "a2c014b3-97d8-41ff-f6d1-f676fd4df61c"
      },
      "outputs": [
        {
          "data": {
            "text/plain": [
              "array([[ 1.,  4.],\n",
              "       [ 1.,  4.],\n",
              "       [ 9., 16.],\n",
              "       [ 9., 16.],\n",
              "       [ 1.,  4.]])"
            ]
          },
          "execution_count": 55,
          "metadata": {},
          "output_type": "execute_result"
        }
      ],
      "source": [
        "a[b]"
      ]
    },
    {
      "cell_type": "markdown",
      "source": [
        "### **broadcasting**\n",
        "- shape가 다른 배열 간 연산을 지원"
      ],
      "metadata": {
        "id": "YGApMU-gDTr3"
      },
      "id": "YGApMU-gDTr3"
    },
    {
      "cell_type": "code",
      "source": [
        "test_matrix = np.array([[1,2,3],[4,5,6]], float)\n",
        "scalar = 3\n",
        "\n",
        "# Matrix + scalar\n",
        "test_matrix + scalar"
      ],
      "metadata": {
        "colab": {
          "base_uri": "https://localhost:8080/"
        },
        "id": "dG9Lb7z6DcYh",
        "outputId": "21efe92a-b826-4e18-de36-cee9f2ab9308"
      },
      "id": "dG9Lb7z6DcYh",
      "execution_count": 2,
      "outputs": [
        {
          "output_type": "execute_result",
          "data": {
            "text/plain": [
              "array([[4., 5., 6.],\n",
              "       [7., 8., 9.]])"
            ]
          },
          "metadata": {},
          "execution_count": 2
        }
      ]
    },
    {
      "cell_type": "code",
      "source": [
        "# Matrix - Scalar\n",
        "test_matrix - scalar"
      ],
      "metadata": {
        "colab": {
          "base_uri": "https://localhost:8080/"
        },
        "id": "lWU8cjVBDcZd",
        "outputId": "0b41f6c8-6798-4828-ee3e-2dee4314dbbd"
      },
      "id": "lWU8cjVBDcZd",
      "execution_count": 3,
      "outputs": [
        {
          "output_type": "execute_result",
          "data": {
            "text/plain": [
              "array([[-2., -1.,  0.],\n",
              "       [ 1.,  2.,  3.]])"
            ]
          },
          "metadata": {},
          "execution_count": 3
        }
      ]
    },
    {
      "cell_type": "code",
      "source": [
        "# Matrix * Scalar\n",
        "test_matrix * 5"
      ],
      "metadata": {
        "colab": {
          "base_uri": "https://localhost:8080/"
        },
        "id": "F7fdAdzHD8xW",
        "outputId": "99d05b5a-304a-4fda-93a0-32cc805470bf"
      },
      "id": "F7fdAdzHD8xW",
      "execution_count": 6,
      "outputs": [
        {
          "output_type": "execute_result",
          "data": {
            "text/plain": [
              "array([[ 5., 10., 15.],\n",
              "       [20., 25., 30.]])"
            ]
          },
          "metadata": {},
          "execution_count": 6
        }
      ]
    },
    {
      "cell_type": "code",
      "source": [
        "# Matrix / Scalar\n",
        "test_matrix / 5"
      ],
      "metadata": {
        "colab": {
          "base_uri": "https://localhost:8080/"
        },
        "id": "9Gfw2x8GD8yS",
        "outputId": "49a7dff7-2128-485b-8e26-12718a5980ab"
      },
      "id": "9Gfw2x8GD8yS",
      "execution_count": 7,
      "outputs": [
        {
          "output_type": "execute_result",
          "data": {
            "text/plain": [
              "array([[0.2, 0.4, 0.6],\n",
              "       [0.8, 1. , 1.2]])"
            ]
          },
          "metadata": {},
          "execution_count": 7
        }
      ]
    },
    {
      "cell_type": "code",
      "source": [
        "test_matrix = np.arange(1, 13).reshape(4,3)\n",
        "test_vector = np.arange(10, 40, 10) # 10, 20, 30\n",
        "test_matrix + test_vector"
      ],
      "metadata": {
        "colab": {
          "base_uri": "https://localhost:8080/"
        },
        "id": "UTXSjlLAESdX",
        "outputId": "908cf304-147f-4c72-fe67-5f6df03eeae1"
      },
      "id": "UTXSjlLAESdX",
      "execution_count": 9,
      "outputs": [
        {
          "output_type": "execute_result",
          "data": {
            "text/plain": [
              "array([[11, 22, 33],\n",
              "       [14, 25, 36],\n",
              "       [17, 28, 39],\n",
              "       [20, 31, 42]])"
            ]
          },
          "metadata": {},
          "execution_count": 9
        }
      ]
    }
  ],
  "metadata": {
    "kernelspec": {
      "display_name": "Python 3 (ipykernel)",
      "language": "python",
      "name": "python3"
    },
    "language_info": {
      "codemirror_mode": {
        "name": "ipython",
        "version": 3
      },
      "file_extension": ".py",
      "mimetype": "text/x-python",
      "name": "python",
      "nbconvert_exporter": "python",
      "pygments_lexer": "ipython3",
      "version": "3.8.19"
    },
    "colab": {
      "provenance": []
    }
  },
  "nbformat": 4,
  "nbformat_minor": 5
}
