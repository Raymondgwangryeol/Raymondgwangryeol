{
  "nbformat": 4,
  "nbformat_minor": 0,
  "metadata": {
    "colab": {
      "provenance": []
    },
    "kernelspec": {
      "name": "python3",
      "display_name": "Python 3"
    },
    "language_info": {
      "name": "python"
    }
  },
  "cells": [
    {
      "cell_type": "markdown",
      "source": [
        "## **Deep Learning Framework**\n",
        "**❓퀴즈**     \n",
        "다음 중 딥러닝 Framework가 아닌 것은?\n",
        "1. MXNet\n",
        "2. Caffe\n",
        "3. Keras\n",
        "4. Tensorflow\n",
        "5. **Pandas**\n",
        "\n",
        "**🖊 정답:** 5번    \n",
        "Pandas는 데이터 분석과 처리를 위한 Python 라이브러리\n",
        "<br><br><br>\n",
        "\n",
        "**❓퀴즈**\n",
        "#### **Define by Run**\n",
        "데이터 흘려보내기와 계산 그래프 구축이 동시에 이루어짐\n",
        "- PyTorch, Tensorflow(2.0 이상)\n",
        "- 순방향 계산에 적합, RNN 유용\n",
        "\n",
        "#### **Define and Run**\n",
        "계산 그래프 정의 → 컴파일 → 데이터 흘려보내기      \n",
        "실 데이터가 아닌 기호를 사용해 추상적인 계산 절차를 코딩해야 함.\n",
        "\n",
        "**🖊 정답:**\n",
        "- Define and Run 방식은 그래프를 먼저 정의하고 실행 시점에 data를 주입하는 방식이다.\n",
        "- Define by Run 방식은 실행하면서 그래프를 생성하는 방식이다.\n",
        "<br><br><br>\n",
        "\n",
        "**❓퀴즈**   \n",
        "\n",
        "**🖊 정답:** 딥러닝 프레임워크를 사용하면 미분 연산을 자동으로 처리해주므로, 수작업으로 미분 식을 작성할 필요가 없다."
      ],
      "metadata": {
        "id": "qewX7XrUyk7q"
      }
    },
    {
      "cell_type": "markdown",
      "source": [
        "## **PyTorch basics**\n",
        "- numpy + AutoGrad\n",
        "\n",
        "### **Tensor**\n",
        "- 다차원 배열을 표현하는 PyTorch 클래스\n",
        "- numpy의 ndarray와 매우 유사\n",
        "- pytorch의 tensor는 GPU에 올려 사용 가능"
      ],
      "metadata": {
        "id": "1DiSOnK4Gh9B"
      }
    },
    {
      "cell_type": "markdown",
      "source": [
        "### numpy to tensor"
      ],
      "metadata": {
        "id": "SEc6p6dBGodb"
      }
    },
    {
      "cell_type": "code",
      "execution_count": null,
      "metadata": {
        "id": "p_MQ-N5EHvAF",
        "colab": {
          "base_uri": "https://localhost:8080/"
        },
        "outputId": "f6d770b2-7422-4aad-d2c3-ffaf73e9a44f"
      },
      "outputs": [
        {
          "output_type": "stream",
          "name": "stdout",
          "text": [
            "[[0 1 2 3 4]\n",
            " [5 6 7 8 9]]\n",
            "ndim: 2 shape:  (2, 5)\n"
          ]
        }
      ],
      "source": [
        "import numpy as np\n",
        "n_array = np.arange(10).reshape(2,5)\n",
        "print(n_array)\n",
        "print(\"ndim:\", n_array.ndim, \"shape: \", n_array.shape)"
      ]
    },
    {
      "cell_type": "code",
      "source": [
        "import torch\n",
        "t_array = torch.FloatTensor(n_array)\n",
        "print(t_array)\n",
        "print(\"ndim:\", t_array.ndim, \"shape: \", t_array.shape)"
      ],
      "metadata": {
        "colab": {
          "base_uri": "https://localhost:8080/"
        },
        "id": "alXuyx_AGhk5",
        "outputId": "1d7a8937-889c-4403-e287-cb2b10de05e0"
      },
      "execution_count": null,
      "outputs": [
        {
          "output_type": "stream",
          "name": "stdout",
          "text": [
            "tensor([[0., 1., 2., 3., 4.],\n",
            "        [5., 6., 7., 8., 9.]])\n",
            "ndim: 2 shape:  torch.Size([2, 5])\n"
          ]
        }
      ]
    },
    {
      "cell_type": "markdown",
      "source": [
        "### Using GPU"
      ],
      "metadata": {
        "id": "PhIWdLjs82Tc"
      }
    },
    {
      "cell_type": "code",
      "source": [
        "t_array.device # 자동으로 cpu 타입 할당\n",
        "\n",
        "if torch.cuda.is_available():\n",
        "    t_array = t_array.to('cuda')\n",
        "    t_array.cuda.device"
      ],
      "metadata": {
        "id": "ViotJ6gt81OD"
      },
      "execution_count": null,
      "outputs": []
    },
    {
      "cell_type": "markdown",
      "source": [
        "### Array to Tensor"
      ],
      "metadata": {
        "id": "S4kFBx5h7OGn"
      }
    },
    {
      "cell_type": "code",
      "source": [
        "# data to tensor\n",
        "data = [[3,5],[10,5]]\n",
        "x_data = torch.tensor(data)\n",
        "\n",
        "#ndarray to tensor\n",
        "nd_array_ex = np.array(data)\n",
        "tensor_array = torch.from_numpy(nd_array_ex)"
      ],
      "metadata": {
        "id": "SkOgQyYe7RlA"
      },
      "execution_count": null,
      "outputs": []
    },
    {
      "cell_type": "markdown",
      "source": [
        "### **numpy like operations**\n",
        "- 기본적으로 PyTorch 대부분의 연산에 numpy 연산이 방식이 적용됨"
      ],
      "metadata": {
        "id": "O4cspmS_8Rxs"
      }
    },
    {
      "cell_type": "code",
      "source": [
        "data = [[3, 5, 20],[10, 5, 50],[1, 5, 10]]\n",
        "x_data = torch.tensor(data)\n",
        "\n",
        "x_data[1:]"
      ],
      "metadata": {
        "colab": {
          "base_uri": "https://localhost:8080/"
        },
        "id": "l3fugK3Z9jQc",
        "outputId": "89168fe9-c9e8-4c35-f341-cf8d8a5c24ea"
      },
      "execution_count": null,
      "outputs": [
        {
          "output_type": "execute_result",
          "data": {
            "text/plain": [
              "tensor([[10,  5, 50],\n",
              "        [ 1,  5, 10]])"
            ]
          },
          "metadata": {},
          "execution_count": 7
        }
      ]
    },
    {
      "cell_type": "code",
      "source": [
        "x_data[:2,1:]"
      ],
      "metadata": {
        "colab": {
          "base_uri": "https://localhost:8080/"
        },
        "id": "l5iXDbDt95ct",
        "outputId": "28917537-a15c-45f5-982f-21965645bed2"
      },
      "execution_count": null,
      "outputs": [
        {
          "output_type": "execute_result",
          "data": {
            "text/plain": [
              "tensor([[ 5, 20],\n",
              "        [ 5, 50]])"
            ]
          },
          "metadata": {},
          "execution_count": 8
        }
      ]
    },
    {
      "cell_type": "markdown",
      "source": [
        "**❓퀴즈**"
      ],
      "metadata": {
        "id": "E5nJNLjE2ayk"
      }
    },
    {
      "cell_type": "code",
      "source": [
        "x_data.flatten()"
      ],
      "metadata": {
        "colab": {
          "base_uri": "https://localhost:8080/"
        },
        "id": "N-V5yHwE-Gwg",
        "outputId": "ac5f6036-978d-4c27-83b7-e4ec80dcfa55"
      },
      "execution_count": null,
      "outputs": [
        {
          "output_type": "execute_result",
          "data": {
            "text/plain": [
              "tensor([ 3,  5, 20, 10,  5, 50,  1,  5, 10])"
            ]
          },
          "metadata": {},
          "execution_count": 9
        }
      ]
    },
    {
      "cell_type": "code",
      "source": [
        "torch.ones_like(x_data)"
      ],
      "metadata": {
        "colab": {
          "base_uri": "https://localhost:8080/"
        },
        "id": "QOCTW-pO-Jnk",
        "outputId": "605c2173-927b-41d5-b7a4-9b2f99fab15a"
      },
      "execution_count": null,
      "outputs": [
        {
          "output_type": "execute_result",
          "data": {
            "text/plain": [
              "tensor([[1, 1, 1],\n",
              "        [1, 1, 1],\n",
              "        [1, 1, 1]])"
            ]
          },
          "metadata": {},
          "execution_count": 10
        }
      ]
    },
    {
      "cell_type": "code",
      "source": [
        "x_data.numpy()"
      ],
      "metadata": {
        "colab": {
          "base_uri": "https://localhost:8080/"
        },
        "id": "vDxsyXpL-OJ1",
        "outputId": "f51da63b-52f4-4d92-a224-5396aec21181"
      },
      "execution_count": null,
      "outputs": [
        {
          "output_type": "execute_result",
          "data": {
            "text/plain": [
              "array([[ 3,  5, 20],\n",
              "       [10,  5, 50],\n",
              "       [ 1,  5, 10]])"
            ]
          },
          "metadata": {},
          "execution_count": 11
        }
      ]
    },
    {
      "cell_type": "code",
      "source": [
        "x_data.shape"
      ],
      "metadata": {
        "colab": {
          "base_uri": "https://localhost:8080/"
        },
        "id": "1akLIo2e-Q_9",
        "outputId": "1b650cde-4f9e-4481-cfaa-b15d380ed544"
      },
      "execution_count": null,
      "outputs": [
        {
          "output_type": "execute_result",
          "data": {
            "text/plain": [
              "torch.Size([3, 3])"
            ]
          },
          "metadata": {},
          "execution_count": 12
        }
      ]
    },
    {
      "cell_type": "code",
      "source": [
        "x_data.dtype"
      ],
      "metadata": {
        "colab": {
          "base_uri": "https://localhost:8080/"
        },
        "id": "PIDfTTvQ-UY9",
        "outputId": "5f8d50f8-08a1-4c29-ca11-8cc600f75e96"
      },
      "execution_count": null,
      "outputs": [
        {
          "output_type": "execute_result",
          "data": {
            "text/plain": [
              "torch.int64"
            ]
          },
          "metadata": {},
          "execution_count": 13
        }
      ]
    },
    {
      "cell_type": "markdown",
      "source": [
        "### **Tensor handling**\n",
        "- **view**\n",
        "    - reshape와 동일하게 tensor의 shape를 변환\n",
        "- **squeeze**\n",
        "    - 차원이 1인 차원을 아무거나 삭제(압축)\n",
        "- **unsqueeze**\n",
        "    - 차원 개수가 1인 차원을 추가(원하는 dim에 추가 가능)\n"
      ],
      "metadata": {
        "id": "zm2_bw2--eI-"
      }
    },
    {
      "cell_type": "code",
      "source": [
        "tensor_ex = torch.rand(size=(2, 1, 2))\n",
        "tensor_ex.squeeze()"
      ],
      "metadata": {
        "colab": {
          "base_uri": "https://localhost:8080/"
        },
        "id": "FXKVlBAGfIvw",
        "outputId": "020d0beb-a3ff-44c1-97c5-eb811864e650"
      },
      "execution_count": null,
      "outputs": [
        {
          "output_type": "execute_result",
          "data": {
            "text/plain": [
              "tensor([[0.6760, 0.0985],\n",
              "        [0.1611, 0.9635]])"
            ]
          },
          "metadata": {},
          "execution_count": 6
        }
      ]
    },
    {
      "cell_type": "code",
      "source": [
        "tensor_ex = torch.rand(size=(2,2))\n",
        "tensor_ex.unsqueeze(0).shape"
      ],
      "metadata": {
        "colab": {
          "base_uri": "https://localhost:8080/"
        },
        "id": "eyL9Fc48fdwc",
        "outputId": "917ef2c2-fa2b-4e7c-bbe6-309d04b40316"
      },
      "execution_count": null,
      "outputs": [
        {
          "output_type": "execute_result",
          "data": {
            "text/plain": [
              "torch.Size([1, 2, 2])"
            ]
          },
          "metadata": {},
          "execution_count": 11
        }
      ]
    },
    {
      "cell_type": "code",
      "source": [
        "tensor_ex.unsqueeze(1).shape"
      ],
      "metadata": {
        "colab": {
          "base_uri": "https://localhost:8080/"
        },
        "id": "2AUNy6Wbf7dD",
        "outputId": "4db07c36-0900-4f59-d90e-7d623a68f15e"
      },
      "execution_count": null,
      "outputs": [
        {
          "output_type": "execute_result",
          "data": {
            "text/plain": [
              "torch.Size([2, 1, 2])"
            ]
          },
          "metadata": {},
          "execution_count": 13
        }
      ]
    },
    {
      "cell_type": "code",
      "source": [
        "tensor_ex.unsqueeze(2).shape"
      ],
      "metadata": {
        "colab": {
          "base_uri": "https://localhost:8080/"
        },
        "id": "KYzZF4pagXks",
        "outputId": "beebfe06-ccc0-41b1-abf7-10c462d2e4c6"
      },
      "execution_count": null,
      "outputs": [
        {
          "output_type": "execute_result",
          "data": {
            "text/plain": [
              "torch.Size([2, 2, 1])"
            ]
          },
          "metadata": {},
          "execution_count": 14
        }
      ]
    },
    {
      "cell_type": "markdown",
      "source": [
        "\n",
        "### **view vs reshape**\n",
        "- **view**\n",
        "    - 연이은 나열(Contiguity)을 보장.\n",
        "    - tensor가 메모리에 연속적으로 존재할 때만 사용 가능.\n",
        "    - Contiguity를 보장하므로, copy없이 더 빠른 연산이 가능하기 때문에 view를 추천\n",
        "- **reshape**\n",
        "    - Contiguity를 항상 보장 하지 않음. Contiguity가 깨지면 복사해 새로 할당.\n",
        "    - 메모리에 연속적으로 tensor가 존재하는 경우 tensor와 메모리를 공유함.\n",
        "\n",
        "**❓퀴즈**   \n",
        "\n",
        "**🖊 정답:**\n",
        "-  view는 오직 contiguous한 tensor에서만 적용할 수 있으며, reshape는 이런 제약이 없다.\n",
        "- view는 원래 tensor와 메모리를 공유하며, reshape도 가능한 경우에는 원래 tensor와 메모리를 공유한다.\n"
      ],
      "metadata": {
        "id": "T1_tBQMRfF7U"
      }
    },
    {
      "cell_type": "markdown",
      "source": [
        "#### **torch.rand 정리**\n",
        "- **torch.rand(size):**\n",
        "    - 0과 1 사이의 실수로 난수를 생성해서 tensor 만들기\n",
        "- **torch.randn(size):**\n",
        "    - 표준정규분포 X~N(0, 1)로부터 난수를 생성해서 텐서 만들기\n",
        "- **torch.randint(low, high, size):**\n",
        "    - low~high사이의 정수로 난수를 생성해서 tensor 만들기\n",
        "- **torch.randperm(n):**\n",
        "    - 0~n사이의 정수를 무작위로 섞어 tensor 생성"
      ],
      "metadata": {
        "id": "JHuStOYP4Qeq"
      }
    },
    {
      "cell_type": "code",
      "source": [
        "tensor_ex = torch.rand(size=(2, 3, 2))\n",
        "tensor_ex"
      ],
      "metadata": {
        "colab": {
          "base_uri": "https://localhost:8080/"
        },
        "id": "2kH5PkYBeXEt",
        "outputId": "8cc3ca05-0f98-4bf5-8a58-800ab9373f43"
      },
      "execution_count": null,
      "outputs": [
        {
          "output_type": "execute_result",
          "data": {
            "text/plain": [
              "tensor([[[0.2919, 0.7020],\n",
              "         [0.0222, 0.2858],\n",
              "         [0.4513, 0.8274]],\n",
              "\n",
              "        [[0.9920, 0.2779],\n",
              "         [0.4236, 0.1790],\n",
              "         [0.9203, 0.8351]]])"
            ]
          },
          "metadata": {},
          "execution_count": 3
        }
      ]
    },
    {
      "cell_type": "code",
      "source": [
        "tensor_ex.view([-1, 6])"
      ],
      "metadata": {
        "colab": {
          "base_uri": "https://localhost:8080/"
        },
        "id": "Wh04iCdNexKb",
        "outputId": "6fb79ab6-6e19-470e-b125-537b6b05fecd"
      },
      "execution_count": null,
      "outputs": [
        {
          "output_type": "execute_result",
          "data": {
            "text/plain": [
              "tensor([[0.2919, 0.7020, 0.0222, 0.2858, 0.4513, 0.8274],\n",
              "        [0.9920, 0.2779, 0.4236, 0.1790, 0.9203, 0.8351]])"
            ]
          },
          "metadata": {},
          "execution_count": 4
        }
      ]
    },
    {
      "cell_type": "code",
      "source": [
        "tensor_ex.reshape([-1,6])"
      ],
      "metadata": {
        "colab": {
          "base_uri": "https://localhost:8080/"
        },
        "id": "WDHArKk6ezG7",
        "outputId": "97d0f51b-ee2b-4d76-a6a2-fa1f2a9bcf50"
      },
      "execution_count": null,
      "outputs": [
        {
          "output_type": "execute_result",
          "data": {
            "text/plain": [
              "tensor([[0.2919, 0.7020, 0.0222, 0.2858, 0.4513, 0.8274],\n",
              "        [0.9920, 0.2779, 0.4236, 0.1790, 0.9203, 0.8351]])"
            ]
          },
          "metadata": {},
          "execution_count": 5
        }
      ]
    },
    {
      "cell_type": "markdown",
      "source": [
        "### **Tensor operations**\n",
        "- tensor의 기본 연산들은 numpy와 동일.\n",
        "- 행렬곱 연산은 dot이 아닌 **mm** 사용\n",
        "- mm과 matmul은 **broadcasting 지원** 차이"
      ],
      "metadata": {
        "id": "rqxx-xhbgfO4"
      }
    },
    {
      "cell_type": "code",
      "source": [
        "# 기본 연산\n",
        "\n",
        "n1 = np.arange(10).reshape(2,5)\n",
        "t1 = torch.FloatTensor(n1)\n",
        "\n",
        "t1 + t1"
      ],
      "metadata": {
        "colab": {
          "base_uri": "https://localhost:8080/"
        },
        "id": "J-rANOjWfDkB",
        "outputId": "060f8a38-e3a0-487d-82d9-f50fcf2c10b0"
      },
      "execution_count": null,
      "outputs": [
        {
          "output_type": "execute_result",
          "data": {
            "text/plain": [
              "tensor([[ 0.,  2.,  4.,  6.,  8.],\n",
              "        [10., 12., 14., 16., 18.]])"
            ]
          },
          "metadata": {},
          "execution_count": 15
        }
      ]
    },
    {
      "cell_type": "code",
      "source": [
        "t1 - t1"
      ],
      "metadata": {
        "colab": {
          "base_uri": "https://localhost:8080/"
        },
        "id": "q_nsr2d7hV4x",
        "outputId": "d356625f-6439-4f19-dd93-12d78abc9b9c"
      },
      "execution_count": null,
      "outputs": [
        {
          "output_type": "execute_result",
          "data": {
            "text/plain": [
              "tensor([[0., 0., 0., 0., 0.],\n",
              "        [0., 0., 0., 0., 0.]])"
            ]
          },
          "metadata": {},
          "execution_count": 16
        }
      ]
    },
    {
      "cell_type": "code",
      "source": [
        "t1 + 10"
      ],
      "metadata": {
        "colab": {
          "base_uri": "https://localhost:8080/"
        },
        "id": "4ijgN2JZhZWp",
        "outputId": "1e6595eb-d931-49e2-d921-798f32b8ff5e"
      },
      "execution_count": null,
      "outputs": [
        {
          "output_type": "execute_result",
          "data": {
            "text/plain": [
              "tensor([[10., 11., 12., 13., 14.],\n",
              "        [15., 16., 17., 18., 19.]])"
            ]
          },
          "metadata": {},
          "execution_count": 17
        }
      ]
    },
    {
      "cell_type": "code",
      "source": [
        "# 행렬곱 연산\n",
        "\n",
        "n2 = np.arange(10).reshape(5,2)\n",
        "t2 = torch.FloatTensor(n2)\n",
        "\n",
        "# mm은 matrix 연산에 사용\n",
        "t1.mm(t2)"
      ],
      "metadata": {
        "colab": {
          "base_uri": "https://localhost:8080/"
        },
        "id": "WQnqZWg-hb65",
        "outputId": "f5ea5c54-1a27-48c9-e5e1-3abb78dc3daa"
      },
      "execution_count": null,
      "outputs": [
        {
          "output_type": "execute_result",
          "data": {
            "text/plain": [
              "tensor([[ 60.,  70.],\n",
              "        [160., 195.]])"
            ]
          },
          "metadata": {},
          "execution_count": 18
        }
      ]
    },
    {
      "cell_type": "code",
      "source": [
        "# dot은 scalar, vector 연산에 사용\n",
        "t1.dot(t2)"
      ],
      "metadata": {
        "colab": {
          "base_uri": "https://localhost:8080/",
          "height": 147
        },
        "id": "8l3VbU_bhtnx",
        "outputId": "599e15fe-8c81-43f8-96ee-1bc743fdf1be"
      },
      "execution_count": null,
      "outputs": [
        {
          "output_type": "error",
          "ename": "RuntimeError",
          "evalue": "1D tensors expected, but got 2D and 2D tensors",
          "traceback": [
            "\u001b[0;31m---------------------------------------------------------------------------\u001b[0m",
            "\u001b[0;31mRuntimeError\u001b[0m                              Traceback (most recent call last)",
            "\u001b[0;32m<ipython-input-19-e9d95797f0ac>\u001b[0m in \u001b[0;36m<cell line: 1>\u001b[0;34m()\u001b[0m\n\u001b[0;32m----> 1\u001b[0;31m \u001b[0mt1\u001b[0m\u001b[0;34m.\u001b[0m\u001b[0mdot\u001b[0m\u001b[0;34m(\u001b[0m\u001b[0mt2\u001b[0m\u001b[0;34m)\u001b[0m\u001b[0;34m\u001b[0m\u001b[0;34m\u001b[0m\u001b[0m\n\u001b[0m",
            "\u001b[0;31mRuntimeError\u001b[0m: 1D tensors expected, but got 2D and 2D tensors"
          ]
        }
      ]
    },
    {
      "cell_type": "code",
      "source": [
        "t1.matmul(t2)"
      ],
      "metadata": {
        "colab": {
          "base_uri": "https://localhost:8080/"
        },
        "id": "T9PGiwZDhxZQ",
        "outputId": "486ccaab-3a47-4f58-aae6-a26e8b6502df"
      },
      "execution_count": null,
      "outputs": [
        {
          "output_type": "execute_result",
          "data": {
            "text/plain": [
              "tensor([[ 60.,  70.],\n",
              "        [160., 195.]])"
            ]
          },
          "metadata": {},
          "execution_count": 20
        }
      ]
    },
    {
      "cell_type": "code",
      "source": [
        "# mm과 matmul의 차이\n",
        "\n",
        "a = torch.rand(5,2,3)# 5는 배치 사이즈\n",
        "b = torch.rand(5)\n",
        "a.mm(b)"
      ],
      "metadata": {
        "colab": {
          "base_uri": "https://localhost:8080/",
          "height": 184
        },
        "id": "0o5os8K8h1Ip",
        "outputId": "777ebf41-dc00-4d2e-c49b-a6c812529b7c"
      },
      "execution_count": null,
      "outputs": [
        {
          "output_type": "error",
          "ename": "RuntimeError",
          "evalue": "self must be a matrix",
          "traceback": [
            "\u001b[0;31m---------------------------------------------------------------------------\u001b[0m",
            "\u001b[0;31mRuntimeError\u001b[0m                              Traceback (most recent call last)",
            "\u001b[0;32m<ipython-input-21-884d99a574e7>\u001b[0m in \u001b[0;36m<cell line: 5>\u001b[0;34m()\u001b[0m\n\u001b[1;32m      3\u001b[0m \u001b[0ma\u001b[0m \u001b[0;34m=\u001b[0m \u001b[0mtorch\u001b[0m\u001b[0;34m.\u001b[0m\u001b[0mrand\u001b[0m\u001b[0;34m(\u001b[0m\u001b[0;36m5\u001b[0m\u001b[0;34m,\u001b[0m\u001b[0;36m2\u001b[0m\u001b[0;34m,\u001b[0m\u001b[0;36m3\u001b[0m\u001b[0;34m)\u001b[0m\u001b[0;31m# 5는 배치 사이즈\u001b[0m\u001b[0;34m\u001b[0m\u001b[0;34m\u001b[0m\u001b[0m\n\u001b[1;32m      4\u001b[0m \u001b[0mb\u001b[0m \u001b[0;34m=\u001b[0m \u001b[0mtorch\u001b[0m\u001b[0;34m.\u001b[0m\u001b[0mrand\u001b[0m\u001b[0;34m(\u001b[0m\u001b[0;36m5\u001b[0m\u001b[0;34m)\u001b[0m\u001b[0;34m\u001b[0m\u001b[0;34m\u001b[0m\u001b[0m\n\u001b[0;32m----> 5\u001b[0;31m \u001b[0ma\u001b[0m\u001b[0;34m.\u001b[0m\u001b[0mmm\u001b[0m\u001b[0;34m(\u001b[0m\u001b[0mb\u001b[0m\u001b[0;34m)\u001b[0m\u001b[0;34m\u001b[0m\u001b[0;34m\u001b[0m\u001b[0m\n\u001b[0m",
            "\u001b[0;31mRuntimeError\u001b[0m: self must be a matrix"
          ]
        }
      ]
    },
    {
      "cell_type": "code",
      "source": [
        "# 아래와 동일한 식\n",
        "# a[0].mm(torch.unsqueeze(b,1))\n",
        "# a[1].mm(torch.unsqueeze(b,1))\n",
        "# a[2].mm(torch.unsqueeze(b,1))\n",
        "# a[3].mm(torch.unsqueeze(b,1))\n",
        "# a[4].mm(torch.unsqueeze(b,1))\n",
        "\n",
        "a = torch.rand(5,2,3)\n",
        "b = torch.rand(3)\n",
        "a.matmul(b)"
      ],
      "metadata": {
        "colab": {
          "base_uri": "https://localhost:8080/"
        },
        "id": "iw_1hJdIiP7Z",
        "outputId": "33f9cae7-9d8a-4141-ddd1-f1880031c159"
      },
      "execution_count": null,
      "outputs": [
        {
          "output_type": "execute_result",
          "data": {
            "text/plain": [
              "tensor([[0.1749, 0.3173],\n",
              "        [0.8168, 0.7687],\n",
              "        [0.6070, 0.5597],\n",
              "        [0.3983, 0.7248],\n",
              "        [0.8980, 0.6583]])"
            ]
          },
          "metadata": {},
          "execution_count": 23
        }
      ]
    },
    {
      "cell_type": "markdown",
      "source": [
        "### **Tensor operations for ML/DL formula**\n",
        "- nn.fuctional 모듈을 통해 다양한 수식 변환 지원."
      ],
      "metadata": {
        "id": "gRZ4EW6kiuGb"
      }
    },
    {
      "cell_type": "code",
      "source": [
        "import torch\n",
        "import torch.nn.functional as F\n",
        "\n",
        "tensor = torch.FloatTensor([0.5, 0.7, 0.1])\n",
        "h_tensor=F.softmax(tensor, dim=0)\n",
        "h_tensor"
      ],
      "metadata": {
        "colab": {
          "base_uri": "https://localhost:8080/"
        },
        "id": "3YlpvO4AjFFX",
        "outputId": "3b17969b-3e84-4a81-9b22-e61ae781bb74"
      },
      "execution_count": null,
      "outputs": [
        {
          "output_type": "execute_result",
          "data": {
            "text/plain": [
              "tensor([0.3458, 0.4224, 0.2318])"
            ]
          },
          "metadata": {},
          "execution_count": 24
        }
      ]
    },
    {
      "cell_type": "code",
      "source": [
        "y = torch.randint(5, (10,5))\n",
        "y_label = y.argmax(dim=1) #argmax는 주어진 배열에서 가장 높은 값을 가진 인덱스를 반환\n",
        "\n",
        "torch.nn.functional.one_hot(y_label)"
      ],
      "metadata": {
        "colab": {
          "base_uri": "https://localhost:8080/"
        },
        "id": "UJk-sTiojgdJ",
        "outputId": "f27e5665-524a-42b7-b36e-2a84e8311fef"
      },
      "execution_count": null,
      "outputs": [
        {
          "output_type": "execute_result",
          "data": {
            "text/plain": [
              "tensor([[0, 0, 0, 1],\n",
              "        [0, 0, 1, 0],\n",
              "        [0, 0, 1, 0],\n",
              "        [0, 0, 1, 0],\n",
              "        [0, 0, 0, 1],\n",
              "        [0, 0, 1, 0],\n",
              "        [1, 0, 0, 0],\n",
              "        [0, 0, 0, 1],\n",
              "        [0, 0, 0, 1],\n",
              "        [0, 1, 0, 0]])"
            ]
          },
          "metadata": {},
          "execution_count": 26
        }
      ]
    },
    {
      "cell_type": "markdown",
      "source": [
        "### **AutoGrad**\n",
        "- PyTorch의 핵심은 자동 미분의 지원\n",
        "    - backward 함수 사용"
      ],
      "metadata": {
        "id": "yjPBZEgCkA15"
      }
    },
    {
      "cell_type": "code",
      "source": [
        "a = torch.tensor([2., 3.], requires_grad=True)\n",
        "b = torch.tensor([6., 4.], requires_grad=True)\n",
        "Q = 3*a**3 - b**2\n",
        "external_grad = torch.tensor([1,1]) # 크기 지정\n",
        "Q.backward(gradient=external_grad)"
      ],
      "metadata": {
        "id": "PiAU59QhkKkK"
      },
      "execution_count": null,
      "outputs": []
    },
    {
      "cell_type": "code",
      "source": [
        "a.grad"
      ],
      "metadata": {
        "colab": {
          "base_uri": "https://localhost:8080/"
        },
        "id": "_T2HLoGtksqh",
        "outputId": "8640d260-8706-4bc0-94b1-3d5584e1a1e6"
      },
      "execution_count": null,
      "outputs": [
        {
          "output_type": "execute_result",
          "data": {
            "text/plain": [
              "tensor([36., 81.])"
            ]
          },
          "metadata": {},
          "execution_count": 28
        }
      ]
    },
    {
      "cell_type": "code",
      "source": [
        "b.grad"
      ],
      "metadata": {
        "colab": {
          "base_uri": "https://localhost:8080/"
        },
        "id": "yp5DBPIQktjZ",
        "outputId": "736ae9bc-ea13-4472-dbea-2cd1e613e91d"
      },
      "execution_count": null,
      "outputs": [
        {
          "output_type": "execute_result",
          "data": {
            "text/plain": [
              "tensor([-12.,  -8.])"
            ]
          },
          "metadata": {},
          "execution_count": 29
        }
      ]
    }
  ]
}