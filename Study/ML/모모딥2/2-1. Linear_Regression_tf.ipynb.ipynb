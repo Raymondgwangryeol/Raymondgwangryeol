{
  "nbformat": 4,
  "nbformat_minor": 0,
  "metadata": {
    "colab": {
      "provenance": []
    },
    "kernelspec": {
      "name": "python3",
      "display_name": "Python 3"
    },
    "language_info": {
      "name": "python"
    }
  },
  "cells": [
    {
      "cell_type": "markdown",
      "source": [
        "# **2. Linear Regression - TensorFlow 버전**\n",
        "--------\n",
        "### **ML?**\n",
        "일종의 소프트웨어로, 개발자가 이런 환경에서는 이렇게 반응하고, 저런 환경에서는 저렇게 반응하도록 만드는 명시적 프로그래밍(Explicit Programing)   \n",
        "\n",
        "### **Supervised vs Unsupervised**\n",
        "- Supervised   \n",
        "    - 정해진 label이 있는 data로 학습. (Training)\n",
        "- Unsupervised\n",
        "    - label을 줄 수 없는 경우, data를 주면 알아서 답을 학습\n",
        "\n",
        "### **Supervised 종류**\n",
        "- Regression\n",
        "    - 오늘 100km 달렸는데 몇 kg 빠질까요?\n",
        "- Binary classification\n",
        "    - 저 시험 통과 했나요 안 했나요?\n",
        "- Multi-level classification\n",
        "    - 학생은 A입니다.   \n",
        "    잘못 보냈습니다. 학생의 진짜 등급은 C 입니다.\n",
        "\n",
        "<br>\n",
        "\n",
        "**Regression의 의미**:    \n",
        "전체의 평균으로의 후퇴  \n",
        "\n",
        "어떤 data가 나와도 전체의 평균으로 되돌아 간다    \n",
        "<br>\n",
        "\n",
        "data를 가장 잘 대변하는 직선을 찾는 것이 Linear Regression.   \n",
        "즉, data를 제일 잘 나타내는 기울기와 y절편을 찾는 것.   \n",
        "\n",
        "<br>\n",
        "\n",
        "MSE loss에서 (H(x) - y)²하는 이유는, H(x) - y가 음수가 될 수도 있고 양수가 될 수도 있으니까.\n",
        "\n",
        "\n",
        "## **Convex Function**\n",
        "Gradient Descent로 임의로 점을 잡아 출발했는데, 주변에 local minimum이 있을 경우, global minimum을 못 찾을 수 도 있음.   \n",
        "local minimum과 global minimum이 같은 함수를 Convex Function이라고 하고, 기울기 함수가 이런 형태일 때 Gradient Descent를 사용하기 좋음."
      ],
      "metadata": {
        "id": "HAGTKeTePlGj"
      }
    },
    {
      "cell_type": "code",
      "execution_count": 4,
      "metadata": {
        "id": "FrUY3bmAPj5O"
      },
      "outputs": [],
      "source": [
        "import tensorflow as tf\n",
        "import numpy as numpy\n",
        "\n",
        "#tf.enable_eager_execution() # 이 프로그램의 수명 동안 즉시 실행을 활성화"
      ]
    },
    {
      "cell_type": "code",
      "source": [
        "x_data = [1, 2, 3, 4, 5]\n",
        "y_data = [1, 2, 3, 4, 5]\n",
        "\n",
        "W = tf.Variable(2.9) #Variable: tensor를 메모리에 저장하는 변수\n",
        "                     #torch.FloatTensor() 역할인 듯\n",
        "b = tf.Variable(0.5)"
      ],
      "metadata": {
        "id": "PJ0H_wnMPkoz"
      },
      "execution_count": 7,
      "outputs": []
    },
    {
      "cell_type": "code",
      "source": [
        "import matplotlib.pyplot as plt\n",
        "plt.plot(x_data, y_data, 'o')#그래프 선 옵션\n",
        "                             # 색상: b(파란색), g(초록색), r(빨간색), c(청록색), y(노란색), k(검은색), w(흰색)\n",
        "                             # 마커: o(원), v(역삼각형), ^(삼각형), s(네모), +(플러스), .(점)\n",
        "plt.ylim(0, 8) #ylim: 현재 좌표축 또는 차트의 y축 제한을 설정\n",
        "plt.show()"
      ],
      "metadata": {
        "colab": {
          "base_uri": "https://localhost:8080/",
          "height": 453
        },
        "id": "Z6MLjrCYTZ8d",
        "outputId": "980b26f4-e6bd-46cb-cbd4-7902e86c9611"
      },
      "execution_count": 5,
      "outputs": [
        {
          "output_type": "execute_result",
          "data": {
            "text/plain": [
              "(0.0, 8.0)"
            ]
          },
          "metadata": {},
          "execution_count": 5
        },
        {
          "output_type": "display_data",
          "data": {
            "text/plain": [
              "<Figure size 640x480 with 1 Axes>"
            ],
            "image/png": "[encoded data removed]"
          },
          "metadata": {}
        }
      ]
    },
    {
      "cell_type": "markdown",
      "source": [
        "### Hypothesis & Cost"
      ],
      "metadata": {
        "id": "dyKLqqDGUgM0"
      }
    },
    {
      "cell_type": "code",
      "source": [
        "hypothesis = W * x_data + b\n",
        "cost = tf.reduce_mean(tf.square(hypothesis - y_data)) #reduce_mean은 특정 차원을 제거하고 평균을 구한다.\n",
        "                                                      # torch.mean과 비슷한 역할인 듯...\n",
        "                                                      # 오 tf.square.. 이런건 pytorch에서는 못 봤는데"
      ],
      "metadata": {
        "id": "fJUhlpBkUiv2"
      },
      "execution_count": 8,
      "outputs": []
    },
    {
      "cell_type": "code",
      "source": [
        "learning_rate = 0.01\n",
        "\n",
        "with tf.GradientTape() as tape: #optimizer = torch.optim.SGD([W, b], lr = learning_rate)\n",
        "#with 구문 안에 있는 변수의 변화를 tape 변수에 저장을 한다 헐\n",
        "    hypothesis = W * x_data + b\n",
        "    cost = tf.reduce_mean(tf.square(hypothesis - y_data))\n",
        "\n",
        "    W_grad, b_grad = tape.gradient(cost, [W, b]) # cost에 대해 W와 b로 미분\n",
        "                                                 # optimizer.zero_grad()\n",
        "                                                 # cost.backward()\n",
        "\n",
        "\n",
        "# cost.backward()\n",
        "# 미분값 업데이트\n",
        "W.assign_sub(learning_rate * W_grad) # W-=(learning_rate * W_grad)\n",
        "b.assign_sub(learning_rate * b_grad) # learning_rate값 곱하는 이유: 이 값을 얼마나 반영 할 것이냐\n",
        "\n",
        "plt.plot(x_data, y_data, 'o')\n",
        "plt.plot(x_data, hypothesis.numpy(), 'r-')\n",
        "plt.ylim(0, 8)"
      ],
      "metadata": {
        "colab": {
          "base_uri": "https://localhost:8080/",
          "height": 453
        },
        "id": "oio0Mk4nYHxP",
        "outputId": "3fa96896-6895-4aa5-a040-2b39f9e36d41"
      },
      "execution_count": 10,
      "outputs": [
        {
          "output_type": "execute_result",
          "data": {
            "text/plain": [
              "(0.0, 8.0)"
            ]
          },
          "metadata": {},
          "execution_count": 10
        },
        {
          "output_type": "display_data",
          "data": {
            "text/plain": [
              "<Figure size 640x480 with 1 Axes>"
            ],
            "image/png": "[encoded data removed]"
          },
          "metadata": {}
        }
      ]
    },
    {
      "cell_type": "markdown",
      "source": [
        "### Parameter(W,b) Update\n"
      ],
      "metadata": {
        "id": "UCGSoKd6b6GP"
      }
    },
    {
      "cell_type": "code",
      "source": [
        "W = tf.Variable(2.9)\n",
        "b = tf.Variable(0.5)\n",
        "\n",
        "for i in range(1, 101):\n",
        "    with tf.GradientTape() as tape:\n",
        "        hypothesis = W * x_data + b\n",
        "        cost  = tf.reduce_mean(tf.square(hypothesis - y_data))\n",
        "\n",
        "    W_grad, b_grad = tape.gradient(cost, [W, b])\n",
        "    W.assign_sub(learning_rate * W_grad)\n",
        "    b.assign_sub(learning_rate * b_grad)\n",
        "\n",
        "    if i%10 == 0:\n",
        "        print(\"{:5}|{:10.4f}|{:10.4f}|{:10.6f}\".format(i, W.numpy(), b.numpy(), cost))\n",
        "\n",
        "plt.plot(x_data, y_data, 'o')\n",
        "plt.plot(x_data, hypothesis.numpy(), 'r-')\n",
        "plt.ylim(0, 8)"
      ],
      "metadata": {
        "colab": {
          "base_uri": "https://localhost:8080/",
          "height": 637
        },
        "id": "eAYfwusBcGNm",
        "outputId": "56e1ede7-6699-4931-cfcc-4de71ac42e59"
      },
      "execution_count": 12,
      "outputs": [
        {
          "output_type": "stream",
          "name": "stdout",
          "text": [
            "   10|    1.1338|    0.0117|  0.354001\n",
            "   20|    1.0149|   -0.0204|  0.001694\n",
            "   30|    1.0067|   -0.0219|  0.000096\n",
            "   40|    1.0059|   -0.0213|  0.000083\n",
            "   50|    1.0057|   -0.0206|  0.000078\n",
            "   60|    1.0055|   -0.0199|  0.000073\n",
            "   70|    1.0053|   -0.0192|  0.000068\n",
            "   80|    1.0052|   -0.0186|  0.000063\n",
            "   90|    1.0050|   -0.0180|  0.000059\n",
            "  100|    1.0048|   -0.0174|  0.000055\n"
          ]
        },
        {
          "output_type": "execute_result",
          "data": {
            "text/plain": [
              "(0.0, 8.0)"
            ]
          },
          "metadata": {},
          "execution_count": 12
        },
        {
          "output_type": "display_data",
          "data": {
            "text/plain": [
              "<Figure size 640x480 with 1 Axes>"
            ],
            "image/png": "[encoded data removed]"
          },
          "metadata": {}
        }
      ]
    },
    {
      "cell_type": "markdown",
      "source": [
        "### Predict\n"
      ],
      "metadata": {
        "id": "mw9pG9tOeF6g"
      }
    },
    {
      "cell_type": "code",
      "source": [
        "print(W * 5 + b)\n",
        "print(W * 2.5 + b)"
      ],
      "metadata": {
        "colab": {
          "base_uri": "https://localhost:8080/"
        },
        "id": "GmVgtgMbeJvZ",
        "outputId": "7ad3cf63-68bb-4415-94a2-a49306576444"
      },
      "execution_count": 13,
      "outputs": [
        {
          "output_type": "stream",
          "name": "stdout",
          "text": [
            "tf.Tensor(5.0066934, shape=(), dtype=float32)\n",
            "tf.Tensor(2.4946523, shape=(), dtype=float32)\n"
          ]
        }
      ]
    }
  ]
}