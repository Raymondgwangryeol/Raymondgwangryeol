{
  "nbformat": 4,
  "nbformat_minor": 0,
  "metadata": {
    "colab": {
      "provenance": [],
      "name": "5_소수판별_6_투포인터_7_구간합_8_순열조합.ipynb",
      "authorship_tag": "ABX9TyPKysxkFPBdnZecnXZR+DPu",
      "include_colab_link": true
    },
    "kernelspec": {
      "name": "python3",
      "display_name": "Python 3"
    },
    "language_info": {
      "name": "python"
    }
  },
  "cells": [
    {
      "cell_type": "markdown",
      "metadata": {
        "id": "view-in-github",
        "colab_type": "text"
      },
      "source": [
        "<a href=\"https://colab.research.google.com/github/Raymondgwangryeol/Raymondgwangryeol/blob/main/Study/%EC%BD%94%ED%85%8C/%EC%9D%B4%EC%BD%94%ED%85%8C/5_%EC%86%8C%EC%88%98%ED%8C%90%EB%B3%84_6_%ED%88%AC%ED%8F%AC%EC%9D%B8%ED%84%B0_7_%EA%B5%AC%EA%B0%84%ED%95%A9_8_%EC%88%9C%EC%97%B4%EC%A1%B0%ED%95%A9.ipynb\" target=\"_parent\"><img src=\"https://colab.research.google.com/assets/colab-badge.svg\" alt=\"Open In Colab\"/></a>"
      ]
    },
    {
      "cell_type": "markdown",
      "source": [
        "## **5. 소수 판별 알고리즘**\n",
        "\n",
        "\n",
        "---\n",
        "\n"
      ],
      "metadata": {
        "id": "EWUQ7_aj1CQu"
      }
    },
    {
      "cell_type": "code",
      "execution_count": null,
      "metadata": {
        "id": "YYErTNuBPHX_",
        "colab": {
          "base_uri": "https://localhost:8080/"
        },
        "outputId": "cd39602e-8c99-4a4b-a95a-9637ffd28990"
      },
      "outputs": [
        {
          "output_type": "stream",
          "name": "stdout",
          "text": [
            "1\n",
            "prime\n"
          ]
        }
      ],
      "source": [
        "#1274\n",
        "#소수 판별 알고리즘(에리스토테네스의 체)\n",
        "\n",
        "import math as m\n",
        "\n",
        "x = int(input())\n",
        "\n",
        "x_sqrt =  int(m.ceil(m.sqrt(x))) #제곱근 값이 1일 경우 아래에서 코드가 꼬일 수 있다.\n",
        "                                 #무조건 올림해서 2부터 시작\n",
        "\n",
        "for i in range(2, x_sqrt+1):\n",
        "    if(x % i == 0):# x가 i로 나뉘면 일단 멈춘다.\n",
        "        break\n",
        "\n",
        "if(x == 2 or x % i != 0): # 제곱근으로 소수를 나누면 절대 안 나누어 떨어진다\n",
        "    print(\"prime\")\n",
        "elif(x == 1 or x % i == 0): #제곱근의 약수로 나누다 보면 언젠가 얻어걸린다\n",
        "    print(\"not prime\")"
      ]
    },
    {
      "cell_type": "code",
      "source": [
        "#3071\n",
        "#구간 내 소수 다 출력(에리스토테네스의 체)\n",
        "#와 시간 많이 걸리니까 True False로 비교하는거 봐 미친\n",
        "import math as m\n",
        "\n",
        "x, y = map(int,input().split())\n",
        "list_ = [_ for _ in range(x, y+1)]\n",
        "list_check = [True for _ in range(y+1)] #0부터 받은 수 만큼 해 보자\n",
        "\n",
        "\n",
        "list_check[0] = list_check[1] = False  #일단 다 True로 만들고, 안되는 부분만 False로 하는게 더 빠르다\n",
        "                                       # 전부 False로 만들었다가 되는 부분만 True로 다 만드는 것 보다는..!\n",
        "\n",
        "for i in range (2, m.ceil(m.sqrt(y))+1): #그래 이게 밖으로 나와야 n(log(logn))이 되지....\n",
        "                                         #에리스토테네스의 체! 소수 구할 때 제곱근 까지만 돌자!\n",
        "    if(list_check):\n",
        "        for j in range(i*i, y+1, i): #어차피 2가 소수면 4부터 할 거니까 i*i부터. 그리고 차피 3의배수 볼 때 쯤에는\n",
        "                                     #2의 배수는 이미 다 사라졌을거니까 3의 배수부터 보면 됨!!\n",
        "                                     #i 만큼 곱해서 배수들 쫙 구하기\n",
        "            list_check[j] = False\n",
        "\n",
        "\n",
        "\n",
        "for i in range(len(list_)):\n",
        "    if(list_check[list_[i]]):\n",
        "        print(list_[i], end=\" \")"
      ],
      "metadata": {
        "colab": {
          "base_uri": "https://localhost:8080/"
        },
        "id": "3qjAQ2ouYoVL",
        "outputId": "5a3814a5-2dee-4c4e-b5ff-a9ce507c659e"
      },
      "execution_count": null,
      "outputs": [
        {
          "output_type": "stream",
          "name": "stdout",
          "text": [
            "5 5325\n",
            "5 7 11 13 17 19 23 29 31 37 41 43 47 53 59 61 67 71 73 79 83 89 97 101 103 107 109 113 127 131 137 139 149 151 157 163 167 173 179 181 191 193 197 199 211 223 227 229 233 239 241 251 257 263 269 271 277 281 283 293 307 311 313 317 331 337 347 349 353 359 367 373 379 383 389 397 401 409 419 421 431 433 439 443 449 457 461 463 467 479 487 491 499 503 509 521 523 541 547 557 563 569 571 577 587 593 599 601 607 613 617 619 631 641 643 647 653 659 661 673 677 683 691 701 709 719 727 733 739 743 751 757 761 769 773 787 797 809 811 821 823 827 829 839 853 857 859 863 877 881 883 887 907 911 919 929 937 941 947 953 967 971 977 983 991 997 1009 1013 1019 1021 1031 1033 1039 1049 1051 1061 1063 1069 1087 1091 1093 1097 1103 1109 1117 1123 1129 1151 1153 1163 1171 1181 1187 1193 1201 1213 1217 1223 1229 1231 1237 1249 1259 1277 1279 1283 1289 1291 1297 1301 1303 1307 1319 1321 1327 1361 1367 1373 1381 1399 1409 1423 1427 1429 1433 1439 1447 1451 1453 1459 1471 1481 1483 1487 1489 1493 1499 1511 1523 1531 1543 1549 1553 1559 1567 1571 1579 1583 1597 1601 1607 1609 1613 1619 1621 1627 1637 1657 1663 1667 1669 1693 1697 1699 1709 1721 1723 1733 1741 1747 1753 1759 1777 1783 1787 1789 1801 1811 1823 1831 1847 1861 1867 1871 1873 1877 1879 1889 1901 1907 1913 1931 1933 1949 1951 1973 1979 1987 1993 1997 1999 2003 2011 2017 2027 2029 2039 2053 2063 2069 2081 2083 2087 2089 2099 2111 2113 2129 2131 2137 2141 2143 2153 2161 2179 2203 2207 2213 2221 2237 2239 2243 2251 2267 2269 2273 2281 2287 2293 2297 2309 2311 2333 2339 2341 2347 2351 2357 2371 2377 2381 2383 2389 2393 2399 2411 2417 2423 2437 2441 2447 2459 2467 2473 2477 2503 2521 2531 2539 2543 2549 2551 2557 2579 2591 2593 2609 2617 2621 2633 2647 2657 2659 2663 2671 2677 2683 2687 2689 2693 2699 2707 2711 2713 2719 2729 2731 2741 2749 2753 2767 2777 2789 2791 2797 2801 2803 2819 2833 2837 2843 2851 2857 2861 2879 2887 2897 2903 2909 2917 2927 2939 2953 2957 2963 2969 2971 2999 3001 3011 3019 3023 3037 3041 3049 3061 3067 3079 3083 3089 3109 3119 3121 3137 3163 3167 3169 3181 3187 3191 3203 3209 3217 3221 3229 3251 3253 3257 3259 3271 3299 3301 3307 3313 3319 3323 3329 3331 3343 3347 3359 3361 3371 3373 3389 3391 3407 3413 3433 3449 3457 3461 3463 3467 3469 3491 3499 3511 3517 3527 3529 3533 3539 3541 3547 3557 3559 3571 3581 3583 3593 3607 3613 3617 3623 3631 3637 3643 3659 3671 3673 3677 3691 3697 3701 3709 3719 3727 3733 3739 3761 3767 3769 3779 3793 3797 3803 3821 3823 3833 3847 3851 3853 3863 3877 3881 3889 3907 3911 3917 3919 3923 3929 3931 3943 3947 3967 3989 4001 4003 4007 4013 4019 4021 4027 4049 4051 4057 4073 4079 4091 4093 4099 4111 4127 4129 4133 4139 4153 4157 4159 4177 4201 4211 4217 4219 4229 4231 4241 4243 4253 4259 4261 4271 4273 4283 4289 4297 4327 4337 4339 4349 4357 4363 4373 4391 4397 4409 4421 4423 4441 4447 4451 4457 4463 4481 4483 4493 4507 4513 4517 4519 4523 4547 4549 4561 4567 4583 4591 4597 4603 4621 4637 4639 4643 4649 4651 4657 4663 4673 4679 4691 4703 4721 4723 4729 4733 4751 4759 4783 4787 4789 4793 4799 4801 4813 4817 4831 4861 4871 4877 4889 4903 4909 4919 4931 4933 4937 4943 4951 4957 4967 4969 4973 4987 4993 4999 5003 5009 5011 5021 5023 5039 5051 5059 5077 5081 5087 5099 5101 5107 5113 5119 5147 5153 5167 5171 5179 5189 5197 5209 5227 5231 5233 5237 5261 5273 5279 5281 5297 5303 5309 5323 "
          ]
        }
      ]
    },
    {
      "cell_type": "markdown",
      "source": [
        "## **6. 투 포인터(Two Pointer)**\n",
        "\n",
        "\n",
        "---\n",
        "리스트에 순차적으로 접근해야 할 때, 2개의 점의 위치를 기록하면서 처리하는 알고리즘.\n",
        "순차적인 접근에서, 시작점과 끝점을 정해 접근할 데이터의 범위를 표현함.\n",
        "\n",
        "범위를 조정해 가면서, 그 범위 내에 있는 수들의 합을 모두 구하는 알고리즘.\n",
        "\n",
        "시간 복잡도 : O(N)\n",
        "각 포인터가 n번 누적 증가해야 알고리즘이 끝이 남.\n",
        "\n",
        "기본적으로 시작점을 오른쪽으로 이동시키면 항상 합이 감소하고, 끝점을 오른쪽으로 이동시키면 항상 합이 증가하는 문제에 적절."
      ],
      "metadata": {
        "id": "igHzPkqI1Ky2"
      }
    },
    {
      "cell_type": "code",
      "source": [
        "#예제\n",
        "#처음 부터 끝까지 돌면서 부분합이 나오면 카운트\n",
        "#아악\n",
        "\n",
        "n = 5\n",
        "data = [1, 2, 3, 2, 5]\n",
        "\n",
        "interval_sum = 0\n",
        "count = 0\n",
        "end = 0\n",
        "\n",
        "for start in range(n):\n",
        "    while interval_sum<5 and end < n:\n",
        "        interval_sum = interval_sum+data[end]\n",
        "        end = end+1\n",
        "    if interval_sum == n:\n",
        "        count = count + 1\n",
        "    interval_sum = interval_sum - data[start]\n",
        "\n",
        "print(count)"
      ],
      "metadata": {
        "colab": {
          "base_uri": "https://localhost:8080/"
        },
        "id": "CKcsIg77DfWn",
        "outputId": "758af3f7-8135-440c-83a9-1eee33c75cc8"
      },
      "execution_count": null,
      "outputs": [
        {
          "output_type": "stream",
          "name": "stdout",
          "text": [
            "2\n"
          ]
        }
      ]
    },
    {
      "cell_type": "markdown",
      "source": [
        "정렬되어 있는 두 리스트의 합집합 같은 문제에 효과적으로 사용할 수 있음.\n",
        "\n",
        "끝점이 각 리스트를 이동할 수록, 더 뒤에 정렬되있는 값을 가리키게 됨."
      ],
      "metadata": {
        "id": "3jksEgx1Kpmb"
      }
    },
    {
      "cell_type": "code",
      "source": [
        "#예제\n",
        "#두 리스트의 모든 원소를 합쳐 정렬한 결과를 계산하기\n",
        "\n",
        "a=list(map(int, input().split()))\n",
        "n=len(a)\n",
        "i=0\n",
        "\n",
        "b=list(map(int, input().split()))\n",
        "m=len(b)\n",
        "j=0\n",
        "\n",
        "result = [0]*(m+n) #아.. 이렇게 할 생각을 못 했네... 와....\n",
        "k=0 #k까지 돌리면 한 번에 돌릴 수 있다...\n",
        "\n",
        "while(k<m+n):\n",
        "    if(i>=n or (a[i]>b[j] and j<m)): #조건 계속 나누지 말고, 깔끔하게 이렇게 쓰는 연습을 하자\n",
        "        result[k]=b[j]\n",
        "        j+=1\n",
        "\n",
        "    else:\n",
        "        result[k]=a[i]\n",
        "        i+=1\n",
        "    k+=1\n",
        "\n",
        "\n",
        "\n",
        "print(*result)"
      ],
      "metadata": {
        "id": "MNXgo9FpcYpZ",
        "colab": {
          "base_uri": "https://localhost:8080/"
        },
        "outputId": "a516585c-5fd7-4464-af73-bfa2480c2bbd"
      },
      "execution_count": null,
      "outputs": [
        {
          "output_type": "stream",
          "name": "stdout",
          "text": [
            "1 3 5\n",
            "2 4 6 8\n",
            "1 2 3 4 5 6 8\n"
          ]
        }
      ]
    },
    {
      "cell_type": "markdown",
      "source": [
        "위 알고리즘의 복잡도는 O(N+M).\n",
        "단순하게 각 리스트의 모든 원소를 한 번씩만 돌면 되기 때문.\n",
        "\n",
        "이 알고리즘의 경우 병합 정렬과 같은 일부 알고리즘에서 사용되고 있다는 점!"
      ],
      "metadata": {
        "id": "F5DiUNWsUPpc"
      }
    },
    {
      "cell_type": "markdown",
      "source": [
        "## **7. 구간 합 알고리즘(Prefix sum)**\n",
        "\n",
        "\n",
        "\n",
        "---\n",
        "\n",
        "연속적으로 나열된 N개의 수가 있다고 할 때, Left, Right 인덱스 부분을 지정해주고, 그 사이의 수들의 합을 구하라는 쿼리가 여러번 들어올 경우 사용함.\n",
        "\n",
        "만약 for문으로 쿼리가 들어온 수 M만큼 계속 구하면, 최대 N까지 다 계속 더한다고 할 때, O(NM)이 됨.\n",
        "\n",
        "하지만, 쿼리가 진짜 미친놈처럼 많이 온다면? 그건 좀...\n",
        "\n",
        "그래서, 미리 N개의 수에 대해 각각의 요소의 0부터 i까지의 합을 미리 구해놓고(접두사 합을 구한다고 말한다), 뺄셈으로 간단하게 쿼리를 처리할 수 있다면? 단 돈 O(N)으로 즐기는 즐거운 코딩!\n",
        "\n",
        "Left, Right값이 들어왔을 때, prefix sum 값을 구해 놓은 상황이라면,\n",
        "\n",
        "sum[Right] - sum[Left-1]\n",
        "\n",
        "이렇게 O(1)로 구할 수 있다!\n",
        "\n",
        "따라서, 시간 복잡도는 O(N)!\n"
      ],
      "metadata": {
        "id": "2ipaOSrVLaN5"
      }
    },
    {
      "cell_type": "code",
      "source": [
        "#예제\n",
        "\n",
        "#값을 받는 거니까 sys.stdin.readline.split() 쓰는게 더 빠르긴 하다\n",
        "\n",
        "data = [10, 20, 30, 40, 50]\n",
        "\n",
        "prefix_sum=[]\n",
        "prefix_sum.append(data[0])\n",
        "\n",
        "for i in range(1, len(data)):\n",
        "    prefix_sum.append(data[i]+prefix_sum[i-1])\n",
        "\n",
        "left = 2\n",
        "right = 3\n",
        "\n",
        "result = prefix_sum[right] - prefix_sum[left-1]\n",
        "\n",
        "print(result)"
      ],
      "metadata": {
        "colab": {
          "base_uri": "https://localhost:8080/"
        },
        "id": "ljPwhwf2LXiw",
        "outputId": "f8978525-2f37-438c-fdf9-6fc06eb43f35"
      },
      "execution_count": null,
      "outputs": [
        {
          "output_type": "stream",
          "name": "stdout",
          "text": [
            "70\n"
          ]
        }
      ]
    },
    {
      "cell_type": "code",
      "source": [
        "#백준 11659\n",
        "#첫째 줄에 수의 개수 N과 합을 구해야 하는 횟수 M이 주어진다.\n",
        "#둘째 줄에는 N개의 수가 주어진다. 수는 1,000보다 작거나 같은 자연수이다.\n",
        "#셋째 줄부터 M개의 줄에는 합을 구해야 하는 구간 i와 j가 주어진다.\n",
        "\n",
        "import sys\n",
        "\n",
        "prefix_sum = [0,] #만약 인덱스 0부터 n까지 더할 경우, sum[0]은 0이어야 하기 때문\n",
        "n,m = map(int, input().split())\n",
        "\n",
        "\n",
        "input_ = list(map(int, sys.stdin.readline().split())) #input쓰면 시간 초과 된다\n",
        "\n",
        "for i in range(0, n):\n",
        "    prefix_sum.append(prefix_sum[i]+input_[i])\n",
        "\n",
        "for j in range(m):\n",
        "    r,l = map(int, sys.stdin.readline().split().split()) #얘도 input쓰면 시간 초과!\n",
        "\n",
        "    print(prefix_sum[l]-prefix_sum[r-1])"
      ],
      "metadata": {
        "colab": {
          "base_uri": "https://localhost:8080/"
        },
        "id": "w943qbCzQXmx",
        "outputId": "5e22cdac-d41c-4a89-933b-34f24826077c"
      },
      "execution_count": null,
      "outputs": [
        {
          "output_type": "stream",
          "name": "stdout",
          "text": [
            "5 3\n",
            "5 4 3 2 1\n",
            "0 5 9 12 14 15\n",
            "1 3\n",
            "12\n",
            "2 4\n",
            "9\n",
            "5 5\n",
            "1\n"
          ]
        }
      ]
    },
    {
      "cell_type": "markdown",
      "source": [
        "## **8. 순열(Permutation)과 조합(Combination)**\n",
        "\n",
        "\n",
        "---\n",
        "\n",
        "\n",
        "순열은 실제 코테에서 필요한 경우가 많은데, 이를 직접 구현하는 건 번거로움.\n",
        "\n",
        "다행히! 친절한 파이썬3 버전 이상부터 순열, 조합 function을 제공하는 라이브러리를 기본으로 제공하고 있음!(감사합니다)\n",
        "\n",
        "순열이나 조합을 호출해 나온 결과의 원소들은 리스트 형태가 이니기 때문에(튜플로 나온다), 이를 손쉽게 다루기 위해서는 list()를 써서 형변환을 해 줘야 함."
      ],
      "metadata": {
        "id": "5ksLIxNQPUuB"
      }
    },
    {
      "cell_type": "code",
      "source": [
        "#Permutation\n",
        "\n",
        "#순열: 서로 다른 n개에서 r개를 선택하여 일렬로 나열(nPr)\n",
        "#순서가 의미 있을 때 사용\n",
        "\n",
        "import itertools\n",
        "\n",
        "data = [1, 2, 3]\n",
        "\n",
        "for i in itertools.permutations(data, 2):\n",
        "    print(list(i), end=\" \")"
      ],
      "metadata": {
        "colab": {
          "base_uri": "https://localhost:8080/"
        },
        "id": "mFBoXbBoQC1B",
        "outputId": "60119226-bf67-4036-e1d6-7fdcb5b86f74"
      },
      "execution_count": null,
      "outputs": [
        {
          "output_type": "stream",
          "name": "stdout",
          "text": [
            "[1, 2] [1, 3] [2, 1] [2, 3] [3, 1] [3, 2] "
          ]
        }
      ]
    },
    {
      "cell_type": "code",
      "source": [
        "#Combinations\n",
        "\n",
        "#조합: 서로 다른 n개에서 순서에 상관 없이 서로 다른 r개 선택\n",
        "#순서가 의미 없는 경우 사용(중복 가능)\n",
        "\n",
        "import itertools as iter\n",
        "\n",
        "data = [1, 2, 3]\n",
        "\n",
        "for i in iter.combinations(data,2):\n",
        "    print(list(i), end=\" \")"
      ],
      "metadata": {
        "colab": {
          "base_uri": "https://localhost:8080/"
        },
        "id": "XSptRrHcQxZF",
        "outputId": "243200b0-4cc1-4e81-dde8-647d9e98ac5b"
      },
      "execution_count": null,
      "outputs": [
        {
          "output_type": "stream",
          "name": "stdout",
          "text": [
            "[1, 2] [1, 3] [2, 3] "
          ]
        }
      ]
    },
    {
      "cell_type": "code",
      "source": [
        "#백준 1759(조합)\n",
        "#주어진 문자열들로 최소 1개의 모음, 최소 2개의 자음이 들어간 문자열을 만드는 문제\n",
        "\n",
        "import itertools as iter\n",
        "l, c = map(int, input().split())\n",
        "\n",
        "vowels = ['a', 'e', 'i', 'o', 'u']\n",
        "input_= list(input().split())\n",
        "input_.sort()\n",
        "\n",
        "\n",
        "for i in iter.combinations(input_, l):\n",
        "    cnt = 0\n",
        "    for vowel in vowels:\n",
        "        if(vowel in i):\n",
        "            cnt+=1\n",
        "        if(l>l-cnt>=2):\n",
        "            print(\"\".join(list(i)))"
      ],
      "metadata": {
        "colab": {
          "base_uri": "https://localhost:8080/"
        },
        "id": "64VIK2NsSrLf",
        "outputId": "bc1da8ab-5625-445a-c92e-b29b02d088c4"
      },
      "execution_count": null,
      "outputs": [
        {
          "output_type": "stream",
          "name": "stdout",
          "text": [
            "3 5\n",
            "a b c d e\n",
            "abc\n",
            "abd\n",
            "acd\n",
            "bce\n",
            "bde\n",
            "cde\n"
          ]
        }
      ]
    },
    {
      "cell_type": "code",
      "source": [
        "#백준 6603(조합2)\n",
        "#로또 문제\n",
        "import itertools as iter\n",
        "n=-1\n",
        "input_=[]\n",
        "while(True):\n",
        "\n",
        "    n, *input_=list(map(int, input().split()))\n",
        "\n",
        "    if(n==0):\n",
        "        break\n",
        "\n",
        "    input_ = sorted(list(input_))\n",
        "\n",
        "    for i in iter.combinations(input_, 6):\n",
        "        print(*i)\n",
        "    print(\"\")"
      ],
      "metadata": {
        "colab": {
          "base_uri": "https://localhost:8080/"
        },
        "id": "dGlsejaieGFn",
        "outputId": "e7a2e01e-2b28-41de-ce44-9eea4e64895f"
      },
      "execution_count": null,
      "outputs": [
        {
          "name": "stdout",
          "output_type": "stream",
          "text": [
            "7 1 2 3 4 5 6 7\n",
            "1 2 3 4 5 6\n",
            "1 2 3 4 5 7\n",
            "1 2 3 4 6 7\n",
            "1 2 3 5 6 7\n",
            "1 2 4 5 6 7\n",
            "1 3 4 5 6 7\n",
            "2 3 4 5 6 7\n",
            "\n",
            "8 1 2 3 5 8 13 21 34\n",
            "1 2 3 5 8 13\n",
            "1 2 3 5 8 21\n",
            "1 2 3 5 8 34\n",
            "1 2 3 5 13 21\n",
            "1 2 3 5 13 34\n",
            "1 2 3 5 21 34\n",
            "1 2 3 8 13 21\n",
            "1 2 3 8 13 34\n",
            "1 2 3 8 21 34\n",
            "1 2 3 13 21 34\n",
            "1 2 5 8 13 21\n",
            "1 2 5 8 13 34\n",
            "1 2 5 8 21 34\n",
            "1 2 5 13 21 34\n",
            "1 2 8 13 21 34\n",
            "1 3 5 8 13 21\n",
            "1 3 5 8 13 34\n",
            "1 3 5 8 21 34\n",
            "1 3 5 13 21 34\n",
            "1 3 8 13 21 34\n",
            "1 5 8 13 21 34\n",
            "2 3 5 8 13 21\n",
            "2 3 5 8 13 34\n",
            "2 3 5 8 21 34\n",
            "2 3 5 13 21 34\n",
            "2 3 8 13 21 34\n",
            "2 5 8 13 21 34\n",
            "3 5 8 13 21 34\n",
            "\n",
            "0\n"
          ]
        }
      ]
    }
  ]
}