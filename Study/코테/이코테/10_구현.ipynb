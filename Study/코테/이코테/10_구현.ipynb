{
 "cells": [
  {
   "cell_type": "markdown",
   "metadata": {
    "id": "ICProIFOqhLp"
   },
   "source": [
    "    📚공부 자료\n",
    "        ✔0_velog 안영우님 \"이것이 코딩테스트다\" 시리즈   \n",
    "        ✔yeahxne.log Yewon Kim님 \"[이코테 2021]\" 시리즈\n",
    "# **10. 구현(Implementation)**\n",
    "\n",
    "\n",
    "---\n",
    "\n",
    "\n",
    "\n",
    "**구현 알고리즘**은 머릿속에 있는 알고리즘을 소스코드로 바꾸는 과정을 말한다. 사실 어떤 알고리즘을 짜도 머리속에서 끄집어내서 코드를 짜기 때문에, 모든 범위의 문제 유형을 포함하는 알고리즘이긴 하다.\n",
    "하지만 코딩테스트에서는, **풀이는 떠올리기 쉽지만 소스코드로 옮기기는 쉽지 않은 문제**를 의미한다.\n",
    "특히, **사소한 조건 설정이 많은 문제일수록 코드로 옮기기 쉽지 않다**.\n",
    "<br><br>\n",
    "\n",
    "구현 문제는 **두 가지 문제 유형**으로 나눌 수 있다.\n",
    ">- **완전 탐색**: 모든 경우의 수를 싹 다 계산해서 해결\n",
    ">- **시뮬레이션**: 문제에서 제시한 알고리즘을 한 단계씩 차례대로 직접 수행하는 방법\n",
    "<br>\n",
    "\n",
    "만약, **데이터 처리량이 많을 경우** ***크기가 1000 이상인 리스트*가 있다면 메모리 용량 제한으로 못 푸는 경우가 생길 수 있다.**\n",
    "<br><br>\n",
    "\n",
    "일반적으로 알고리즘 문제에서의 2차원 공간은 행렬(Matrix)의 의미로 사용된다.\n",
    "\n",
    "시뮬레이션 및 완전 탐색 문제에서는 **2차원 공간에서의 방향 벡터**가 자주 활용된다!"
   ]
  },
  {
   "cell_type": "code",
   "execution_count": null,
   "metadata": {
    "colab": {
     "base_uri": "https://localhost:8080/"
    },
    "id": "q6VoG0EdqU1D",
    "outputId": "d112463d-9e94-4f70-eab1-f196b3c7257f"
   },
   "outputs": [
    {
     "name": "stdout",
     "output_type": "stream",
     "text": [
      "2 3\n",
      "1 2\n",
      "2 1\n",
      "3 2\n"
     ]
    }
   ],
   "source": [
    "#5,5 행렬에서 (2,2)에서 시작해 이동\n",
    "\n",
    "#우(동), 상(북), 좌(서), 하(남)\n",
    "dx = [0,-1,0,1] #행 = 열의 값 기준\n",
    "dy = [1,0,-1,0] #열 = 행의 값 기준\n",
    "\n",
    "#현재 위치\n",
    "x,y = 2,2\n",
    "\n",
    "for i in range(4):\n",
    "    nx=x+dx[i]\n",
    "    ny=y+dy[i]\n",
    "    print(nx, ny)"
   ]
  },
  {
   "cell_type": "markdown",
   "metadata": {
    "id": "3ImBIVNmt6zT"
   },
   "source": [
    "## **⚡Simulation**\n",
    "알고리즘을 제시된 단계별로 하나씩 직접 수행하는 알고리즘. Brute_force와 함께 구현의 핵심 알고리즘이 되는 경우가 많다.\n",
    "\n",
    "M X N 행렬 문제로 자주 출제된다.\n",
    "\n",
    "<br>\n",
    "\n",
    "### **[문제1]상하좌우**\n",
    "\n",
    "- 첫째 줄에 공간의 크기를 나타내는 N이 주어진다(1 <= N <= 100)\n",
    "- 둘째 줄에 여행가 A가 이동할 계획서 내용이 주어진다(1 <= 이동 횟수 <= 100)\n",
    "    - 계획서에는 L(왼쪽),R(오른쪽),U(위),D(아래)중 하나가 반복적으로 적혀있다.\n",
    "    - 가장 왼쪽 위 좌표는 (1,1)이다.\n",
    "-첫째 줄에 여행가 A가 최종적으로 도착할 지점의 좌표(x,y)를 공백을 기준으로 구분하여 출력하시오.\n"
   ]
  },
  {
   "cell_type": "code",
   "execution_count": null,
   "metadata": {
    "colab": {
     "base_uri": "https://localhost:8080/"
    },
    "id": "IDeXUxAA_wOx",
    "outputId": "243663e2-d090-45cf-ad4a-1330e01e109f"
   },
   "outputs": [
    {
     "name": "stdout",
     "output_type": "stream",
     "text": [
      "5\n",
      "RRRUDD\n",
      "3 4\n"
     ]
    }
   ],
   "source": [
    "#내가 작성한 코드\n",
    "\n",
    "n = int(input())\n",
    "route = input()\n",
    "\n",
    "x,y = 1,1\n",
    "\n",
    "#우(동), 상(북), 좌(서), 하(남)\n",
    "dx=[0,0,-1,1]\n",
    "dy=[-1,1,0,0]\n",
    "move=('L','R','U','D')\n",
    "\n",
    "for i in route:\n",
    "    if(i == move[0] and y!=1):\n",
    "        y+=dy[0]\n",
    "    if(i == move[1] and y!=n):\n",
    "        y+=dy[1]\n",
    "    if(i == move[2] and x!=1):\n",
    "        x+=dx[2]\n",
    "    if(i == move[3] and x!=n):\n",
    "        x+=dx[3]\n",
    "\n",
    "print(x, y)"
   ]
  },
  {
   "cell_type": "code",
   "execution_count": null,
   "metadata": {
    "colab": {
     "base_uri": "https://localhost:8080/"
    },
    "id": "Sor-sFXGFvYM",
    "outputId": "5c008781-e490-42b2-f42d-cbdf3ad96c60"
   },
   "outputs": [
    {
     "name": "stdout",
     "output_type": "stream",
     "text": [
      "5\n",
      "RRRUDD\n",
      "3 4\n"
     ]
    }
   ],
   "source": [
    "#이코테 코드\n",
    "\n",
    "n = int(input())\n",
    "route = input()\n",
    "\n",
    "x,y = 1,1\n",
    "\n",
    "#우(동), 상(북), 좌(서), 하(남)\n",
    "dx=[0,0,-1,1]\n",
    "dy=[-1,1,0,0]\n",
    "move=['L','R','U','D']\n",
    "\n",
    "for item in route: #계획서에 있는 문자를 다 돌면서 L,R,U,D 벡터와 비교,\n",
    "                   #같은게 있으면 해당 index값을 x,y에 더함.\n",
    "    for i in range(len(move)):\n",
    "        if(item == move[i]):\n",
    "            nx=x+dx[i]\n",
    "            ny=y+dy[i]\n",
    "    if(nx<1 or ny<1 or nx>n or ny>n): #공간을 벗어나는 경우 무시\n",
    "        continue\n",
    "    x,y =nx,ny #공간 안에 있는지 체크 후 그제서야 x, y에 대입\n",
    "\n",
    "print(x,y)"
   ]
  },
  {
   "cell_type": "markdown",
   "metadata": {
    "id": "-kOebH_1I15v"
   },
   "source": [
    "## **⚡Brute_force**\n",
    "모든 경우의 수를 판단하는 알고리즘.\n",
    "<br>\n",
    "보통 데이터가 **10000000개 이하**일 때 완전 탐색을 이용하면 적절하다.\n",
    "<br>\n",
    "데이터가 적절히 작으면 머리 굴릴 필요 없이 완전 탐색을 이용하는게 더 효율적일듯?\n",
    "\n",
    "### **[문제2]시간**\n",
    "- 첫째 줄에 정수 N이 입력된다.(0 <= n <= 23)\n",
    "- 00시 00분 00초부터 N시 59분 59초 까지의 모든 시각 중에서 3이 하나라도 포함되는 모든 경우의 수를 출력하시오."
   ]
  },
  {
   "cell_type": "code",
   "execution_count": null,
   "metadata": {
    "colab": {
     "base_uri": "https://localhost:8080/"
    },
    "id": "ohNXemHiJ1NJ",
    "outputId": "dd4e36fa-e149-406f-9d4e-08a38045875d"
   },
   "outputs": [
    {
     "name": "stdout",
     "output_type": "stream",
     "text": [
      "5\n",
      "11475\n"
     ]
    }
   ],
   "source": [
    "n = int(input())\n",
    "\n",
    "min = 60\n",
    "sec = 60\n",
    "cnt=0\n",
    "\n",
    "for h in range(n+1):\n",
    "    for m in range(min):\n",
    "        for s in range(sec):\n",
    "            if '3' in str(h)+str(m)+str(s): #와... 천재다..\n",
    "                cnt+=1\n",
    "\n",
    "print(cnt)"
   ]
  },
  {
   "cell_type": "markdown",
   "metadata": {
    "id": "pnwNeXC9Npce"
   },
   "source": [
    "\n",
    "\n",
    "---\n",
    "\n",
    "\n",
    "## **[백준 문제]**"
   ]
  },
  {
   "cell_type": "code",
   "execution_count": null,
   "metadata": {
    "colab": {
     "base_uri": "https://localhost:8080/"
    },
    "id": "J1Ii8kZlNyc4",
    "outputId": "97d2ed48-e21a-4d03-b102-cb89946b4c96"
   },
   "outputs": [
    {
     "name": "stdout",
     "output_type": "stream",
     "text": [
      "10 500\n",
      "93 181 245 214 315 36 185 138 216 295\n",
      "497\n"
     ]
    }
   ],
   "source": [
    "#백준 2798 - 블랙잭\n",
    "#Brute force 문제\n",
    "\n",
    "#첫째 줄에 카드의 개수 N(3 ≤ N ≤ 100)과 M(10 ≤ M ≤ 300,000)이 주어진다.\n",
    "#둘째 줄에는 카드에 쓰여 있는 수가 주어지며, 이 값은 100,000을 넘지 않는 양의 정수이다.\n",
    "#합이 M을 넘지 않는 카드 3장을 찾을 수 있는 경우만 입력으로 주어진다.\n",
    "\n",
    "#첫째 줄에 M을 넘지 않으면서 M에 최대한 가까운 카드 3장의 합을 출력한다.\n",
    "\n",
    "import itertools as iter\n",
    "\n",
    "n,m=map(int,input().split())\n",
    "\n",
    "cards = tuple(map(int, input().split()))\n",
    "almost=0\n",
    "for i in iter.combinations(cards, 3):\n",
    "    if(0 <= m-sum(i)< m-almost):\n",
    "        almost = sum(i)\n",
    "\n",
    "print(almost)\n",
    "\n"
   ]
  }
 ],
 "metadata": {
  "colab": {
   "provenance": []
  },
  "kernelspec": {
   "display_name": "Python 3",
   "language": "python",
   "name": "python3"
  },
  "language_info": {
   "codemirror_mode": {
    "name": "ipython",
    "version": 3
   },
   "file_extension": ".py",
   "mimetype": "text/x-python",
   "name": "python",
   "nbconvert_exporter": "python",
   "pygments_lexer": "ipython3",
   "version": "3.6.5"
  }
 },
 "nbformat": 4,
 "nbformat_minor": 1
}
