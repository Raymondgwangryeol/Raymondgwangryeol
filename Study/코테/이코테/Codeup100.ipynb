{
  "nbformat": 4,
  "nbformat_minor": 0,
  "metadata": {
    "colab": {
      "provenance": []
    },
    "kernelspec": {
      "name": "python3",
      "display_name": "Python 3"
    },
    "language_info": {
      "name": "python"
    }
  },
  "cells": [
    {
      "cell_type": "markdown",
      "source": [
        "# **코드업 파이썬 기초 100제**"
      ],
      "metadata": {
        "id": "1D-DHBMIvm0Z"
      }
    },
    {
      "cell_type": "markdown",
      "source": [
        "### **다시 볼 문제** :\n",
        "* 6006 - ()는 특수문자로 안 친다\n",
        "* 6015 - input().split하면 list형태로 반환된다\n",
        "* 6016 - .sort()는 안에서 순서만 바꾸지 결과값을 반환하지 않는다\n",
        "* 6027, 6028 - 16, 8진수 등으로 출력하는 방법: print('%x'% n)\n",
        "* 6029 - int(x, 진수 형태) int로 형변환 할때 몇 진수 형식으로 나타낼건지 지정할 수 있다\n",
        "* 6030, 6031 - 유니코드 변환 함수들. chr( )는 정수값->문자, ord( )는 문자->정수값\n",
        "* 6045 - sum함수\n",
        "* 6047\n",
        "* 6054 - and 예약어\n",
        "* 6058\n",
        "* 6063 = 3항 연산자\n",
        "* 6082 - 3,6,9\n",
        "* 6088 - split()과 split(' ')는 다르다\n",
        "* 6090번대"
      ],
      "metadata": {
        "id": "_Mp3I33k9AR2"
      }
    },
    {
      "cell_type": "code",
      "execution_count": null,
      "metadata": {
        "id": "1ZVpUpnKb7LV"
      },
      "outputs": [],
      "source": [
        "#6001\n",
        "\n",
        "print(\"Hello\")"
      ]
    },
    {
      "cell_type": "code",
      "source": [
        "#6002\n",
        "#공백이 있는 문자열 출력\n",
        "\n",
        "#print(\"Hello World\") #-> 11초\n",
        "#print(\"Hello\", \"World\") #-> 23초\n",
        "#print(\"Hello\", \"World\", sep = \"\")"
      ],
      "metadata": {
        "colab": {
          "base_uri": "https://localhost:8080/"
        },
        "id": "gLWxCAQ_cTg2",
        "outputId": "83d6e947-e3d0-4bca-c847-38881cb13e6b"
      },
      "execution_count": null,
      "outputs": [
        {
          "output_type": "stream",
          "name": "stdout",
          "text": [
            "Hello World\n"
          ]
        }
      ]
    },
    {
      "cell_type": "code",
      "source": [
        "#6003\n",
        "#개행이 포함된 문자열 출력\n",
        "\n",
        "#print(\"\"\"Hello\n",
        "#World\"\"\")\n",
        "#print(\"Hello\\nWorld\")\n",
        "print(\"Hello\", \"World\", sep = \"\\n\")"
      ],
      "metadata": {
        "colab": {
          "base_uri": "https://localhost:8080/"
        },
        "id": "WrWxMdzac3cO",
        "outputId": "4c49f133-01ca-4f39-90bf-c1bfa73d4283"
      },
      "execution_count": null,
      "outputs": [
        {
          "output_type": "stream",
          "name": "stdout",
          "text": [
            "Hello\n",
            "World\n"
          ]
        }
      ]
    },
    {
      "cell_type": "code",
      "source": [
        "#6004\n",
        "#작은 따옴표가 들어있는 문자열 출력\n",
        "\n",
        "#print(\"'Hello'\")\n",
        "print('\\'Hello\\'')"
      ],
      "metadata": {
        "colab": {
          "base_uri": "https://localhost:8080/"
        },
        "id": "GmcjS7aJeGkj",
        "outputId": "40ac4e90-fc8e-498e-a303-b3e8cea89b0c"
      },
      "execution_count": null,
      "outputs": [
        {
          "output_type": "stream",
          "name": "stdout",
          "text": [
            "'Hello'\n"
          ]
        }
      ]
    },
    {
      "cell_type": "code",
      "source": [
        "#6005\n",
        "#큰 따옴표가 들어있는 문자열 출력\n",
        "\n",
        "print('\"Hello World\"')"
      ],
      "metadata": {
        "colab": {
          "base_uri": "https://localhost:8080/"
        },
        "id": "KF_MLe-AemLf",
        "outputId": "f84c3764-6a23-47b6-ec9c-5de272587217"
      },
      "execution_count": null,
      "outputs": [
        {
          "output_type": "stream",
          "name": "stdout",
          "text": [
            "\"Hello World\"\n"
          ]
        }
      ]
    },
    {
      "cell_type": "code",
      "source": [
        "#6006\n",
        "#특수문자 출력(\\', \\\")\n",
        "\n",
        "print(\"\\\"!@#$%^&*()\\'\")"
      ],
      "metadata": {
        "colab": {
          "base_uri": "https://localhost:8080/"
        },
        "id": "w9e6Ge7Ae112",
        "outputId": "033f4bd8-98d6-4e10-828a-f6463476991f"
      },
      "execution_count": null,
      "outputs": [
        {
          "output_type": "stream",
          "name": "stdout",
          "text": [
            "\"!@#$%^&*()'\n"
          ]
        }
      ]
    },
    {
      "cell_type": "code",
      "source": [
        "#6007\n",
        "#(\\\\)\n",
        "\n",
        "print('\"C:\\\\Download\\\\\\'hello\\'.py\"')"
      ],
      "metadata": {
        "colab": {
          "base_uri": "https://localhost:8080/"
        },
        "id": "A-B9Ppkcff8D",
        "outputId": "23d52f01-5e75-4ab5-d127-f5750cc7c4a2"
      },
      "execution_count": null,
      "outputs": [
        {
          "output_type": "stream",
          "name": "stdout",
          "text": [
            "\"C:\\Downlowd\\'hello'.py\"\n"
          ]
        }
      ]
    },
    {
      "cell_type": "code",
      "source": [
        "#6008\n",
        "\n",
        "print('print(\"Hello\\\\nWorld\")')"
      ],
      "metadata": {
        "colab": {
          "base_uri": "https://localhost:8080/"
        },
        "id": "-d4mBn_ogDwE",
        "outputId": "5109f366-0e13-4ae1-eab3-b33ef559cfd9"
      },
      "execution_count": null,
      "outputs": [
        {
          "output_type": "stream",
          "name": "stdout",
          "text": [
            "print(\"Hello\\nWorld\")\n"
          ]
        }
      ]
    },
    {
      "cell_type": "code",
      "source": [
        "#6009\n",
        "#문자 입력 받아 그대로 출력\n",
        "#Tip -  변수명은 알아보기 쉽도록 간단하게 쓰는게 좋다.\n",
        "\n",
        "x = input()\n",
        "print(x)"
      ],
      "metadata": {
        "colab": {
          "base_uri": "https://localhost:8080/"
        },
        "id": "jegbxCvLgl2i",
        "outputId": "9d019b1e-5938-45e2-83b2-565add6036f8"
      },
      "execution_count": null,
      "outputs": [
        {
          "output_type": "stream",
          "name": "stdout",
          "text": [
            "e\n",
            "e\n"
          ]
        }
      ]
    },
    {
      "cell_type": "code",
      "source": [
        "#6010\n",
        "#정수 입력 받아 int로 출력\n",
        "\n",
        "x = int(input()) #input함수는 입력값을 문자열 형태로 받는다.\n",
        "print(x)"
      ],
      "metadata": {
        "colab": {
          "base_uri": "https://localhost:8080/"
        },
        "id": "8tWx__c1h-T0",
        "outputId": "64c9683c-ac1f-405a-aca2-5dd867c14233"
      },
      "execution_count": null,
      "outputs": [
        {
          "output_type": "stream",
          "name": "stdout",
          "text": [
            "1\n",
            "1\n"
          ]
        }
      ]
    },
    {
      "cell_type": "code",
      "source": [
        "#6011\n",
        "#float형 출력\n",
        "\n",
        "print(float(input()))"
      ],
      "metadata": {
        "colab": {
          "base_uri": "https://localhost:8080/"
        },
        "id": "2ZETpo6wi2Qu",
        "outputId": "fd14d40c-98b3-4fb0-a7c2-06093d1f11d0"
      },
      "execution_count": null,
      "outputs": [
        {
          "output_type": "stream",
          "name": "stdout",
          "text": [
            "3.14\n",
            "3.14\n"
          ]
        }
      ]
    },
    {
      "cell_type": "code",
      "source": [
        "#6012\n",
        "#정수 2개 입력 받아 그대로 출력\n",
        "\n",
        "#2개의 정수가 줄을 바꿔 입력된다.\n",
        "x = int(input())\n",
        "y = int(input())\n",
        "#한 번에 받을 경우\n",
        "#x,y = input().split()\n",
        "#map을 이용해서 형변환까지 하는 코드는\n",
        "#x,y = map(int, input().split())\n",
        "\n",
        "#입력된 두 정수를 줄을 바꿔 출력한다.\n",
        "print(x,y, sep=\"\\n\")"
      ],
      "metadata": {
        "colab": {
          "base_uri": "https://localhost:8080/"
        },
        "id": "UyBPpfyLjJMR",
        "outputId": "c66adac6-b59c-4581-999b-1dd8bfefd33c"
      },
      "execution_count": null,
      "outputs": [
        {
          "output_type": "stream",
          "name": "stdout",
          "text": [
            "1\n",
            "2\n",
            "1\n",
            "2\n"
          ]
        }
      ]
    },
    {
      "cell_type": "code",
      "source": [
        "#6013\n",
        "#문자 두 개 입력 받아 순서 바꿔 출력하기\n",
        "\n",
        "y = input()\n",
        "x = input()\n",
        "\n",
        "print(x, y, sep=\"\\n\")"
      ],
      "metadata": {
        "colab": {
          "base_uri": "https://localhost:8080/"
        },
        "id": "EFsOynb5kxMX",
        "outputId": "d812bbfa-6779-496b-908d-9253e83a8ce7"
      },
      "execution_count": null,
      "outputs": [
        {
          "output_type": "stream",
          "name": "stdout",
          "text": [
            "a\n",
            "b\n",
            "b\n",
            "a\n"
          ]
        }
      ]
    },
    {
      "cell_type": "code",
      "source": [
        "#6014\n",
        "#실수 1개 입력 받아 3번 출력\n",
        "\n",
        "print((input()+\"\\n\") * 3)"
      ],
      "metadata": {
        "colab": {
          "base_uri": "https://localhost:8080/"
        },
        "id": "wvQIRqtqlLto",
        "outputId": "3d734133-0365-4838-f698-a104fc754482"
      },
      "execution_count": null,
      "outputs": [
        {
          "output_type": "stream",
          "name": "stdout",
          "text": [
            "2\n",
            "2\n",
            "2\n",
            "2\n"
          ]
        }
      ]
    },
    {
      "cell_type": "code",
      "source": [
        "#6015\n",
        "#정수 2개 입력 받아 그대로 출력\n",
        "\n",
        "x, y = map(int, input().split(\" \")) #input값은 공백으로 쪼개져서 list의 형태로 반환.(iterable)\n",
        "                                    #iterable한 객체의 값들을 하나씩 꺼내서 args(int)를 적용.\n",
        "                                    #split()은 문자열이랑 같이 쓰인다\n",
        "print(x, y, sep = \"\\n\")"
      ],
      "metadata": {
        "colab": {
          "base_uri": "https://localhost:8080/"
        },
        "id": "wt6J8sSRmDOI",
        "outputId": "f7f51e50-a74d-406d-94b0-06489fc1a2de"
      },
      "execution_count": null,
      "outputs": [
        {
          "output_type": "stream",
          "name": "stdout",
          "text": [
            "1 2\n",
            "1\n",
            "2\n"
          ]
        }
      ]
    },
    {
      "cell_type": "code",
      "source": [
        "#6016\n",
        "#문자 2개 입력받고 순서 바꿔 출력\n",
        "\n",
        "x, y = input().split(\" \")\n",
        "print(y, x)\n",
        "\n",
        "'''\n",
        "+)추가\n",
        "print(sorted(input().split(\" \"), reverse=True)) #.sort(), reverse()와 같이 list에서만 제공하는 함수들을 쓰면 None이 나온다..?\n",
        "print((input().split(\" \")).sort()) #sort()가 None이 나오는 이유 - 새로운 객체를 return하는게 아니라, 안에서 순서만 바꾸기 때문에 반환값이 없다.\n",
        "'''"
      ],
      "metadata": {
        "colab": {
          "base_uri": "https://localhost:8080/"
        },
        "id": "8d0V7PfCm0lO",
        "outputId": "66e0e1b5-a5cd-4852-9337-3ef9fcf4e394"
      },
      "execution_count": null,
      "outputs": [
        {
          "output_type": "stream",
          "name": "stdout",
          "text": [
            "a b\n",
            "b a\n"
          ]
        }
      ]
    },
    {
      "cell_type": "code",
      "source": [
        "#6017\n",
        "#문장 1개 입력받아 3번 출력\n",
        "\n",
        "x = input()\n",
        "#공백을 두고 3번 출력한다.\n",
        "print(x,x,x)"
      ],
      "metadata": {
        "colab": {
          "base_uri": "https://localhost:8080/"
        },
        "id": "X6F0T963o4Un",
        "outputId": "4913be64-b603-4ad5-9034-b6bb78948d5d"
      },
      "execution_count": null,
      "outputs": [
        {
          "output_type": "stream",
          "name": "stdout",
          "text": [
            "computer s\n",
            "computer s computer s computer s\n"
          ]
        }
      ]
    },
    {
      "cell_type": "code",
      "source": [
        "#6018\n",
        "#시간 입력받아 출력\n",
        "\n",
        "#:로 구분해서 입력\n",
        "h, m = map(int, input().split(\":\"))\n",
        "#print(f\"{h}:{m}\")\n",
        "print(h, m, sep=':') #sep은 출력 시 객체 사이에 뭘 넣을 건지를 지정한다."
      ],
      "metadata": {
        "colab": {
          "base_uri": "https://localhost:8080/"
        },
        "id": "mR2sMYEBtz1y",
        "outputId": "028953fc-d2de-448b-9ee6-ef63087ec890"
      },
      "execution_count": null,
      "outputs": [
        {
          "output_type": "stream",
          "name": "stdout",
          "text": [
            "2:10\n",
            "2:10\n"
          ]
        }
      ]
    },
    {
      "cell_type": "code",
      "source": [
        "#6019\n",
        "#\"연도.월.일\"을 입력받아 \"일-월-연도\" 순서로 바꿔 출력\n",
        "\n",
        "y,m,d = map(int, input().split('.'))\n",
        "print(d,m,y, sep='-')"
      ],
      "metadata": {
        "colab": {
          "base_uri": "https://localhost:8080/"
        },
        "id": "nG0qHcEfujny",
        "outputId": "d8fc54ef-a581-469d-d260-c44eee9e347e"
      },
      "execution_count": null,
      "outputs": [
        {
          "output_type": "stream",
          "name": "stdout",
          "text": [
            "2020.3.4\n",
            "4-3-2020\n"
          ]
        }
      ]
    },
    {
      "cell_type": "code",
      "source": [
        "#6020\n",
        "#주민번호 입력 받아 형태 바꿔 출력\n",
        "\n",
        "# 입력 110011-0000000\n",
        "x, y = input().split('-')\n",
        "#'-'를 제외한 주민번호 13자리를 모두 붙여 출력\n",
        "print(x,y, sep=\"\")"
      ],
      "metadata": {
        "colab": {
          "base_uri": "https://localhost:8080/"
        },
        "id": "r29ABOxJvGFS",
        "outputId": "70e1a78c-acbb-4041-88a3-33841d52d5a4"
      },
      "execution_count": null,
      "outputs": [
        {
          "output_type": "stream",
          "name": "stdout",
          "text": [
            "000907-11211112\n",
            "00090711211112\n"
          ]
        }
      ]
    },
    {
      "cell_type": "code",
      "source": [
        "#6021\n",
        "#단어를 한 문자씩 출력\n",
        "\n",
        "str = input()\n",
        "for x in str:\n",
        "    print(x)"
      ],
      "metadata": {
        "id": "j-74u1JMvlji",
        "colab": {
          "base_uri": "https://localhost:8080/"
        },
        "outputId": "f15bdb6a-09b2-438d-8789-c299674aa8b0"
      },
      "execution_count": null,
      "outputs": [
        {
          "output_type": "stream",
          "name": "stdout",
          "text": [
            "Hello\n",
            "H\n",
            "e\n",
            "l\n",
            "l\n",
            "o\n"
          ]
        }
      ]
    },
    {
      "cell_type": "code",
      "source": [
        "#6022\n",
        "#년,월,일 나눠서 출력(슬라이싱)\n",
        "\n",
        "str = input()\n",
        "print(str[:2], str[2:4], str[4:])"
      ],
      "metadata": {
        "colab": {
          "base_uri": "https://localhost:8080/"
        },
        "id": "WHHF5kwi57YM",
        "outputId": "efb8082c-954f-49b3-b027-811dd9ecbe44"
      },
      "execution_count": null,
      "outputs": [
        {
          "output_type": "stream",
          "name": "stdout",
          "text": [
            "200304\n",
            "20 03 04\n"
          ]
        }
      ]
    },
    {
      "cell_type": "code",
      "source": [
        "#6023\n",
        "#시:분:초에서 분만 출력\n",
        "\n",
        "h, m, s = input().split(':')\n",
        "print(m)"
      ],
      "metadata": {
        "colab": {
          "base_uri": "https://localhost:8080/"
        },
        "id": "douXo2KI6XYp",
        "outputId": "099b0fd2-f5c5-4dbe-ada0-1e6068047fab"
      },
      "execution_count": null,
      "outputs": [
        {
          "output_type": "stream",
          "name": "stdout",
          "text": [
            "17:53:37\n",
            "53\n"
          ]
        }
      ]
    },
    {
      "cell_type": "code",
      "source": [
        "#6024\n",
        "#단어 2개 입력받아 이어붙이기\n",
        "\n",
        "#공백문자도 어쨌든 하나의 문자\n",
        "#공백문자까지 받기 싫은데 어떡하죠? 그럼 공백문자를 기준으로 자르렴\n",
        "x,y = input().split(\" \")\n",
        "print(x+y)"
      ],
      "metadata": {
        "colab": {
          "base_uri": "https://localhost:8080/"
        },
        "id": "A1s_BPKf6y1-",
        "outputId": "f2c69bc8-9323-4fe2-cc29-456daead8705"
      },
      "execution_count": null,
      "outputs": [
        {
          "output_type": "stream",
          "name": "stdout",
          "text": [
            "Hello World\n",
            "HelloWorld\n"
          ]
        }
      ]
    },
    {
      "cell_type": "code",
      "source": [
        "#6025\n",
        "#정수 2개 입력받아 합 구하기\n",
        "\n",
        "x,y = map(int,input().split(\" \"))\n",
        "print(x+y)"
      ],
      "metadata": {
        "colab": {
          "base_uri": "https://localhost:8080/"
        },
        "id": "SrK6W7y67c8V",
        "outputId": "fcac55c8-7fb0-411d-999f-99a36acdbe17"
      },
      "execution_count": null,
      "outputs": [
        {
          "output_type": "stream",
          "name": "stdout",
          "text": [
            "123 -123\n",
            "0\n"
          ]
        }
      ]
    },
    {
      "cell_type": "code",
      "source": [
        "#6026\n",
        "#실수 2개 입력 받아 더하기\n",
        "x= float(input())\n",
        "y= float(input())\n",
        "\n",
        "print(x+y)"
      ],
      "metadata": {
        "colab": {
          "base_uri": "https://localhost:8080/"
        },
        "id": "jrpdo7RG75Ee",
        "outputId": "37b2dc1d-3566-4889-998a-5271aa80aa7c"
      },
      "execution_count": null,
      "outputs": [
        {
          "output_type": "stream",
          "name": "stdout",
          "text": [
            "0.1\n",
            "0.9\n",
            "1.0\n"
          ]
        }
      ]
    },
    {
      "cell_type": "code",
      "source": [
        "#6027\n",
        "#10진수를 16진수로 출력(소문자로)\n",
        "\n",
        "print('%x'% int(input()))"
      ],
      "metadata": {
        "colab": {
          "base_uri": "https://localhost:8080/"
        },
        "id": "iM0vT1Me8ehr",
        "outputId": "f3e13d87-bcd0-407e-f5dd-66879e1f4248"
      },
      "execution_count": null,
      "outputs": [
        {
          "output_type": "stream",
          "name": "stdout",
          "text": [
            "255\n",
            "ff\n"
          ]
        }
      ]
    },
    {
      "cell_type": "code",
      "source": [
        "#6028\n",
        "#10진수를 16진수로 출력(대분자로)\n",
        "\n",
        "print('%X'% int(input()))"
      ],
      "metadata": {
        "colab": {
          "base_uri": "https://localhost:8080/"
        },
        "id": "S6LVmKZK99wZ",
        "outputId": "f045e2b2-fcfd-4a79-bbe2-e3797c03f604"
      },
      "execution_count": null,
      "outputs": [
        {
          "output_type": "stream",
          "name": "stdout",
          "text": [
            "255\n",
            "FF\n"
          ]
        }
      ]
    },
    {
      "cell_type": "code",
      "source": [
        "#6029\n",
        "#16진수를 8진수로\n",
        "\n",
        "octal_int = int(input(), 16) #야 이건 또 처음 앎....\n",
        "\n",
        "print('%o'% octal_int)"
      ],
      "metadata": {
        "colab": {
          "base_uri": "https://localhost:8080/"
        },
        "id": "1oBjcmA7-bKZ",
        "outputId": "b76cddcc-7054-47fb-d15b-6abf8b9a029d"
      },
      "execution_count": null,
      "outputs": [
        {
          "output_type": "stream",
          "name": "stdout",
          "text": [
            "f\n",
            "17\n"
          ]
        }
      ]
    },
    {
      "cell_type": "code",
      "source": [
        "#6030\n",
        "#영문자 1개 입력 받아 유니코드로 출력\n",
        "\n",
        "x = ord(input()) #ord(): 문자 집어넣으면 해당 유니코드 값 리턴.\n",
        "                 #각각의 문자들에는 연속된 정수 값(유니코드)이 순서에 따라 부여되어 있음. A:65, B:66...\n",
        "print(x)"
      ],
      "metadata": {
        "colab": {
          "base_uri": "https://localhost:8080/"
        },
        "id": "vUDCItNL_oJ8",
        "outputId": "a856047b-32c5-48d6-e62e-5046376a6901"
      },
      "execution_count": null,
      "outputs": [
        {
          "output_type": "stream",
          "name": "stdout",
          "text": [
            "A\n",
            "65\n"
          ]
        }
      ]
    },
    {
      "cell_type": "code",
      "source": [
        "#6031\n",
        "#정수 입력 받아 유니코드 문자로 변환\n",
        "\n",
        "print(chr(int(input()))) #chr()은 정수 받아 유니코드 값에 맞는 문자로 변환"
      ],
      "metadata": {
        "colab": {
          "base_uri": "https://localhost:8080/"
        },
        "id": "fv5pCNdLBr36",
        "outputId": "e657fae8-9507-4e1c-c123-bbae792ab5ac"
      },
      "execution_count": null,
      "outputs": [
        {
          "output_type": "stream",
          "name": "stdout",
          "text": [
            "65\n",
            "A\n"
          ]
        }
      ]
    },
    {
      "cell_type": "code",
      "source": [
        "#6032\n",
        "#입력된 정수 부호 바꿔 출력\n",
        "\n",
        "print(-(int(input())))"
      ],
      "metadata": {
        "colab": {
          "base_uri": "https://localhost:8080/"
        },
        "id": "pUYRZA33CasC",
        "outputId": "eef2e55a-21aa-4f81-86fa-2f84d0a5b49e"
      },
      "execution_count": null,
      "outputs": [
        {
          "output_type": "stream",
          "name": "stdout",
          "text": [
            "-1\n",
            "1\n"
          ]
        }
      ]
    },
    {
      "cell_type": "code",
      "source": [
        "#6033\n",
        "#문자 1개 입력받아 다음 문자 출력\n",
        "\n",
        "x=ord(input())+1\n",
        "\n",
        "print(chr(x))"
      ],
      "metadata": {
        "colab": {
          "base_uri": "https://localhost:8080/"
        },
        "id": "MMbWFc3oCr3f",
        "outputId": "0d9dd033-d147-44d6-a9d6-4b7a5b5a1a3b"
      },
      "execution_count": null,
      "outputs": [
        {
          "output_type": "stream",
          "name": "stdout",
          "text": [
            "a\n",
            "b\n"
          ]
        }
      ]
    },
    {
      "cell_type": "code",
      "source": [
        "#6034\n",
        "#정수 2개 입력 받아 뻴셈\n",
        "\n",
        "x,y = map(int,input().split(\" \"))\n",
        "print(x-y)"
      ],
      "metadata": {
        "colab": {
          "base_uri": "https://localhost:8080/"
        },
        "id": "v5v8-92yDEzp",
        "outputId": "546d20d3-017d-486c-d5be-cb9524a154fc"
      },
      "execution_count": null,
      "outputs": [
        {
          "output_type": "stream",
          "name": "stdout",
          "text": [
            "123 -123\n",
            "246\n"
          ]
        }
      ]
    },
    {
      "cell_type": "code",
      "source": [
        "#6035\n",
        "#실수 2개 입력받아 곱 계산\n",
        "x,y = map(float, input().split(\" \"))\n",
        "print(x*y)"
      ],
      "metadata": {
        "colab": {
          "base_uri": "https://localhost:8080/"
        },
        "id": "VlS7j8YSDgnC",
        "outputId": "fcead65b-613a-4955-d0e6-0dc15ea60cdb"
      },
      "execution_count": null,
      "outputs": [
        {
          "output_type": "stream",
          "name": "stdout",
          "text": [
            "0.5 2.0\n",
            "1.0\n"
          ]
        }
      ]
    },
    {
      "cell_type": "code",
      "source": [
        "#6036\n",
        "#단어와 정수 받아서 정수만큼 단어 반복 출력\n",
        "\n",
        "string, n = input().split(\" \")\n",
        "\n",
        "print(string*(int(n)))"
      ],
      "metadata": {
        "colab": {
          "base_uri": "https://localhost:8080/"
        },
        "id": "WsEOSM2OD5AN",
        "outputId": "822e071e-e1bd-4e68-f403-a475495e230f"
      },
      "execution_count": null,
      "outputs": [
        {
          "output_type": "stream",
          "name": "stdout",
          "text": [
            "love 3\n",
            "lovelovelove\n"
          ]
        }
      ]
    },
    {
      "cell_type": "code",
      "source": [
        "#6037\n",
        "#6036 문제랑 똑같음\n",
        "\n",
        "n = int(input())\n",
        "s = input()\n",
        "\n",
        "print(s*n)"
      ],
      "metadata": {
        "colab": {
          "base_uri": "https://localhost:8080/"
        },
        "id": "w5arQX1zEYQz",
        "outputId": "ba0fb2ea-a314-4040-bf2c-2a6a9bacb47d"
      },
      "execution_count": null,
      "outputs": [
        {
          "output_type": "stream",
          "name": "stdout",
          "text": [
            "3\n",
            "I love CS\n",
            "I love CSI love CSI love CS\n"
          ]
        }
      ]
    },
    {
      "cell_type": "code",
      "source": [
        "#6038\n",
        "#정수 2개 받아 거듭 제곱 출력\n",
        "\n",
        "x, y = map(int, input().split())\n",
        "print(x**y)"
      ],
      "metadata": {
        "colab": {
          "base_uri": "https://localhost:8080/"
        },
        "id": "zO1jC4HrFfZp",
        "outputId": "463e5856-a405-4e7e-953d-e7b580a2f253"
      },
      "execution_count": null,
      "outputs": [
        {
          "output_type": "stream",
          "name": "stdout",
          "text": [
            "2 10\n",
            "1024\n"
          ]
        }
      ]
    },
    {
      "cell_type": "code",
      "source": [
        "#6039\n",
        "#실수 2개 입력받아 거듭 제곰\n",
        "\n",
        "x, y = map(float, input().split())\n",
        "print(x**y)"
      ],
      "metadata": {
        "colab": {
          "base_uri": "https://localhost:8080/"
        },
        "id": "Bua1eL5ZFumT",
        "outputId": "7fd82cc0-96cb-41e8-9682-0bd95b97bd38"
      },
      "execution_count": null,
      "outputs": [
        {
          "output_type": "stream",
          "name": "stdout",
          "text": [
            "4.0 2.0\n",
            "16.0\n"
          ]
        }
      ]
    },
    {
      "cell_type": "code",
      "source": [
        "#6040\n",
        "#정수 2개 입력 받아 몫 구하기\n",
        "\n",
        "x, y = map(int, input().split(\" \"))\n",
        "print(x//y)"
      ],
      "metadata": {
        "colab": {
          "base_uri": "https://localhost:8080/"
        },
        "id": "H_a6583DGAwA",
        "outputId": "3a275f1b-d79a-4412-f414-5060ceb023f1"
      },
      "execution_count": null,
      "outputs": [
        {
          "output_type": "stream",
          "name": "stdout",
          "text": [
            "10 3\n",
            "3\n"
          ]
        }
      ]
    },
    {
      "cell_type": "code",
      "source": [
        "#6041\n",
        "#정수 2개 입력, 나머지 구하기\n",
        "\n",
        "x, y = map(int, input().split(\" \"))\n",
        "print(x%y)"
      ],
      "metadata": {
        "colab": {
          "base_uri": "https://localhost:8080/"
        },
        "id": "csSx0NnNsAfu",
        "outputId": "62e255f6-c03d-4d06-d93b-642f3e1b9280"
      },
      "execution_count": null,
      "outputs": [
        {
          "output_type": "stream",
          "name": "stdout",
          "text": [
            "10 3\n",
            "1\n"
          ]
        }
      ]
    },
    {
      "cell_type": "code",
      "source": [
        "#6042\n",
        "#실수 1개 입력 받아 두 번째 자리까지 반올림\n",
        "\n",
        "print('%.2f'% (float(input())))\n",
        "#print(format(float(input())),\".2f\")"
      ],
      "metadata": {
        "colab": {
          "base_uri": "https://localhost:8080/"
        },
        "id": "DmH0wRHXsTy4",
        "outputId": "8fef3549-e2c4-457c-d5fe-f19a8e223701"
      },
      "execution_count": null,
      "outputs": [
        {
          "output_type": "stream",
          "name": "stdout",
          "text": [
            "3.141592\n",
            "3.14\n"
          ]
        }
      ]
    },
    {
      "cell_type": "code",
      "source": [
        "#6043\n",
        "#실수 2개 받아 나눗셈, 소수점 넷째자리에서 반올림\n",
        "\n",
        "x, y = map(float, input().split(\" \"))\n",
        "print(f\"{x/y :>.3f}\") #:>.3f는 .3f만큼 왼쪽 정렬하라는 뜻. :<는 오른쪽 정렬"
      ],
      "metadata": {
        "colab": {
          "base_uri": "https://localhost:8080/"
        },
        "id": "_AnokXUItF3n",
        "outputId": "5f0de148-1bd6-4ca7-91b2-d0258a20392d"
      },
      "execution_count": null,
      "outputs": [
        {
          "output_type": "stream",
          "name": "stdout",
          "text": [
            "10.0 3.0\n",
            "3.333\n"
          ]
        }
      ]
    },
    {
      "cell_type": "code",
      "source": [
        "#6044\n",
        "#정수 2개 입력 받아 사칙연산\n",
        "\n",
        "x, y = map(int, input().split(\" \"))\n",
        "print(f\"{x+y}\\n{x-y}\\n{x*y}\\n{x//y}\\n{x%y}\\n{x/y :>.2f}\")"
      ],
      "metadata": {
        "colab": {
          "base_uri": "https://localhost:8080/"
        },
        "id": "TX3Ls5HWvSpq",
        "outputId": "b700da60-3849-4990-98d3-e60e94c01fac"
      },
      "execution_count": null,
      "outputs": [
        {
          "output_type": "stream",
          "name": "stdout",
          "text": [
            "10 3\n",
            "13\n",
            "7\n",
            "30\n",
            "3\n",
            "1\n",
            "3.33\n"
          ]
        }
      ]
    },
    {
      "cell_type": "code",
      "source": [
        "#6045\n",
        "#정수 3개 입력받아 합, 평균 출력\n",
        "\n",
        "t = tuple(map(int, input().split(\" \")))\n",
        "print(f\"{sum(t)} {sum(t)/3 :>.2f}\") #평균 구하는 함수는 따로 없나보다.. 크흠"
      ],
      "metadata": {
        "colab": {
          "base_uri": "https://localhost:8080/"
        },
        "id": "BHE46xPvwFnp",
        "outputId": "fcc1f817-7b8b-444a-b210-96ef658335e6"
      },
      "execution_count": null,
      "outputs": [
        {
          "output_type": "stream",
          "name": "stdout",
          "text": [
            "1 2 3\n",
            "6 2.00\n"
          ]
        }
      ]
    },
    {
      "cell_type": "code",
      "source": [
        "#6046\n",
        "#shift 연산\n",
        "#밀면 2가 곱해지거나 1/2이 되거나\n",
        "#python에서 실수 값에 대한 비트 시프트 연산은 허용되지 않는다\n",
        "\n",
        "print((int(input()))<<1)"
      ],
      "metadata": {
        "colab": {
          "base_uri": "https://localhost:8080/"
        },
        "id": "_te5eY7axj8P",
        "outputId": "f87ffa14-8662-46d5-a658-d5942adba7e6"
      },
      "execution_count": null,
      "outputs": [
        {
          "output_type": "stream",
          "name": "stdout",
          "text": [
            "1024\n",
            "2048\n"
          ]
        }
      ]
    },
    {
      "cell_type": "code",
      "source": [
        "#6047\n",
        "#2승 거듭제곱\n",
        "\n",
        "x, y = map(int, input().split(\" \"))\n",
        "print(x<<y)"
      ],
      "metadata": {
        "colab": {
          "base_uri": "https://localhost:8080/"
        },
        "id": "yl4u4M08yWTz",
        "outputId": "2646cd2b-59db-4150-c1c7-4458af47a588"
      },
      "execution_count": null,
      "outputs": [
        {
          "output_type": "stream",
          "name": "stdout",
          "text": [
            "1 3\n",
            "8\n"
          ]
        }
      ]
    },
    {
      "cell_type": "code",
      "source": [
        "#6048\n",
        "#대소 비교\n",
        "\n",
        "x, y = map(int,input().split(\" \"))\n",
        "print(x<y)"
      ],
      "metadata": {
        "colab": {
          "base_uri": "https://localhost:8080/"
        },
        "id": "ebnodcxyzV01",
        "outputId": "62df524e-274d-4f2c-fef5-97395ee8df37"
      },
      "execution_count": null,
      "outputs": [
        {
          "output_type": "stream",
          "name": "stdout",
          "text": [
            "1 9\n",
            "True\n"
          ]
        }
      ]
    },
    {
      "cell_type": "code",
      "source": [
        "#6049\n",
        "#값이 같은지 비교\n",
        "\n",
        "x, y = map(int,input().split(\" \"))\n",
        "print(x==y)"
      ],
      "metadata": {
        "colab": {
          "base_uri": "https://localhost:8080/"
        },
        "id": "jARmrt0qz1NN",
        "outputId": "e14938b6-6b31-4225-8c26-4336d8d09336"
      },
      "execution_count": null,
      "outputs": [
        {
          "output_type": "stream",
          "name": "stdout",
          "text": [
            "0 0\n",
            "True\n"
          ]
        }
      ]
    },
    {
      "cell_type": "code",
      "source": [
        "#6050\n",
        "#<= 문제\n",
        "\n",
        "x, y = map(int,input().split(\" \"))\n",
        "print(x<=y)"
      ],
      "metadata": {
        "colab": {
          "base_uri": "https://localhost:8080/"
        },
        "id": "M2_E_xly0JEm",
        "outputId": "2aabd5ee-986a-431a-f80b-3268a2edde17"
      },
      "execution_count": null,
      "outputs": [
        {
          "output_type": "stream",
          "name": "stdout",
          "text": [
            "0 -1\n",
            "False\n"
          ]
        }
      ]
    },
    {
      "cell_type": "code",
      "source": [
        "#6051\n",
        "#!= 문제\n",
        "\n",
        "x, y = map(int, input().split(\" \"))\n",
        "print(x!=y)"
      ],
      "metadata": {
        "colab": {
          "base_uri": "https://localhost:8080/"
        },
        "id": "Eg7w0py3oerW",
        "outputId": "39b3eb0a-63cf-4ce8-f070-c5e483ddf44d"
      },
      "execution_count": null,
      "outputs": [
        {
          "output_type": "stream",
          "name": "stdout",
          "text": [
            "0 1\n",
            "True\n"
          ]
        }
      ]
    },
    {
      "cell_type": "code",
      "source": [
        "#6052\n",
        "#bool()문제\n",
        "\n",
        "print(bool(int(input()))) #정수를 넣으면 True인지 False인지 반환. int의 서브클래스"
      ],
      "metadata": {
        "colab": {
          "base_uri": "https://localhost:8080/"
        },
        "id": "hm47YMSHo004",
        "outputId": "e0cf97de-ea08-4b5e-d166-ed227e43ba31"
      },
      "execution_count": null,
      "outputs": [
        {
          "output_type": "stream",
          "name": "stdout",
          "text": [
            "0\n",
            "False\n"
          ]
        }
      ]
    },
    {
      "cell_type": "code",
      "source": [
        "#6053\n",
        "#boolean 예약어 not 문제\n",
        "\n",
        "#boolean 예약어 and, or, not\n",
        "print(not(bool(int(input()))))"
      ],
      "metadata": {
        "colab": {
          "base_uri": "https://localhost:8080/"
        },
        "id": "W9XMV-U-pk4Y",
        "outputId": "8fb4b481-b2bf-4a2d-dde6-26e32ae33ff6"
      },
      "execution_count": null,
      "outputs": [
        {
          "output_type": "stream",
          "name": "stdout",
          "text": [
            "0\n",
            "True\n"
          ]
        }
      ]
    },
    {
      "cell_type": "code",
      "source": [
        "#6054\n",
        "#boolean 예약어 and 문제\n",
        "\n",
        "#x가 0이 아니면 True -> y가 0이 아니면 True -> y값을 반환\n",
        "#x가 0이면 False -> 바로 False 반환\n",
        "#x가 0이 아니면 True ->  y가 0이면 False -> 바로 False 반환\n",
        "x, y = map(lambda x:bool(int(x)), input().split(\" \"))\n",
        "print(x and y)"
      ],
      "metadata": {
        "colab": {
          "base_uri": "https://localhost:8080/"
        },
        "id": "J9T-yW9uqcsx",
        "outputId": "df5619e6-7e4b-4f3e-88e3-4fdc4f339cd4"
      },
      "execution_count": null,
      "outputs": [
        {
          "output_type": "stream",
          "name": "stdout",
          "text": [
            "1 1\n",
            "True\n"
          ]
        }
      ]
    },
    {
      "cell_type": "code",
      "source": [
        "#6055\n",
        "#boolean or 예약어\n",
        "\n",
        "x, y = map(lambda x: bool(int(x)), input().split(\" \"))\n",
        "print(x or y)"
      ],
      "metadata": {
        "colab": {
          "base_uri": "https://localhost:8080/"
        },
        "id": "qd6tG3ZQtm07",
        "outputId": "aec2326c-e637-438b-dabf-7d9a56724568"
      },
      "execution_count": null,
      "outputs": [
        {
          "output_type": "stream",
          "name": "stdout",
          "text": [
            "1 1\n",
            "True\n"
          ]
        }
      ]
    },
    {
      "cell_type": "code",
      "source": [
        "#6056\n",
        "#xor 문제\n",
        "\n",
        "x, y = map(lambda x: bool(int(x)), input().split(\" \"))\n",
        "print(x!=y)"
      ],
      "metadata": {
        "colab": {
          "base_uri": "https://localhost:8080/"
        },
        "id": "QpvPxhqSuFDK",
        "outputId": "ea5e3e78-5411-4a9d-a86d-b20cdf9dc7e4"
      },
      "execution_count": null,
      "outputs": [
        {
          "output_type": "stream",
          "name": "stdout",
          "text": [
            "1 1\n",
            "False\n"
          ]
        }
      ]
    },
    {
      "cell_type": "code",
      "source": [
        "#6057\n",
        "#xnor문제\n",
        "\n",
        "x, y = map(lambda x: bool(int(x)), input().split(\" \"))\n",
        "print(x==y)"
      ],
      "metadata": {
        "colab": {
          "base_uri": "https://localhost:8080/"
        },
        "id": "WiAFhcexvMsd",
        "outputId": "3bed0a5f-2da2-42b5-8869-634ac8a6b748"
      },
      "execution_count": null,
      "outputs": [
        {
          "output_type": "stream",
          "name": "stdout",
          "text": [
            "0 0\n",
            "True\n"
          ]
        }
      ]
    },
    {
      "cell_type": "code",
      "source": [
        "#6058\n",
        "#not(A or B) 문제\n",
        "\n",
        "x, y = map(lambda x: bool(int(x)), input().split())\n",
        "print(not(x or y))"
      ],
      "metadata": {
        "colab": {
          "base_uri": "https://localhost:8080/"
        },
        "id": "SmBScJbKvxyz",
        "outputId": "3277f0e5-7e7a-434a-a881-2a2c53840460"
      },
      "execution_count": null,
      "outputs": [
        {
          "output_type": "stream",
          "name": "stdout",
          "text": [
            "0 1\n",
            "False\n"
          ]
        }
      ]
    },
    {
      "cell_type": "code",
      "source": [
        "#6059\n",
        "#비트단위 연산자 ~(bitwise not) 문제\n",
        "#비트단위 연산은 빠른 계산이 필요한 그래픽처리에서도 효과적으로 사용된다.\n",
        "#모든 비트의 1을 0으로, 0을 1로\n",
        "#~n = -n-1\n",
        "\n",
        "print(~(int(input())))"
      ],
      "metadata": {
        "colab": {
          "base_uri": "https://localhost:8080/"
        },
        "id": "3eams6r8wm-R",
        "outputId": "560d5524-ac69-4699-dafe-0b07ec59cc17"
      },
      "execution_count": null,
      "outputs": [
        {
          "output_type": "stream",
          "name": "stdout",
          "text": [
            "2\n",
            "-3\n"
          ]
        }
      ]
    },
    {
      "cell_type": "code",
      "source": [
        "#6060\n",
        "#비트단위 연산자 &(and) 문제\n",
        "\n",
        "x, y = map(int,input().split())\n",
        "print(x & y)"
      ],
      "metadata": {
        "colab": {
          "base_uri": "https://localhost:8080/"
        },
        "id": "sdp0ll-sxySr",
        "outputId": "a0c31ebd-de6d-41f1-8328-26d6cc0a187f"
      },
      "execution_count": null,
      "outputs": [
        {
          "output_type": "stream",
          "name": "stdout",
          "text": [
            "3 5\n",
            "1\n"
          ]
        }
      ]
    },
    {
      "cell_type": "code",
      "source": [
        "#6061\n",
        "#비트 단위 연산자 |(or) 문제\n",
        "\n",
        "x, y = map(int,input().split())\n",
        "print(x | y)"
      ],
      "metadata": {
        "colab": {
          "base_uri": "https://localhost:8080/"
        },
        "id": "HU4xqvfwbdKP",
        "outputId": "3ab4fe46-6054-4d8e-ba58-29b0cb94aab8"
      },
      "execution_count": null,
      "outputs": [
        {
          "output_type": "stream",
          "name": "stdout",
          "text": [
            "3 5\n",
            "7\n"
          ]
        }
      ]
    },
    {
      "cell_type": "code",
      "source": [
        "#6062\n",
        "#비트 단위 연산자 ^(xor) 문제\n",
        "\n",
        "x, y = map(int,input().split())\n",
        "print(x ^ y)"
      ],
      "metadata": {
        "colab": {
          "base_uri": "https://localhost:8080/"
        },
        "id": "00JYoQxzb2wI",
        "outputId": "a63e1175-bb54-4f94-eff1-fa15782b66c9"
      },
      "execution_count": null,
      "outputs": [
        {
          "output_type": "stream",
          "name": "stdout",
          "text": [
            "3 5\n",
            "6\n"
          ]
        }
      ]
    },
    {
      "cell_type": "code",
      "source": [
        "#6063\n",
        "#3항연산자, 둘 중 큰 수 출력\n",
        "\n",
        "x, y = map(int,input().split())\n",
        "print(x if (x>y) else y)"
      ],
      "metadata": {
        "colab": {
          "base_uri": "https://localhost:8080/"
        },
        "id": "ASngii8ucFxF",
        "outputId": "313c10ff-fd72-47ae-a3d5-a0ec41cf9bb7"
      },
      "execution_count": null,
      "outputs": [
        {
          "output_type": "stream",
          "name": "stdout",
          "text": [
            "123 456\n",
            "456\n"
          ]
        }
      ]
    },
    {
      "cell_type": "code",
      "source": [
        "#6064\n",
        "#3항연산자, 가장 작은 수 출력\n",
        "\n",
        "x, y, z = map(int,input().split())\n",
        "print(x if (y if (y<z) else z)>x else (y if (y<z) else z))"
      ],
      "metadata": {
        "colab": {
          "base_uri": "https://localhost:8080/"
        },
        "id": "K9B4J6Tdcsnl",
        "outputId": "0fd39d7a-03e7-4b9d-d25b-266f8f035ae4"
      },
      "execution_count": null,
      "outputs": [
        {
          "output_type": "stream",
          "name": "stdout",
          "text": [
            "3 -1 5\n",
            "-1\n"
          ]
        }
      ]
    },
    {
      "cell_type": "code",
      "source": [
        "#6065\n",
        "#3개 입력받아 짝수만 출력\n",
        "\n",
        "t = (map(int, input().split()))\n",
        "for i in t:\n",
        "    if(i%2==0):\n",
        "        print(i)"
      ],
      "metadata": {
        "colab": {
          "base_uri": "https://localhost:8080/"
        },
        "id": "70XiNL4PfVKa",
        "outputId": "4661d721-34e7-4540-dcc0-f73a68e079c8"
      },
      "execution_count": null,
      "outputs": [
        {
          "output_type": "stream",
          "name": "stdout",
          "text": [
            "1 2 4\n",
            "2\n",
            "4\n"
          ]
        }
      ]
    },
    {
      "cell_type": "code",
      "source": [
        "#6066\n",
        "#정수 3개 입력 받아 짝/홀 출력\n",
        "\n",
        "t = (map(int, input().split()))\n",
        "for i in t:\n",
        "    if(i%2==0):\n",
        "        print(\"even\")\n",
        "    else:\n",
        "        print(\"odd\")"
      ],
      "metadata": {
        "colab": {
          "base_uri": "https://localhost:8080/"
        },
        "id": "3eXNImfagelH",
        "outputId": "a9418d3d-e9ec-4029-907c-56b6f47acf9b"
      },
      "execution_count": null,
      "outputs": [
        {
          "output_type": "stream",
          "name": "stdout",
          "text": [
            "1 2 8\n",
            "odd\n",
            "even\n",
            "even\n"
          ]
        }
      ]
    },
    {
      "cell_type": "code",
      "source": [
        "#6067\n",
        "#정수 입력받아 음,양, 짝,홀 분류\n",
        "\n",
        "x = int(input())\n",
        "\n",
        "if (x<0):\n",
        "    if(x%2 == 0): print(\"A\")\n",
        "    else: print(\"B\")\n",
        "elif (x>0):\n",
        "    if(x%2 == 0): print(\"C\")\n",
        "    else: print(\"D\")"
      ],
      "metadata": {
        "id": "7LZZFzS5hHV8",
        "colab": {
          "base_uri": "https://localhost:8080/"
        },
        "outputId": "6c438a6a-e19f-44c6-8330-107b5bf05901"
      },
      "execution_count": null,
      "outputs": [
        {
          "output_type": "stream",
          "name": "stdout",
          "text": [
            "-2147483648\n",
            "A\n"
          ]
        }
      ]
    },
    {
      "cell_type": "code",
      "source": [
        "#6068\n",
        "#점수 입력 받아 평가 매기기\n",
        "\n",
        "x = int(input())\n",
        "if(90<=x<=100): print('A')\n",
        "if(70<=x<90): print('B')\n",
        "if(40<=x<70): print('C')\n",
        "if(0<=x<40): print('D')"
      ],
      "metadata": {
        "colab": {
          "base_uri": "https://localhost:8080/"
        },
        "id": "zOKgRT1Kzyuq",
        "outputId": "08b3f0b8-a293-46db-9b88-7476739c61dc"
      },
      "execution_count": null,
      "outputs": [
        {
          "output_type": "stream",
          "name": "stdout",
          "text": [
            "73\n",
            "B\n"
          ]
        }
      ]
    },
    {
      "cell_type": "code",
      "source": [
        "#6069\n",
        "#문자입력값마다 다른 문장 출력\n",
        "\n",
        "x = input()\n",
        "if(x == 'A'):\n",
        "    print(\"best!!!\")\n",
        "elif(x == 'B'):\n",
        "    print(\"good!!\")\n",
        "elif(x == 'C'):\n",
        "    print(\"run!\")\n",
        "elif(x==\"D\"):\n",
        "    print(\"slowly~\")\n",
        "else:\n",
        "    print(\"what?\")"
      ],
      "metadata": {
        "colab": {
          "base_uri": "https://localhost:8080/"
        },
        "id": "TnlZD0Od0YmP",
        "outputId": "60afadd2-98a5-4f97-b952-0eed6c473ded"
      },
      "execution_count": null,
      "outputs": [
        {
          "output_type": "stream",
          "name": "stdout",
          "text": [
            "A\n",
            "best!!!\n"
          ]
        }
      ]
    },
    {
      "cell_type": "code",
      "source": [
        "#6070\n",
        "#월 입력받아 계절 출력\n",
        "#패턴을 찾으면 코드를 더 짜기 쉽다\n",
        "x = int(input())\n",
        "\n",
        "if((x//3==0) or (x//3==4)):\n",
        "    print(\"winter\")\n",
        "if(x//3 == 1):\n",
        "    print(\"spring\")\n",
        "if(x//3 == 2):\n",
        "    print(\"summer\")\n",
        "if(x//3 == 3):\n",
        "    print(\"fall\")"
      ],
      "metadata": {
        "colab": {
          "base_uri": "https://localhost:8080/"
        },
        "id": "ycTELoRd1Tbh",
        "outputId": "a38246c7-7d90-4151-9bbb-c0e44014334d"
      },
      "execution_count": null,
      "outputs": [
        {
          "output_type": "stream",
          "name": "stdout",
          "text": [
            "12\n",
            "winter\n"
          ]
        }
      ]
    },
    {
      "cell_type": "code",
      "source": [
        "#6071\n",
        "#0 입력 될 때 까지 무한 입출력\n",
        "\n",
        "while(True):\n",
        "    x=int(input())\n",
        "    if(x==0):\n",
        "        break\n",
        "    print(x)"
      ],
      "metadata": {
        "colab": {
          "base_uri": "https://localhost:8080/"
        },
        "id": "sAOoGKbK2-qF",
        "outputId": "0b0d2fac-4f02-46c1-a866-21d4afd77331"
      },
      "execution_count": null,
      "outputs": [
        {
          "name": "stdout",
          "output_type": "stream",
          "text": [
            "7\n",
            "7\n",
            "4\n",
            "4\n",
            "2\n",
            "2\n",
            "3\n",
            "3\n",
            "0\n"
          ]
        }
      ]
    },
    {
      "cell_type": "code",
      "source": [
        "#6072\n",
        "#정수 1개 입력하고 정수부터 1까지 출력\n",
        "\n",
        "x = int(input())\n",
        "\n",
        "while(x>=1):\n",
        "    print(x)\n",
        "    x -= 1"
      ],
      "metadata": {
        "colab": {
          "base_uri": "https://localhost:8080/"
        },
        "id": "VhnEBLfK4VOX",
        "outputId": "57e070e1-4b78-4079-89c1-9f0755834c87"
      },
      "execution_count": null,
      "outputs": [
        {
          "output_type": "stream",
          "name": "stdout",
          "text": [
            "5\n",
            "5\n",
            "4\n",
            "3\n",
            "2\n",
            "1\n"
          ]
        }
      ]
    },
    {
      "cell_type": "code",
      "source": [
        "#6073\n",
        "#정수 1개 받고 정수-1 부터 0까지 출력\n",
        "\n",
        "x = int(input())\n",
        "\n",
        "while(x>=1):\n",
        "    x -= 1\n",
        "    print(x)\n"
      ],
      "metadata": {
        "colab": {
          "base_uri": "https://localhost:8080/"
        },
        "id": "kHZLgh5b40FI",
        "outputId": "b21da525-6419-40c8-c9fb-5c2a3641c479"
      },
      "execution_count": null,
      "outputs": [
        {
          "output_type": "stream",
          "name": "stdout",
          "text": [
            "5\n",
            "4\n",
            "3\n",
            "2\n",
            "1\n",
            "0\n"
          ]
        }
      ]
    },
    {
      "cell_type": "code",
      "source": [
        "#6074\n",
        "#문자 1개 받아서 a 부터 받은 문자까지 출력\n",
        "\n",
        "x = ord(input())\n",
        "y = ord('a')\n",
        "while(x>=y):\n",
        "    print(chr(y), end=\" \")\n",
        "    y += 1"
      ],
      "metadata": {
        "colab": {
          "base_uri": "https://localhost:8080/"
        },
        "id": "MONNDamg5XNp",
        "outputId": "84b91010-f2da-48c6-dfdf-3fcf1a68ce96"
      },
      "execution_count": null,
      "outputs": [
        {
          "output_type": "stream",
          "name": "stdout",
          "text": [
            "f\n",
            "a b c d e f "
          ]
        }
      ]
    },
    {
      "cell_type": "code",
      "source": [
        "#6075\n",
        "#0에서 입력받은 정수까지 출력\n",
        "\n",
        "x = int(input())\n",
        "i=0\n",
        "while(x >= i):\n",
        "    print(i)\n",
        "    i+=1"
      ],
      "metadata": {
        "colab": {
          "base_uri": "https://localhost:8080/"
        },
        "id": "OPoDeJXc685M",
        "outputId": "987bed62-70e3-4ef1-95d1-068cd9cef4b0"
      },
      "execution_count": null,
      "outputs": [
        {
          "output_type": "stream",
          "name": "stdout",
          "text": [
            "4\n",
            "0\n",
            "1\n",
            "2\n",
            "3\n",
            "4\n"
          ]
        }
      ]
    },
    {
      "cell_type": "code",
      "source": [
        "#6076\n",
        "#for문으로 6075번 풀기\n",
        "\n",
        "x = int(input())\n",
        "for i in range(x+1):\n",
        "    print(i)"
      ],
      "metadata": {
        "colab": {
          "base_uri": "https://localhost:8080/"
        },
        "id": "fsG-VnMQ7ciP",
        "outputId": "d7c87cbe-d882-4c7f-ab8b-74dbff9cb5e1"
      },
      "execution_count": null,
      "outputs": [
        {
          "output_type": "stream",
          "name": "stdout",
          "text": [
            "4\n",
            "0\n",
            "1\n",
            "2\n",
            "3\n",
            "4\n"
          ]
        }
      ]
    },
    {
      "cell_type": "code",
      "source": [
        "#6077\n",
        "#1부터 입력받은 정수 까지의 짝수 합\n",
        "#코랩에서는 if랑 for문이랑 같이쓰는게 안 되는 것 같다...\n",
        "\n",
        "x= int(input())\n",
        "sum = 0\n",
        "for i in range(x+1):\n",
        "    sum+= i if i%2==0 else 0\n",
        "print(sum)"
      ],
      "metadata": {
        "colab": {
          "base_uri": "https://localhost:8080/"
        },
        "id": "zV6nwv-S7vAs",
        "outputId": "4ba70b7d-afda-4861-d77a-17fd00f1fc75"
      },
      "execution_count": null,
      "outputs": [
        {
          "output_type": "stream",
          "name": "stdout",
          "text": [
            "5\n",
            "6\n"
          ]
        }
      ]
    },
    {
      "cell_type": "code",
      "source": [
        "#6078\n",
        "#q입력 전까지 문자 계속 출력(출력에 q 포함)\n",
        "\n",
        "while(True):\n",
        "    x = input()\n",
        "    print(x)\n",
        "    if(x=='q'):\n",
        "        break"
      ],
      "metadata": {
        "colab": {
          "base_uri": "https://localhost:8080/"
        },
        "id": "lHLF-13w-5ee",
        "outputId": "97c46f7b-e3c9-4421-d004-79593410969b"
      },
      "execution_count": null,
      "outputs": [
        {
          "output_type": "stream",
          "name": "stdout",
          "text": [
            "x\n",
            "x\n",
            "b\n",
            "b\n",
            "k\n",
            "k\n",
            "d\n",
            "d\n",
            "l\n",
            "l\n",
            "q\n",
            "q\n"
          ]
        }
      ]
    },
    {
      "cell_type": "code",
      "source": [
        "#6079\n",
        "#n을 입력받고, 1부터 쭉 더했을 때 언제 n값이 나오는지 구하기\n",
        "\n",
        "x=int(input())\n",
        "sum=0\n",
        "i=0\n",
        "while(sum<x): #언제까지 더할 것인지!\n",
        "    sum+=i+1\n",
        "    i+=1\n",
        "print(i)"
      ],
      "metadata": {
        "colab": {
          "base_uri": "https://localhost:8080/"
        },
        "id": "WOaTbtYM_VeV",
        "outputId": "bc5526a6-c691-4a94-ae95-4a387bcd6e0a"
      },
      "execution_count": null,
      "outputs": [
        {
          "output_type": "stream",
          "name": "stdout",
          "text": [
            "55\n",
            "10\n"
          ]
        }
      ]
    },
    {
      "cell_type": "code",
      "source": [
        "#6080\n",
        "#주사위 2개 던졌을 때 나올 수 있는 경우의 수\n",
        "\n",
        "x, y =map(int,input().split())\n",
        "\n",
        "for i in range(1, x+1):\n",
        "    for j in range(1, y+1):\n",
        "        print(i, j)"
      ],
      "metadata": {
        "colab": {
          "base_uri": "https://localhost:8080/"
        },
        "id": "Dsg_SObGBX5T",
        "outputId": "5300a617-d013-4da8-dda8-2e6d03911533"
      },
      "execution_count": null,
      "outputs": [
        {
          "output_type": "stream",
          "name": "stdout",
          "text": [
            "2 3\n",
            "1 1\n",
            "1 2\n",
            "1 3\n",
            "2 1\n",
            "2 2\n",
            "2 3\n"
          ]
        }
      ]
    },
    {
      "cell_type": "code",
      "source": [
        "#6081\n",
        "#16진수 구단 출력\n",
        "\n",
        "x=int(input(),16)\n",
        "\n",
        "#hex()는 결과를 string 값으로 반환해 준다.\n",
        "for i in range(1, 16):\n",
        "    print(\"{0:X}*{1:X}={2:X}\".format(x, i, x*i))"
      ],
      "metadata": {
        "colab": {
          "base_uri": "https://localhost:8080/"
        },
        "id": "mpCd4-A3_hNd",
        "outputId": "9320190e-3fd7-46d2-cac5-41e08053dc27"
      },
      "execution_count": null,
      "outputs": [
        {
          "output_type": "stream",
          "name": "stdout",
          "text": [
            "B\n",
            "11\n",
            "B*1=B\n",
            "B*2=16\n",
            "B*3=21\n",
            "B*4=2C\n",
            "B*5=37\n",
            "B*6=42\n",
            "B*7=4D\n",
            "B*8=58\n",
            "B*9=63\n",
            "B*A=6E\n",
            "B*B=79\n",
            "B*C=84\n",
            "B*D=8F\n",
            "B*E=9A\n",
            "B*F=A5\n"
          ]
        }
      ]
    },
    {
      "cell_type": "code",
      "source": [
        "#6082\n",
        "#3 6 9 게임 (30보다 작은 정수 입력)\n",
        "\n",
        "x = int(input())\n",
        "\n",
        "for i in range(1, x+1):\n",
        "    print('X', end=' ') if ((i%10!=0) and (i%10)%3==0) else print(i, end=' ')"
      ],
      "metadata": {
        "colab": {
          "base_uri": "https://localhost:8080/"
        },
        "id": "X7jSHAjPHNKR",
        "outputId": "feef20b7-5114-43b5-ccab-ff1da42bb8d9"
      },
      "execution_count": null,
      "outputs": [
        {
          "output_type": "stream",
          "name": "stdout",
          "text": [
            "29\n",
            "1 2 X 4 5 X 7 8 X 10 11 12 X 14 15 X 17 18 X 20 21 22 X 24 25 X 27 28 X "
          ]
        }
      ]
    },
    {
      "cell_type": "code",
      "source": [
        "#6083\n",
        "#r, g, b값 받고 모든 경우의 조합 출력\n",
        "\n",
        "x, y, z = map(int,input().split())\n",
        "total=0\n",
        "\n",
        "for i in range(x):\n",
        "    for j in range(y):\n",
        "        for k in range(z):\n",
        "            print(i,j,k)\n",
        "            total+=1\n",
        "print(total)"
      ],
      "metadata": {
        "colab": {
          "base_uri": "https://localhost:8080/"
        },
        "id": "RwRNSTETLVUf",
        "outputId": "1e06e97d-a5d1-4a21-cf8c-3a3bc655c6bb"
      },
      "execution_count": null,
      "outputs": [
        {
          "output_type": "stream",
          "name": "stdout",
          "text": [
            "2 2 2\n",
            "0 0 0\n",
            "0 0 1\n",
            "0 1 0\n",
            "0 1 1\n",
            "1 0 0\n",
            "1 0 1\n",
            "1 1 0\n",
            "1 1 1\n",
            "8\n"
          ]
        }
      ]
    },
    {
      "cell_type": "code",
      "source": [
        "#6084\n",
        "#소리 파일 저장 용량 계산\n",
        "\n",
        "h, b, c, s = map(float,input().split(\" \"))\n",
        "\n",
        "print(\"{0:.1f} MB\".format((h*b*c*s)/8./1024./1024.))"
      ],
      "metadata": {
        "colab": {
          "base_uri": "https://localhost:8080/"
        },
        "id": "ItvTpmLAMwKK",
        "outputId": "9342d2b3-c25c-4731-80b5-419053546bfd"
      },
      "execution_count": null,
      "outputs": [
        {
          "output_type": "stream",
          "name": "stdout",
          "text": [
            "44100 16 2 10\n",
            "1.7 MB\n"
          ]
        }
      ]
    },
    {
      "cell_type": "code",
      "source": [
        "#6085\n",
        "#그림 파일 저장 용량 계산\n",
        "\n",
        "w, h, b = map(float,input().split(\" \"))\n",
        "\n",
        "print(\"{0:.2f} MB\".format((w*h*b)/8./1024./1024.))"
      ],
      "metadata": {
        "colab": {
          "base_uri": "https://localhost:8080/"
        },
        "id": "P7FPX96nR-3h",
        "outputId": "44f4c62a-ea78-4e6d-e7ae-6c3ee9a6007d"
      },
      "execution_count": null,
      "outputs": [
        {
          "output_type": "stream",
          "name": "stdout",
          "text": [
            "1024 768 24\n",
            "2.25 MB\n"
          ]
        }
      ]
    },
    {
      "cell_type": "code",
      "source": [
        "#6086\n",
        "#1부터 쭉 더하다가 그 합이 입력된 정수보다 커지거나 같아지는 경우, 그때까지의 합을 출력\n",
        "\n",
        "x = int(input())\n",
        "sum = 0\n",
        "i=1\n",
        "while(x>sum):\n",
        "    sum+=i\n",
        "    i+=1\n",
        "\n",
        "print(sum)"
      ],
      "metadata": {
        "colab": {
          "base_uri": "https://localhost:8080/"
        },
        "id": "kjDwR1H0SjZz",
        "outputId": "48891e52-abef-445c-bcba-e05192f9ef66"
      },
      "execution_count": null,
      "outputs": [
        {
          "output_type": "stream",
          "name": "stdout",
          "text": [
            "57\n",
            "66\n"
          ]
        }
      ]
    },
    {
      "cell_type": "code",
      "source": [
        "#6087\n",
        "#3의 배수는 빼고 출력 (continue문제)\n",
        "\n",
        "x = int(input())\n",
        "\n",
        "for i in range(1, x+1):\n",
        "    if(i%3==0):\n",
        "        continue\n",
        "    print(i, end=' ')"
      ],
      "metadata": {
        "colab": {
          "base_uri": "https://localhost:8080/"
        },
        "id": "FG0VhSeeUSWI",
        "outputId": "3d98a514-5b78-4e7f-bdc6-d46a516a36a6"
      },
      "execution_count": null,
      "outputs": [
        {
          "output_type": "stream",
          "name": "stdout",
          "text": [
            "10\n",
            "1 2 4 5 7 8 10 "
          ]
        }
      ]
    },
    {
      "cell_type": "code",
      "source": [
        "#6088\n",
        "#등차수열 문제\n",
        "\n",
        "#split()과 split(' ')는 다르다\n",
        "#split() 공백을 퉁쳐서 한 번에 처리\n",
        "#split(' ') 공백을 하나하나의 문자로 인식\n",
        "#예로, \"a b  c \"가 들어오면,\n",
        "#split() => ['a','b','c']\n",
        "#split(\" \") => ['a', ' ', 'b', ' ', ' ', 'c']\n",
        "#tab, 개행문자가 들어왔을 때도 마찬가지로 인식.\n",
        "\n",
        "a, d, n = map(int, input().split())\n",
        "\n",
        "print(a+(d*(n-1)))"
      ],
      "metadata": {
        "colab": {
          "base_uri": "https://localhost:8080/"
        },
        "id": "JeVYol3WU0KL",
        "outputId": "88133113-cc54-43b0-ef51-98d61dc9c377"
      },
      "execution_count": null,
      "outputs": [
        {
          "output_type": "stream",
          "name": "stdout",
          "text": [
            "1 3 2\n",
            "4\n"
          ]
        }
      ]
    },
    {
      "cell_type": "code",
      "source": [
        "#6089\n",
        "#등비수열 문제\n",
        "\n",
        "a, r, n = map(int, input().split())\n",
        "\n",
        "print(a*(r**(n-1)))"
      ],
      "metadata": {
        "colab": {
          "base_uri": "https://localhost:8080/"
        },
        "id": "sOu8LzZ8WJzg",
        "outputId": "5de94a55-68f6-4299-f4aa-415089e8724e"
      },
      "execution_count": null,
      "outputs": [
        {
          "output_type": "stream",
          "name": "stdout",
          "text": [
            "2 3 7\n",
            "1458\n"
          ]
        }
      ]
    },
    {
      "cell_type": "code",
      "source": [
        "#6090\n",
        "a, m, d, n = map(int, input().split())\n",
        "\n",
        "for i in range(n-1):\n",
        "    a= a*(m)+d\n",
        "print(a)"
      ],
      "metadata": {
        "colab": {
          "base_uri": "https://localhost:8080/"
        },
        "id": "7hKNQTyJY-yX",
        "outputId": "815d44fa-0c91-40f7-9b0a-053252e08577"
      },
      "execution_count": null,
      "outputs": [
        {
          "output_type": "stream",
          "name": "stdout",
          "text": [
            "1 -2 1 8\n",
            "-85\n"
          ]
        }
      ]
    },
    {
      "cell_type": "code",
      "source": [
        "#6091\n",
        "#3가지 수의 최소공배수\n",
        "\n",
        "#a, b의 최소공배수와 c의 최소공배수 = a, b, c의 최소공배수\n",
        "#a * b = 최소공배수 * 최소공약수\n",
        "import math\n",
        "\n",
        "a, b, c = map(int, input().split())\n",
        "\n",
        "gcd = math.gcd(a,b)\n",
        "x = ((a*b)//gcd)\n",
        "gcd = math.gcd(x, c)\n",
        "\n",
        "print(((x*c)//gcd))"
      ],
      "metadata": {
        "id": "IJlyPL7xe8Tk",
        "colab": {
          "base_uri": "https://localhost:8080/"
        },
        "outputId": "b6ad524f-26a5-44da-a86c-b7904e068a7e"
      },
      "execution_count": null,
      "outputs": [
        {
          "output_type": "stream",
          "name": "stdout",
          "text": [
            "3 7 9\n",
            "63\n"
          ]
        }
      ]
    },
    {
      "cell_type": "code",
      "source": [
        "#6092\n",
        "\n",
        "#colab에서는 sys.stdin.readline()이 안 된다.\n",
        "student = [0 for _ in range(23)]\n",
        "n = int(input())\n",
        "\n",
        "x = list(map(int, input().split()))\n",
        "#x = [map(int, input().split())] => map 객체를 하나의 리스트로 묶어버린다. len(x)도 1.\n",
        "\n",
        "if(len(x) == n):\n",
        "    for i in x:\n",
        "        student[i-1] += 1\n",
        "\n",
        "    print(*student)"
      ],
      "metadata": {
        "colab": {
          "base_uri": "https://localhost:8080/"
        },
        "id": "gBi0Kv6nlG8b",
        "outputId": "3cf4c5e9-d456-4a35-b4f0-f88738427568"
      },
      "execution_count": null,
      "outputs": [
        {
          "output_type": "stream",
          "name": "stdout",
          "text": [
            "10\n",
            "1 3 2 2 5 6 7 4 5 9\n",
            "1 2 1 1 2 1 1 0 1 0 0 0 0 0 0 0 0 0 0 0 0 0 0\n"
          ]
        }
      ]
    },
    {
      "cell_type": "code",
      "source": [
        "#6093\n",
        "#순서를 반대로 출력\n",
        "\n",
        "n = int(input())\n",
        "\n",
        "x = list(map(int, input().split()))\n",
        "\n",
        "if(len(x)==n):\n",
        "    for i in range(n-1, -1, -1):\n",
        "        print(x[i], end=\" \")\n"
      ],
      "metadata": {
        "colab": {
          "base_uri": "https://localhost:8080/"
        },
        "id": "DiAiRJD05_aV",
        "outputId": "631d7ba4-27ea-4915-ab0c-4226319d9f05"
      },
      "execution_count": null,
      "outputs": [
        {
          "output_type": "stream",
          "name": "stdout",
          "text": [
            "10\n",
            "10 4 2 3 6 6 7 9 8 5\n",
            "5 8 9 7 6 6 3 2 4 10 "
          ]
        }
      ]
    },
    {
      "cell_type": "code",
      "source": [
        "#6094\n",
        "#최소값 출력\n",
        "\n",
        "n = int(input())\n",
        "\n",
        "x = list(map(int, input().split()))\n",
        "\n",
        "if(len(x)==n):\n",
        "    print(min(x))"
      ],
      "metadata": {
        "colab": {
          "base_uri": "https://localhost:8080/"
        },
        "id": "uhigxgu2_fTS",
        "outputId": "85a6177b-afb2-4c89-b846-b373ea667989"
      },
      "execution_count": null,
      "outputs": [
        {
          "output_type": "stream",
          "name": "stdout",
          "text": [
            "10\n",
            "10 4 2 3 6 6 7 9 8 5\n",
            "2\n"
          ]
        }
      ]
    },
    {
      "cell_type": "code",
      "source": [
        "#6095\n",
        "\n",
        "board = [[0]*19 for col in range(19)]\n",
        "\n",
        "n= int(input())\n",
        "\n",
        "for _ in range(n):\n",
        "    x,y = map(int, input().split())\n",
        "    board[x-1][y-1] = 1\n",
        "\n",
        "for i in range(19): #0~18까지여서 총 19개라는 것을 명심해라...\n",
        "    print(*board[i])"
      ],
      "metadata": {
        "colab": {
          "base_uri": "https://localhost:8080/"
        },
        "id": "pNrP58Ke_7Tp",
        "outputId": "a69e6067-d63a-47d8-8304-40d283f795c2"
      },
      "execution_count": null,
      "outputs": [
        {
          "output_type": "stream",
          "name": "stdout",
          "text": [
            "5\n",
            "1 1\n",
            "2 2\n",
            "3 3\n",
            "4 4\n",
            "5 5\n",
            "1 0 0 0 0 0 0 0 0 0 0 0 0 0 0 0 0 0 0\n",
            "0 1 0 0 0 0 0 0 0 0 0 0 0 0 0 0 0 0 0\n",
            "0 0 1 0 0 0 0 0 0 0 0 0 0 0 0 0 0 0 0\n",
            "0 0 0 1 0 0 0 0 0 0 0 0 0 0 0 0 0 0 0\n",
            "0 0 0 0 1 0 0 0 0 0 0 0 0 0 0 0 0 0 0\n",
            "0 0 0 0 0 0 0 0 0 0 0 0 0 0 0 0 0 0 0\n",
            "0 0 0 0 0 0 0 0 0 0 0 0 0 0 0 0 0 0 0\n",
            "0 0 0 0 0 0 0 0 0 0 0 0 0 0 0 0 0 0 0\n",
            "0 0 0 0 0 0 0 0 0 0 0 0 0 0 0 0 0 0 0\n",
            "0 0 0 0 0 0 0 0 0 0 0 0 0 0 0 0 0 0 0\n",
            "0 0 0 0 0 0 0 0 0 0 0 0 0 0 0 0 0 0 0\n",
            "0 0 0 0 0 0 0 0 0 0 0 0 0 0 0 0 0 0 0\n",
            "0 0 0 0 0 0 0 0 0 0 0 0 0 0 0 0 0 0 0\n",
            "0 0 0 0 0 0 0 0 0 0 0 0 0 0 0 0 0 0 0\n",
            "0 0 0 0 0 0 0 0 0 0 0 0 0 0 0 0 0 0 0\n",
            "0 0 0 0 0 0 0 0 0 0 0 0 0 0 0 0 0 0 0\n",
            "0 0 0 0 0 0 0 0 0 0 0 0 0 0 0 0 0 0 0\n",
            "0 0 0 0 0 0 0 0 0 0 0 0 0 0 0 0 0 0 0\n",
            "0 0 0 0 0 0 0 0 0 0 0 0 0 0 0 0 0 0 0\n"
          ]
        }
      ]
    },
    {
      "cell_type": "code",
      "source": [
        "#6096\n",
        "\n",
        "board = [(list(map(int, input().split()))) for _ in range(19)]\n",
        "\n",
        "n= int(input())\n",
        "\n",
        "for _ in range(n):\n",
        "    x,y = map(int, input().split())\n",
        "\n",
        "    for i in range(19):\n",
        "        board[i][y-1] = ((board[i][y-1])+1)%2\n",
        "        board[x-1][i] = (board[x-1][i]+1)%2\n",
        "\n",
        "for i in range(19):\n",
        "    print(*board[i])"
      ],
      "metadata": {
        "colab": {
          "base_uri": "https://localhost:8080/"
        },
        "id": "fVIPyMzdFJb1",
        "outputId": "855fe97e-c56a-47b5-b4ae-22627fae8417"
      },
      "execution_count": null,
      "outputs": [
        {
          "output_type": "stream",
          "name": "stdout",
          "text": [
            "0 0 0 0 0 0 0 0 0 1 0 1 0 0 0 0 0 0 0\n",
            "0 0 0 0 0 0 0 0 0 1 0 1 0 0 0 0 0 0 0\n",
            "0 0 0 0 0 0 0 0 0 1 0 1 0 0 0 0 0 0 0\n",
            "0 0 0 0 0 0 0 0 0 1 0 1 0 0 0 0 0 0 0\n",
            "0 0 0 0 0 0 0 0 0 1 0 1 0 0 0 0 0 0 0\n",
            "0 0 0 0 0 0 0 0 0 1 0 1 0 0 0 0 0 0 0\n",
            "0 0 0 0 0 0 0 0 0 1 0 1 0 0 0 0 0 0 0\n",
            "0 0 0 0 0 0 0 0 0 1 0 1 0 0 0 0 0 0 0\n",
            "0 0 0 0 0 0 0 0 0 1 0 1 0 0 0 0 0 0 0\n",
            "1 1 1 1 1 1 1 1 1 1 1 1 1 1 1 1 1 1 1\n",
            "0 0 0 0 0 0 0 0 0 1 0 1 0 0 0 0 0 0 0\n",
            "1 1 1 1 1 1 1 1 1 1 1 1 1 1 1 1 1 1 1\n",
            "0 0 0 0 0 0 0 0 0 1 0 1 0 0 0 0 0 0 0\n",
            "0 0 0 0 0 0 0 0 0 1 0 1 0 0 0 0 0 0 0\n",
            "0 0 0 0 0 0 0 0 0 1 0 1 0 0 0 0 0 0 0\n",
            "0 0 0 0 0 0 0 0 0 1 0 1 0 0 0 0 0 0 0\n",
            "0 0 0 0 0 0 0 0 0 1 0 1 0 0 0 0 0 0 0\n",
            "0 0 0 0 0 0 0 0 0 1 0 1 0 0 0 0 0 0 0\n",
            "0 0 0 0 0 0 0 0 0 1 0 1 0 0 0 0 0 0 0\n",
            "2\n",
            "10 10\n",
            "10 19 19\n",
            "12 12\n",
            "12 19 19\n",
            "0 0 0 0 0 0 0 0 0 0 0 0 0 0 0 0 0 0 0\n",
            "0 0 0 0 0 0 0 0 0 0 0 0 0 0 0 0 0 0 0\n",
            "0 0 0 0 0 0 0 0 0 0 0 0 0 0 0 0 0 0 0\n",
            "0 0 0 0 0 0 0 0 0 0 0 0 0 0 0 0 0 0 0\n",
            "0 0 0 0 0 0 0 0 0 0 0 0 0 0 0 0 0 0 0\n",
            "0 0 0 0 0 0 0 0 0 0 0 0 0 0 0 0 0 0 0\n",
            "0 0 0 0 0 0 0 0 0 0 0 0 0 0 0 0 0 0 0\n",
            "0 0 0 0 0 0 0 0 0 0 0 0 0 0 0 0 0 0 0\n",
            "0 0 0 0 0 0 0 0 0 0 0 0 0 0 0 0 0 0 0\n",
            "0 0 0 0 0 0 0 0 0 1 0 1 0 0 0 0 0 0 0\n",
            "0 0 0 0 0 0 0 0 0 0 0 0 0 0 0 0 0 0 0\n",
            "0 0 0 0 0 0 0 0 0 1 0 1 0 0 0 0 0 0 0\n",
            "0 0 0 0 0 0 0 0 0 0 0 0 0 0 0 0 0 0 0\n",
            "0 0 0 0 0 0 0 0 0 0 0 0 0 0 0 0 0 0 0\n",
            "0 0 0 0 0 0 0 0 0 0 0 0 0 0 0 0 0 0 0\n",
            "0 0 0 0 0 0 0 0 0 0 0 0 0 0 0 0 0 0 0\n",
            "0 0 0 0 0 0 0 0 0 0 0 0 0 0 0 0 0 0 0\n",
            "0 0 0 0 0 0 0 0 0 0 0 0 0 0 0 0 0 0 0\n",
            "0 0 0 0 0 0 0 0 0 0 0 0 0 0 0 0 0 0 0\n"
          ]
        }
      ]
    },
    {
      "cell_type": "code",
      "source": [
        "#6097\n",
        "\n",
        "h,w = map(int, input().split())\n",
        "board = [[0]*w for _ in range(h)]\n",
        "\n",
        "n= int(input())\n",
        "\n",
        "for _ in range(n):\n",
        "    l,d,x,y = map(int, input().split())\n",
        "    for i in range(l):\n",
        "        if(d==0):\n",
        "            board[x-1][y-1+i] = 1\n",
        "        elif(d==1):\n",
        "            board[x-1+i][y-1] = 1\n",
        "\n",
        "for _ in range(h):\n",
        "    print(*board[_])"
      ],
      "metadata": {
        "colab": {
          "base_uri": "https://localhost:8080/"
        },
        "id": "QFA3hXnzK-xf",
        "outputId": "8bcae1b2-cd7c-4fb0-ec56-288133f5831b"
      },
      "execution_count": null,
      "outputs": [
        {
          "output_type": "stream",
          "name": "stdout",
          "text": [
            "5 5\n",
            "3\n",
            "2 0 1 1\n",
            "3 1 2 3\n",
            "4 1 2 5\n",
            "1 1 0 0 0\n",
            "0 0 1 0 1\n",
            "0 0 1 0 1\n",
            "0 0 1 0 1\n",
            "0 0 0 0 1\n"
          ]
        }
      ]
    },
    {
      "cell_type": "code",
      "source": [
        "#6098\n",
        "\n",
        "maze = [list(map(int,input().split())) for _ in range(10)]\n",
        "\n",
        "now_x = 1\n",
        "now_y = 1\n",
        "\n",
        "while(maze[now_x][now_y]!=2):\n",
        "    if(now_y == 9):\n",
        "        break\n",
        "    if (maze[now_x][now_y+1] != 1):\n",
        "        maze[now_x][now_y] = 9\n",
        "        now_y += 1\n",
        "    elif(maze[now_x][now_y+1] == 1):\n",
        "        if(now_x == 9):\n",
        "           break\n",
        "        if(maze[now_x+1][now_y] != 1):\n",
        "            maze[now_x][now_y] = 9\n",
        "            now_x += 1\n",
        "        elif(maze[now_x+1][now_y] == 1):\n",
        "            break\n",
        "\n",
        "\n",
        "maze[now_x][now_y] = 9\n",
        "\n",
        "for _ in range(10):\n",
        "    print(*maze[_])"
      ],
      "metadata": {
        "colab": {
          "base_uri": "https://localhost:8080/"
        },
        "id": "6BZYbmUOTlTB",
        "outputId": "905c7909-0f64-45fc-d6b6-06ce4422918a"
      },
      "execution_count": null,
      "outputs": [
        {
          "output_type": "stream",
          "name": "stdout",
          "text": [
            "1 1 1 1 1 1 1 1 1 1\n",
            "1 0 1 1 1 1 1 1 1 1\n",
            "1 0 0 1 1 1 1 1 1 1\n",
            "1 1 1 1 1 1 1 1 1 1\n",
            "1 1 1 1 1 1 1 1 1 1\n",
            "1 1 1 1 1 1 1 1 1 1\n",
            "1 1 1 1 1 1 1 1 1 1\n",
            "1 1 1 1 1 1 1 1 1 1\n",
            "1 1 1 1 1 1 1 1 1 1\n",
            "1 1 1 1 1 1 1 1 1 1\n",
            "1 1 1 1 1 1 1 1 1 1\n",
            "1 9 1 1 1 1 1 1 1 1\n",
            "1 9 9 1 1 1 1 1 1 1\n",
            "1 1 1 1 1 1 1 1 1 1\n",
            "1 1 1 1 1 1 1 1 1 1\n",
            "1 1 1 1 1 1 1 1 1 1\n",
            "1 1 1 1 1 1 1 1 1 1\n",
            "1 1 1 1 1 1 1 1 1 1\n",
            "1 1 1 1 1 1 1 1 1 1\n",
            "1 1 1 1 1 1 1 1 1 1\n"
          ]
        }
      ]
    }
  ]
}