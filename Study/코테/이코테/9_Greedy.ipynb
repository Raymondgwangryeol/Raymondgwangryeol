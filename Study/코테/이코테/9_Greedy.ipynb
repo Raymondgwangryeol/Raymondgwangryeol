{
  "nbformat": 4,
  "nbformat_minor": 0,
  "metadata": {
    "colab": {
      "provenance": [],
      "authorship_tag": "ABX9TyOFdtcem0SNcXbBNHuDzjdS",
      "include_colab_link": true
    },
    "kernelspec": {
      "name": "python3",
      "display_name": "Python 3"
    },
    "language_info": {
      "name": "python"
    }
  },
  "cells": [
    {
      "cell_type": "markdown",
      "metadata": {
        "id": "view-in-github",
        "colab_type": "text"
      },
      "source": [
        "<a href=\"https://colab.research.google.com/github/Raymondgwangryeol/Raymondgwangryeol/blob/main/%EC%BD%94%ED%85%8C/%EC%9D%B4%EC%BD%94%ED%85%8C/9_Greedy.ipynb\" target=\"_parent\"><img src=\"https://colab.research.google.com/assets/colab-badge.svg\" alt=\"Open In Colab\"/></a>"
      ]
    },
    {
      "cell_type": "markdown",
      "source": [
        "    📚공부 자료\n",
        "        ✔0_velog 안영우님 \"이것이 코딩테스트다\" 시리즈   \n",
        "        ✔yeahxne.log Yewon Kim님 \"[이코테 2021]\" 시리즈\n",
        "## **9. 그리디(Greedy) 알고리즘(탐욕법)**\n",
        "\n",
        "\n",
        "---\n",
        "\n",
        "\n",
        "말 그대로, 무식하고 탐욕적으로 문제를 접근하는 방식인데, 여기서 **탐욕적**이라는 건 **현 상황에서 당장 가장 좋아 보이는**(좋아 보인다고 했지 진짜 좋다고는 안 했다)**것만 고르는 것**을 말함. 가장 좋아보이는 길만 선택했는데 **오히려 돌아가야되는 상황이 생길 수도** 있음.\n",
        "\n",
        "&nbsp;&nbsp;&nbsp;&nbsp; 👉 개인의 문제 해결 능력(창의성) 요구\n",
        "<br><br>\n",
        "\n",
        "제일 탐스러운 놈을 고르는 알고리즘이기 때문에, 앞으로 다룰 알고리즘처럼 구조를 사전에 외우고 있지 않아도 풀 가능성이 높음!\n",
        "\n",
        "\n",
        "\n",
        "> 1. 최종 해답을 찾기 위해 **각 단계마다 하나의 답을 고름**.\n",
        "2. 각 단계에서 답 고를 때 **가장 좋아보이는 놈 선택**(스껄하게 미래를 고려하지 않음)\n",
        "3. 선택 당시 가장 좋아보이는 놈을 고르지만, **최종 해답이 반드시 최적의 답임을 보증하지 않음**\n",
        "\n",
        "<br>\n",
        "\n",
        "그리디 알고리즘 문제 같은 경우, 기준에 따라 좋아 보이는 것을 선택하는 알고리즘이기 때문에, 문제에서 **'가장 큰 순서대로', '가장 작은 순서대로'와 같은 기준을 은은하게 제시**해줌. 이런 문제는 **정렬**을 사용하면 풀수 있기 때문에, 정렬 알고리즘이랑 짝을 이뤄 출제됨. **문제 잘 읽어라ㅏㅏ!!!!!!!!!!**\n",
        "\n",
        "<br>\n",
        "\n",
        "만약 특정 코테 문제를 딱 봤을 때 **바로 문제 유형이 떠오르지 않는다면**, **그리디 알고리즘을 의심**해보고, 해결법이 있는지 참고해보기. 그래도 찾기 어려우면 **다이나믹 프로그래밍이나 그래프 알고리즘 등**으로 문제 풀수 있는지 다시 한 번 고민해보기!"
      ],
      "metadata": {
        "id": "1Ku67VO51-Pl"
      }
    },
    {
      "cell_type": "markdown",
      "source": [
        "### **[이코테 문제1] 1이 될 때 까지**\n",
        "어떠한 수 N이 1이 될 때까지 다음의 두 과정 중 하나를 반복적으로 선택하여 수행하려고 한다. 단, 두 번째 연산은 N이 K로 나누어떨어질 때만 선택할 수 있다.\n",
        "\n",
        ">1. N에서 1을 뺀다.\n",
        "2. N을 K로 나눈다.\n",
        "\n",
        "N과 K가 주어질 때, N이 1이 될 때까지 1번 혹은 2번의 과정을 수행해야 하는 최소 횟수를 구하는 프로그램을 작성하시오."
      ],
      "metadata": {
        "id": "UCN5ByNRASY0"
      }
    },
    {
      "cell_type": "code",
      "source": [
        "#N을 K로 나누는 게 더 좋다\n",
        "\n",
        "cnt = 0\n",
        "n, k = map(int, input().split())\n",
        "\n",
        "while(n>=k):\n",
        "    cnt+=1\n",
        "    n = n-k\n",
        "\n",
        "print(cnt)"
      ],
      "metadata": {
        "colab": {
          "base_uri": "https://localhost:8080/"
        },
        "id": "_5E_eUm1BVk0",
        "outputId": "5027793a-31c6-4153-ff54-6d66f09b37e9"
      },
      "execution_count": null,
      "outputs": [
        {
          "output_type": "stream",
          "name": "stdout",
          "text": [
            "20 5\n",
            "4\n"
          ]
        }
      ]
    },
    {
      "cell_type": "markdown",
      "source": [
        "### **[이코테 문제2] 곱하기 혹은 더하기**\n",
        "첫째 줄에 0부터 9사이의 숫자로 이루어진 하나의 문자열 S가 입력된다.(1 <= S길이 <= 20)\n",
        "\n",
        "각각의 숫자 사이에 왼쪽부터 오른쪽 순으로 곱하기나 더하기를 해서 만들어 질 수 있는 수 중 가장 큰 수를 구하는 프로그램을 작성하시오."
      ],
      "metadata": {
        "id": "GV57834tDFuZ"
      }
    },
    {
      "cell_type": "code",
      "source": [
        "data =input()\n",
        "result=int(data[0])\n",
        "\n",
        "for i in range(1,len(data)):\n",
        "    if(int(data[i-1]) < 2):\n",
        "        result+=int(data[i])\n",
        "    else:\n",
        "        result*=int(data[i])\n",
        "\n",
        "print(result)"
      ],
      "metadata": {
        "colab": {
          "base_uri": "https://localhost:8080/"
        },
        "id": "xgb77EHPEuPL",
        "outputId": "b6f21949-2556-49e7-c6de-25d1b8646519"
      },
      "execution_count": null,
      "outputs": [
        {
          "output_type": "stream",
          "name": "stdout",
          "text": [
            "01234\n",
            "36\n"
          ]
        }
      ]
    },
    {
      "cell_type": "markdown",
      "source": [
        "### **[이코테 문제3] 모험가 길드**\n",
        "첫째 줄에 모험가의 수 N이 주어진다. (1 <= N <= 100000)\n",
        "\n",
        "둘쩨 줄에 각 모험가의 공포도 값이 N이하의 자연수로 주어지며, 각 자연수는 공백으로 구분된다. 각각의 모험가는 무조건 자신을 포함해서 자신의 공포도 값 이상의 사람이 포함된 그룹에 참여해야 한다.\n",
        "\n",
        "여행을 떠날 수 있는 그룹 수의 최대값을 구하는 프로그램을 작성하시오."
      ],
      "metadata": {
        "id": "FswV9gnCMTU-"
      }
    },
    {
      "cell_type": "code",
      "source": [
        "#그룹 수의 최대값이기 때문에, 같은 공포값을 가진 인덱스의 수를 공포값으로 나눈 몫만 생각하면 됨.\n",
        "\n",
        "n=int(input())\n",
        "list_= list(map(int, input().split()))\n",
        "i = 1\n",
        "cnt = 1\n",
        "result = 0\n",
        "\n",
        "list_.sort()\n",
        "\n",
        "base = list_[0]\n",
        "\n",
        "while(i<n):\n",
        "    if(base==list_[i]):\n",
        "        cnt+=1\n",
        "    else:\n",
        "        result+= cnt//base\n",
        "        cnt = 1\n",
        "        base=list_[i]\n",
        "    i+=1\n",
        "\n",
        "print(result)"
      ],
      "metadata": {
        "colab": {
          "base_uri": "https://localhost:8080/"
        },
        "id": "kZobFG_OJ55g",
        "outputId": "ed90f0cd-c7fc-45f7-d6aa-5a7e879c2667"
      },
      "execution_count": null,
      "outputs": [
        {
          "output_type": "stream",
          "name": "stdout",
          "text": [
            "5\n",
            "2 3 1 2 2\n",
            "2\n"
          ]
        }
      ]
    },
    {
      "cell_type": "code",
      "execution_count": null,
      "metadata": {
        "colab": {
          "base_uri": "https://localhost:8080/"
        },
        "id": "UrpI34vH11Td",
        "outputId": "f3b6d2b6-2e59-4f1d-cd76-359926dd0787"
      },
      "outputs": [
        {
          "output_type": "stream",
          "name": "stdout",
          "text": [
            "1\n",
            "15\n"
          ]
        }
      ],
      "source": [
        "#백준 5585\n",
        "#거스름 돈 문제\n",
        "\n",
        "#가장 큰 단위부터 차례대로 나눠가면 됨.\n",
        "#큰 단위가 항상 작은 단위의 배수이기 때문에 위 방법은 최적의 해를 구하는 보장된 방법임.\n",
        "\n",
        "coin = [500, 100, 50, 10, 5, 1]\n",
        "cost = 1000 - int(input())\n",
        "cnt = 0\n",
        "\n",
        "for i in coin:\n",
        "    cnt += cost//i\n",
        "    cost %= i\n",
        "    if(cost == 0):\n",
        "        break\n",
        "\n",
        "print(cnt)"
      ]
    },
    {
      "cell_type": "code",
      "source": [
        "#백준 1931번\n",
        "#회의실 배정\n",
        "#가능한 한 많은 구간을 선택하는 문제\n",
        "import sys\n",
        "\n",
        "n = int(input())\n",
        "list_=[]\n",
        "\n",
        "for _ in range(n):\n",
        "    start, last = map(int, input().split())\n",
        "    list_.append((start, last))\n",
        "\n",
        "pre = 0 #투포인터!!ㅠㅠㅠ\n",
        "        #객체에 하나씩 접근하는데, 그 객체부터 조건일 맞을때 까지 쭉 돈다거나 그럼 투포인터!!!!ㅠㅠㅠㅠ\n",
        "\n",
        "list_.sort(key=lambda x:(x[1],x[0]))#끝나는 시간이 빠를수록 더 많은 그룹이 회의를 열 수 있다...! 그걸 왜 이렇게 늦게 알았냐고....\n",
        "\n",
        "next_=pre+1\n",
        "cnt= 1\n",
        "\n",
        "while(True): # 두 번 돌리면 최대 십억개의 데이터를 다뤄야 해서 시간 초과.\n",
        "             # data의 개수가 1000만 단위가 넘어가지 않도록...!\n",
        "    if(list_[pre][1] <= list_[next_][0]):\n",
        "        cnt+=1\n",
        "        pre = next_\n",
        "    if(pre>=n-1 or next_>=n-1):\n",
        "        break\n",
        "    next_+=1\n",
        "\n",
        "print(cnt)"
      ],
      "metadata": {
        "id": "fkjdmd0nNezk",
        "colab": {
          "base_uri": "https://localhost:8080/"
        },
        "outputId": "d224ab6d-5af8-4e52-fd65-29ad0b33410c"
      },
      "execution_count": null,
      "outputs": [
        {
          "output_type": "stream",
          "name": "stdout",
          "text": [
            "3\n",
            "3 3\n",
            "3 8\n",
            "3 7\n",
            "(3, 3) (3, 7)\n",
            "2\n"
          ]
        }
      ]
    },
    {
      "cell_type": "code",
      "source": [
        "#백준 11399번\n",
        "#ATM\n",
        "#기다리는 시간의 합을 최소화하는 문제\n",
        "\n",
        "#앞으로 갈수록 시간이 짧아야 뒷사람이 빨리 함\n",
        "#오름차순 정의해서 답 구하면 됨\n",
        "\n",
        "sum = 0\n",
        "total = 0\n",
        "n = int(input())\n",
        "list_ = list(map(int, input().split()))\n",
        "\n",
        "list_.sort()\n",
        "\n",
        "for i in list_:\n",
        "    sum+=i\n",
        "    total+=sum\n",
        "\n",
        "print(total)"
      ],
      "metadata": {
        "colab": {
          "base_uri": "https://localhost:8080/"
        },
        "id": "OkVDCd4a-kar",
        "outputId": "078a9605-5bd7-43d4-c113-978f88581567"
      },
      "execution_count": null,
      "outputs": [
        {
          "output_type": "stream",
          "name": "stdout",
          "text": [
            "5\n",
            "3 1 4 3 2\n",
            "32\n"
          ]
        }
      ]
    }
  ]
}
