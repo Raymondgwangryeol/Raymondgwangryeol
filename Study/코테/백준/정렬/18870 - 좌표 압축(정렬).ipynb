{
  "nbformat": 4,
  "nbformat_minor": 0,
  "metadata": {
    "colab": {
      "provenance": []
    },
    "kernelspec": {
      "name": "python3",
      "display_name": "Python 3"
    },
    "language_info": {
      "name": "python"
    }
  },
  "cells": [
    {
      "cell_type": "markdown",
      "source": [
        "# **백준 18870 - 좌표 압축(정렬)**\n",
        "\n",
        "## **문제**\n",
        "------\n",
        "수직선 위에 N개의 좌표 X1, X2, ..., XN이 있다. 이 좌표에 좌표 압축을 적용하려고 한다.\n",
        "\n",
        "Xi를 좌표 압축한 결과 X'i의 값은 Xi > Xj를 만족하는 서로 다른 좌표 Xj의 개수와 같아야 한다.\n",
        "\n",
        "X1, X2, ..., XN에 좌표 압축을 적용한 결과 X'1, X'2, ..., X'N를 출력해보자.\n",
        "\n",
        "## **입력**\n",
        "-------\n",
        "첫째 줄에 N이 주어진다.\n",
        "\n",
        "둘째 줄에는 공백 한 칸으로 구분된 X1, X2, ..., XN이 주어진다.\n",
        "\n",
        "## **출력**\n",
        "-------\n",
        "첫째 줄에 X'1, X'2, ..., X'N을 공백 한 칸으로 구분해서 출력한다.\n",
        "\n",
        "## **제한**\n",
        "------\n",
        "1 ≤ N ≤ 1,000,000\n",
        "-109 ≤ Xi ≤ 109\n",
        "<br><br>\n",
        "\n",
        "## **풀이**\n",
        "정렬에 미쳐서 저번에 퀵 정렬 했을 때 자꾸 시간 초과 뜨길래... 합병 정렬로 어떻게든 풀었다.   \n",
        "처음에는 return으로 array를 줘서 자꾸 시간 초과가 났는데, return 값을 주지 않고 파라미터로 시작점, 끝점, 가운데 점, 배열을 주고, 아예 정렬 한 후 함수 안에서 리스트에 정렬한 값을 새로 넣어버리니까, sort()썼을 때 보다 두 배 더 걸렸지만 되긴 됐다...      \n",
        "\n",
        "문제 이름이 좌표 압축이라길래, 뭔가 내가 빼먹고 있는게 있나 싶어서 찾아봤더니 정렬로 중복을 제거하고, 딕셔너리 형식으로 인덱스를 붙여 키 값으로 인덱스 값을 출력하는 방법이 있었다. 세상에...\n",
        "\n",
        "그리고 진짜 반복문 딱 한 번만 돌려야 하는 상황 아니면, 그냥 sort() 쓰는게... 좋은 것 같다..."
      ],
      "metadata": {
        "id": "t7aZ9c-F2Xxr"
      }
    },
    {
      "cell_type": "code",
      "execution_count": null,
      "metadata": {
        "colab": {
          "base_uri": "https://localhost:8080/"
        },
        "id": "lHmMl5yyPft9",
        "outputId": "2b8853a8-7c06-44d5-c836-b25a6dc4d7da"
      },
      "outputs": [
        {
          "output_type": "stream",
          "name": "stdout",
          "text": [
            "6\n",
            "1000 999 1000 999 1000 999\n",
            "1 0 1 0 1 0\n",
            "걸린 시간: 0.001170.2\n"
          ]
        }
      ],
      "source": [
        "#합병 정렬로 어떻게든 푼 거\n",
        "\n",
        "import sys\n",
        "import time\n",
        "def merge_div(array, start, end):\n",
        "    if(start>=end):\n",
        "        return\n",
        "\n",
        "    mid = (start + end)//2\n",
        "\n",
        "    left_div = merge_div(array, start, mid)\n",
        "    right_div = merge_div(array, mid+1, end)\n",
        "    return merge(array, start, mid+1, end)\n",
        "\n",
        "def merge(array, left, right, end):\n",
        "    sorted_list=[]\n",
        "    i,j= left, right\n",
        "    while(i<right and j<=end):\n",
        "        if(array[i][0]<=array[j][0]):\n",
        "            sorted_list += [array[i]]\n",
        "            i+=1\n",
        "        else:\n",
        "            sorted_list += [array[j]]\n",
        "            j+=1\n",
        "\n",
        "    while end >= j:\n",
        "        sorted_list += [array[j]]\n",
        "        j+=1\n",
        "    while right > i:\n",
        "        sorted_list += [array[i]]\n",
        "        i+=1\n",
        "\n",
        "    i=left\n",
        "    for n in sorted_list:\n",
        "        array[i] = n\n",
        "        i+=1\n",
        "\n",
        "n= int(input())\n",
        "l = list((int(x), i) for i, x in enumerate(input().split()))\n",
        "start_time = time.time()\n",
        "sort=[0]*n\n",
        "num=0\n",
        "merge_div(l, 0, len(l)-1)\n",
        "\n",
        "for i in range(n):\n",
        "    idx = l[i][1]\n",
        "    if(i>0 and l[i][0] != l[i-1][0]):\n",
        "        num+=1\n",
        "    sort[idx] += num\n",
        "\n",
        "print(*sort)\n",
        "end_time = time.time()\n",
        "\n",
        "print(\"걸린 시간: %f.2\"%(end_time - start_time))"
      ]
    },
    {
      "cell_type": "code",
      "source": [
        "# 이것이 바로 압축\n",
        "\n",
        "import sys\n",
        "import time\n",
        "\n",
        "n= int(input())\n",
        "l = list(map(int,input().split()))\n",
        "start_time = time.time()\n",
        "set_ = sorted(set(l)) #중복 제거 후 정렬\n",
        "\n",
        "dict_={item:i for i, item in enumerate(set_)} # 원소: 인덱스 형태의 값\n",
        "\n",
        "for i in range(n):\n",
        "    print(dict_[l[i]], end=\" \") #와 진짜 간단하다\n",
        "\n",
        "end_time = time.time()\n",
        "print()\n",
        "print(\"걸린 시간: %f.2\"%(end_time - start_time))"
      ],
      "metadata": {
        "colab": {
          "base_uri": "https://localhost:8080/"
        },
        "id": "djiM1KPHzaSo",
        "outputId": "f99c5ee9-07fc-4a94-bf15-9a00a0089cec"
      },
      "execution_count": 55,
      "outputs": [
        {
          "output_type": "stream",
          "name": "stdout",
          "text": [
            "5\n",
            "2 4 -10 4 -9\n",
            "2 3 0 3 1 \n",
            "걸린 시간: 0.003416.2\n"
          ]
        }
      ]
    }
  ]
}
